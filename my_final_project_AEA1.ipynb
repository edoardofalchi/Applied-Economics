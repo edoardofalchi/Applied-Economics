{
 "cells": [
  {
   "cell_type": "markdown",
   "metadata": {},
   "source": [
    "# Applied Economics Analysis1 - Final Assignment\n",
    "|Name|examnr.|\n",
    "|----|-------|\n",
    "|edoardo falchi|2030721|"
   ]
  },
  {
   "cell_type": "markdown",
   "metadata": {},
   "source": [
    "# Objective and motivation\n",
    "As [Garcia et al.(2016)](https://link.springer.com/article/10.1007/s10115-016-0995-z) affirm, globalization processes and market deregulation policies are rapidly changing the competitive environments of many economic sectors. The appearance of new competitors and technologies leads to an increase in competition and, with it, a growing preoccupation among service providing companies with creating stronger customer bonds.\n",
    "\n",
    "[\"Churn\"](https://en.wikipedia.org/wiki/Churn_rate) is the phenomenon where a customer switches from one service to a competitor’s service (Tsai & Chen, 2009). Churn is a relevant issue because anticipating the customer’s intention to abandon the provider becomes a competitive advantage for firms.\n",
    "Objective of the work is to analyze Churn phenomenon on data coming from Telco Sector and propose the best Target for a Retention Commercial Campaign.\n",
    "\n",
    "The analysed dataset is taken from https://www.kaggle.com/blastchar/telco-customer-churn where each row represents a customer, each column contains customer’s attributes. The raw data contains 7043 rows (customers) and 21 columns (features). The “Churn” column is the target.\n",
    "\n",
    "Churn Phenomenon will be described through univariate and bivariate analysis, managing potential issues related to data like outliers and missing.\n",
    "I will estimate a Scoring Model through Logistic Regression in order to predict Churn Phenomenon, considering the variable Churn in the provided data set as dependent variable."
   ]
  },
  {
   "cell_type": "markdown",
   "metadata": {
    "toc": true
   },
   "source": [
    "<h1>Table of Contents<span class=\"tocSkip\"></span></h1>\n",
    "<div class=\"toc\"><ul class=\"toc-item\"><li><span><a href=\"#Univariate-and-Bivariate-Analysis\" data-toc-modified-id=\"Univariate-and-Bivariate-Analysis-1\"><span class=\"toc-item-num\">1&nbsp;&nbsp;</span>Univariate and Bivariate Analysis</a></span><ul class=\"toc-item\"><li><span><a href=\"#Customer-Churn\" data-toc-modified-id=\"Customer-Churn-1.1\"><span class=\"toc-item-num\">1.1&nbsp;&nbsp;</span>Customer Churn</a></span></li><li><span><a href=\"#Gender-distribution\" data-toc-modified-id=\"Gender-distribution-1.2\"><span class=\"toc-item-num\">1.2&nbsp;&nbsp;</span>Gender distribution</a></span></li><li><span><a href=\"#Age-distribution\" data-toc-modified-id=\"Age-distribution-1.3\"><span class=\"toc-item-num\">1.3&nbsp;&nbsp;</span>Age distribution</a></span></li><li><span><a href=\"#Phone-Service-distribution\" data-toc-modified-id=\"Phone-Service-distribution-1.4\"><span class=\"toc-item-num\">1.4&nbsp;&nbsp;</span>Phone Service distribution</a></span></li><li><span><a href=\"#Internet-service-distribution\" data-toc-modified-id=\"Internet-service-distribution-1.5\"><span class=\"toc-item-num\">1.5&nbsp;&nbsp;</span>Internet service distribution</a></span></li><li><span><a href=\"#Tenure-distribution\" data-toc-modified-id=\"Tenure-distribution-1.6\"><span class=\"toc-item-num\">1.6&nbsp;&nbsp;</span>Tenure distribution</a></span></li><li><span><a href=\"#Contract-distribution\" data-toc-modified-id=\"Contract-distribution-1.7\"><span class=\"toc-item-num\">1.7&nbsp;&nbsp;</span>Contract distribution</a></span></li></ul></li><li><span><a href=\"#Dealing-with-Missing-Values\" data-toc-modified-id=\"Dealing-with-Missing-Values-2\"><span class=\"toc-item-num\">2&nbsp;&nbsp;</span>Dealing with Missing Values</a></span><ul class=\"toc-item\"><li><span><a href=\"#Encoding-the-dummy-variables\" data-toc-modified-id=\"Encoding-the-dummy-variables-2.1\"><span class=\"toc-item-num\">2.1&nbsp;&nbsp;</span>Encoding the dummy variables</a></span></li></ul></li><li><span><a href=\"#Logistic-regression\" data-toc-modified-id=\"Logistic-regression-3\"><span class=\"toc-item-num\">3&nbsp;&nbsp;</span>Logistic regression</a></span></li><li><span><a href=\"#Concluding-thoughts\" data-toc-modified-id=\"Concluding-thoughts-4\"><span class=\"toc-item-num\">4&nbsp;&nbsp;</span>Concluding thoughts</a></span></li>"
   ]
  },
  {
   "cell_type": "markdown",
   "metadata": {},
   "source": [
    "# Importing libraries and data"
   ]
  },
  {
   "cell_type": "code",
   "execution_count": null,
   "metadata": {},
   "outputs": [],
   "source": [
    "import pandas as pd\n",
    "from IPython.display import display\n",
    "pd.options.display.max_columns = None\n",
    "import numpy as np\n",
    "import matplotlib.pyplot as plt\n",
    "import seaborn as sns\n",
    "sns.set()\n",
    "from scipy.spatial.distance import pdist, squareform\n",
    "from scipy.cluster.hierarchy import linkage\n",
    "from scipy.cluster.hierarchy import dendrogram\n",
    "from sklearn.preprocessing import StandardScaler\n",
    "import statsmodels.api as sm\n",
    "import pylab as pl\n",
    "import scikitplot as skplt\n",
    "from statsmodels.stats.outliers_influence import variance_inflation_factor\n",
    "from sklearn.cluster import KMeans\n",
    "from sklearn.metrics import silhouette_samples\n",
    "from matplotlib import cm\n",
    "%matplotlib inline\n",
    "import os\n",
    "from PIL import  Image\n",
    "import io\n",
    "import matplotlib.ticker as mtick\n",
    "import scipy"
   ]
  },
  {
   "cell_type": "code",
   "execution_count": null,
   "metadata": {},
   "outputs": [],
   "source": [
    "import plotly.graph_objs as go\n",
    "import plotly.offline as py\n",
    "import plotly.tools as tls\n",
    "import plotly.figure_factory as ff\n",
    "py.init_notebook_mode(connected=True)"
   ]
  },
  {
   "cell_type": "code",
   "execution_count": null,
   "metadata": {},
   "outputs": [],
   "source": [
    "tcc = pd.read_csv(\"C:/Users/Utente/Desktop/studio/final assignment pyhton AEA1/tcc.csv\")"
   ]
  },
  {
   "cell_type": "code",
   "execution_count": null,
   "metadata": {},
   "outputs": [],
   "source": [
    "tcc.head()"
   ]
  },
  {
   "cell_type": "code",
   "execution_count": null,
   "metadata": {},
   "outputs": [],
   "source": [
    "# Hiding annoying warnings\n",
    "import warnings\n",
    "warnings.filterwarnings('ignore')"
   ]
  },
  {
   "cell_type": "markdown",
   "metadata": {},
   "source": [
    "## Univariate and Bivariate Analysis"
   ]
  },
  {
   "cell_type": "markdown",
   "metadata": {},
   "source": [
    "### Customer Churn"
   ]
  },
  {
   "cell_type": "markdown",
   "metadata": {},
   "source": [
    "Let's first have a look at the churn rate."
   ]
  },
  {
   "cell_type": "code",
   "execution_count": null,
   "metadata": {},
   "outputs": [],
   "source": [
    "senior = (tcc['Churn'].value_counts()*100.0 /len(tcc)).plot(kind='pie',\\\n",
    "        labels = ['No', 'Yes'], figsize = (7,7) , colors = ['yellow','blue'])\n",
    "\n",
    "senior.set_title('Churn rate')\n",
    "senior.legend(labels=['No','Yes']);"
   ]
  },
  {
   "cell_type": "markdown",
   "metadata": {},
   "source": [
    "One customer over four churns."
   ]
  },
  {
   "cell_type": "markdown",
   "metadata": {},
   "source": [
    "### Gender distribution"
   ]
  },
  {
   "cell_type": "code",
   "execution_count": null,
   "metadata": {
    "scrolled": true
   },
   "outputs": [],
   "source": [
    "gb = tcc.groupby(\"gender\")[\"Churn\"].value_counts().to_frame().rename({\"Churn\": \"Number of Customers\"}, axis = 1).reset_index()\n",
    "sns.barplot(x = \"gender\", y = \"Number of Customers\", data = gb, hue = \"Churn\", palette = sns.color_palette(\"hls\", 8)).set_title(\"Gender and relative Churn Rates in our population\");"
   ]
  },
  {
   "cell_type": "markdown",
   "metadata": {},
   "source": [
    "Men and women are evenly distributed in the sample, and show the same proportions of Churn."
   ]
  },
  {
   "cell_type": "markdown",
   "metadata": {},
   "source": [
    "### Age distribution"
   ]
  },
  {
   "cell_type": "code",
   "execution_count": null,
   "metadata": {},
   "outputs": [],
   "source": [
    "senior = (tcc['SeniorCitizen'].value_counts()*100.0 /len(tcc)).plot(kind='pie',\\\n",
    "        labels = ['No', 'Yes'], figsize = (7,7) , colors = ['yellow','green'], fontsize = 15)\n",
    "\n",
    "senior.set_title('Seniors')\n",
    "senior.legend(labels=['Non Senior','Senior']);"
   ]
  },
  {
   "cell_type": "code",
   "execution_count": null,
   "metadata": {},
   "outputs": [],
   "source": [
    "gb = tcc.groupby(\"SeniorCitizen\")[\"Churn\"].value_counts().to_frame().rename({\"Churn\": \"Number of Customers\"}, axis = 1).reset_index()\n",
    "gb.replace([0, 1], [\"Young\", \"Senior\"], inplace = True)\n",
    "gb"
   ]
  },
  {
   "cell_type": "code",
   "execution_count": null,
   "metadata": {},
   "outputs": [],
   "source": [
    "tp = gb.groupby(\"SeniorCitizen\")[\"Number of Customers\"].sum().to_frame().reset_index().rename({\"Number of Customers\": \"# Customers in Age Group\"}, axis = 1)\n",
    "gb = pd.merge(gb, tp, on = \"SeniorCitizen\")\n",
    "gb[\"Churn Rate in Age Group\"] = gb[\"Number of Customers\"]/gb[\"# Customers in Age Group\"]\n",
    "gb = gb[gb.Churn == \"Yes\"]\n",
    "\n",
    "sns.barplot(x = \"SeniorCitizen\", y = \"Churn Rate in Age Group\", data = gb).set_title(\"Churn Rate for Young and Senior customers\");"
   ]
  },
  {
   "cell_type": "markdown",
   "metadata": {},
   "source": [
    "This sample is mainly composed by young people. Senior customers are more prone to churning."
   ]
  },
  {
   "cell_type": "markdown",
   "metadata": {},
   "source": [
    "### Phone Service distribution"
   ]
  },
  {
   "cell_type": "code",
   "execution_count": null,
   "metadata": {},
   "outputs": [],
   "source": [
    "phone = (tcc['PhoneService'].value_counts()*100.0 /len(tcc)).plot(kind='bar', stacked = True,\\\n",
    "                                                rot = 0, color = ['red','lightblue'])\n",
    "  \n",
    "phone.yaxis.set_major_formatter(mtick.PercentFormatter())\n",
    "phone.set_ylabel('Customers')\n",
    "phone.set_xlabel('Phone Service')\n",
    "phone.set_ylabel('Customers')\n",
    "phone.set_title('Phone service distribution');"
   ]
  },
  {
   "cell_type": "markdown",
   "metadata": {},
   "source": [
    "Just a little amount of people does not have phone service."
   ]
  },
  {
   "cell_type": "markdown",
   "metadata": {},
   "source": [
    "### Internet service distribution"
   ]
  },
  {
   "cell_type": "code",
   "execution_count": null,
   "metadata": {},
   "outputs": [],
   "source": [
    "internet = (tcc['InternetService'].value_counts()*100.0 /len(tcc)).plot(kind='pie',\\\n",
    "        labels = ['Fiber optic', 'DSL', 'No'], figsize = (7,7) , colors = ['orange','purple', 'black'], fontsize = 15)\n",
    "\n",
    "senior.set_title('Seniors')\n",
    "senior.legend(labels=['Non Senior','Senior']);"
   ]
  },
  {
   "cell_type": "markdown",
   "metadata": {},
   "source": [
    "Among the ones that have internet service, DSL and Fiber optic are almost equally distributed (the fraction of people having Fiber optic is slightly greater). Less than one fourth of the members of our sample has no internet service."
   ]
  },
  {
   "cell_type": "markdown",
   "metadata": {},
   "source": [
    "### Tenure distribution"
   ]
  },
  {
   "cell_type": "code",
   "execution_count": null,
   "metadata": {
    "scrolled": true
   },
   "outputs": [],
   "source": [
    "plt.hist(tcc.tenure)\n",
    "plt.xlabel('tenure')\n",
    "plt.title(\"Tenure Distribution\");"
   ]
  },
  {
   "cell_type": "markdown",
   "metadata": {},
   "source": [
    "The majority of the customers in the sample are new clients. There is also a high number of people with a tenure around 70 months. Most likely the company is not older than 72 months, and there either was a strong incentive for subscription (like a competitive launch offer, which could explain the high number through efficient retention rates) or there was some form of selection bias (the offers were unique on the market and highly valued by a group of customers, leading to fast market saturation, which could explain the high number by keeping the retention rate constant and leveraging high sales volumes). These are the only two reasons that can explain such a sharp kickstart in the number of subscriptions and their sudden drop."
   ]
  },
  {
   "cell_type": "markdown",
   "metadata": {},
   "source": [
    "### Contract distribution"
   ]
  },
  {
   "cell_type": "code",
   "execution_count": null,
   "metadata": {},
   "outputs": [],
   "source": [
    "contract = (tcc['Contract'].value_counts()*100.0 /len(tcc)).plot(kind='bar', stacked = True,\\\n",
    "                                                rot = 0, color = ['orange','blue','magenta'])\n",
    "  \n",
    "contract.yaxis.set_major_formatter(mtick.PercentFormatter())\n",
    "contract.set_ylabel('Customers')\n",
    "contract.set_xlabel('Contract')\n",
    "contract.set_ylabel('Customers')\n",
    "contract.set_title('Contract distribution');"
   ]
  },
  {
   "cell_type": "markdown",
   "metadata": {},
   "source": [
    "More than half customers have a month-to-month contract."
   ]
  },
  {
   "cell_type": "code",
   "execution_count": null,
   "metadata": {},
   "outputs": [],
   "source": [
    "tcc.columns"
   ]
  },
  {
   "cell_type": "markdown",
   "metadata": {},
   "source": [
    "## Dealing with Missing Values"
   ]
  },
  {
   "cell_type": "code",
   "execution_count": null,
   "metadata": {},
   "outputs": [],
   "source": [
    "missing_values = []\n",
    "for col in tcc.columns:\n",
    "    missing_values.append(tcc[col].isna().any())\n",
    "\n",
    "missing_values = pd.DataFrame(np.array(missing_values).reshape(1, 21))\n",
    "missing_values.columns = tcc.columns\n",
    "missing_values_table   = tcc.append(missing_values).tail(1)\n",
    "missing_values_table   = missing_values_table.astype(bool)\n",
    "missing_values_table   = missing_values_table.transpose()\n",
    "missing_values_table.columns = [\"Missing?\"]\n",
    "\n",
    "missing_values_table[\"dtype\"] = tcc.dtypes\n",
    "missing_values_table"
   ]
  },
  {
   "cell_type": "markdown",
   "metadata": {},
   "source": [
    "The dtypes are not coherent with logic. There's no point in encoding TotalCharges as a string and MonthlyCharges as a float, or PhoneService as Yes/No and SeniorCitizen as a 0/1 dummy. Let's fix that."
   ]
  },
  {
   "cell_type": "code",
   "execution_count": null,
   "metadata": {},
   "outputs": [],
   "source": [
    "try:\n",
    "    tcc.TotalCharges.astype(\"float64\")\n",
    "except ValueError:\n",
    "    print(\"We can't convert this column to floats, there must be some non-convertible values\")"
   ]
  },
  {
   "cell_type": "code",
   "execution_count": null,
   "metadata": {},
   "outputs": [],
   "source": [
    "print(tcc.TotalCharges.value_counts().head())\n",
    "print(\"\")\n",
    "print(\"We have 11 observations that take an empty string value. Let's drop that. The string we want to drop is:\")\n",
    "tcc.TotalCharges.value_counts().index[1]"
   ]
  },
  {
   "cell_type": "markdown",
   "metadata": {},
   "source": [
    "Let's drop the observations with empty values, reset the index and now I should be able to convert the TotalCharges column to float:"
   ]
  },
  {
   "cell_type": "code",
   "execution_count": null,
   "metadata": {},
   "outputs": [],
   "source": [
    "tcc.drop(tcc[tcc.TotalCharges == \" \"].index, axis = 0, inplace = True)\n",
    "tcc.reset_index(drop = True, inplace = True)"
   ]
  },
  {
   "cell_type": "code",
   "execution_count": null,
   "metadata": {},
   "outputs": [],
   "source": [
    "tcc.TotalCharges = tcc.TotalCharges.astype(\"float64\")"
   ]
  },
  {
   "cell_type": "markdown",
   "metadata": {},
   "source": [
    "Let's compute some last computations before extracting the Dummy Variables from the dataset and proceeding to the Regression Part."
   ]
  },
  {
   "cell_type": "code",
   "execution_count": null,
   "metadata": {},
   "outputs": [],
   "source": [
    "for col in tcc.columns:\n",
    "    print(\"{0}: {1}\".format(col, tcc.loc[:, col].unique()))"
   ]
  },
  {
   "cell_type": "code",
   "execution_count": null,
   "metadata": {},
   "outputs": [],
   "source": [
    "fig, axis = plt.subplots(nrows = 2, ncols = 3, figsize = (16, 10))\n",
    "\n",
    "gb = tcc.groupby(\"InternetService\")[\"Churn\"].value_counts()/len(tcc)\n",
    "gb = gb.to_frame().rename({\"Churn\": \"% of customers\"}, axis = 1).reset_index()\n",
    "sns.barplot(x = \"InternetService\", y = \"% of customers\", data = gb, hue = \"Churn\", ax = axis[0][0]).set_title(\"Internet Service and Churn\");\n",
    "\n",
    "gb = tcc.groupby(\"PhoneService\")[\"Churn\"].value_counts()/len(tcc)\n",
    "gb = gb.to_frame().rename({\"Churn\": \"% of customers\"}, axis = 1).reset_index()\n",
    "sns.barplot(x = \"PhoneService\", y = \"% of customers\", data = gb, hue = \"Churn\", ax = axis[0][1]).set_title(\"Phone Service and Churn\");\n",
    "\n",
    "gb = tcc.groupby(\"MultipleLines\")[\"Churn\"].value_counts()/len(tcc)\n",
    "gb = gb.to_frame().rename({\"Churn\": \"% of customers\"}, axis = 1).reset_index()\n",
    "sns.barplot(x = \"MultipleLines\", y = \"% of customers\", data = gb, hue = \"Churn\", ax = axis[0][2]).set_title(\"Multiple Lines Phone Option and Churn\");\n",
    "\n",
    "gb = tcc.groupby(\"Contract\")[\"Churn\"].value_counts()/len(tcc)\n",
    "gb = gb.to_frame().rename({\"Churn\": \"% of customers\"}, axis = 1).reset_index()\n",
    "sns.barplot(x = \"Contract\", y = \"% of customers\", data = gb, hue = \"Churn\", ax = axis[1][1]).set_title(\"Contract Type and Churn\");"
   ]
  },
  {
   "cell_type": "markdown",
   "metadata": {},
   "source": [
    "It is noticeable that the customers with Fiber optic tend to churn a lot more when compared to DSL and No Internet. Maybe the Internet connection offered is low-quality? (Other option: Elder Customers don't need an internet connection. Spoiler: No. See following graph that proves that elderly are proportionally more connected than youngsters and are only a reduced percentage of the population).\n",
    "\n",
    "MultipleLines do not seem to affect the churn rate.\n",
    "\n",
    "Shorter-term contract renewals are highly correlated with the churn rate. But most likely it's an omitted variable bias issue: the more I trust a provider, the more I reason in long-terms with it."
   ]
  },
  {
   "cell_type": "code",
   "execution_count": null,
   "metadata": {},
   "outputs": [],
   "source": [
    "gb = tcc.groupby(\"SeniorCitizen\")[\"InternetService\"].value_counts()/len(tcc)\n",
    "gb = gb.to_frame().rename({\"InternetService\": \"% of customers\"}, axis = 1).reset_index()\n",
    "sns.barplot(x = \"SeniorCitizen\", y = \"% of customers\", data = gb, hue = \"InternetService\").set_title(\"Age Group and Internet Connection\");"
   ]
  },
  {
   "cell_type": "markdown",
   "metadata": {},
   "source": [
    "Now let's see how the \"Additional Internet Services\" that follow the variable pattern: [\"No\", \"Yes\", \"No internet service\"] affect the churn rate."
   ]
  },
  {
   "cell_type": "code",
   "execution_count": null,
   "metadata": {},
   "outputs": [],
   "source": [
    "fig, axis = plt.subplots(nrows = 2, ncols = 3, figsize = (16, 10))\n",
    "\n",
    "gb = tcc.groupby(\"OnlineSecurity\")[\"Churn\"].value_counts()/len(tcc)\n",
    "gb = gb.to_frame().rename({\"Churn\": \"% of customers\"}, axis = 1).reset_index()\n",
    "sns.barplot(x = \"OnlineSecurity\", y = \"% of customers\", data = gb, hue = \"Churn\", ax = axis[0][0]).set_title(\"OnlineSecurity Internet Service and Churn\")\n",
    "\n",
    "gb = tcc.groupby(\"OnlineBackup\")[\"Churn\"].value_counts()/len(tcc)\n",
    "gb = gb.to_frame().rename({\"Churn\": \"% of customers\"}, axis = 1).reset_index()\n",
    "sns.barplot(x = \"OnlineBackup\", y = \"% of customers\", data = gb, hue = \"Churn\", ax = axis[0][1]).set_title(\"OnlineBackup Internet Service and Churn\")\n",
    "\n",
    "gb = tcc.groupby(\"DeviceProtection\")[\"Churn\"].value_counts()/len(tcc)\n",
    "gb = gb.to_frame().rename({\"Churn\": \"% of customers\"}, axis = 1).reset_index()\n",
    "sns.barplot(x = \"DeviceProtection\", y = \"% of customers\", data = gb, hue = \"Churn\", ax = axis[0][2]).set_title(\"DeviceProtection Internet Service and Churn\")\n",
    "\n",
    "gb = tcc.groupby(\"TechSupport\")[\"Churn\"].value_counts()/len(tcc)\n",
    "gb = gb.to_frame().rename({\"Churn\": \"% of customers\"}, axis = 1).reset_index()\n",
    "sns.barplot(x = \"TechSupport\", y = \"% of customers\", data = gb, hue = \"Churn\", ax = axis[1][0]).set_title(\"TechSupport Internet Service and Churn\")\n",
    "\n",
    "gb = tcc.groupby(\"StreamingTV\")[\"Churn\"].value_counts()/len(tcc)\n",
    "gb = gb.to_frame().rename({\"Churn\": \"% of customers\"}, axis = 1).reset_index()\n",
    "sns.barplot(x = \"StreamingTV\", y = \"% of customers\", data = gb, hue = \"Churn\", ax = axis[1][1]).set_title(\"StreamingTV Internet Service and Churn\")\n",
    "\n",
    "gb = tcc.groupby(\"StreamingMovies\")[\"Churn\"].value_counts()/len(tcc)\n",
    "gb = gb.to_frame().rename({\"Churn\": \"% of customers\"}, axis = 1).reset_index()\n",
    "sns.barplot(x = \"StreamingMovies\", y = \"% of customers\", data = gb, hue = \"Churn\", ax = axis[1][2]).set_title(\"StreamingMovies Internet Service and Churn\");"
   ]
  },
  {
   "cell_type": "markdown",
   "metadata": {},
   "source": [
    "- OnlineSecurity, OnlineBackup, TechSupport seem to have a significant impact on lowering the churn. If the company wants to lower the churn rate, It may be a good idea to include these services as standard in the following order: OnlineSecurity, TechSupport, OnlineBackUp, DeviceProtection (although removing the internet connection service altogether may be potentially be more beneficial, at least the Fiber one; see graphs above for details). Although unlikely, it is also possible that these services get cumulated with tenure, and thus their effect on the churn only reflects the negative impact of tenure on the churn rate; in the next cells we will try to figure out whether this is true or not.\n",
    "\n",
    "- StreamingTV and StreamingMovies do not seem to have a large enough effect on customer Churn Rate."
   ]
  },
  {
   "cell_type": "markdown",
   "metadata": {},
   "source": [
    "To assess whether additional services are accumulated through tenure (e.g. fidalty programs), let's run a lmplot for each additional Internet service."
   ]
  },
  {
   "cell_type": "code",
   "execution_count": null,
   "metadata": {},
   "outputs": [],
   "source": [
    "gb = tcc[(tcc.OnlineSecurity != \"No internet service\")].replace([\"Yes\", \"No\"], [1, 0]).groupby(\"tenure\")[\"OnlineSecurity\"].sum().to_frame().reset_index()\n",
    "sns.lmplot(\"tenure\", \"OnlineSecurity\", data = gb, line_kws={'color': 'red'}, lowess = True);\n",
    "ax = plt.gca()\n",
    "ax.set_title(\"Number of OnlineSecurity subscribers per Tenure level\");"
   ]
  },
  {
   "cell_type": "code",
   "execution_count": null,
   "metadata": {},
   "outputs": [],
   "source": [
    "gb = tcc[(tcc.OnlineSecurity != \"No internet service\")].replace([\"Yes\", \"No\"], [1, 0]).groupby(\"tenure\")[\"OnlineBackup\"].sum().to_frame().reset_index()\n",
    "sns.lmplot(\"tenure\", \"OnlineBackup\", data = gb, line_kws={'color': 'red'}, lowess = True)\n",
    "ax = plt.gca()\n",
    "ax.set_title(\"Number of OnlineBackup subscribers per Tenure level\");"
   ]
  },
  {
   "cell_type": "code",
   "execution_count": null,
   "metadata": {},
   "outputs": [],
   "source": [
    "gb = tcc[(tcc.OnlineSecurity != \"No internet service\")].replace([\"Yes\", \"No\"], [1, 0]).groupby(\"tenure\")[\"DeviceProtection\"].sum().to_frame().reset_index()\n",
    "sns.lmplot(\"tenure\", \"DeviceProtection\", data = gb, line_kws={'color': 'red'}, lowess = True)\n",
    "ax = plt.gca()\n",
    "ax.set_title(\"Number of DeviceProtection subscribers per Tenure level\");"
   ]
  },
  {
   "cell_type": "code",
   "execution_count": null,
   "metadata": {},
   "outputs": [],
   "source": [
    "gb = tcc[(tcc.OnlineSecurity != \"No internet service\")].replace([\"Yes\", \"No\"], [1, 0]).groupby(\"tenure\")[\"TechSupport\"].sum().to_frame().reset_index()\n",
    "sns.lmplot(\"tenure\", \"TechSupport\", data = gb, line_kws={'color': 'red'}, lowess = True)\n",
    "ax = plt.gca()\n",
    "ax.set_title(\"Number of TechSupport subscribers per Tenure level\");"
   ]
  },
  {
   "cell_type": "code",
   "execution_count": null,
   "metadata": {},
   "outputs": [],
   "source": [
    "gb = tcc[(tcc.OnlineSecurity != \"No internet service\")].replace([\"Yes\", \"No\"], [1, 0]).groupby(\"tenure\")[\"StreamingTV\"].sum().to_frame().reset_index()\n",
    "sns.lmplot(\"tenure\", \"StreamingTV\", data = gb, line_kws={'color': 'red'}, lowess = True)\n",
    "ax = plt.gca()\n",
    "ax.set_title(\"Number of StreamingTV subscribers per Tenure level\");"
   ]
  },
  {
   "cell_type": "code",
   "execution_count": null,
   "metadata": {},
   "outputs": [],
   "source": [
    "gb = tcc[(tcc.OnlineSecurity != \"No internet service\")].replace([\"Yes\", \"No\"], [1, 0]).groupby(\"tenure\")[\"StreamingMovies\"].sum().to_frame().reset_index()\n",
    "sns.lmplot(\"tenure\", \"StreamingMovies\", data = gb, line_kws={'color': 'red'}, lowess = True)\n",
    "ax = plt.gca()\n",
    "ax.set_title(\"Number of StreamingMovies subscribers per Tenure level\");"
   ]
  },
  {
   "cell_type": "markdown",
   "metadata": {},
   "source": [
    "The absolute number of each Additional Service seems to move in syncro with the others as tenure increases. It does not seem that there is any significant correlation between the number of active Additional Services and tenure, although people with borderline tenures have an extremely high number of Additional Services.\n",
    "\n",
    "It's weird that so many people with high tenures have so many additional services. Is it just that there are many people with maximum tenure although the percentage of additional services across tenure level stays the same? Hypothesis: at the beginning, the company had a launch offer all-included. Let's check the percentages of people that have these services for each tenure level."
   ]
  },
  {
   "cell_type": "code",
   "execution_count": null,
   "metadata": {},
   "outputs": [],
   "source": [
    "gb = tcc[(tcc.OnlineSecurity != \"No internet service\")].replace([\"Yes\", \"No\"], [1, 0])\n",
    "gb[\"AllServices\"] = gb.OnlineSecurity*gb.OnlineBackup*gb.DeviceProtection*gb.TechSupport*gb.StreamingTV*gb.StreamingMovies\n",
    "sns.lmplot(\"tenure\", \"AllServices\", data = gb, line_kws={'color': 'red'}, lowess = True);\n",
    "ax = plt.gca()\n",
    "ax.set_title(\"Percentage of subscribers to all services per Tenure level\");"
   ]
  },
  {
   "cell_type": "code",
   "execution_count": null,
   "metadata": {},
   "outputs": [],
   "source": [
    "tvc = gb.tenure.value_counts()\n",
    "i = []\n",
    "v = []\n",
    "for tenure in tvc.index:\n",
    "    i.append(tenure)\n",
    "    v.append(len(gb[(gb.tenure == tenure) & (gb.AllServices == 1)])/len(gb[gb.tenure == tenure]))"
   ]
  },
  {
   "cell_type": "code",
   "execution_count": null,
   "metadata": {},
   "outputs": [],
   "source": [
    "print(tvc)\n",
    "#on the left column there are the various tenure levels that basically is an index list of unique tenure values without repetition,while on the right column the relative number of users with Internet Service\n"
   ]
  },
  {
   "cell_type": "code",
   "execution_count": null,
   "metadata": {
    "scrolled": true
   },
   "outputs": [],
   "source": [
    "df = pd.DataFrame(data = v, index = i, columns = [\"%AllServices\"]).reset_index().sort_values(\"index\").reset_index(drop = True).rename({\"index\": \"tenure\"}, axis = 1)\n",
    "sns.lmplot(\"tenure\", \"%AllServices\", data = df, line_kws={'color': 'red'}, lowess = True)\n",
    "ax = plt.gca()\n",
    "ax.set_title(\"Percentage of Customers with all Additional Services Active per Tenure level\");"
   ]
  },
  {
   "cell_type": "code",
   "execution_count": null,
   "metadata": {},
   "outputs": [],
   "source": [
    "plt.plot(df.tenure, df[\"%AllServices\"]);\n",
    "ax = plt.gca()\n",
    "ax.set_title(\"Trend in percentage of customers subscribed to all services for each tenure level\");"
   ]
  },
  {
   "cell_type": "markdown",
   "metadata": {},
   "source": [
    "<a id='HERE'></a>"
   ]
  },
  {
   "cell_type": "markdown",
   "metadata": {},
   "source": [
    "Indeed, it seems that the people who subscribed for first have many additional services. Possible explanations:\n",
    "- Launch offer: all additional services forever included at a discounted price.\n",
    "- Selection bias: the first customers are the ones who appreciate the most the services offered by the company.\n",
    "\n",
    "Either case, the hypothesis that additional services are accumulated through tenure can be dismissed, for two reasons:\n",
    "- There is a strong spike up in the percentage and number of users with all the services around tenure = 70. Nonetheless, the trend in percentage of users with all the services grows constantly, while the absolute number of the individual services stays pretty much constant across tenure levels. This means the the increase in percentage is justifiable only by a convenient launch offer all-inclusive, that rules out the large amount of active offers for customers with extremely high tenure.\n",
    "- if there was a cumulation of benefits, the drop on the 69th tenure value could be hardly justifiable, whereas it could be justified by a change in the offer or a decrease in interest towards the company."
   ]
  },
  {
   "cell_type": "markdown",
   "metadata": {},
   "source": [
    "### Encoding the dummy variables"
   ]
  },
  {
   "cell_type": "code",
   "execution_count": null,
   "metadata": {},
   "outputs": [],
   "source": [
    "tcc = pd.get_dummies(tcc.iloc[:, 1 :])\n",
    "tcc.head()"
   ]
  },
  {
   "cell_type": "code",
   "execution_count": null,
   "metadata": {},
   "outputs": [],
   "source": [
    "tcc.dtypes"
   ]
  },
  {
   "cell_type": "markdown",
   "metadata": {},
   "source": [
    "Let's have a look at the variables."
   ]
  },
  {
   "cell_type": "code",
   "execution_count": null,
   "metadata": {},
   "outputs": [],
   "source": [
    "for col in tcc.columns:\n",
    "    print(\"{0}: {1}\".format(col, tcc.loc[:, col].unique()))"
   ]
  },
  {
   "cell_type": "markdown",
   "metadata": {},
   "source": [
    "## Logistic regression\n",
    "\n",
    "I want to build a predictive model using _Churn_ as dependent variable. First let's run the regression by including all the variables."
   ]
  },
  {
   "cell_type": "code",
   "execution_count": null,
   "metadata": {},
   "outputs": [],
   "source": [
    "tcc.columns"
   ]
  },
  {
   "cell_type": "markdown",
   "metadata": {},
   "source": [
    "Most of the variables differentiate between \"No\" and \"No internet service\". Given that the information about \"Internet Service\" or \"No internet service\" is already provided by the variable _InternetService_, we can just analyze the impact of having a service that implies having Internet Service versus not having it, without considering that a person could have for example no OnlineSecurity due to the fact that they do not have Internet Service.\n",
    "\n",
    "_TotalCharges_ can also be excluded from the model, since it is likely to be correlated with _MonthlyCharges_ (I am going to test this hypothesis by calculating the Pearson correlation coefficient)."
   ]
  },
  {
   "cell_type": "code",
   "execution_count": null,
   "metadata": {},
   "outputs": [],
   "source": [
    "# Pearson correlation coefficient\n",
    "print(\"Coefficient:\",scipy.stats.pearsonr(tcc[\"MonthlyCharges\"], tcc[\"TotalCharges\"])[0])\n",
    "print(\"p-value:\",scipy.stats.pearsonr(tcc[\"MonthlyCharges\"], tcc[\"TotalCharges\"])[1])"
   ]
  },
  {
   "cell_type": "markdown",
   "metadata": {},
   "source": [
    "The two variables are highly correlated."
   ]
  },
  {
   "cell_type": "code",
   "execution_count": null,
   "metadata": {},
   "outputs": [],
   "source": [
    "tcc.head()"
   ]
  },
  {
   "cell_type": "markdown",
   "metadata": {},
   "source": [
    "Let's run a first regression including all the variables, and then progressively improve the model."
   ]
  },
  {
   "cell_type": "code",
   "execution_count": null,
   "metadata": {
    "scrolled": false
   },
   "outputs": [],
   "source": [
    "# Intercept\n",
    "tcc[\"intercept\"] = 1.0\n",
    "\n",
    "variables = tcc.copy()[['SeniorCitizen', 'tenure', 'MonthlyCharges', \n",
    "       'gender_Female', 'Partner_Yes', 'PhoneService_Yes',\n",
    "        'Dependents_Yes', 'MultipleLines_Yes',\n",
    "       'InternetService_DSL', 'InternetService_Fiber optic', 'OnlineSecurity_Yes',\n",
    "        'OnlineBackup_Yes', 'DeviceProtection_Yes', 'TechSupport_Yes', 'StreamingTV_Yes',\n",
    "       'StreamingMovies_Yes', 'Contract_One year', 'Contract_Two year', 'PaperlessBilling_Yes',\n",
    "       'PaymentMethod_Bank transfer (automatic)', 'PaymentMethod_Credit card (automatic)',\n",
    "       'PaymentMethod_Electronic check', 'intercept']]\n",
    "\n",
    "# Setting the model\n",
    "logistical_regression = sm.Logit(tcc[\"Churn_Yes\"], variables)\n",
    "\n",
    "# Fitting the model\n",
    "fitted_model = logistical_regression.fit()\n",
    "fitted_model.summary2()"
   ]
  },
  {
   "cell_type": "markdown",
   "metadata": {},
   "source": [
    "To improve results' goodness _PaymentMethod_ can be transformed in order to analyze the difference between automatic Payment Method and non automatic. Clients with automatic payment are less likely to churn with respect to clients with no automatic payment. I am not interested in the difference between Bank transfer and Credit card, or between Electronic check or Mailed check."
   ]
  },
  {
   "cell_type": "code",
   "execution_count": null,
   "metadata": {},
   "outputs": [],
   "source": [
    "# Transforming PaymentMethod\n",
    "tcc[\"PaymentMethod_Automatic\"] = tcc[\"PaymentMethod_Bank transfer (automatic)\"] + tcc[\"PaymentMethod_Credit card (automatic)\"]"
   ]
  },
  {
   "cell_type": "code",
   "execution_count": null,
   "metadata": {
    "scrolled": false
   },
   "outputs": [],
   "source": [
    "variables = tcc[['SeniorCitizen', 'tenure', 'MonthlyCharges', \n",
    "       'gender_Female', 'Partner_Yes',\n",
    "        'Dependents_Yes', 'MultipleLines_Yes',\n",
    "       'InternetService_DSL', 'InternetService_Fiber optic', 'OnlineSecurity_Yes',\n",
    "        'OnlineBackup_Yes', 'DeviceProtection_Yes', 'TechSupport_Yes', 'StreamingTV_Yes',\n",
    "       'StreamingMovies_Yes', 'Contract_One year', 'Contract_Two year', 'PaperlessBilling_Yes',\n",
    "       'PaymentMethod_Automatic', 'intercept']]\n",
    "\n",
    "# Setting the model\n",
    "logistical_regression = sm.Logit(tcc[\"Churn_Yes\"], variables)\n",
    "\n",
    "# Fitting the model\n",
    "fitted_model = logistical_regression.fit()\n",
    "fitted_model.summary2()"
   ]
  },
  {
   "cell_type": "markdown",
   "metadata": {},
   "source": [
    "Now, remove from the model _OnlineBackup_, _DeviceProtection_, _gender_ and _partner_ as they are not significant."
   ]
  },
  {
   "cell_type": "code",
   "execution_count": null,
   "metadata": {},
   "outputs": [],
   "source": [
    "variables = tcc[['SeniorCitizen', 'tenure', 'MonthlyCharges', \n",
    "        'Dependents_Yes', 'MultipleLines_Yes',\n",
    "       'InternetService_DSL', 'InternetService_Fiber optic', 'OnlineSecurity_Yes',\n",
    "        'TechSupport_Yes', 'StreamingTV_Yes',\n",
    "       'StreamingMovies_Yes', 'Contract_One year', 'Contract_Two year', 'PaperlessBilling_Yes',\n",
    "       'PaymentMethod_Automatic', 'intercept']]\n",
    "\n",
    "# Setting the model\n",
    "logistical_regression = sm.Logit(tcc[\"Churn_Yes\"], variables)\n",
    "\n",
    "# Fitting the model\n",
    "fitted_model = logistical_regression.fit()\n",
    "fitted_model.summary2()"
   ]
  },
  {
   "cell_type": "markdown",
   "metadata": {},
   "source": [
    "To improve regression interpretability, instead of considering _tenure_ as a continuous variable, let's divide it into 4 clusters."
   ]
  },
  {
   "cell_type": "code",
   "execution_count": null,
   "metadata": {},
   "outputs": [],
   "source": [
    "tcc[\"tenure\"].describe()"
   ]
  },
  {
   "cell_type": "code",
   "execution_count": null,
   "metadata": {},
   "outputs": [],
   "source": [
    "tcc[\"tenure_0:18\"]  = 0\n",
    "tcc[\"tenure_19:36\"] = 0\n",
    "tcc[\"tenure_37:54\"] = 0\n",
    "tcc[\"tenure_55:72\"] = 0\n",
    "\n",
    "tcc.loc[tcc.tenure <= 18, \"tenure_0:18\"] = 1\n",
    "tcc.loc[((tcc.tenure >= 19) & (tcc.tenure <= 36)), \"tenure_19:36\"] = 1\n",
    "tcc.loc[((tcc.tenure >= 37) & (tcc.tenure <= 54)), \"tenure_37:54\"] = 1\n",
    "tcc.loc[tcc.tenure >= 55, \"tenure_55:72\"] = 1"
   ]
  },
  {
   "cell_type": "code",
   "execution_count": null,
   "metadata": {
    "scrolled": true
   },
   "outputs": [],
   "source": [
    "tcc.head()"
   ]
  },
  {
   "cell_type": "code",
   "execution_count": null,
   "metadata": {},
   "outputs": [],
   "source": [
    "tcc.columns"
   ]
  },
  {
   "cell_type": "markdown",
   "metadata": {},
   "source": [
    "Let's run a new regression."
   ]
  },
  {
   "cell_type": "code",
   "execution_count": null,
   "metadata": {
    "scrolled": false
   },
   "outputs": [],
   "source": [
    "variables = tcc[['SeniorCitizen', 'MonthlyCharges', \n",
    "        'Dependents_Yes', 'MultipleLines_Yes',\n",
    "       'InternetService_DSL', 'InternetService_Fiber optic', 'OnlineSecurity_Yes',\n",
    "        'TechSupport_Yes', 'StreamingTV_Yes',\n",
    "       'StreamingMovies_Yes', 'Contract_One year', 'Contract_Two year', 'PaperlessBilling_Yes',\n",
    "       'PaymentMethod_Automatic', 'tenure_19:36',\n",
    "       'tenure_37:54', 'tenure_55:72','intercept']]\n",
    "\n",
    "# Setting the model\n",
    "logistical_regression = sm.Logit(tcc[\"Churn_Yes\"], variables)\n",
    "\n",
    "# Fitting the model\n",
    "fitted_model = logistical_regression.fit()\n",
    "fitted_model.summary2()"
   ]
  },
  {
   "cell_type": "markdown",
   "metadata": {},
   "source": [
    "Let's calculate the Variance Inflation Factor to see if there is multicollinearity among variables."
   ]
  },
  {
   "cell_type": "code",
   "execution_count": null,
   "metadata": {},
   "outputs": [],
   "source": [
    "vif = pd.DataFrame()\n",
    "vif[\"Variables\"]  = variables.columns[0:-1]\n",
    "vif[\"VIF Factor\"] = [variance_inflation_factor(variables.values, i) for i in range(variables.shape[1]-1)]\n",
    "vif"
   ]
  },
  {
   "cell_type": "markdown",
   "metadata": {},
   "source": [
    "The two _InternetService_ variables have a high VIF, along with _MonthlyCharges_. A possible explanation is that customers who have the Optic Fiber connection pay a different price compared to those who have a DSL connection. For this reason, it's advisable excluding _MonthlyCharges_ , and then re-run VIF analysis. I should expect a low VIF for both _InternetService_ variables.\n",
    "\n",
    "I am also going to re-insert in our regression _OnlineBackup_ and _DeviceProtection_, which were removed earlier on, as they might have been affected by multicollinearity."
   ]
  },
  {
   "cell_type": "code",
   "execution_count": null,
   "metadata": {},
   "outputs": [],
   "source": [
    "variables = tcc[['SeniorCitizen',\n",
    "        'Dependents_Yes', 'MultipleLines_Yes',\n",
    "         'InternetService_DSL', 'InternetService_Fiber optic', 'OnlineSecurity_Yes',\n",
    "        'TechSupport_Yes', \"OnlineBackup_Yes\", \"DeviceProtection_Yes\", 'StreamingTV_Yes',\n",
    "       'StreamingMovies_Yes', 'Contract_One year', 'Contract_Two year', 'PaperlessBilling_Yes',\n",
    "       'PaymentMethod_Automatic', 'tenure_19:36',\n",
    "       'tenure_37:54', 'tenure_55:72','intercept']]\n",
    "\n",
    "vif = pd.DataFrame()\n",
    "vif[\"Variables\"]  = variables.columns[0:-1]\n",
    "vif[\"VIF Factor\"] = [variance_inflation_factor(variables.values, i) for i in range(variables.shape[1]-1)]\n",
    "vif"
   ]
  },
  {
   "cell_type": "markdown",
   "metadata": {},
   "source": [
    "Indeed, data proves that _MonthlyCharges_ greatly depend on _InternetService_.\n",
    "\n",
    "Now, let's just run the logistic regression as before, this time without _MonthlyCharges_."
   ]
  },
  {
   "cell_type": "code",
   "execution_count": null,
   "metadata": {},
   "outputs": [],
   "source": [
    "# Setting the model\n",
    "logistical_regression = sm.Logit(tcc[\"Churn_Yes\"], variables)\n",
    "\n",
    "# Fitting the model\n",
    "fitted_model = logistical_regression.fit()\n",
    "fitted_model.summary2()"
   ]
  },
  {
   "cell_type": "markdown",
   "metadata": {},
   "source": [
    "_OnlineBackup_ is now significant, whereas _DeviceProtection_ stays unsignificant. So the latter can be removed from the model."
   ]
  },
  {
   "cell_type": "code",
   "execution_count": null,
   "metadata": {},
   "outputs": [],
   "source": [
    "variables = tcc[['SeniorCitizen',\n",
    "        'Dependents_Yes', 'MultipleLines_Yes',\n",
    "         'InternetService_DSL', 'InternetService_Fiber optic', 'OnlineSecurity_Yes',\n",
    "        'TechSupport_Yes', \"OnlineBackup_Yes\", 'StreamingTV_Yes',\n",
    "       'StreamingMovies_Yes', 'Contract_One year', 'Contract_Two year', 'PaperlessBilling_Yes',\n",
    "       'PaymentMethod_Automatic', 'tenure_19:36',\n",
    "       'tenure_37:54', 'tenure_55:72','intercept']]\n",
    "\n",
    "# Setting the model\n",
    "logistical_regression = sm.Logit(tcc[\"Churn_Yes\"], variables)\n",
    "\n",
    "# Fitting the model\n",
    "fitted_model = logistical_regression.fit()\n",
    "fitted_model.summary2()"
   ]
  },
  {
   "cell_type": "markdown",
   "metadata": {},
   "source": [
    "THIS IS THE FINAL MODEL. Let's get the marginal effect of the variables in order to be able to easily interpret them."
   ]
  },
  {
   "cell_type": "code",
   "execution_count": null,
   "metadata": {},
   "outputs": [],
   "source": [
    "margeff = fitted_model.get_margeff()\n",
    "margeff.summary()"
   ]
  },
  {
   "cell_type": "markdown",
   "metadata": {},
   "source": [
    "Results: \n",
    "- Both _InternetService_ variables present a positive impact on the churn rate, with Optic Fiber's being almost twice the of DSL's. It might be a good idea to consider discontinuing at least the Optic Fiber service or improving it.\n",
    "- Senior customers tend to churn more easily.\n",
    "- Additional Internet Services (_OnlineSecurity_, _TechSupport_, _OnlineBackup_) negatively affect Churn Rate and are therefore a potential way to decrease it in a managerial setting. _DeviceProtection_ on the other hand is inconsistent with plottings, and it appears that its effect is largely explained by the other variables of the model. _StreamingMovies_ and _StreamingTV_ are significant and positively affect the Churn Rate: the management might consider stop offering those services."
   ]
  },
  {
   "cell_type": "markdown",
   "metadata": {},
   "source": [
    "# Concluding thoughts\n",
    "\n",
    "Many companies are diverting resources away from the goal of capturing new customers and are instead focusing on retaining the existing ones. The commercial relationship with customers must be kept and reinforced, and, for this purpose, companies should build strong customer defection-avoiding schemes.\n",
    "\n",
    "That is why companies must have a reliable prediction model that allows them to identify,with enough anticipation, those clients that show symptoms of propensity to switch service providers and, thus, launch efficient retention actions.\n",
    "\n",
    "However, there may be clients that the company will decide not to retain even if their intention to change is identified in advance, since the expected return on the prolongation of their customer life does not justify the cost of the necessary commercial action. Since I did not cover this issue, I will leave it for further researches.\n",
    "\n",
    "Note though that, as reported in Haenlein and Kaplan (2012), careless abandonment of the less profitable customers may lead to unexpected negative reactions from the valuable ones that companies aim to retain."
   ]
  },
  {
   "cell_type": "code",
   "execution_count": null,
   "metadata": {},
   "outputs": [],
   "source": []
  },
  {
   "cell_type": "code",
   "execution_count": null,
   "metadata": {},
   "outputs": [],
   "source": []
  }
 ],
 "metadata": {
  "celltoolbar": "Initialization Cell",
  "hide_input": false,
  "kernelspec": {
   "display_name": "Python 3",
   "language": "python",
   "name": "python3"
  },
  "language_info": {
   "codemirror_mode": {
    "name": "ipython",
    "version": 3
   },
   "file_extension": ".py",
   "mimetype": "text/x-python",
   "name": "python",
   "nbconvert_exporter": "python",
   "pygments_lexer": "ipython3",
   "version": "3.6.5"
  },
  "toc": {
   "base_numbering": 1,
   "nav_menu": {},
   "number_sections": true,
   "sideBar": true,
   "skip_h1_title": true,
   "title_cell": "Table of Contents",
   "title_sidebar": "Contents",
   "toc_cell": true,
   "toc_position": {},
   "toc_section_display": true,
   "toc_window_display": false
  },
  "varInspector": {
   "cols": {
    "lenName": 16,
    "lenType": 16,
    "lenVar": 40
   },
   "kernels_config": {
    "python": {
     "delete_cmd_postfix": "",
     "delete_cmd_prefix": "del ",
     "library": "var_list.py",
     "varRefreshCmd": "print(var_dic_list())"
    },
    "r": {
     "delete_cmd_postfix": ") ",
     "delete_cmd_prefix": "rm(",
     "library": "var_list.r",
     "varRefreshCmd": "cat(var_dic_list()) "
    }
   },
   "types_to_exclude": [
    "module",
    "function",
    "builtin_function_or_method",
    "instance",
    "_Feature"
   ],
   "window_display": false
  }
 },
 "nbformat": 4,
 "nbformat_minor": 2
}
