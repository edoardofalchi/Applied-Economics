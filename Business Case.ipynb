{
 "cells": [
  {
   "cell_type": "markdown",
   "metadata": {},
   "source": [
    "# Applied Economics Analysis1 - Final Assignment\n",
    "|Name|examnr.|\n",
    "|----|-------|\n",
    "|edoardo falchi|2030721|"
   ]
  },
  {
   "cell_type": "markdown",
   "metadata": {},
   "source": [
    "# Objective and motivation\n",
    "As [Garcia et al.(2016)](https://link.springer.com/article/10.1007/s10115-016-0995-z) affirm, globalization processes and market deregulation policies are rapidly changing the competitive environments of many economic sectors. The appearance of new competitors and technologies leads to an increase in competition and, with it, a growing preoccupation among service providing companies with creating stronger customer bonds.\n",
    "\n",
    "[\"Churn\"](https://en.wikipedia.org/wiki/Churn_rate) is the phenomenon where a customer switches from one service to a competitor’s service (Tsai & Chen, 2009). Churn is a relevant issue because anticipating the customer’s intention to abandon the provider becomes a competitive advantage for firms.\n",
    "Objective of the work is to analyze Churn phenomenon on data coming from Telco Sector and propose the best Target for a Retention Commercial Campaign.\n",
    "\n",
    "The analysed dataset is taken from https://www.kaggle.com/blastchar/telco-customer-churn where each row represents a customer, each column contains customer’s attributes. The raw data contains 7043 rows (customers) and 21 columns (features). The “Churn” column is the target.\n",
    "\n",
    "Churn Phenomenon will be described through univariate and bivariate analysis, managing potential issues related to data like outliers and missing.\n",
    "I will estimate a Scoring Model through Logistic Regression in order to predict Churn Phenomenon, considering the variable Churn in the provided data set as dependent variable."
   ]
  },
  {
   "cell_type": "markdown",
   "metadata": {},
   "source": [
    "# Table of contents\n",
    "\n",
    "*  Univariate and Bivariate Analysis\n",
    "      * Customer Churn\n",
    "      * Gender distribution\n",
    "      * Age distribution\n",
    "      * Phone Service distribution\n",
    "      * Internet service distribution\n",
    "      * Tenure distribution\n",
    "      * Contract distribution\n",
    "*  Train-test split\n",
    "*  Dealing with Missing Values\n",
    "      * Encoding the dummy variables\n",
    "*  Dealing with outliers\n",
    "*  Logistic regression\n",
    "*  Model evaluation\n",
    "*  Resampling methods\n",
    "*  Concluding thoughts\n",
    "*  Appendix"
   ]
  },
  {
   "cell_type": "markdown",
   "metadata": {},
   "source": [
    "# Importing libraries and data"
   ]
  },
  {
   "cell_type": "code",
   "execution_count": 1,
   "metadata": {},
   "outputs": [],
   "source": [
    "import pandas as pd\n",
    "import numpy as np\n",
    "import matplotlib.pyplot as plt\n",
    "import seaborn as sns\n",
    "import os\n",
    "import io\n",
    "import scipy\n",
    "from matplotlib import cm\n",
    "import statsmodels.api as sm\n",
    "from statsmodels.stats.outliers_influence import variance_inflation_factor\n",
    "import pylab as pl\n",
    "import scikitplot as skplt\n",
    "import plotly.graph_objs as go\n",
    "import plotly.offline as py\n",
    "import plotly.tools as tls\n",
    "import plotly.figure_factory as ff\n",
    "import matplotlib.ticker as mtick\n",
    "from mlxtend.plotting import plot_confusion_matrix\n",
    "%matplotlib inline\n",
    "import warnings\n",
    "warnings.filterwarnings('ignore')"
   ]
  },
  {
   "cell_type": "code",
   "execution_count": 2,
   "metadata": {},
   "outputs": [],
   "source": [
    "tcc = pd.read_csv(\"tcc.csv\")"
   ]
  },
  {
   "cell_type": "code",
   "execution_count": 3,
   "metadata": {},
   "outputs": [
    {
     "data": {
      "text/html": [
       "<div>\n",
       "<style scoped>\n",
       "    .dataframe tbody tr th:only-of-type {\n",
       "        vertical-align: middle;\n",
       "    }\n",
       "\n",
       "    .dataframe tbody tr th {\n",
       "        vertical-align: top;\n",
       "    }\n",
       "\n",
       "    .dataframe thead th {\n",
       "        text-align: right;\n",
       "    }\n",
       "</style>\n",
       "<table border=\"1\" class=\"dataframe\">\n",
       "  <thead>\n",
       "    <tr style=\"text-align: right;\">\n",
       "      <th></th>\n",
       "      <th>customerID</th>\n",
       "      <th>gender</th>\n",
       "      <th>SeniorCitizen</th>\n",
       "      <th>Partner</th>\n",
       "      <th>Dependents</th>\n",
       "      <th>tenure</th>\n",
       "      <th>PhoneService</th>\n",
       "      <th>MultipleLines</th>\n",
       "      <th>InternetService</th>\n",
       "      <th>OnlineSecurity</th>\n",
       "      <th>...</th>\n",
       "      <th>DeviceProtection</th>\n",
       "      <th>TechSupport</th>\n",
       "      <th>StreamingTV</th>\n",
       "      <th>StreamingMovies</th>\n",
       "      <th>Contract</th>\n",
       "      <th>PaperlessBilling</th>\n",
       "      <th>PaymentMethod</th>\n",
       "      <th>MonthlyCharges</th>\n",
       "      <th>TotalCharges</th>\n",
       "      <th>Churn</th>\n",
       "    </tr>\n",
       "  </thead>\n",
       "  <tbody>\n",
       "    <tr>\n",
       "      <th>0</th>\n",
       "      <td>7590-VHVEG</td>\n",
       "      <td>Female</td>\n",
       "      <td>0</td>\n",
       "      <td>Yes</td>\n",
       "      <td>No</td>\n",
       "      <td>1</td>\n",
       "      <td>No</td>\n",
       "      <td>No phone service</td>\n",
       "      <td>DSL</td>\n",
       "      <td>No</td>\n",
       "      <td>...</td>\n",
       "      <td>No</td>\n",
       "      <td>No</td>\n",
       "      <td>No</td>\n",
       "      <td>No</td>\n",
       "      <td>Month-to-month</td>\n",
       "      <td>Yes</td>\n",
       "      <td>Electronic check</td>\n",
       "      <td>29.85</td>\n",
       "      <td>29.85</td>\n",
       "      <td>No</td>\n",
       "    </tr>\n",
       "    <tr>\n",
       "      <th>1</th>\n",
       "      <td>5575-GNVDE</td>\n",
       "      <td>Male</td>\n",
       "      <td>0</td>\n",
       "      <td>No</td>\n",
       "      <td>No</td>\n",
       "      <td>34</td>\n",
       "      <td>Yes</td>\n",
       "      <td>No</td>\n",
       "      <td>DSL</td>\n",
       "      <td>Yes</td>\n",
       "      <td>...</td>\n",
       "      <td>Yes</td>\n",
       "      <td>No</td>\n",
       "      <td>No</td>\n",
       "      <td>No</td>\n",
       "      <td>One year</td>\n",
       "      <td>No</td>\n",
       "      <td>Mailed check</td>\n",
       "      <td>56.95</td>\n",
       "      <td>1889.5</td>\n",
       "      <td>No</td>\n",
       "    </tr>\n",
       "    <tr>\n",
       "      <th>2</th>\n",
       "      <td>3668-QPYBK</td>\n",
       "      <td>Male</td>\n",
       "      <td>0</td>\n",
       "      <td>No</td>\n",
       "      <td>No</td>\n",
       "      <td>2</td>\n",
       "      <td>Yes</td>\n",
       "      <td>No</td>\n",
       "      <td>DSL</td>\n",
       "      <td>Yes</td>\n",
       "      <td>...</td>\n",
       "      <td>No</td>\n",
       "      <td>No</td>\n",
       "      <td>No</td>\n",
       "      <td>No</td>\n",
       "      <td>Month-to-month</td>\n",
       "      <td>Yes</td>\n",
       "      <td>Mailed check</td>\n",
       "      <td>53.85</td>\n",
       "      <td>108.15</td>\n",
       "      <td>Yes</td>\n",
       "    </tr>\n",
       "    <tr>\n",
       "      <th>3</th>\n",
       "      <td>7795-CFOCW</td>\n",
       "      <td>Male</td>\n",
       "      <td>0</td>\n",
       "      <td>No</td>\n",
       "      <td>No</td>\n",
       "      <td>45</td>\n",
       "      <td>No</td>\n",
       "      <td>No phone service</td>\n",
       "      <td>DSL</td>\n",
       "      <td>Yes</td>\n",
       "      <td>...</td>\n",
       "      <td>Yes</td>\n",
       "      <td>Yes</td>\n",
       "      <td>No</td>\n",
       "      <td>No</td>\n",
       "      <td>One year</td>\n",
       "      <td>No</td>\n",
       "      <td>Bank transfer (automatic)</td>\n",
       "      <td>42.30</td>\n",
       "      <td>1840.75</td>\n",
       "      <td>No</td>\n",
       "    </tr>\n",
       "    <tr>\n",
       "      <th>4</th>\n",
       "      <td>9237-HQITU</td>\n",
       "      <td>Female</td>\n",
       "      <td>0</td>\n",
       "      <td>No</td>\n",
       "      <td>No</td>\n",
       "      <td>2</td>\n",
       "      <td>Yes</td>\n",
       "      <td>No</td>\n",
       "      <td>Fiber optic</td>\n",
       "      <td>No</td>\n",
       "      <td>...</td>\n",
       "      <td>No</td>\n",
       "      <td>No</td>\n",
       "      <td>No</td>\n",
       "      <td>No</td>\n",
       "      <td>Month-to-month</td>\n",
       "      <td>Yes</td>\n",
       "      <td>Electronic check</td>\n",
       "      <td>70.70</td>\n",
       "      <td>151.65</td>\n",
       "      <td>Yes</td>\n",
       "    </tr>\n",
       "  </tbody>\n",
       "</table>\n",
       "<p>5 rows × 21 columns</p>\n",
       "</div>"
      ],
      "text/plain": [
       "   customerID  gender  SeniorCitizen Partner Dependents  tenure PhoneService  \\\n",
       "0  7590-VHVEG  Female              0     Yes         No       1           No   \n",
       "1  5575-GNVDE    Male              0      No         No      34          Yes   \n",
       "2  3668-QPYBK    Male              0      No         No       2          Yes   \n",
       "3  7795-CFOCW    Male              0      No         No      45           No   \n",
       "4  9237-HQITU  Female              0      No         No       2          Yes   \n",
       "\n",
       "      MultipleLines InternetService OnlineSecurity  ... DeviceProtection  \\\n",
       "0  No phone service             DSL             No  ...               No   \n",
       "1                No             DSL            Yes  ...              Yes   \n",
       "2                No             DSL            Yes  ...               No   \n",
       "3  No phone service             DSL            Yes  ...              Yes   \n",
       "4                No     Fiber optic             No  ...               No   \n",
       "\n",
       "  TechSupport StreamingTV StreamingMovies        Contract PaperlessBilling  \\\n",
       "0          No          No              No  Month-to-month              Yes   \n",
       "1          No          No              No        One year               No   \n",
       "2          No          No              No  Month-to-month              Yes   \n",
       "3         Yes          No              No        One year               No   \n",
       "4          No          No              No  Month-to-month              Yes   \n",
       "\n",
       "               PaymentMethod MonthlyCharges  TotalCharges Churn  \n",
       "0           Electronic check          29.85         29.85    No  \n",
       "1               Mailed check          56.95        1889.5    No  \n",
       "2               Mailed check          53.85        108.15   Yes  \n",
       "3  Bank transfer (automatic)          42.30       1840.75    No  \n",
       "4           Electronic check          70.70        151.65   Yes  \n",
       "\n",
       "[5 rows x 21 columns]"
      ]
     },
     "execution_count": 3,
     "metadata": {},
     "output_type": "execute_result"
    }
   ],
   "source": [
    "tcc.head()"
   ]
  },
  {
   "cell_type": "code",
   "execution_count": 4,
   "metadata": {},
   "outputs": [
    {
     "data": {
      "text/plain": [
       "(7043, 21)"
      ]
     },
     "execution_count": 4,
     "metadata": {},
     "output_type": "execute_result"
    }
   ],
   "source": [
    "tcc.shape"
   ]
  },
  {
   "cell_type": "markdown",
   "metadata": {},
   "source": [
    "## Univariate and Bivariate Analysis"
   ]
  },
  {
   "cell_type": "markdown",
   "metadata": {},
   "source": [
    "### Customer Churn"
   ]
  },
  {
   "cell_type": "markdown",
   "metadata": {},
   "source": [
    "Let's first have a look at the churn rate."
   ]
  },
  {
   "cell_type": "code",
   "execution_count": 5,
   "metadata": {},
   "outputs": [
    {
     "data": {
      "image/png": "[encoded data removed]",
      "text/plain": [
       "<Figure size 504x504 with 1 Axes>"
      ]
     },
     "metadata": {},
     "output_type": "display_data"
    }
   ],
   "source": [
    "senior = (tcc['Churn'].value_counts()*100.0 /len(tcc)).plot(kind='pie',\n",
    "        labels = ['No', 'Yes'], figsize = (7,7) , colors = ['yellow','blue'])\n",
    "\n",
    "senior.set_title('Churn rate')\n",
    "senior.legend(labels=['No','Yes']);"
   ]
  },
  {
   "cell_type": "markdown",
   "metadata": {},
   "source": [
    "One customer over four churns."
   ]
  },
  {
   "cell_type": "markdown",
   "metadata": {},
   "source": [
    "### Gender distribution"
   ]
  },
  {
   "cell_type": "code",
   "execution_count": 6,
   "metadata": {
    "scrolled": true
   },
   "outputs": [
    {
     "data": {
      "image/png": "[encoded data removed]",
      "text/plain": [
       "<Figure size 432x288 with 1 Axes>"
      ]
     },
     "metadata": {},
     "output_type": "display_data"
    }
   ],
   "source": [
    "gb = tcc.groupby(\"gender\")[\"Churn\"].value_counts().to_frame().rename({\"Churn\": \"Number of Customers\"}, axis = 1).reset_index()\n",
    "sns.barplot(x = \"gender\", y = \"Number of Customers\", data = gb, hue = \"Churn\", palette = sns.color_palette(\"hls\", 8)).set_title(\"Gender and relative Churn Rates in our population\");"
   ]
  },
  {
   "cell_type": "markdown",
   "metadata": {},
   "source": [
    "Men and women are evenly distributed in the sample, and show the same proportions of Churn."
   ]
  },
  {
   "cell_type": "markdown",
   "metadata": {},
   "source": [
    "### Age distribution"
   ]
  },
  {
   "cell_type": "code",
   "execution_count": 7,
   "metadata": {},
   "outputs": [
    {
     "data": {
      "image/png": "[encoded data removed]",
      "text/plain": [
       "<Figure size 504x504 with 1 Axes>"
      ]
     },
     "metadata": {},
     "output_type": "display_data"
    }
   ],
   "source": [
    "senior = (tcc['SeniorCitizen'].value_counts()*100.0 /len(tcc)).plot(kind='pie',\\\n",
    "        labels = ['No', 'Yes'], figsize = (7,7) , colors = ['yellow','green'], fontsize = 15)\n",
    "\n",
    "senior.set_title('Seniors')\n",
    "senior.legend(labels=['Non Senior','Senior']);"
   ]
  },
  {
   "cell_type": "code",
   "execution_count": 8,
   "metadata": {},
   "outputs": [
    {
     "data": {
      "text/html": [
       "<div>\n",
       "<style scoped>\n",
       "    .dataframe tbody tr th:only-of-type {\n",
       "        vertical-align: middle;\n",
       "    }\n",
       "\n",
       "    .dataframe tbody tr th {\n",
       "        vertical-align: top;\n",
       "    }\n",
       "\n",
       "    .dataframe thead th {\n",
       "        text-align: right;\n",
       "    }\n",
       "</style>\n",
       "<table border=\"1\" class=\"dataframe\">\n",
       "  <thead>\n",
       "    <tr style=\"text-align: right;\">\n",
       "      <th></th>\n",
       "      <th>SeniorCitizen</th>\n",
       "      <th>Churn</th>\n",
       "      <th>Number of Customers</th>\n",
       "    </tr>\n",
       "  </thead>\n",
       "  <tbody>\n",
       "    <tr>\n",
       "      <th>0</th>\n",
       "      <td>Young</td>\n",
       "      <td>No</td>\n",
       "      <td>4508</td>\n",
       "    </tr>\n",
       "    <tr>\n",
       "      <th>1</th>\n",
       "      <td>Young</td>\n",
       "      <td>Yes</td>\n",
       "      <td>1393</td>\n",
       "    </tr>\n",
       "    <tr>\n",
       "      <th>2</th>\n",
       "      <td>Senior</td>\n",
       "      <td>No</td>\n",
       "      <td>666</td>\n",
       "    </tr>\n",
       "    <tr>\n",
       "      <th>3</th>\n",
       "      <td>Senior</td>\n",
       "      <td>Yes</td>\n",
       "      <td>476</td>\n",
       "    </tr>\n",
       "  </tbody>\n",
       "</table>\n",
       "</div>"
      ],
      "text/plain": [
       "  SeniorCitizen Churn  Number of Customers\n",
       "0         Young    No                 4508\n",
       "1         Young   Yes                 1393\n",
       "2        Senior    No                  666\n",
       "3        Senior   Yes                  476"
      ]
     },
     "execution_count": 8,
     "metadata": {},
     "output_type": "execute_result"
    }
   ],
   "source": [
    "gb = tcc.groupby(\"SeniorCitizen\")[\"Churn\"].value_counts().to_frame().rename({\"Churn\": \"Number of Customers\"}, axis = 1).reset_index()\n",
    "gb.replace([0, 1], [\"Young\", \"Senior\"], inplace = True)\n",
    "gb"
   ]
  },
  {
   "cell_type": "code",
   "execution_count": 9,
   "metadata": {},
   "outputs": [
    {
     "data": {
      "image/png": "[encoded data removed]",
      "text/plain": [
       "<Figure size 432x288 with 1 Axes>"
      ]
     },
     "metadata": {},
     "output_type": "display_data"
    }
   ],
   "source": [
    "tp = gb.groupby(\"SeniorCitizen\")[\"Number of Customers\"].sum().to_frame().reset_index().rename({\"Number of Customers\": \"# Customers in Age Group\"}, axis = 1)\n",
    "gb = pd.merge(gb, tp, on = \"SeniorCitizen\")\n",
    "gb[\"Churn Rate in Age Group\"] = gb[\"Number of Customers\"]/gb[\"# Customers in Age Group\"]\n",
    "gb = gb[gb.Churn == \"Yes\"]\n",
    "\n",
    "sns.barplot(x = \"SeniorCitizen\", y = \"Churn Rate in Age Group\", data = gb).set_title(\"Churn Rate for Young and Senior customers\");"
   ]
  },
  {
   "cell_type": "markdown",
   "metadata": {},
   "source": [
    "This sample is mainly composed by young people. Senior customers are more prone to churning."
   ]
  },
  {
   "cell_type": "markdown",
   "metadata": {},
   "source": [
    "### Phone Service distribution"
   ]
  },
  {
   "cell_type": "code",
   "execution_count": 10,
   "metadata": {},
   "outputs": [
    {
     "data": {
      "image/png": "[encoded data removed]",
      "text/plain": [
       "<Figure size 432x288 with 1 Axes>"
      ]
     },
     "metadata": {},
     "output_type": "display_data"
    }
   ],
   "source": [
    "phone = (tcc['PhoneService'].value_counts()*100.0 /len(tcc)).plot(kind='bar', stacked = True,\\\n",
    "                                                rot = 0, color = ['red','lightblue'])\n",
    "  \n",
    "phone.yaxis.set_major_formatter(mtick.PercentFormatter())\n",
    "phone.set_ylabel('Customers')\n",
    "phone.set_xlabel('Phone Service')\n",
    "phone.set_title('Phone service distribution');"
   ]
  },
  {
   "cell_type": "markdown",
   "metadata": {},
   "source": [
    "Just a little amount of people does not have phone service."
   ]
  },
  {
   "cell_type": "markdown",
   "metadata": {},
   "source": [
    "### Internet service distribution"
   ]
  },
  {
   "cell_type": "code",
   "execution_count": 11,
   "metadata": {},
   "outputs": [
    {
     "data": {
      "image/png": "[encoded data removed]",
      "text/plain": [
       "<Figure size 504x504 with 1 Axes>"
      ]
     },
     "metadata": {},
     "output_type": "display_data"
    }
   ],
   "source": [
    "internet = (tcc['InternetService'].value_counts()*100.0 /len(tcc)).plot(kind='pie',\\\n",
    "        labels = ['Fiber optic', 'DSL', 'No'], figsize = (7,7) , colors = ['orange','purple', 'black'], fontsize = 15)"
   ]
  },
  {
   "cell_type": "markdown",
   "metadata": {},
   "source": [
    "Among the ones that have internet service, DSL and Fiber optic are almost equally distributed (the fraction of people having Fiber optic is slightly greater). Less than one fourth of the members of our sample has no internet service."
   ]
  },
  {
   "cell_type": "markdown",
   "metadata": {},
   "source": [
    "### Tenure distribution"
   ]
  },
  {
   "cell_type": "code",
   "execution_count": 12,
   "metadata": {},
   "outputs": [
    {
     "data": {
      "image/png": "[encoded data removed]",
      "text/plain": [
       "<Figure size 432x288 with 1 Axes>"
      ]
     },
     "metadata": {},
     "output_type": "display_data"
    }
   ],
   "source": [
    "plt.hist(tcc.tenure)\n",
    "plt.xlabel('tenure')\n",
    "plt.title(\"Tenure Distribution\");"
   ]
  },
  {
   "cell_type": "markdown",
   "metadata": {},
   "source": [
    "Tenure indicates the number of months the customer has stayed with the company.  \n",
    "The majority of the customers in the sample are new clients. There is also a high number of people with a tenure around 70 months. Most likely the company is not older than 72 months, and there either was a strong incentive for subscription (like a competitive launch offer, which could explain the high number through efficient retention rates) or there was some form of selection bias (the offers were unique on the market and highly valued by a group of customers, leading to fast market saturation, which could explain the high number by keeping the retention rate constant and leveraging high sales volumes). These are the only two reasons that can explain such a sharp kickstart in the number of subscriptions and their sudden drop."
   ]
  },
  {
   "cell_type": "markdown",
   "metadata": {},
   "source": [
    "### Contract distribution"
   ]
  },
  {
   "cell_type": "code",
   "execution_count": 13,
   "metadata": {},
   "outputs": [
    {
     "data": {
      "image/png": "[encoded data removed]",
      "text/plain": [
       "<Figure size 432x288 with 1 Axes>"
      ]
     },
     "metadata": {},
     "output_type": "display_data"
    }
   ],
   "source": [
    "contract = (tcc['Contract'].value_counts()*100.0 /len(tcc)).plot(kind='bar', stacked = True,\\\n",
    "                                                rot = 0, color = ['orange','blue','magenta'])\n",
    "  \n",
    "contract.yaxis.set_major_formatter(mtick.PercentFormatter())\n",
    "contract.set_ylabel('Customers')\n",
    "contract.set_xlabel('Contract')\n",
    "contract.set_ylabel('Customers')\n",
    "contract.set_title('Contract distribution');"
   ]
  },
  {
   "cell_type": "markdown",
   "metadata": {},
   "source": [
    "More than half customers have a month-to-month contract."
   ]
  },
  {
   "cell_type": "markdown",
   "metadata": {},
   "source": [
    "# Train-test split"
   ]
  },
  {
   "cell_type": "markdown",
   "metadata": {},
   "source": [
    "Before building the predictive model, let's split the dataset into train and test set, in order to measure the accuracy of the model."
   ]
  },
  {
   "cell_type": "code",
   "execution_count": 14,
   "metadata": {},
   "outputs": [],
   "source": [
    "msk = np.random.rand(len(tcc)) < 0.8\n",
    "test = tcc[~msk]\n",
    "tcc = tcc[msk]"
   ]
  },
  {
   "cell_type": "markdown",
   "metadata": {},
   "source": [
    "## Dealing with Missing Values"
   ]
  },
  {
   "cell_type": "code",
   "execution_count": 15,
   "metadata": {},
   "outputs": [
    {
     "data": {
      "text/html": [
       "<div>\n",
       "<style scoped>\n",
       "    .dataframe tbody tr th:only-of-type {\n",
       "        vertical-align: middle;\n",
       "    }\n",
       "\n",
       "    .dataframe tbody tr th {\n",
       "        vertical-align: top;\n",
       "    }\n",
       "\n",
       "    .dataframe thead th {\n",
       "        text-align: right;\n",
       "    }\n",
       "</style>\n",
       "<table border=\"1\" class=\"dataframe\">\n",
       "  <thead>\n",
       "    <tr style=\"text-align: right;\">\n",
       "      <th></th>\n",
       "      <th>Missing?</th>\n",
       "      <th>dtype</th>\n",
       "    </tr>\n",
       "  </thead>\n",
       "  <tbody>\n",
       "    <tr>\n",
       "      <th>customerID</th>\n",
       "      <td>False</td>\n",
       "      <td>object</td>\n",
       "    </tr>\n",
       "    <tr>\n",
       "      <th>gender</th>\n",
       "      <td>False</td>\n",
       "      <td>object</td>\n",
       "    </tr>\n",
       "    <tr>\n",
       "      <th>SeniorCitizen</th>\n",
       "      <td>False</td>\n",
       "      <td>int64</td>\n",
       "    </tr>\n",
       "    <tr>\n",
       "      <th>Partner</th>\n",
       "      <td>False</td>\n",
       "      <td>object</td>\n",
       "    </tr>\n",
       "    <tr>\n",
       "      <th>Dependents</th>\n",
       "      <td>False</td>\n",
       "      <td>object</td>\n",
       "    </tr>\n",
       "    <tr>\n",
       "      <th>tenure</th>\n",
       "      <td>False</td>\n",
       "      <td>int64</td>\n",
       "    </tr>\n",
       "    <tr>\n",
       "      <th>PhoneService</th>\n",
       "      <td>False</td>\n",
       "      <td>object</td>\n",
       "    </tr>\n",
       "    <tr>\n",
       "      <th>MultipleLines</th>\n",
       "      <td>False</td>\n",
       "      <td>object</td>\n",
       "    </tr>\n",
       "    <tr>\n",
       "      <th>InternetService</th>\n",
       "      <td>False</td>\n",
       "      <td>object</td>\n",
       "    </tr>\n",
       "    <tr>\n",
       "      <th>OnlineSecurity</th>\n",
       "      <td>False</td>\n",
       "      <td>object</td>\n",
       "    </tr>\n",
       "    <tr>\n",
       "      <th>OnlineBackup</th>\n",
       "      <td>False</td>\n",
       "      <td>object</td>\n",
       "    </tr>\n",
       "    <tr>\n",
       "      <th>DeviceProtection</th>\n",
       "      <td>False</td>\n",
       "      <td>object</td>\n",
       "    </tr>\n",
       "    <tr>\n",
       "      <th>TechSupport</th>\n",
       "      <td>False</td>\n",
       "      <td>object</td>\n",
       "    </tr>\n",
       "    <tr>\n",
       "      <th>StreamingTV</th>\n",
       "      <td>False</td>\n",
       "      <td>object</td>\n",
       "    </tr>\n",
       "    <tr>\n",
       "      <th>StreamingMovies</th>\n",
       "      <td>False</td>\n",
       "      <td>object</td>\n",
       "    </tr>\n",
       "    <tr>\n",
       "      <th>Contract</th>\n",
       "      <td>False</td>\n",
       "      <td>object</td>\n",
       "    </tr>\n",
       "    <tr>\n",
       "      <th>PaperlessBilling</th>\n",
       "      <td>False</td>\n",
       "      <td>object</td>\n",
       "    </tr>\n",
       "    <tr>\n",
       "      <th>PaymentMethod</th>\n",
       "      <td>False</td>\n",
       "      <td>object</td>\n",
       "    </tr>\n",
       "    <tr>\n",
       "      <th>MonthlyCharges</th>\n",
       "      <td>False</td>\n",
       "      <td>float64</td>\n",
       "    </tr>\n",
       "    <tr>\n",
       "      <th>TotalCharges</th>\n",
       "      <td>False</td>\n",
       "      <td>object</td>\n",
       "    </tr>\n",
       "    <tr>\n",
       "      <th>Churn</th>\n",
       "      <td>False</td>\n",
       "      <td>object</td>\n",
       "    </tr>\n",
       "  </tbody>\n",
       "</table>\n",
       "</div>"
      ],
      "text/plain": [
       "                  Missing?    dtype\n",
       "customerID           False   object\n",
       "gender               False   object\n",
       "SeniorCitizen        False    int64\n",
       "Partner              False   object\n",
       "Dependents           False   object\n",
       "tenure               False    int64\n",
       "PhoneService         False   object\n",
       "MultipleLines        False   object\n",
       "InternetService      False   object\n",
       "OnlineSecurity       False   object\n",
       "OnlineBackup         False   object\n",
       "DeviceProtection     False   object\n",
       "TechSupport          False   object\n",
       "StreamingTV          False   object\n",
       "StreamingMovies      False   object\n",
       "Contract             False   object\n",
       "PaperlessBilling     False   object\n",
       "PaymentMethod        False   object\n",
       "MonthlyCharges       False  float64\n",
       "TotalCharges         False   object\n",
       "Churn                False   object"
      ]
     },
     "execution_count": 15,
     "metadata": {},
     "output_type": "execute_result"
    }
   ],
   "source": [
    "missing_values = []\n",
    "for col in tcc.columns:\n",
    "    missing_values.append(tcc[col].isna().any())\n",
    "\n",
    "missing_values = pd.DataFrame(np.array(missing_values).reshape(1, 21))\n",
    "missing_values.columns = tcc.columns\n",
    "missing_values_table   = tcc.append(missing_values).tail(1)\n",
    "missing_values_table   = missing_values_table.astype(bool)\n",
    "missing_values_table   = missing_values_table.transpose()\n",
    "missing_values_table.columns = [\"Missing?\"]\n",
    "\n",
    "missing_values_table[\"dtype\"] = tcc.dtypes\n",
    "missing_values_table"
   ]
  },
  {
   "cell_type": "markdown",
   "metadata": {},
   "source": [
    "The dtypes are not coherent with logic. There's no point in encoding TotalCharges as a string and MonthlyCharges as a float, or PhoneService as Yes/No and SeniorCitizen as a 0/1 dummy. Let's fix that."
   ]
  },
  {
   "cell_type": "code",
   "execution_count": 16,
   "metadata": {},
   "outputs": [
    {
     "name": "stdout",
     "output_type": "stream",
     "text": [
      "We can't convert this column to floats, there must be some non-convertible values\n"
     ]
    }
   ],
   "source": [
    "try:\n",
    "    tcc.TotalCharges.astype(\"float64\")\n",
    "except ValueError:\n",
    "    print(\"We can't convert this column to floats, there must be some non-convertible values\")"
   ]
  },
  {
   "cell_type": "code",
   "execution_count": 17,
   "metadata": {},
   "outputs": [
    {
     "name": "stdout",
     "output_type": "stream",
     "text": [
      "20.05    8\n",
      "         8\n",
      "20.2     8\n",
      "19.9     8\n",
      "45.3     6\n",
      "Name: TotalCharges, dtype: int64\n",
      "\n",
      "We have 11 observations that take an empty string value. Let's drop that. The string we want to drop is:\n"
     ]
    },
    {
     "data": {
      "text/plain": [
       "' '"
      ]
     },
     "execution_count": 17,
     "metadata": {},
     "output_type": "execute_result"
    }
   ],
   "source": [
    "print(tcc.TotalCharges.value_counts().head())\n",
    "print(\"\")\n",
    "print(\"We have 11 observations that take an empty string value. Let's drop that. The string we want to drop is:\")\n",
    "tcc.TotalCharges.value_counts().index[1]"
   ]
  },
  {
   "cell_type": "markdown",
   "metadata": {},
   "source": [
    "Let's drop the observations with empty values, reset the index and now I should be able to convert the TotalCharges column to float:"
   ]
  },
  {
   "cell_type": "code",
   "execution_count": 18,
   "metadata": {},
   "outputs": [],
   "source": [
    "def fill_missing(df):\n",
    "    df.drop(df[df.TotalCharges == \" \"].index, axis = 0, inplace = True)\n",
    "    df.reset_index(drop = True, inplace = True)\n",
    "    df.TotalCharges = df.TotalCharges.astype(\"float64\")\n",
    "    return df"
   ]
  },
  {
   "cell_type": "code",
   "execution_count": 19,
   "metadata": {},
   "outputs": [],
   "source": [
    "tcc = fill_missing(tcc)"
   ]
  },
  {
   "cell_type": "markdown",
   "metadata": {},
   "source": [
    "Let's compute some last computations before extracting the Dummy Variables from the dataset and proceeding to the Regression Part."
   ]
  },
  {
   "cell_type": "code",
   "execution_count": 20,
   "metadata": {},
   "outputs": [
    {
     "name": "stdout",
     "output_type": "stream",
     "text": [
      "customerID: ['5575-GNVDE' '3668-QPYBK' '9237-HQITU' ... '4801-JZAZL' '8361-LTMKD'\n",
      " '3186-AJIEK']\n",
      "gender: ['Male' 'Female']\n",
      "SeniorCitizen: [0 1]\n",
      "Partner: ['No' 'Yes']\n",
      "Dependents: ['No' 'Yes']\n",
      "tenure: [34  2  8 22 10 28 16 58 49 25 69 52 71 21  1 12 30 47 72 17 27  5 46 11\n",
      " 70 63 43 15 60 18 66  3 31 50 64 56  7 42  9 48 29 65 55 37 36 41  6 33\n",
      " 13 67 23 57 62 20 53  4 14 32 61 40 59 24 44 19 54 51 68 35 38 26 45 39]\n",
      "PhoneService: ['Yes' 'No']\n",
      "MultipleLines: ['No' 'Yes' 'No phone service']\n",
      "InternetService: ['DSL' 'Fiber optic' 'No']\n",
      "OnlineSecurity: ['Yes' 'No' 'No internet service']\n",
      "OnlineBackup: ['No' 'Yes' 'No internet service']\n",
      "DeviceProtection: ['Yes' 'No' 'No internet service']\n",
      "TechSupport: ['No' 'Yes' 'No internet service']\n",
      "StreamingTV: ['No' 'Yes' 'No internet service']\n",
      "StreamingMovies: ['No' 'Yes' 'No internet service']\n",
      "Contract: ['One year' 'Month-to-month' 'Two year']\n",
      "PaperlessBilling: ['No' 'Yes']\n",
      "PaymentMethod: ['Mailed check' 'Electronic check' 'Credit card (automatic)'\n",
      " 'Bank transfer (automatic)']\n",
      "MonthlyCharges: [ 56.95  53.85  70.7  ...  39.   108.35  63.1 ]\n",
      "TotalCharges: [1889.5   108.15  151.65 ...  346.45  306.6  6844.5 ]\n",
      "Churn: ['No' 'Yes']\n"
     ]
    }
   ],
   "source": [
    "for col in tcc.columns:\n",
    "    print(\"{0}: {1}\".format(col, tcc.loc[:, col].unique()))"
   ]
  },
  {
   "cell_type": "code",
   "execution_count": 21,
   "metadata": {},
   "outputs": [
    {
     "data": {
      "image/png": "[encoded data removed]",
      "text/plain": [
       "<Figure size 1152x720 with 6 Axes>"
      ]
     },
     "metadata": {},
     "output_type": "display_data"
    }
   ],
   "source": [
    "fig, axis = plt.subplots(nrows = 2, ncols = 3, figsize = (16, 10))\n",
    "\n",
    "gb = tcc.groupby(\"InternetService\")[\"Churn\"].value_counts()/len(tcc)\n",
    "gb = gb.to_frame().rename({\"Churn\": \"% of customers\"}, axis = 1).reset_index()\n",
    "sns.barplot(x = \"InternetService\", y = \"% of customers\", data = gb, hue = \"Churn\", ax = axis[0][0]).set_title(\"Internet Service and Churn\");\n",
    "\n",
    "gb = tcc.groupby(\"PhoneService\")[\"Churn\"].value_counts()/len(tcc)\n",
    "gb = gb.to_frame().rename({\"Churn\": \"% of customers\"}, axis = 1).reset_index()\n",
    "sns.barplot(x = \"PhoneService\", y = \"% of customers\", data = gb, hue = \"Churn\", ax = axis[0][1]).set_title(\"Phone Service and Churn\");\n",
    "\n",
    "gb = tcc.groupby(\"MultipleLines\")[\"Churn\"].value_counts()/len(tcc)\n",
    "gb = gb.to_frame().rename({\"Churn\": \"% of customers\"}, axis = 1).reset_index()\n",
    "sns.barplot(x = \"MultipleLines\", y = \"% of customers\", data = gb, hue = \"Churn\", ax = axis[0][2]).set_title(\"Multiple Lines Phone Option and Churn\");\n",
    "\n",
    "gb = tcc.groupby(\"Contract\")[\"Churn\"].value_counts()/len(tcc)\n",
    "gb = gb.to_frame().rename({\"Churn\": \"% of customers\"}, axis = 1).reset_index()\n",
    "sns.barplot(x = \"Contract\", y = \"% of customers\", data = gb, hue = \"Churn\", ax = axis[1][1]).set_title(\"Contract Type and Churn\");"
   ]
  },
  {
   "cell_type": "markdown",
   "metadata": {},
   "source": [
    "It is noticeable that the customers with Fiber optic tend to churn a lot more when compared to DSL and No Internet. Maybe the Internet connection offered is low-quality? (Other option: Elder Customers don't need an internet connection. Spoiler: No. See following graph that proves that elderly are proportionally more connected than youngsters and are only a reduced percentage of the population).\n",
    "\n",
    "MultipleLines do not seem to affect the churn rate.\n",
    "\n",
    "Shorter-term contract renewals are highly correlated with the churn rate. But most likely it's an omitted variable bias issue: the more I trust a provider, the more I reason in long-terms with it."
   ]
  },
  {
   "cell_type": "code",
   "execution_count": 22,
   "metadata": {},
   "outputs": [
    {
     "data": {
      "image/png": "[encoded data removed]",
      "text/plain": [
       "<Figure size 432x288 with 1 Axes>"
      ]
     },
     "metadata": {},
     "output_type": "display_data"
    }
   ],
   "source": [
    "gb = tcc.groupby(\"SeniorCitizen\")[\"InternetService\"].value_counts()/len(tcc)\n",
    "gb = gb.to_frame().rename({\"InternetService\": \"% of customers\"}, axis = 1).reset_index()\n",
    "sns.barplot(x = \"SeniorCitizen\", y = \"% of customers\", data = gb, hue = \"InternetService\").set_title(\"Age Group and Internet Connection\");"
   ]
  },
  {
   "cell_type": "markdown",
   "metadata": {},
   "source": [
    "Now let's see how the \"Additional Internet Services\" that follow the variable pattern: [\"No\", \"Yes\", \"No internet service\"] affect the churn rate."
   ]
  },
  {
   "cell_type": "code",
   "execution_count": 23,
   "metadata": {},
   "outputs": [
    {
     "data": {
      "image/png": "[encoded data removed]",
      "text/plain": [
       "<Figure size 1152x720 with 6 Axes>"
      ]
     },
     "metadata": {},
     "output_type": "display_data"
    }
   ],
   "source": [
    "fig, axis = plt.subplots(nrows = 2, ncols = 3, figsize = (16, 10))\n",
    "\n",
    "gb = tcc.groupby(\"OnlineSecurity\")[\"Churn\"].value_counts()/len(tcc)\n",
    "gb = gb.to_frame().rename({\"Churn\": \"% of customers\"}, axis = 1).reset_index()\n",
    "sns.barplot(x = \"OnlineSecurity\", y = \"% of customers\", data = gb, hue = \"Churn\", ax = axis[0][0]).set_title(\"OnlineSecurity Internet Service and Churn\")\n",
    "\n",
    "gb = tcc.groupby(\"OnlineBackup\")[\"Churn\"].value_counts()/len(tcc)\n",
    "gb = gb.to_frame().rename({\"Churn\": \"% of customers\"}, axis = 1).reset_index()\n",
    "sns.barplot(x = \"OnlineBackup\", y = \"% of customers\", data = gb, hue = \"Churn\", ax = axis[0][1]).set_title(\"OnlineBackup Internet Service and Churn\")\n",
    "\n",
    "gb = tcc.groupby(\"DeviceProtection\")[\"Churn\"].value_counts()/len(tcc)\n",
    "gb = gb.to_frame().rename({\"Churn\": \"% of customers\"}, axis = 1).reset_index()\n",
    "sns.barplot(x = \"DeviceProtection\", y = \"% of customers\", data = gb, hue = \"Churn\", ax = axis[0][2]).set_title(\"DeviceProtection Internet Service and Churn\")\n",
    "\n",
    "gb = tcc.groupby(\"TechSupport\")[\"Churn\"].value_counts()/len(tcc)\n",
    "gb = gb.to_frame().rename({\"Churn\": \"% of customers\"}, axis = 1).reset_index()\n",
    "sns.barplot(x = \"TechSupport\", y = \"% of customers\", data = gb, hue = \"Churn\", ax = axis[1][0]).set_title(\"TechSupport Internet Service and Churn\")\n",
    "\n",
    "gb = tcc.groupby(\"StreamingTV\")[\"Churn\"].value_counts()/len(tcc)\n",
    "gb = gb.to_frame().rename({\"Churn\": \"% of customers\"}, axis = 1).reset_index()\n",
    "sns.barplot(x = \"StreamingTV\", y = \"% of customers\", data = gb, hue = \"Churn\", ax = axis[1][1]).set_title(\"StreamingTV Internet Service and Churn\")\n",
    "\n",
    "gb = tcc.groupby(\"StreamingMovies\")[\"Churn\"].value_counts()/len(tcc)\n",
    "gb = gb.to_frame().rename({\"Churn\": \"% of customers\"}, axis = 1).reset_index()\n",
    "sns.barplot(x = \"StreamingMovies\", y = \"% of customers\", data = gb, hue = \"Churn\", ax = axis[1][2]).set_title(\"StreamingMovies Internet Service and Churn\");"
   ]
  },
  {
   "cell_type": "markdown",
   "metadata": {},
   "source": [
    "- OnlineSecurity, OnlineBackup, TechSupport seem to have a significant impact on lowering the churn. If the company wants to lower the churn rate, It may be a good idea to include these services as standard in the following order: OnlineSecurity, TechSupport, OnlineBackUp, DeviceProtection (although removing the internet connection service altogether may be potentially be more beneficial, at least the Fiber one; see graphs above for details). Although unlikely, it is also possible that these services get cumulated with tenure, and thus their effect on the churn only reflects the negative impact of tenure on the churn rate; in the next cells we will try to figure out whether this is true or not.\n",
    "\n",
    "- StreamingTV and StreamingMovies do not seem to have a large enough effect on customer Churn Rate."
   ]
  },
  {
   "cell_type": "markdown",
   "metadata": {},
   "source": [
    "To assess whether additional services are accumulated through tenure (e.g. fidalty programs), let's run a lmplot for each additional Internet service."
   ]
  },
  {
   "cell_type": "code",
   "execution_count": 24,
   "metadata": {},
   "outputs": [
    {
     "data": {
      "image/png": "[encoded data removed]",
      "text/plain": [
       "<Figure size 360x360 with 1 Axes>"
      ]
     },
     "metadata": {},
     "output_type": "display_data"
    }
   ],
   "source": [
    "gb = tcc[(tcc.OnlineSecurity != \"No internet service\")].replace([\"Yes\", \"No\"], [1, 0]).groupby(\"tenure\")[\"OnlineSecurity\"].sum().to_frame().reset_index()\n",
    "sns.lmplot(\"tenure\", \"OnlineSecurity\", data = gb, line_kws={'color': 'red'}, lowess = True);\n",
    "ax = plt.gca()\n",
    "ax.set_title(\"Number of OnlineSecurity subscribers per Tenure level\");"
   ]
  },
  {
   "cell_type": "code",
   "execution_count": 25,
   "metadata": {},
   "outputs": [
    {
     "data": {
      "image/png": "[encoded data removed]",
      "text/plain": [
       "<Figure size 360x360 with 1 Axes>"
      ]
     },
     "metadata": {},
     "output_type": "display_data"
    }
   ],
   "source": [
    "gb = tcc[(tcc.OnlineBackup != \"No internet service\")].replace([\"Yes\", \"No\"], [1, 0]).groupby(\"tenure\")[\"OnlineBackup\"].sum().to_frame().reset_index()\n",
    "sns.lmplot(\"tenure\", \"OnlineBackup\", data = gb, line_kws={'color': 'red'}, lowess = True)\n",
    "ax = plt.gca()\n",
    "ax.set_title(\"Number of OnlineBackup subscribers per Tenure level\");"
   ]
  },
  {
   "cell_type": "code",
   "execution_count": 26,
   "metadata": {},
   "outputs": [
    {
     "data": {
      "image/png": "[encoded data removed]",
      "text/plain": [
       "<Figure size 360x360 with 1 Axes>"
      ]
     },
     "metadata": {},
     "output_type": "display_data"
    }
   ],
   "source": [
    "gb = tcc[(tcc.DeviceProtection != \"No internet service\")].replace([\"Yes\", \"No\"], [1, 0]).groupby(\"tenure\")[\"DeviceProtection\"].sum().to_frame().reset_index()\n",
    "sns.lmplot(\"tenure\", \"DeviceProtection\", data = gb, line_kws={'color': 'red'}, lowess = True)\n",
    "ax = plt.gca()\n",
    "ax.set_title(\"Number of DeviceProtection subscribers per Tenure level\");"
   ]
  },
  {
   "cell_type": "code",
   "execution_count": 27,
   "metadata": {},
   "outputs": [
    {
     "data": {
      "image/png": "[encoded data removed]",
      "text/plain": [
       "<Figure size 360x360 with 1 Axes>"
      ]
     },
     "metadata": {},
     "output_type": "display_data"
    }
   ],
   "source": [
    "gb = tcc[(tcc.TechSupport != \"No internet service\")].replace([\"Yes\", \"No\"], [1, 0]).groupby(\"tenure\")[\"TechSupport\"].sum().to_frame().reset_index()\n",
    "sns.lmplot(\"tenure\", \"TechSupport\", data = gb, line_kws={'color': 'red'}, lowess = True)\n",
    "ax = plt.gca()\n",
    "ax.set_title(\"Number of TechSupport subscribers per Tenure level\");"
   ]
  },
  {
   "cell_type": "code",
   "execution_count": 28,
   "metadata": {},
   "outputs": [
    {
     "data": {
      "image/png": "[encoded data removed]",
      "text/plain": [
       "<Figure size 360x360 with 1 Axes>"
      ]
     },
     "metadata": {},
     "output_type": "display_data"
    }
   ],
   "source": [
    "gb = tcc[(tcc.StreamingTV != \"No internet service\")].replace([\"Yes\", \"No\"], [1, 0]).groupby(\"tenure\")[\"StreamingTV\"].sum().to_frame().reset_index()\n",
    "sns.lmplot(\"tenure\", \"StreamingTV\", data = gb, line_kws={'color': 'red'}, lowess = True)\n",
    "ax = plt.gca()\n",
    "ax.set_title(\"Number of StreamingTV subscribers per Tenure level\");"
   ]
  },
  {
   "cell_type": "code",
   "execution_count": 29,
   "metadata": {},
   "outputs": [
    {
     "data": {
      "image/png": "[encoded data removed]",
      "text/plain": [
       "<Figure size 360x360 with 1 Axes>"
      ]
     },
     "metadata": {},
     "output_type": "display_data"
    }
   ],
   "source": [
    "gb = tcc[(tcc.StreamingMovies != \"No internet service\")].replace([\"Yes\", \"No\"], [1, 0]).groupby(\"tenure\")[\"StreamingMovies\"].sum().to_frame().reset_index()\n",
    "sns.lmplot(\"tenure\", \"StreamingMovies\", data = gb, line_kws={'color': 'red'}, lowess = True)\n",
    "ax = plt.gca()\n",
    "ax.set_title(\"Number of StreamingMovies subscribers per Tenure level\");"
   ]
  },
  {
   "cell_type": "markdown",
   "metadata": {},
   "source": [
    "The absolute number of each Additional Service seems to move in syncro with the others as tenure increases. It does not seem that there is any significant correlation between the number of active Additional Services and tenure, although people with borderline tenures have an extremely high number of Additional Services.\n",
    "\n",
    "It's weird that so many people with high tenures have so many additional services. Is it just that there are many people with maximum tenure although the percentage of additional services across tenure level stays the same? Hypothesis: at the beginning, the company had a launch offer all-included. Let's check the percentages of people that have these services for each tenure level."
   ]
  },
  {
   "cell_type": "code",
   "execution_count": 30,
   "metadata": {},
   "outputs": [
    {
     "data": {
      "image/png": "[encoded data removed]",
      "text/plain": [
       "<Figure size 360x360 with 1 Axes>"
      ]
     },
     "metadata": {},
     "output_type": "display_data"
    }
   ],
   "source": [
    "gb = tcc[(tcc.OnlineSecurity != \"No internet service\")].replace([\"Yes\", \"No\"], [1, 0])\n",
    "gb[\"AllServices\"] = gb.OnlineSecurity*gb.OnlineBackup*gb.DeviceProtection*gb.TechSupport*gb.StreamingTV*gb.StreamingMovies\n",
    "sns.lmplot(\"tenure\", \"AllServices\", data = gb, line_kws={'color': 'red'}, lowess = True);\n",
    "ax = plt.gca()\n",
    "ax.set_title(\"Percentage of subscribers to all services per Tenure level\");"
   ]
  },
  {
   "cell_type": "code",
   "execution_count": 31,
   "metadata": {},
   "outputs": [],
   "source": [
    "tvc = gb.tenure.value_counts()\n",
    "i = []\n",
    "v = []\n",
    "for tenure in tvc.index:\n",
    "    i.append(tenure)\n",
    "    v.append(len(gb[(gb.tenure == tenure) & (gb.AllServices == 1)])/len(gb[gb.tenure == tenure]))"
   ]
  },
  {
   "cell_type": "code",
   "execution_count": 32,
   "metadata": {},
   "outputs": [
    {
     "data": {
      "image/png": "[encoded data removed]",
      "text/plain": [
       "<Figure size 360x360 with 1 Axes>"
      ]
     },
     "metadata": {},
     "output_type": "display_data"
    }
   ],
   "source": [
    "df = pd.DataFrame(data = v, index = i, columns = [\"%AllServices\"]).reset_index().sort_values(\"index\").reset_index(drop = True).rename({\"index\": \"tenure\"}, axis = 1)\n",
    "\n",
    "sns.lmplot(\"tenure\", \"%AllServices\", data = df, line_kws={'color': 'red'}, lowess = True)\n",
    "ax = plt.gca()\n",
    "ax.set_title(\"Percentage of Customers with all Additional Services Active per Tenure level\");"
   ]
  },
  {
   "cell_type": "code",
   "execution_count": 33,
   "metadata": {},
   "outputs": [
    {
     "data": {
      "image/png": "[encoded data removed]",
      "text/plain": [
       "<Figure size 432x288 with 1 Axes>"
      ]
     },
     "metadata": {},
     "output_type": "display_data"
    }
   ],
   "source": [
    "plt.plot(df.tenure, df[\"%AllServices\"]);\n",
    "ax = plt.gca()\n",
    "ax.set_title(\"Trend in percentage of customers subscribed to all services for each tenure level\");"
   ]
  },
  {
   "cell_type": "markdown",
   "metadata": {},
   "source": [
    "Indeed, it seems that the people who subscribed for first have many additional services. Possible explanations:\n",
    "- Launch offer: all additional services forever included at a discounted price.\n",
    "- Selection bias: the first customers are the ones who appreciate the most the services offered by the company.\n",
    "\n",
    "Either case, the hypothesis that additional services are accumulated through tenure can be dismissed, for two reasons:\n",
    "- There is a strong spike up in the percentage and number of users with all the services around tenure = 70. Nonetheless, the trend in percentage of users with all the services grows constantly, while the absolute number of the individual services stays pretty much constant across tenure levels. This means the the increase in percentage is justifiable only by a convenient launch offer all-inclusive, that rules out the large amount of active offers for customers with extremely high tenure. _(Regression in the Appendix confirms this result.)_\n",
    "- if there was a cumulation of benefits, the drop on the 69th tenure value could be hardly justifiable, whereas it could be justified by a change in the offer or a decrease in interest towards the company."
   ]
  },
  {
   "cell_type": "markdown",
   "metadata": {},
   "source": [
    "### Encoding the dummy variables"
   ]
  },
  {
   "cell_type": "code",
   "execution_count": 34,
   "metadata": {},
   "outputs": [],
   "source": [
    "def get_dummy(df):\n",
    "    df = pd.get_dummies(df.iloc[:, 1 :])\n",
    "    return df"
   ]
  },
  {
   "cell_type": "code",
   "execution_count": 35,
   "metadata": {},
   "outputs": [
    {
     "data": {
      "text/html": [
       "<div>\n",
       "<style scoped>\n",
       "    .dataframe tbody tr th:only-of-type {\n",
       "        vertical-align: middle;\n",
       "    }\n",
       "\n",
       "    .dataframe tbody tr th {\n",
       "        vertical-align: top;\n",
       "    }\n",
       "\n",
       "    .dataframe thead th {\n",
       "        text-align: right;\n",
       "    }\n",
       "</style>\n",
       "<table border=\"1\" class=\"dataframe\">\n",
       "  <thead>\n",
       "    <tr style=\"text-align: right;\">\n",
       "      <th></th>\n",
       "      <th>SeniorCitizen</th>\n",
       "      <th>tenure</th>\n",
       "      <th>MonthlyCharges</th>\n",
       "      <th>TotalCharges</th>\n",
       "      <th>gender_Female</th>\n",
       "      <th>gender_Male</th>\n",
       "      <th>Partner_No</th>\n",
       "      <th>Partner_Yes</th>\n",
       "      <th>Dependents_No</th>\n",
       "      <th>Dependents_Yes</th>\n",
       "      <th>...</th>\n",
       "      <th>Contract_One year</th>\n",
       "      <th>Contract_Two year</th>\n",
       "      <th>PaperlessBilling_No</th>\n",
       "      <th>PaperlessBilling_Yes</th>\n",
       "      <th>PaymentMethod_Bank transfer (automatic)</th>\n",
       "      <th>PaymentMethod_Credit card (automatic)</th>\n",
       "      <th>PaymentMethod_Electronic check</th>\n",
       "      <th>PaymentMethod_Mailed check</th>\n",
       "      <th>Churn_No</th>\n",
       "      <th>Churn_Yes</th>\n",
       "    </tr>\n",
       "  </thead>\n",
       "  <tbody>\n",
       "    <tr>\n",
       "      <th>0</th>\n",
       "      <td>0</td>\n",
       "      <td>34</td>\n",
       "      <td>56.95</td>\n",
       "      <td>1889.50</td>\n",
       "      <td>0</td>\n",
       "      <td>1</td>\n",
       "      <td>1</td>\n",
       "      <td>0</td>\n",
       "      <td>1</td>\n",
       "      <td>0</td>\n",
       "      <td>...</td>\n",
       "      <td>1</td>\n",
       "      <td>0</td>\n",
       "      <td>1</td>\n",
       "      <td>0</td>\n",
       "      <td>0</td>\n",
       "      <td>0</td>\n",
       "      <td>0</td>\n",
       "      <td>1</td>\n",
       "      <td>1</td>\n",
       "      <td>0</td>\n",
       "    </tr>\n",
       "    <tr>\n",
       "      <th>1</th>\n",
       "      <td>0</td>\n",
       "      <td>2</td>\n",
       "      <td>53.85</td>\n",
       "      <td>108.15</td>\n",
       "      <td>0</td>\n",
       "      <td>1</td>\n",
       "      <td>1</td>\n",
       "      <td>0</td>\n",
       "      <td>1</td>\n",
       "      <td>0</td>\n",
       "      <td>...</td>\n",
       "      <td>0</td>\n",
       "      <td>0</td>\n",
       "      <td>0</td>\n",
       "      <td>1</td>\n",
       "      <td>0</td>\n",
       "      <td>0</td>\n",
       "      <td>0</td>\n",
       "      <td>1</td>\n",
       "      <td>0</td>\n",
       "      <td>1</td>\n",
       "    </tr>\n",
       "    <tr>\n",
       "      <th>2</th>\n",
       "      <td>0</td>\n",
       "      <td>2</td>\n",
       "      <td>70.70</td>\n",
       "      <td>151.65</td>\n",
       "      <td>1</td>\n",
       "      <td>0</td>\n",
       "      <td>1</td>\n",
       "      <td>0</td>\n",
       "      <td>1</td>\n",
       "      <td>0</td>\n",
       "      <td>...</td>\n",
       "      <td>0</td>\n",
       "      <td>0</td>\n",
       "      <td>0</td>\n",
       "      <td>1</td>\n",
       "      <td>0</td>\n",
       "      <td>0</td>\n",
       "      <td>1</td>\n",
       "      <td>0</td>\n",
       "      <td>0</td>\n",
       "      <td>1</td>\n",
       "    </tr>\n",
       "    <tr>\n",
       "      <th>3</th>\n",
       "      <td>0</td>\n",
       "      <td>8</td>\n",
       "      <td>99.65</td>\n",
       "      <td>820.50</td>\n",
       "      <td>1</td>\n",
       "      <td>0</td>\n",
       "      <td>1</td>\n",
       "      <td>0</td>\n",
       "      <td>1</td>\n",
       "      <td>0</td>\n",
       "      <td>...</td>\n",
       "      <td>0</td>\n",
       "      <td>0</td>\n",
       "      <td>0</td>\n",
       "      <td>1</td>\n",
       "      <td>0</td>\n",
       "      <td>0</td>\n",
       "      <td>1</td>\n",
       "      <td>0</td>\n",
       "      <td>0</td>\n",
       "      <td>1</td>\n",
       "    </tr>\n",
       "    <tr>\n",
       "      <th>4</th>\n",
       "      <td>0</td>\n",
       "      <td>22</td>\n",
       "      <td>89.10</td>\n",
       "      <td>1949.40</td>\n",
       "      <td>0</td>\n",
       "      <td>1</td>\n",
       "      <td>1</td>\n",
       "      <td>0</td>\n",
       "      <td>0</td>\n",
       "      <td>1</td>\n",
       "      <td>...</td>\n",
       "      <td>0</td>\n",
       "      <td>0</td>\n",
       "      <td>0</td>\n",
       "      <td>1</td>\n",
       "      <td>0</td>\n",
       "      <td>1</td>\n",
       "      <td>0</td>\n",
       "      <td>0</td>\n",
       "      <td>1</td>\n",
       "      <td>0</td>\n",
       "    </tr>\n",
       "  </tbody>\n",
       "</table>\n",
       "<p>5 rows × 47 columns</p>\n",
       "</div>"
      ],
      "text/plain": [
       "   SeniorCitizen  tenure  MonthlyCharges  TotalCharges  gender_Female  \\\n",
       "0              0      34           56.95       1889.50              0   \n",
       "1              0       2           53.85        108.15              0   \n",
       "2              0       2           70.70        151.65              1   \n",
       "3              0       8           99.65        820.50              1   \n",
       "4              0      22           89.10       1949.40              0   \n",
       "\n",
       "   gender_Male  Partner_No  Partner_Yes  Dependents_No  Dependents_Yes  ...  \\\n",
       "0            1           1            0              1               0  ...   \n",
       "1            1           1            0              1               0  ...   \n",
       "2            0           1            0              1               0  ...   \n",
       "3            0           1            0              1               0  ...   \n",
       "4            1           1            0              0               1  ...   \n",
       "\n",
       "   Contract_One year  Contract_Two year  PaperlessBilling_No  \\\n",
       "0                  1                  0                    1   \n",
       "1                  0                  0                    0   \n",
       "2                  0                  0                    0   \n",
       "3                  0                  0                    0   \n",
       "4                  0                  0                    0   \n",
       "\n",
       "   PaperlessBilling_Yes  PaymentMethod_Bank transfer (automatic)  \\\n",
       "0                     0                                        0   \n",
       "1                     1                                        0   \n",
       "2                     1                                        0   \n",
       "3                     1                                        0   \n",
       "4                     1                                        0   \n",
       "\n",
       "   PaymentMethod_Credit card (automatic)  PaymentMethod_Electronic check  \\\n",
       "0                                      0                               0   \n",
       "1                                      0                               0   \n",
       "2                                      0                               1   \n",
       "3                                      0                               1   \n",
       "4                                      1                               0   \n",
       "\n",
       "   PaymentMethod_Mailed check  Churn_No  Churn_Yes  \n",
       "0                           1         1          0  \n",
       "1                           1         0          1  \n",
       "2                           0         0          1  \n",
       "3                           0         0          1  \n",
       "4                           0         1          0  \n",
       "\n",
       "[5 rows x 47 columns]"
      ]
     },
     "execution_count": 35,
     "metadata": {},
     "output_type": "execute_result"
    }
   ],
   "source": [
    "tcc = get_dummy(tcc)\n",
    "tcc.head()"
   ]
  },
  {
   "cell_type": "code",
   "execution_count": 36,
   "metadata": {},
   "outputs": [
    {
     "data": {
      "text/plain": [
       "SeniorCitizen                                int64\n",
       "tenure                                       int64\n",
       "MonthlyCharges                             float64\n",
       "TotalCharges                               float64\n",
       "gender_Female                                uint8\n",
       "gender_Male                                  uint8\n",
       "Partner_No                                   uint8\n",
       "Partner_Yes                                  uint8\n",
       "Dependents_No                                uint8\n",
       "Dependents_Yes                               uint8\n",
       "PhoneService_No                              uint8\n",
       "PhoneService_Yes                             uint8\n",
       "MultipleLines_No                             uint8\n",
       "MultipleLines_No phone service               uint8\n",
       "MultipleLines_Yes                            uint8\n",
       "InternetService_DSL                          uint8\n",
       "InternetService_Fiber optic                  uint8\n",
       "InternetService_No                           uint8\n",
       "OnlineSecurity_No                            uint8\n",
       "OnlineSecurity_No internet service           uint8\n",
       "OnlineSecurity_Yes                           uint8\n",
       "OnlineBackup_No                              uint8\n",
       "OnlineBackup_No internet service             uint8\n",
       "OnlineBackup_Yes                             uint8\n",
       "DeviceProtection_No                          uint8\n",
       "DeviceProtection_No internet service         uint8\n",
       "DeviceProtection_Yes                         uint8\n",
       "TechSupport_No                               uint8\n",
       "TechSupport_No internet service              uint8\n",
       "TechSupport_Yes                              uint8\n",
       "StreamingTV_No                               uint8\n",
       "StreamingTV_No internet service              uint8\n",
       "StreamingTV_Yes                              uint8\n",
       "StreamingMovies_No                           uint8\n",
       "StreamingMovies_No internet service          uint8\n",
       "StreamingMovies_Yes                          uint8\n",
       "Contract_Month-to-month                      uint8\n",
       "Contract_One year                            uint8\n",
       "Contract_Two year                            uint8\n",
       "PaperlessBilling_No                          uint8\n",
       "PaperlessBilling_Yes                         uint8\n",
       "PaymentMethod_Bank transfer (automatic)      uint8\n",
       "PaymentMethod_Credit card (automatic)        uint8\n",
       "PaymentMethod_Electronic check               uint8\n",
       "PaymentMethod_Mailed check                   uint8\n",
       "Churn_No                                     uint8\n",
       "Churn_Yes                                    uint8\n",
       "dtype: object"
      ]
     },
     "execution_count": 36,
     "metadata": {},
     "output_type": "execute_result"
    }
   ],
   "source": [
    "tcc.dtypes"
   ]
  },
  {
   "cell_type": "markdown",
   "metadata": {},
   "source": [
    "Let's have a look at the variables."
   ]
  },
  {
   "cell_type": "code",
   "execution_count": 37,
   "metadata": {},
   "outputs": [
    {
     "name": "stdout",
     "output_type": "stream",
     "text": [
      "SeniorCitizen: [0 1]\n",
      "tenure: [34  2  8 22 10 28 16 58 49 25 69 52 71 21  1 12 30 47 72 17 27  5 46 11\n",
      " 70 63 43 15 60 18 66  3 31 50 64 56  7 42  9 48 29 65 55 37 36 41  6 33\n",
      " 13 67 23 57 62 20 53  4 14 32 61 40 59 24 44 19 54 51 68 35 38 26 45 39]\n",
      "MonthlyCharges: [ 56.95  53.85  70.7  ...  39.   108.35  63.1 ]\n",
      "TotalCharges: [1889.5   108.15  151.65 ...  346.45  306.6  6844.5 ]\n",
      "gender_Female: [0 1]\n",
      "gender_Male: [1 0]\n",
      "Partner_No: [1 0]\n",
      "Partner_Yes: [0 1]\n",
      "Dependents_No: [1 0]\n",
      "Dependents_Yes: [0 1]\n",
      "PhoneService_No: [0 1]\n",
      "PhoneService_Yes: [1 0]\n",
      "MultipleLines_No: [1 0]\n",
      "MultipleLines_No phone service: [0 1]\n",
      "MultipleLines_Yes: [0 1]\n",
      "InternetService_DSL: [1 0]\n",
      "InternetService_Fiber optic: [0 1]\n",
      "InternetService_No: [0 1]\n",
      "OnlineSecurity_No: [0 1]\n",
      "OnlineSecurity_No internet service: [0 1]\n",
      "OnlineSecurity_Yes: [1 0]\n",
      "OnlineBackup_No: [1 0]\n",
      "OnlineBackup_No internet service: [0 1]\n",
      "OnlineBackup_Yes: [0 1]\n",
      "DeviceProtection_No: [0 1]\n",
      "DeviceProtection_No internet service: [0 1]\n",
      "DeviceProtection_Yes: [1 0]\n",
      "TechSupport_No: [1 0]\n",
      "TechSupport_No internet service: [0 1]\n",
      "TechSupport_Yes: [0 1]\n",
      "StreamingTV_No: [1 0]\n",
      "StreamingTV_No internet service: [0 1]\n",
      "StreamingTV_Yes: [0 1]\n",
      "StreamingMovies_No: [1 0]\n",
      "StreamingMovies_No internet service: [0 1]\n",
      "StreamingMovies_Yes: [0 1]\n",
      "Contract_Month-to-month: [0 1]\n",
      "Contract_One year: [1 0]\n",
      "Contract_Two year: [0 1]\n",
      "PaperlessBilling_No: [1 0]\n",
      "PaperlessBilling_Yes: [0 1]\n",
      "PaymentMethod_Bank transfer (automatic): [0 1]\n",
      "PaymentMethod_Credit card (automatic): [0 1]\n",
      "PaymentMethod_Electronic check: [0 1]\n",
      "PaymentMethod_Mailed check: [1 0]\n",
      "Churn_No: [1 0]\n",
      "Churn_Yes: [0 1]\n"
     ]
    }
   ],
   "source": [
    "for col in tcc.columns:\n",
    "    print(\"{0}: {1}\".format(col, tcc.loc[:, col].unique()))"
   ]
  },
  {
   "cell_type": "markdown",
   "metadata": {},
   "source": [
    "# Dealing with outliers"
   ]
  },
  {
   "cell_type": "code",
   "execution_count": 38,
   "metadata": {},
   "outputs": [
    {
     "data": {
      "image/png": "[encoded data removed]",
      "text/plain": [
       "<Figure size 432x288 with 1 Axes>"
      ]
     },
     "metadata": {},
     "output_type": "display_data"
    }
   ],
   "source": [
    "sns.boxplot(x = tcc.MonthlyCharges).set_title(\"Monthly Charges Box Plot\");"
   ]
  },
  {
   "cell_type": "code",
   "execution_count": 39,
   "metadata": {},
   "outputs": [
    {
     "data": {
      "image/png": "[encoded data removed]",
      "text/plain": [
       "<Figure size 432x288 with 1 Axes>"
      ]
     },
     "metadata": {},
     "output_type": "display_data"
    }
   ],
   "source": [
    "sns.distplot(tcc.MonthlyCharges).set_title(\"Monthly Charges Distribution\");"
   ]
  },
  {
   "cell_type": "code",
   "execution_count": 40,
   "metadata": {},
   "outputs": [
    {
     "data": {
      "image/png": "[encoded data removed]",
      "text/plain": [
       "<Figure size 432x288 with 1 Axes>"
      ]
     },
     "metadata": {},
     "output_type": "display_data"
    }
   ],
   "source": [
    "sns.boxplot(x = tcc.TotalCharges).set_title(\"Total Charges Box Plot\");"
   ]
  },
  {
   "cell_type": "code",
   "execution_count": 41,
   "metadata": {},
   "outputs": [
    {
     "data": {
      "image/png": "[encoded data removed]",
      "text/plain": [
       "<Figure size 432x288 with 1 Axes>"
      ]
     },
     "metadata": {},
     "output_type": "display_data"
    }
   ],
   "source": [
    "sns.distplot(tcc.TotalCharges).set_title(\"Total Charges Distribution\");"
   ]
  },
  {
   "cell_type": "code",
   "execution_count": 42,
   "metadata": {},
   "outputs": [
    {
     "data": {
      "image/png": "[encoded data removed]",
      "text/plain": [
       "<Figure size 360x360 with 1 Axes>"
      ]
     },
     "metadata": {},
     "output_type": "display_data"
    }
   ],
   "source": [
    "sns.lmplot(\"TotalCharges\", \"Churn_Yes\", data = tcc, line_kws={'color': 'red'}, lowess = True, size = 5)\n",
    "plt.suptitle(\"Chances of Churn relative to Total Charges\");"
   ]
  },
  {
   "cell_type": "code",
   "execution_count": 43,
   "metadata": {},
   "outputs": [
    {
     "data": {
      "image/png": "[encoded data removed]",
      "text/plain": [
       "<Figure size 360x360 with 1 Axes>"
      ]
     },
     "metadata": {},
     "output_type": "display_data"
    }
   ],
   "source": [
    "sns.lmplot(\"MonthlyCharges\", \"Churn_Yes\", data = tcc, line_kws={'color': 'red'}, lowess = True, size = 5)\n",
    "plt.suptitle(\"Chances of Churn relative to Monthly Charges\");"
   ]
  },
  {
   "cell_type": "code",
   "execution_count": 44,
   "metadata": {},
   "outputs": [
    {
     "data": {
      "image/png": "[encoded data removed]",
      "text/plain": [
       "<Figure size 360x360 with 1 Axes>"
      ]
     },
     "metadata": {},
     "output_type": "display_data"
    }
   ],
   "source": [
    "sns.lmplot(\"tenure\", \"Churn_Yes\", data = tcc, line_kws={'color': 'red'}, lowess = True, size = 5)\n",
    "plt.suptitle(\"Chances of Churn relative to Tenure\");"
   ]
  },
  {
   "cell_type": "markdown",
   "metadata": {},
   "source": [
    "# Logistic regression"
   ]
  },
  {
   "cell_type": "markdown",
   "metadata": {},
   "source": [
    "I want to build a predictive model using Churn as dependent variable. First let's run the regression by including all the variables."
   ]
  },
  {
   "cell_type": "code",
   "execution_count": 45,
   "metadata": {},
   "outputs": [
    {
     "data": {
      "text/plain": [
       "Index(['SeniorCitizen', 'tenure', 'MonthlyCharges', 'TotalCharges',\n",
       "       'gender_Female', 'gender_Male', 'Partner_No', 'Partner_Yes',\n",
       "       'Dependents_No', 'Dependents_Yes', 'PhoneService_No',\n",
       "       'PhoneService_Yes', 'MultipleLines_No',\n",
       "       'MultipleLines_No phone service', 'MultipleLines_Yes',\n",
       "       'InternetService_DSL', 'InternetService_Fiber optic',\n",
       "       'InternetService_No', 'OnlineSecurity_No',\n",
       "       'OnlineSecurity_No internet service', 'OnlineSecurity_Yes',\n",
       "       'OnlineBackup_No', 'OnlineBackup_No internet service',\n",
       "       'OnlineBackup_Yes', 'DeviceProtection_No',\n",
       "       'DeviceProtection_No internet service', 'DeviceProtection_Yes',\n",
       "       'TechSupport_No', 'TechSupport_No internet service', 'TechSupport_Yes',\n",
       "       'StreamingTV_No', 'StreamingTV_No internet service', 'StreamingTV_Yes',\n",
       "       'StreamingMovies_No', 'StreamingMovies_No internet service',\n",
       "       'StreamingMovies_Yes', 'Contract_Month-to-month', 'Contract_One year',\n",
       "       'Contract_Two year', 'PaperlessBilling_No', 'PaperlessBilling_Yes',\n",
       "       'PaymentMethod_Bank transfer (automatic)',\n",
       "       'PaymentMethod_Credit card (automatic)',\n",
       "       'PaymentMethod_Electronic check', 'PaymentMethod_Mailed check',\n",
       "       'Churn_No', 'Churn_Yes'],\n",
       "      dtype='object')"
      ]
     },
     "execution_count": 45,
     "metadata": {},
     "output_type": "execute_result"
    }
   ],
   "source": [
    "tcc.columns"
   ]
  },
  {
   "cell_type": "markdown",
   "metadata": {},
   "source": [
    "Most of the variables differentiate between \"No\" and \"No internet service\". Given that the information about \"Internet Service\" or \"No internet service\" is already provided by the variable InternetService, we can just analyze the impact of having a service that implies having Internet Service versus not having it, without considering that a person could have for example no OnlineSecurity due to the fact that they do not have Internet Service.\n",
    "\n",
    "TotalCharges can also be excluded from the model, since it is likely to be correlated with MonthlyCharges (I am going to test this hypothesis by calculating the Pearson correlation coefficient)."
   ]
  },
  {
   "cell_type": "code",
   "execution_count": 46,
   "metadata": {},
   "outputs": [
    {
     "name": "stdout",
     "output_type": "stream",
     "text": [
      "Coefficient: 0.6471564131497883\n",
      "p-value: 0.0\n"
     ]
    }
   ],
   "source": [
    "# Pearson correlation coefficient\n",
    "print(\"Coefficient:\",scipy.stats.pearsonr(tcc[\"MonthlyCharges\"], tcc[\"TotalCharges\"])[0])\n",
    "print(\"p-value:\",scipy.stats.pearsonr(tcc[\"MonthlyCharges\"], tcc[\"TotalCharges\"])[1])"
   ]
  },
  {
   "cell_type": "markdown",
   "metadata": {},
   "source": [
    "The two variables are highly correlated."
   ]
  },
  {
   "cell_type": "markdown",
   "metadata": {},
   "source": [
    "Let's run a first regression including all the variables, and then progressively improve the model."
   ]
  },
  {
   "cell_type": "code",
   "execution_count": 47,
   "metadata": {},
   "outputs": [
    {
     "name": "stdout",
     "output_type": "stream",
     "text": [
      "Optimization terminated successfully.\n",
      "         Current function value: inf\n",
      "         Iterations 8\n"
     ]
    },
    {
     "data": {
      "text/html": [
       "<table class=\"simpletable\">\n",
       "<tr>\n",
       "        <td>Model:</td>              <td>Logit</td>      <td>Pseudo R-squared:</td>   <td>inf</td> \n",
       "</tr>\n",
       "<tr>\n",
       "  <td>Dependent Variable:</td>     <td>Churn_Yes</td>          <td>AIC:</td>          <td>inf</td> \n",
       "</tr>\n",
       "<tr>\n",
       "         <td>Date:</td>        <td>2021-08-23 18:41</td>       <td>BIC:</td>          <td>inf</td> \n",
       "</tr>\n",
       "<tr>\n",
       "   <td>No. Observations:</td>        <td>5631</td>        <td>Log-Likelihood:</td>   <td>-inf</td> \n",
       "</tr>\n",
       "<tr>\n",
       "       <td>Df Model:</td>             <td>22</td>            <td>LL-Null:</td>      <td>0.0000</td>\n",
       "</tr>\n",
       "<tr>\n",
       "     <td>Df Residuals:</td>          <td>5608</td>         <td>LLR p-value:</td>    <td>1.0000</td>\n",
       "</tr>\n",
       "<tr>\n",
       "      <td>Converged:</td>           <td>1.0000</td>           <td>Scale:</td>       <td>1.0000</td>\n",
       "</tr>\n",
       "<tr>\n",
       "    <td>No. Iterations:</td>        <td>8.0000</td>              <td></td>             <td></td>   \n",
       "</tr>\n",
       "</table>\n",
       "<table class=\"simpletable\">\n",
       "<tr>\n",
       "                     <td></td>                      <th>Coef.</th>  <th>Std.Err.</th>     <th>z</th>     <th>P>|z|</th> <th>[0.025</th>  <th>0.975]</th> \n",
       "</tr>\n",
       "<tr>\n",
       "  <th>SeniorCitizen</th>                           <td>0.2240</td>   <td>0.0941</td>   <td>2.3805</td>  <td>0.0173</td> <td>0.0396</td>  <td>0.4084</td> \n",
       "</tr>\n",
       "<tr>\n",
       "  <th>tenure</th>                                  <td>-0.0325</td>  <td>0.0026</td>  <td>-12.3750</td> <td>0.0000</td> <td>-0.0376</td> <td>-0.0273</td>\n",
       "</tr>\n",
       "<tr>\n",
       "  <th>MonthlyCharges</th>                          <td>-0.0274</td>  <td>0.0351</td>   <td>-0.7813</td> <td>0.4346</td> <td>-0.0962</td> <td>0.0414</td> \n",
       "</tr>\n",
       "<tr>\n",
       "  <th>gender_Female</th>                           <td>-0.0098</td>  <td>0.0720</td>   <td>-0.1366</td> <td>0.8913</td> <td>-0.1509</td> <td>0.1313</td> \n",
       "</tr>\n",
       "<tr>\n",
       "  <th>Partner_Yes</th>                             <td>0.0315</td>   <td>0.0866</td>   <td>0.3640</td>  <td>0.7159</td> <td>-0.1381</td> <td>0.2012</td> \n",
       "</tr>\n",
       "<tr>\n",
       "  <th>PhoneService_Yes</th>                        <td>-0.0126</td>  <td>0.7173</td>   <td>-0.0175</td> <td>0.9860</td> <td>-1.4185</td> <td>1.3933</td> \n",
       "</tr>\n",
       "<tr>\n",
       "  <th>Dependents_Yes</th>                          <td>-0.1652</td>  <td>0.1003</td>   <td>-1.6475</td> <td>0.0995</td> <td>-0.3617</td> <td>0.0313</td> \n",
       "</tr>\n",
       "<tr>\n",
       "  <th>MultipleLines_Yes</th>                       <td>0.3894</td>   <td>0.1960</td>   <td>1.9861</td>  <td>0.0470</td> <td>0.0051</td>  <td>0.7736</td> \n",
       "</tr>\n",
       "<tr>\n",
       "  <th>InternetService_DSL</th>                     <td>1.4725</td>   <td>0.8930</td>   <td>1.6489</td>  <td>0.0992</td> <td>-0.2778</td> <td>3.2228</td> \n",
       "</tr>\n",
       "<tr>\n",
       "  <th>InternetService_Fiber optic</th>             <td>3.1550</td>   <td>1.7636</td>   <td>1.7890</td>  <td>0.0736</td> <td>-0.3016</td> <td>6.6117</td> \n",
       "</tr>\n",
       "<tr>\n",
       "  <th>OnlineSecurity_Yes</th>                      <td>-0.2127</td>  <td>0.1981</td>   <td>-1.0737</td> <td>0.2830</td> <td>-0.6009</td> <td>0.1755</td> \n",
       "</tr>\n",
       "<tr>\n",
       "  <th>OnlineBackup_Yes</th>                        <td>0.0041</td>   <td>0.1933</td>   <td>0.0212</td>  <td>0.9830</td> <td>-0.3747</td> <td>0.3829</td> \n",
       "</tr>\n",
       "<tr>\n",
       "  <th>DeviceProtection_Yes</th>                    <td>0.1138</td>   <td>0.1953</td>   <td>0.5825</td>  <td>0.5602</td> <td>-0.2690</td> <td>0.4966</td> \n",
       "</tr>\n",
       "<tr>\n",
       "  <th>TechSupport_Yes</th>                         <td>-0.1457</td>  <td>0.2001</td>   <td>-0.7283</td> <td>0.4664</td> <td>-0.5379</td> <td>0.2465</td> \n",
       "</tr>\n",
       "<tr>\n",
       "  <th>StreamingTV_Yes</th>                         <td>0.5486</td>   <td>0.3608</td>   <td>1.5203</td>  <td>0.1284</td> <td>-0.1586</td> <td>1.2557</td> \n",
       "</tr>\n",
       "<tr>\n",
       "  <th>StreamingMovies_Yes</th>                     <td>0.5239</td>   <td>0.3615</td>   <td>1.4492</td>  <td>0.1473</td> <td>-0.1847</td> <td>1.2325</td> \n",
       "</tr>\n",
       "<tr>\n",
       "  <th>Contract_One year</th>                       <td>-0.6692</td>  <td>0.1190</td>   <td>-5.6233</td> <td>0.0000</td> <td>-0.9025</td> <td>-0.4360</td>\n",
       "</tr>\n",
       "<tr>\n",
       "  <th>Contract_Two year</th>                       <td>-1.2678</td>  <td>0.1901</td>   <td>-6.6707</td> <td>0.0000</td> <td>-1.6404</td> <td>-0.8953</td>\n",
       "</tr>\n",
       "<tr>\n",
       "  <th>PaperlessBilling_Yes</th>                    <td>0.2552</td>   <td>0.0829</td>   <td>3.0781</td>  <td>0.0021</td> <td>0.0927</td>  <td>0.4177</td> \n",
       "</tr>\n",
       "<tr>\n",
       "  <th>PaymentMethod_Bank transfer (automatic)</th> <td>-0.0308</td>  <td>0.1266</td>   <td>-0.2429</td> <td>0.8081</td> <td>-0.2789</td> <td>0.2174</td> \n",
       "</tr>\n",
       "<tr>\n",
       "  <th>PaymentMethod_Credit card (automatic)</th>   <td>-0.0642</td>  <td>0.1291</td>   <td>-0.4976</td> <td>0.6188</td> <td>-0.3173</td> <td>0.1888</td> \n",
       "</tr>\n",
       "<tr>\n",
       "  <th>PaymentMethod_Electronic check</th>          <td>0.3224</td>   <td>0.1065</td>   <td>3.0274</td>  <td>0.0025</td> <td>0.1137</td>  <td>0.5311</td> \n",
       "</tr>\n",
       "<tr>\n",
       "  <th>intercept</th>                               <td>-0.9868</td>  <td>0.1965</td>   <td>-5.0227</td> <td>0.0000</td> <td>-1.3719</td> <td>-0.6017</td>\n",
       "</tr>\n",
       "</table>"
      ],
      "text/plain": [
       "<class 'statsmodels.iolib.summary2.Summary'>\n",
       "\"\"\"\n",
       "                                     Results: Logit\n",
       "========================================================================================\n",
       "Model:                       Logit                     Pseudo R-squared:          inf   \n",
       "Dependent Variable:          Churn_Yes                 AIC:                       inf   \n",
       "Date:                        2021-08-23 18:41          BIC:                       inf   \n",
       "No. Observations:            5631                      Log-Likelihood:            -inf  \n",
       "Df Model:                    22                        LL-Null:                   0.0000\n",
       "Df Residuals:                5608                      LLR p-value:               1.0000\n",
       "Converged:                   1.0000                    Scale:                     1.0000\n",
       "No. Iterations:              8.0000                                                     \n",
       "----------------------------------------------------------------------------------------\n",
       "                                         Coef.  Std.Err.    z     P>|z|   [0.025  0.975]\n",
       "----------------------------------------------------------------------------------------\n",
       "SeniorCitizen                            0.2240   0.0941   2.3805 0.0173  0.0396  0.4084\n",
       "tenure                                  -0.0325   0.0026 -12.3750 0.0000 -0.0376 -0.0273\n",
       "MonthlyCharges                          -0.0274   0.0351  -0.7813 0.4346 -0.0962  0.0414\n",
       "gender_Female                           -0.0098   0.0720  -0.1366 0.8913 -0.1509  0.1313\n",
       "Partner_Yes                              0.0315   0.0866   0.3640 0.7159 -0.1381  0.2012\n",
       "PhoneService_Yes                        -0.0126   0.7173  -0.0175 0.9860 -1.4185  1.3933\n",
       "Dependents_Yes                          -0.1652   0.1003  -1.6475 0.0995 -0.3617  0.0313\n",
       "MultipleLines_Yes                        0.3894   0.1960   1.9861 0.0470  0.0051  0.7736\n",
       "InternetService_DSL                      1.4725   0.8930   1.6489 0.0992 -0.2778  3.2228\n",
       "InternetService_Fiber optic              3.1550   1.7636   1.7890 0.0736 -0.3016  6.6117\n",
       "OnlineSecurity_Yes                      -0.2127   0.1981  -1.0737 0.2830 -0.6009  0.1755\n",
       "OnlineBackup_Yes                         0.0041   0.1933   0.0212 0.9830 -0.3747  0.3829\n",
       "DeviceProtection_Yes                     0.1138   0.1953   0.5825 0.5602 -0.2690  0.4966\n",
       "TechSupport_Yes                         -0.1457   0.2001  -0.7283 0.4664 -0.5379  0.2465\n",
       "StreamingTV_Yes                          0.5486   0.3608   1.5203 0.1284 -0.1586  1.2557\n",
       "StreamingMovies_Yes                      0.5239   0.3615   1.4492 0.1473 -0.1847  1.2325\n",
       "Contract_One year                       -0.6692   0.1190  -5.6233 0.0000 -0.9025 -0.4360\n",
       "Contract_Two year                       -1.2678   0.1901  -6.6707 0.0000 -1.6404 -0.8953\n",
       "PaperlessBilling_Yes                     0.2552   0.0829   3.0781 0.0021  0.0927  0.4177\n",
       "PaymentMethod_Bank transfer (automatic) -0.0308   0.1266  -0.2429 0.8081 -0.2789  0.2174\n",
       "PaymentMethod_Credit card (automatic)   -0.0642   0.1291  -0.4976 0.6188 -0.3173  0.1888\n",
       "PaymentMethod_Electronic check           0.3224   0.1065   3.0274 0.0025  0.1137  0.5311\n",
       "intercept                               -0.9868   0.1965  -5.0227 0.0000 -1.3719 -0.6017\n",
       "========================================================================================\n",
       "\n",
       "\"\"\""
      ]
     },
     "execution_count": 47,
     "metadata": {},
     "output_type": "execute_result"
    }
   ],
   "source": [
    "# Intercept\n",
    "tcc[\"intercept\"] = 1.0\n",
    "\n",
    "variables = tcc.copy()[['SeniorCitizen', 'tenure', 'MonthlyCharges', \n",
    "       'gender_Female', 'Partner_Yes', 'PhoneService_Yes',\n",
    "        'Dependents_Yes', 'MultipleLines_Yes',\n",
    "       'InternetService_DSL', 'InternetService_Fiber optic', 'OnlineSecurity_Yes',\n",
    "        'OnlineBackup_Yes', 'DeviceProtection_Yes', 'TechSupport_Yes', 'StreamingTV_Yes',\n",
    "       'StreamingMovies_Yes', 'Contract_One year', 'Contract_Two year', 'PaperlessBilling_Yes',\n",
    "       'PaymentMethod_Bank transfer (automatic)', 'PaymentMethod_Credit card (automatic)',\n",
    "       'PaymentMethod_Electronic check', 'intercept']]\n",
    "\n",
    "# Setting the model\n",
    "logistical_regression = sm.Logit(tcc[\"Churn_Yes\"], variables)\n",
    "\n",
    "# Fitting the model\n",
    "fitted_model = logistical_regression.fit()\n",
    "fitted_model.summary2()"
   ]
  },
  {
   "cell_type": "markdown",
   "metadata": {},
   "source": [
    "To improve results' goodness PaymentMethod can be transformed in order to analyze the difference between automatic Payment Method and non automatic. Clients with automatic payment are less likely to churn with respect to clients with no automatic payment. I am not interested in the difference between Bank transfer and Credit card, or between Electronic check or Mailed check."
   ]
  },
  {
   "cell_type": "code",
   "execution_count": 48,
   "metadata": {},
   "outputs": [],
   "source": [
    "# Transforming PaymentMethod\n",
    "def transform_payment(df):\n",
    "    df[\"PaymentMethod_Automatic\"] = df[\"PaymentMethod_Bank transfer (automatic)\"] + df[\"PaymentMethod_Credit card (automatic)\"]\n",
    "    return df\n",
    "\n",
    "tcc = transform_payment(tcc)"
   ]
  },
  {
   "cell_type": "code",
   "execution_count": 49,
   "metadata": {},
   "outputs": [
    {
     "name": "stdout",
     "output_type": "stream",
     "text": [
      "Optimization terminated successfully.\n",
      "         Current function value: inf\n",
      "         Iterations 8\n"
     ]
    },
    {
     "data": {
      "text/html": [
       "<table class=\"simpletable\">\n",
       "<tr>\n",
       "        <td>Model:</td>              <td>Logit</td>      <td>Pseudo R-squared:</td>   <td>inf</td> \n",
       "</tr>\n",
       "<tr>\n",
       "  <td>Dependent Variable:</td>     <td>Churn_Yes</td>          <td>AIC:</td>          <td>inf</td> \n",
       "</tr>\n",
       "<tr>\n",
       "         <td>Date:</td>        <td>2021-08-23 18:41</td>       <td>BIC:</td>          <td>inf</td> \n",
       "</tr>\n",
       "<tr>\n",
       "   <td>No. Observations:</td>        <td>5631</td>        <td>Log-Likelihood:</td>   <td>-inf</td> \n",
       "</tr>\n",
       "<tr>\n",
       "       <td>Df Model:</td>             <td>19</td>            <td>LL-Null:</td>      <td>0.0000</td>\n",
       "</tr>\n",
       "<tr>\n",
       "     <td>Df Residuals:</td>          <td>5611</td>         <td>LLR p-value:</td>    <td>1.0000</td>\n",
       "</tr>\n",
       "<tr>\n",
       "      <td>Converged:</td>           <td>1.0000</td>           <td>Scale:</td>       <td>1.0000</td>\n",
       "</tr>\n",
       "<tr>\n",
       "    <td>No. Iterations:</td>        <td>8.0000</td>              <td></td>             <td></td>   \n",
       "</tr>\n",
       "</table>\n",
       "<table class=\"simpletable\">\n",
       "<tr>\n",
       "               <td></td>                <th>Coef.</th>  <th>Std.Err.</th>     <th>z</th>     <th>P>|z|</th> <th>[0.025</th>  <th>0.975]</th> \n",
       "</tr>\n",
       "<tr>\n",
       "  <th>SeniorCitizen</th>               <td>0.2372</td>   <td>0.0939</td>   <td>2.5273</td>  <td>0.0115</td> <td>0.0532</td>  <td>0.4211</td> \n",
       "</tr>\n",
       "<tr>\n",
       "  <th>tenure</th>                      <td>-0.0320</td>  <td>0.0026</td>  <td>-12.2124</td> <td>0.0000</td> <td>-0.0371</td> <td>-0.0268</td>\n",
       "</tr>\n",
       "<tr>\n",
       "  <th>MonthlyCharges</th>              <td>-0.0284</td>  <td>0.0069</td>   <td>-4.1369</td> <td>0.0000</td> <td>-0.0419</td> <td>-0.0150</td>\n",
       "</tr>\n",
       "<tr>\n",
       "  <th>gender_Female</th>               <td>-0.0067</td>  <td>0.0719</td>   <td>-0.0930</td> <td>0.9259</td> <td>-0.1475</td> <td>0.1341</td> \n",
       "</tr>\n",
       "<tr>\n",
       "  <th>Partner_Yes</th>                 <td>0.0409</td>   <td>0.0863</td>   <td>0.4737</td>  <td>0.6357</td> <td>-0.1283</td> <td>0.2101</td> \n",
       "</tr>\n",
       "<tr>\n",
       "  <th>Dependents_Yes</th>              <td>-0.1726</td>  <td>0.1001</td>   <td>-1.7254</td> <td>0.0845</td> <td>-0.3687</td> <td>0.0235</td> \n",
       "</tr>\n",
       "<tr>\n",
       "  <th>MultipleLines_Yes</th>           <td>0.3956</td>   <td>0.0998</td>   <td>3.9627</td>  <td>0.0001</td> <td>0.2000</td>  <td>0.5913</td> \n",
       "</tr>\n",
       "<tr>\n",
       "  <th>InternetService_DSL</th>         <td>1.5796</td>   <td>0.1946</td>   <td>8.1162</td>  <td>0.0000</td> <td>1.1982</td>  <td>1.9611</td> \n",
       "</tr>\n",
       "<tr>\n",
       "  <th>InternetService_Fiber optic</th> <td>3.3346</td>   <td>0.3741</td>   <td>8.9126</td>  <td>0.0000</td> <td>2.6013</td>  <td>4.0679</td> \n",
       "</tr>\n",
       "<tr>\n",
       "  <th>OnlineSecurity_Yes</th>          <td>-0.2217</td>  <td>0.1000</td>   <td>-2.2157</td> <td>0.0267</td> <td>-0.4178</td> <td>-0.0256</td>\n",
       "</tr>\n",
       "<tr>\n",
       "  <th>OnlineBackup_Yes</th>            <td>0.0081</td>   <td>0.0901</td>   <td>0.0903</td>  <td>0.9280</td> <td>-0.1685</td> <td>0.1848</td> \n",
       "</tr>\n",
       "<tr>\n",
       "  <th>DeviceProtection_Yes</th>        <td>0.1142</td>   <td>0.0925</td>   <td>1.2346</td>  <td>0.2170</td> <td>-0.0671</td> <td>0.2955</td> \n",
       "</tr>\n",
       "<tr>\n",
       "  <th>TechSupport_Yes</th>             <td>-0.1615</td>  <td>0.1020</td>   <td>-1.5829</td> <td>0.1134</td> <td>-0.3614</td> <td>0.0385</td> \n",
       "</tr>\n",
       "<tr>\n",
       "  <th>StreamingTV_Yes</th>             <td>0.5744</td>   <td>0.1100</td>   <td>5.2203</td>  <td>0.0000</td> <td>0.3587</td>  <td>0.7900</td> \n",
       "</tr>\n",
       "<tr>\n",
       "  <th>StreamingMovies_Yes</th>         <td>0.5493</td>   <td>0.1090</td>   <td>5.0376</td>  <td>0.0000</td> <td>0.3356</td>  <td>0.7631</td> \n",
       "</tr>\n",
       "<tr>\n",
       "  <th>Contract_One year</th>           <td>-0.6872</td>  <td>0.1188</td>   <td>-5.7849</td> <td>0.0000</td> <td>-0.9201</td> <td>-0.4544</td>\n",
       "</tr>\n",
       "<tr>\n",
       "  <th>Contract_Two year</th>           <td>-1.2934</td>  <td>0.1897</td>   <td>-6.8181</td> <td>0.0000</td> <td>-1.6652</td> <td>-0.9216</td>\n",
       "</tr>\n",
       "<tr>\n",
       "  <th>PaperlessBilling_Yes</th>        <td>0.2760</td>   <td>0.0825</td>   <td>3.3461</td>  <td>0.0008</td> <td>0.1144</td>  <td>0.4377</td> \n",
       "</tr>\n",
       "<tr>\n",
       "  <th>PaymentMethod_Automatic</th>     <td>-0.2773</td>  <td>0.0806</td>   <td>-3.4407</td> <td>0.0006</td> <td>-0.4353</td> <td>-0.1193</td>\n",
       "</tr>\n",
       "<tr>\n",
       "  <th>intercept</th>                   <td>-0.8904</td>  <td>0.1911</td>   <td>-4.6599</td> <td>0.0000</td> <td>-1.2649</td> <td>-0.5159</td>\n",
       "</tr>\n",
       "</table>"
      ],
      "text/plain": [
       "<class 'statsmodels.iolib.summary2.Summary'>\n",
       "\"\"\"\n",
       "                               Results: Logit\n",
       "============================================================================\n",
       "Model:                   Logit                 Pseudo R-squared:      inf   \n",
       "Dependent Variable:      Churn_Yes             AIC:                   inf   \n",
       "Date:                    2021-08-23 18:41      BIC:                   inf   \n",
       "No. Observations:        5631                  Log-Likelihood:        -inf  \n",
       "Df Model:                19                    LL-Null:               0.0000\n",
       "Df Residuals:            5611                  LLR p-value:           1.0000\n",
       "Converged:               1.0000                Scale:                 1.0000\n",
       "No. Iterations:          8.0000                                             \n",
       "----------------------------------------------------------------------------\n",
       "                             Coef.  Std.Err.    z     P>|z|   [0.025  0.975]\n",
       "----------------------------------------------------------------------------\n",
       "SeniorCitizen                0.2372   0.0939   2.5273 0.0115  0.0532  0.4211\n",
       "tenure                      -0.0320   0.0026 -12.2124 0.0000 -0.0371 -0.0268\n",
       "MonthlyCharges              -0.0284   0.0069  -4.1369 0.0000 -0.0419 -0.0150\n",
       "gender_Female               -0.0067   0.0719  -0.0930 0.9259 -0.1475  0.1341\n",
       "Partner_Yes                  0.0409   0.0863   0.4737 0.6357 -0.1283  0.2101\n",
       "Dependents_Yes              -0.1726   0.1001  -1.7254 0.0845 -0.3687  0.0235\n",
       "MultipleLines_Yes            0.3956   0.0998   3.9627 0.0001  0.2000  0.5913\n",
       "InternetService_DSL          1.5796   0.1946   8.1162 0.0000  1.1982  1.9611\n",
       "InternetService_Fiber optic  3.3346   0.3741   8.9126 0.0000  2.6013  4.0679\n",
       "OnlineSecurity_Yes          -0.2217   0.1000  -2.2157 0.0267 -0.4178 -0.0256\n",
       "OnlineBackup_Yes             0.0081   0.0901   0.0903 0.9280 -0.1685  0.1848\n",
       "DeviceProtection_Yes         0.1142   0.0925   1.2346 0.2170 -0.0671  0.2955\n",
       "TechSupport_Yes             -0.1615   0.1020  -1.5829 0.1134 -0.3614  0.0385\n",
       "StreamingTV_Yes              0.5744   0.1100   5.2203 0.0000  0.3587  0.7900\n",
       "StreamingMovies_Yes          0.5493   0.1090   5.0376 0.0000  0.3356  0.7631\n",
       "Contract_One year           -0.6872   0.1188  -5.7849 0.0000 -0.9201 -0.4544\n",
       "Contract_Two year           -1.2934   0.1897  -6.8181 0.0000 -1.6652 -0.9216\n",
       "PaperlessBilling_Yes         0.2760   0.0825   3.3461 0.0008  0.1144  0.4377\n",
       "PaymentMethod_Automatic     -0.2773   0.0806  -3.4407 0.0006 -0.4353 -0.1193\n",
       "intercept                   -0.8904   0.1911  -4.6599 0.0000 -1.2649 -0.5159\n",
       "============================================================================\n",
       "\n",
       "\"\"\""
      ]
     },
     "execution_count": 49,
     "metadata": {},
     "output_type": "execute_result"
    }
   ],
   "source": [
    "variables = tcc[['SeniorCitizen', 'tenure', 'MonthlyCharges', \n",
    "       'gender_Female', 'Partner_Yes',\n",
    "        'Dependents_Yes', 'MultipleLines_Yes',\n",
    "       'InternetService_DSL', 'InternetService_Fiber optic', 'OnlineSecurity_Yes',\n",
    "        'OnlineBackup_Yes', 'DeviceProtection_Yes', 'TechSupport_Yes', 'StreamingTV_Yes',\n",
    "       'StreamingMovies_Yes', 'Contract_One year', 'Contract_Two year', 'PaperlessBilling_Yes',\n",
    "       'PaymentMethod_Automatic', 'intercept']]\n",
    "\n",
    "# Setting the model\n",
    "logistical_regression = sm.Logit(tcc[\"Churn_Yes\"], variables)\n",
    "\n",
    "# Fitting the model\n",
    "fitted_model = logistical_regression.fit()\n",
    "fitted_model.summary2()"
   ]
  },
  {
   "cell_type": "markdown",
   "metadata": {},
   "source": [
    "Now, remove from the model OnlineBackup, DeviceProtection, gender and partner as they are not significant."
   ]
  },
  {
   "cell_type": "code",
   "execution_count": 50,
   "metadata": {},
   "outputs": [
    {
     "name": "stdout",
     "output_type": "stream",
     "text": [
      "Optimization terminated successfully.\n",
      "         Current function value: inf\n",
      "         Iterations 8\n"
     ]
    },
    {
     "data": {
      "text/html": [
       "<table class=\"simpletable\">\n",
       "<tr>\n",
       "        <td>Model:</td>              <td>Logit</td>      <td>Pseudo R-squared:</td>   <td>inf</td> \n",
       "</tr>\n",
       "<tr>\n",
       "  <td>Dependent Variable:</td>     <td>Churn_Yes</td>          <td>AIC:</td>          <td>inf</td> \n",
       "</tr>\n",
       "<tr>\n",
       "         <td>Date:</td>        <td>2021-08-23 18:41</td>       <td>BIC:</td>          <td>inf</td> \n",
       "</tr>\n",
       "<tr>\n",
       "   <td>No. Observations:</td>        <td>5631</td>        <td>Log-Likelihood:</td>   <td>-inf</td> \n",
       "</tr>\n",
       "<tr>\n",
       "       <td>Df Model:</td>             <td>15</td>            <td>LL-Null:</td>      <td>0.0000</td>\n",
       "</tr>\n",
       "<tr>\n",
       "     <td>Df Residuals:</td>          <td>5615</td>         <td>LLR p-value:</td>    <td>1.0000</td>\n",
       "</tr>\n",
       "<tr>\n",
       "      <td>Converged:</td>           <td>1.0000</td>           <td>Scale:</td>       <td>1.0000</td>\n",
       "</tr>\n",
       "<tr>\n",
       "    <td>No. Iterations:</td>        <td>8.0000</td>              <td></td>             <td></td>   \n",
       "</tr>\n",
       "</table>\n",
       "<table class=\"simpletable\">\n",
       "<tr>\n",
       "               <td></td>                <th>Coef.</th>  <th>Std.Err.</th>     <th>z</th>     <th>P>|z|</th> <th>[0.025</th>  <th>0.975]</th> \n",
       "</tr>\n",
       "<tr>\n",
       "  <th>SeniorCitizen</th>               <td>0.2460</td>   <td>0.0930</td>   <td>2.6440</td>  <td>0.0082</td> <td>0.0637</td>  <td>0.4284</td> \n",
       "</tr>\n",
       "<tr>\n",
       "  <th>tenure</th>                      <td>-0.0313</td>  <td>0.0025</td>  <td>-12.6833</td> <td>0.0000</td> <td>-0.0361</td> <td>-0.0264</td>\n",
       "</tr>\n",
       "<tr>\n",
       "  <th>MonthlyCharges</th>              <td>-0.0255</td>  <td>0.0060</td>   <td>-4.2228</td> <td>0.0000</td> <td>-0.0373</td> <td>-0.0136</td>\n",
       "</tr>\n",
       "<tr>\n",
       "  <th>Dependents_Yes</th>              <td>-0.1533</td>  <td>0.0909</td>   <td>-1.6855</td> <td>0.0919</td> <td>-0.3315</td> <td>0.0250</td> \n",
       "</tr>\n",
       "<tr>\n",
       "  <th>MultipleLines_Yes</th>           <td>0.3744</td>   <td>0.0966</td>   <td>3.8762</td>  <td>0.0001</td> <td>0.1851</td>  <td>0.5638</td> \n",
       "</tr>\n",
       "<tr>\n",
       "  <th>InternetService_DSL</th>         <td>1.5430</td>   <td>0.1912</td>   <td>8.0703</td>  <td>0.0000</td> <td>1.1683</td>  <td>1.9178</td> \n",
       "</tr>\n",
       "<tr>\n",
       "  <th>InternetService_Fiber optic</th> <td>3.2086</td>   <td>0.3471</td>   <td>9.2435</td>  <td>0.0000</td> <td>2.5283</td>  <td>3.8889</td> \n",
       "</tr>\n",
       "<tr>\n",
       "  <th>OnlineSecurity_Yes</th>          <td>-0.2390</td>  <td>0.0984</td>   <td>-2.4293</td> <td>0.0151</td> <td>-0.4318</td> <td>-0.0462</td>\n",
       "</tr>\n",
       "<tr>\n",
       "  <th>TechSupport_Yes</th>             <td>-0.1732</td>  <td>0.1010</td>   <td>-1.7148</td> <td>0.0864</td> <td>-0.3712</td> <td>0.0248</td> \n",
       "</tr>\n",
       "<tr>\n",
       "  <th>StreamingTV_Yes</th>             <td>0.5564</td>   <td>0.1070</td>   <td>5.2013</td>  <td>0.0000</td> <td>0.3468</td>  <td>0.7661</td> \n",
       "</tr>\n",
       "<tr>\n",
       "  <th>StreamingMovies_Yes</th>         <td>0.5334</td>   <td>0.1059</td>   <td>5.0371</td>  <td>0.0000</td> <td>0.3259</td>  <td>0.7410</td> \n",
       "</tr>\n",
       "<tr>\n",
       "  <th>Contract_One year</th>           <td>-0.6780</td>  <td>0.1185</td>   <td>-5.7217</td> <td>0.0000</td> <td>-0.9103</td> <td>-0.4458</td>\n",
       "</tr>\n",
       "<tr>\n",
       "  <th>Contract_Two year</th>           <td>-1.2785</td>  <td>0.1892</td>   <td>-6.7557</td> <td>0.0000</td> <td>-1.6494</td> <td>-0.9076</td>\n",
       "</tr>\n",
       "<tr>\n",
       "  <th>PaperlessBilling_Yes</th>        <td>0.2740</td>   <td>0.0824</td>   <td>3.3245</td>  <td>0.0009</td> <td>0.1124</td>  <td>0.4355</td> \n",
       "</tr>\n",
       "<tr>\n",
       "  <th>PaymentMethod_Automatic</th>     <td>-0.2740</td>  <td>0.0805</td>   <td>-3.4036</td> <td>0.0007</td> <td>-0.4318</td> <td>-0.1162</td>\n",
       "</tr>\n",
       "<tr>\n",
       "  <th>intercept</th>                   <td>-0.9567</td>  <td>0.1715</td>   <td>-5.5770</td> <td>0.0000</td> <td>-1.2929</td> <td>-0.6205</td>\n",
       "</tr>\n",
       "</table>"
      ],
      "text/plain": [
       "<class 'statsmodels.iolib.summary2.Summary'>\n",
       "\"\"\"\n",
       "                               Results: Logit\n",
       "============================================================================\n",
       "Model:                   Logit                 Pseudo R-squared:      inf   \n",
       "Dependent Variable:      Churn_Yes             AIC:                   inf   \n",
       "Date:                    2021-08-23 18:41      BIC:                   inf   \n",
       "No. Observations:        5631                  Log-Likelihood:        -inf  \n",
       "Df Model:                15                    LL-Null:               0.0000\n",
       "Df Residuals:            5615                  LLR p-value:           1.0000\n",
       "Converged:               1.0000                Scale:                 1.0000\n",
       "No. Iterations:          8.0000                                             \n",
       "----------------------------------------------------------------------------\n",
       "                             Coef.  Std.Err.    z     P>|z|   [0.025  0.975]\n",
       "----------------------------------------------------------------------------\n",
       "SeniorCitizen                0.2460   0.0930   2.6440 0.0082  0.0637  0.4284\n",
       "tenure                      -0.0313   0.0025 -12.6833 0.0000 -0.0361 -0.0264\n",
       "MonthlyCharges              -0.0255   0.0060  -4.2228 0.0000 -0.0373 -0.0136\n",
       "Dependents_Yes              -0.1533   0.0909  -1.6855 0.0919 -0.3315  0.0250\n",
       "MultipleLines_Yes            0.3744   0.0966   3.8762 0.0001  0.1851  0.5638\n",
       "InternetService_DSL          1.5430   0.1912   8.0703 0.0000  1.1683  1.9178\n",
       "InternetService_Fiber optic  3.2086   0.3471   9.2435 0.0000  2.5283  3.8889\n",
       "OnlineSecurity_Yes          -0.2390   0.0984  -2.4293 0.0151 -0.4318 -0.0462\n",
       "TechSupport_Yes             -0.1732   0.1010  -1.7148 0.0864 -0.3712  0.0248\n",
       "StreamingTV_Yes              0.5564   0.1070   5.2013 0.0000  0.3468  0.7661\n",
       "StreamingMovies_Yes          0.5334   0.1059   5.0371 0.0000  0.3259  0.7410\n",
       "Contract_One year           -0.6780   0.1185  -5.7217 0.0000 -0.9103 -0.4458\n",
       "Contract_Two year           -1.2785   0.1892  -6.7557 0.0000 -1.6494 -0.9076\n",
       "PaperlessBilling_Yes         0.2740   0.0824   3.3245 0.0009  0.1124  0.4355\n",
       "PaymentMethod_Automatic     -0.2740   0.0805  -3.4036 0.0007 -0.4318 -0.1162\n",
       "intercept                   -0.9567   0.1715  -5.5770 0.0000 -1.2929 -0.6205\n",
       "============================================================================\n",
       "\n",
       "\"\"\""
      ]
     },
     "execution_count": 50,
     "metadata": {},
     "output_type": "execute_result"
    }
   ],
   "source": [
    "variables = tcc[['SeniorCitizen', 'tenure', 'MonthlyCharges', \n",
    "        'Dependents_Yes', 'MultipleLines_Yes',\n",
    "       'InternetService_DSL', 'InternetService_Fiber optic', 'OnlineSecurity_Yes',\n",
    "        'TechSupport_Yes', 'StreamingTV_Yes',\n",
    "       'StreamingMovies_Yes', 'Contract_One year', 'Contract_Two year', 'PaperlessBilling_Yes',\n",
    "       'PaymentMethod_Automatic', 'intercept']]\n",
    "\n",
    "# Setting the model\n",
    "logistical_regression = sm.Logit(tcc[\"Churn_Yes\"], variables)\n",
    "\n",
    "# Fitting the model\n",
    "fitted_model = logistical_regression.fit()\n",
    "fitted_model.summary2()"
   ]
  },
  {
   "cell_type": "markdown",
   "metadata": {},
   "source": [
    "To improve regression interpretability, instead of considering tenure as a continuous variable, let's divide it into 4 clusters"
   ]
  },
  {
   "cell_type": "code",
   "execution_count": 51,
   "metadata": {},
   "outputs": [],
   "source": [
    "def cluster(df):\n",
    "    df[\"tenure_0:18\"]  = 0\n",
    "    df[\"tenure_19:36\"] = 0\n",
    "    df[\"tenure_37:54\"] = 0\n",
    "    df[\"tenure_55:72\"] = 0\n",
    "\n",
    "    df.loc[df.tenure <= 18, \"tenure_0:18\"] = 1\n",
    "    df.loc[((df.tenure >= 19) & (df.tenure <= 36)), \"tenure_19:36\"] = 1\n",
    "    df.loc[((df.tenure >= 37) & (df.tenure <= 54)), \"tenure_37:54\"] = 1\n",
    "    df.loc[df.tenure >= 55, \"tenure_55:72\"] = 1\n",
    "    \n",
    "    return df\n",
    "\n",
    "tcc = cluster(tcc)"
   ]
  },
  {
   "cell_type": "markdown",
   "metadata": {},
   "source": [
    "Let's run a new regression."
   ]
  },
  {
   "cell_type": "code",
   "execution_count": 52,
   "metadata": {},
   "outputs": [
    {
     "name": "stdout",
     "output_type": "stream",
     "text": [
      "Optimization terminated successfully.\n",
      "         Current function value: inf\n",
      "         Iterations 8\n"
     ]
    },
    {
     "data": {
      "text/html": [
       "<table class=\"simpletable\">\n",
       "<tr>\n",
       "        <td>Model:</td>              <td>Logit</td>      <td>Pseudo R-squared:</td>   <td>inf</td> \n",
       "</tr>\n",
       "<tr>\n",
       "  <td>Dependent Variable:</td>     <td>Churn_Yes</td>          <td>AIC:</td>          <td>inf</td> \n",
       "</tr>\n",
       "<tr>\n",
       "         <td>Date:</td>        <td>2021-08-23 18:41</td>       <td>BIC:</td>          <td>inf</td> \n",
       "</tr>\n",
       "<tr>\n",
       "   <td>No. Observations:</td>        <td>5631</td>        <td>Log-Likelihood:</td>   <td>-inf</td> \n",
       "</tr>\n",
       "<tr>\n",
       "       <td>Df Model:</td>             <td>17</td>            <td>LL-Null:</td>      <td>0.0000</td>\n",
       "</tr>\n",
       "<tr>\n",
       "     <td>Df Residuals:</td>          <td>5613</td>         <td>LLR p-value:</td>    <td>1.0000</td>\n",
       "</tr>\n",
       "<tr>\n",
       "      <td>Converged:</td>           <td>1.0000</td>           <td>Scale:</td>       <td>1.0000</td>\n",
       "</tr>\n",
       "<tr>\n",
       "    <td>No. Iterations:</td>        <td>8.0000</td>              <td></td>             <td></td>   \n",
       "</tr>\n",
       "</table>\n",
       "<table class=\"simpletable\">\n",
       "<tr>\n",
       "               <td></td>                <th>Coef.</th>  <th>Std.Err.</th>    <th>z</th>     <th>P>|z|</th> <th>[0.025</th>  <th>0.975]</th> \n",
       "</tr>\n",
       "<tr>\n",
       "  <th>SeniorCitizen</th>               <td>0.2221</td>   <td>0.0925</td>  <td>2.4017</td>  <td>0.0163</td> <td>0.0409</td>  <td>0.4034</td> \n",
       "</tr>\n",
       "<tr>\n",
       "  <th>MonthlyCharges</th>              <td>-0.0271</td>  <td>0.0060</td>  <td>-4.4827</td> <td>0.0000</td> <td>-0.0389</td> <td>-0.0152</td>\n",
       "</tr>\n",
       "<tr>\n",
       "  <th>Dependents_Yes</th>              <td>-0.1569</td>  <td>0.0909</td>  <td>-1.7266</td> <td>0.0842</td> <td>-0.3350</td> <td>0.0212</td> \n",
       "</tr>\n",
       "<tr>\n",
       "  <th>MultipleLines_Yes</th>           <td>0.3346</td>   <td>0.0965</td>  <td>3.4651</td>  <td>0.0005</td> <td>0.1453</td>  <td>0.5238</td> \n",
       "</tr>\n",
       "<tr>\n",
       "  <th>InternetService_DSL</th>         <td>1.5670</td>   <td>0.1911</td>  <td>8.2018</td>  <td>0.0000</td> <td>1.1926</td>  <td>1.9415</td> \n",
       "</tr>\n",
       "<tr>\n",
       "  <th>InternetService_Fiber optic</th> <td>3.2728</td>   <td>0.3476</td>  <td>9.4142</td>  <td>0.0000</td> <td>2.5914</td>  <td>3.9542</td> \n",
       "</tr>\n",
       "<tr>\n",
       "  <th>OnlineSecurity_Yes</th>          <td>-0.2681</td>  <td>0.0982</td>  <td>-2.7300</td> <td>0.0063</td> <td>-0.4605</td> <td>-0.0756</td>\n",
       "</tr>\n",
       "<tr>\n",
       "  <th>TechSupport_Yes</th>             <td>-0.1677</td>  <td>0.1011</td>  <td>-1.6587</td> <td>0.0972</td> <td>-0.3659</td> <td>0.0305</td> \n",
       "</tr>\n",
       "<tr>\n",
       "  <th>StreamingTV_Yes</th>             <td>0.5522</td>   <td>0.1071</td>  <td>5.1563</td>  <td>0.0000</td> <td>0.3423</td>  <td>0.7621</td> \n",
       "</tr>\n",
       "<tr>\n",
       "  <th>StreamingMovies_Yes</th>         <td>0.5284</td>   <td>0.1060</td>  <td>4.9866</td>  <td>0.0000</td> <td>0.3207</td>  <td>0.7361</td> \n",
       "</tr>\n",
       "<tr>\n",
       "  <th>Contract_One year</th>           <td>-0.8078</td>  <td>0.1178</td>  <td>-6.8558</td> <td>0.0000</td> <td>-1.0387</td> <td>-0.5769</td>\n",
       "</tr>\n",
       "<tr>\n",
       "  <th>Contract_Two year</th>           <td>-1.5668</td>  <td>0.1915</td>  <td>-8.1822</td> <td>0.0000</td> <td>-1.9421</td> <td>-1.1915</td>\n",
       "</tr>\n",
       "<tr>\n",
       "  <th>PaperlessBilling_Yes</th>        <td>0.2647</td>   <td>0.0825</td>  <td>3.2100</td>  <td>0.0013</td> <td>0.1031</td>  <td>0.4263</td> \n",
       "</tr>\n",
       "<tr>\n",
       "  <th>PaymentMethod_Automatic</th>     <td>-0.3158</td>  <td>0.0801</td>  <td>-3.9414</td> <td>0.0001</td> <td>-0.4729</td> <td>-0.1588</td>\n",
       "</tr>\n",
       "<tr>\n",
       "  <th>tenure_19:36</th>                <td>-0.9740</td>  <td>0.1014</td>  <td>-9.6055</td> <td>0.0000</td> <td>-1.1727</td> <td>-0.7752</td>\n",
       "</tr>\n",
       "<tr>\n",
       "  <th>tenure_37:54</th>                <td>-0.9905</td>  <td>0.1204</td>  <td>-8.2233</td> <td>0.0000</td> <td>-1.2265</td> <td>-0.7544</td>\n",
       "</tr>\n",
       "<tr>\n",
       "  <th>tenure_55:72</th>                <td>-1.4900</td>  <td>0.1499</td>  <td>-9.9434</td> <td>0.0000</td> <td>-1.7837</td> <td>-1.1963</td>\n",
       "</tr>\n",
       "<tr>\n",
       "  <th>intercept</th>                   <td>-1.0077</td>  <td>0.1725</td>  <td>-5.8433</td> <td>0.0000</td> <td>-1.3457</td> <td>-0.6697</td>\n",
       "</tr>\n",
       "</table>"
      ],
      "text/plain": [
       "<class 'statsmodels.iolib.summary2.Summary'>\n",
       "\"\"\"\n",
       "                              Results: Logit\n",
       "===========================================================================\n",
       "Model:                    Logit                Pseudo R-squared:     inf   \n",
       "Dependent Variable:       Churn_Yes            AIC:                  inf   \n",
       "Date:                     2021-08-23 18:41     BIC:                  inf   \n",
       "No. Observations:         5631                 Log-Likelihood:       -inf  \n",
       "Df Model:                 17                   LL-Null:              0.0000\n",
       "Df Residuals:             5613                 LLR p-value:          1.0000\n",
       "Converged:                1.0000               Scale:                1.0000\n",
       "No. Iterations:           8.0000                                           \n",
       "---------------------------------------------------------------------------\n",
       "                             Coef.  Std.Err.    z    P>|z|   [0.025  0.975]\n",
       "---------------------------------------------------------------------------\n",
       "SeniorCitizen                0.2221   0.0925  2.4017 0.0163  0.0409  0.4034\n",
       "MonthlyCharges              -0.0271   0.0060 -4.4827 0.0000 -0.0389 -0.0152\n",
       "Dependents_Yes              -0.1569   0.0909 -1.7266 0.0842 -0.3350  0.0212\n",
       "MultipleLines_Yes            0.3346   0.0965  3.4651 0.0005  0.1453  0.5238\n",
       "InternetService_DSL          1.5670   0.1911  8.2018 0.0000  1.1926  1.9415\n",
       "InternetService_Fiber optic  3.2728   0.3476  9.4142 0.0000  2.5914  3.9542\n",
       "OnlineSecurity_Yes          -0.2681   0.0982 -2.7300 0.0063 -0.4605 -0.0756\n",
       "TechSupport_Yes             -0.1677   0.1011 -1.6587 0.0972 -0.3659  0.0305\n",
       "StreamingTV_Yes              0.5522   0.1071  5.1563 0.0000  0.3423  0.7621\n",
       "StreamingMovies_Yes          0.5284   0.1060  4.9866 0.0000  0.3207  0.7361\n",
       "Contract_One year           -0.8078   0.1178 -6.8558 0.0000 -1.0387 -0.5769\n",
       "Contract_Two year           -1.5668   0.1915 -8.1822 0.0000 -1.9421 -1.1915\n",
       "PaperlessBilling_Yes         0.2647   0.0825  3.2100 0.0013  0.1031  0.4263\n",
       "PaymentMethod_Automatic     -0.3158   0.0801 -3.9414 0.0001 -0.4729 -0.1588\n",
       "tenure_19:36                -0.9740   0.1014 -9.6055 0.0000 -1.1727 -0.7752\n",
       "tenure_37:54                -0.9905   0.1204 -8.2233 0.0000 -1.2265 -0.7544\n",
       "tenure_55:72                -1.4900   0.1499 -9.9434 0.0000 -1.7837 -1.1963\n",
       "intercept                   -1.0077   0.1725 -5.8433 0.0000 -1.3457 -0.6697\n",
       "===========================================================================\n",
       "\n",
       "\"\"\""
      ]
     },
     "execution_count": 52,
     "metadata": {},
     "output_type": "execute_result"
    }
   ],
   "source": [
    "variables = tcc[['SeniorCitizen', 'MonthlyCharges', \n",
    "        'Dependents_Yes', 'MultipleLines_Yes',\n",
    "       'InternetService_DSL', 'InternetService_Fiber optic', 'OnlineSecurity_Yes',\n",
    "        'TechSupport_Yes', 'StreamingTV_Yes',\n",
    "       'StreamingMovies_Yes', 'Contract_One year', 'Contract_Two year', 'PaperlessBilling_Yes',\n",
    "       'PaymentMethod_Automatic', 'tenure_19:36',\n",
    "       'tenure_37:54', 'tenure_55:72','intercept']]\n",
    "\n",
    "# Setting the model\n",
    "logistical_regression = sm.Logit(tcc[\"Churn_Yes\"], variables)\n",
    "\n",
    "# Fitting the model\n",
    "fitted_model = logistical_regression.fit()\n",
    "fitted_model.summary2()"
   ]
  },
  {
   "cell_type": "markdown",
   "metadata": {},
   "source": [
    "Let's calculate the Variance Inflation Factor to see if there is multicollinearity among variables. VIF measures how much the behavior (variance) of an independent variable is influenced, or inflated, by its interaction/correlation with the other independent variables."
   ]
  },
  {
   "cell_type": "code",
   "execution_count": 53,
   "metadata": {},
   "outputs": [
    {
     "data": {
      "text/html": [
       "<div>\n",
       "<style scoped>\n",
       "    .dataframe tbody tr th:only-of-type {\n",
       "        vertical-align: middle;\n",
       "    }\n",
       "\n",
       "    .dataframe tbody tr th {\n",
       "        vertical-align: top;\n",
       "    }\n",
       "\n",
       "    .dataframe thead th {\n",
       "        text-align: right;\n",
       "    }\n",
       "</style>\n",
       "<table border=\"1\" class=\"dataframe\">\n",
       "  <thead>\n",
       "    <tr style=\"text-align: right;\">\n",
       "      <th></th>\n",
       "      <th>Variables</th>\n",
       "      <th>VIF Factor</th>\n",
       "    </tr>\n",
       "  </thead>\n",
       "  <tbody>\n",
       "    <tr>\n",
       "      <th>0</th>\n",
       "      <td>SeniorCitizen</td>\n",
       "      <td>1.141306</td>\n",
       "    </tr>\n",
       "    <tr>\n",
       "      <th>1</th>\n",
       "      <td>MonthlyCharges</td>\n",
       "      <td>25.286909</td>\n",
       "    </tr>\n",
       "    <tr>\n",
       "      <th>2</th>\n",
       "      <td>Dependents_Yes</td>\n",
       "      <td>1.120706</td>\n",
       "    </tr>\n",
       "    <tr>\n",
       "      <th>3</th>\n",
       "      <td>MultipleLines_Yes</td>\n",
       "      <td>1.787921</td>\n",
       "    </tr>\n",
       "    <tr>\n",
       "      <th>4</th>\n",
       "      <td>InternetService_DSL</td>\n",
       "      <td>6.189891</td>\n",
       "    </tr>\n",
       "    <tr>\n",
       "      <th>5</th>\n",
       "      <td>InternetService_Fiber optic</td>\n",
       "      <td>22.908178</td>\n",
       "    </tr>\n",
       "    <tr>\n",
       "      <th>6</th>\n",
       "      <td>OnlineSecurity_Yes</td>\n",
       "      <td>1.584837</td>\n",
       "    </tr>\n",
       "    <tr>\n",
       "      <th>7</th>\n",
       "      <td>TechSupport_Yes</td>\n",
       "      <td>1.696872</td>\n",
       "    </tr>\n",
       "    <tr>\n",
       "      <th>8</th>\n",
       "      <td>StreamingTV_Yes</td>\n",
       "      <td>2.336489</td>\n",
       "    </tr>\n",
       "    <tr>\n",
       "      <th>9</th>\n",
       "      <td>StreamingMovies_Yes</td>\n",
       "      <td>2.286928</td>\n",
       "    </tr>\n",
       "    <tr>\n",
       "      <th>10</th>\n",
       "      <td>Contract_One year</td>\n",
       "      <td>1.603940</td>\n",
       "    </tr>\n",
       "    <tr>\n",
       "      <th>11</th>\n",
       "      <td>Contract_Two year</td>\n",
       "      <td>2.505048</td>\n",
       "    </tr>\n",
       "    <tr>\n",
       "      <th>12</th>\n",
       "      <td>PaperlessBilling_Yes</td>\n",
       "      <td>1.203545</td>\n",
       "    </tr>\n",
       "    <tr>\n",
       "      <th>13</th>\n",
       "      <td>PaymentMethod_Automatic</td>\n",
       "      <td>1.200324</td>\n",
       "    </tr>\n",
       "    <tr>\n",
       "      <th>14</th>\n",
       "      <td>tenure_19:36</td>\n",
       "      <td>1.349906</td>\n",
       "    </tr>\n",
       "    <tr>\n",
       "      <th>15</th>\n",
       "      <td>tenure_37:54</td>\n",
       "      <td>1.590885</td>\n",
       "    </tr>\n",
       "    <tr>\n",
       "      <th>16</th>\n",
       "      <td>tenure_55:72</td>\n",
       "      <td>2.717886</td>\n",
       "    </tr>\n",
       "  </tbody>\n",
       "</table>\n",
       "</div>"
      ],
      "text/plain": [
       "                      Variables  VIF Factor\n",
       "0                 SeniorCitizen    1.141306\n",
       "1                MonthlyCharges   25.286909\n",
       "2                Dependents_Yes    1.120706\n",
       "3             MultipleLines_Yes    1.787921\n",
       "4           InternetService_DSL    6.189891\n",
       "5   InternetService_Fiber optic   22.908178\n",
       "6            OnlineSecurity_Yes    1.584837\n",
       "7               TechSupport_Yes    1.696872\n",
       "8               StreamingTV_Yes    2.336489\n",
       "9           StreamingMovies_Yes    2.286928\n",
       "10            Contract_One year    1.603940\n",
       "11            Contract_Two year    2.505048\n",
       "12         PaperlessBilling_Yes    1.203545\n",
       "13      PaymentMethod_Automatic    1.200324\n",
       "14                 tenure_19:36    1.349906\n",
       "15                 tenure_37:54    1.590885\n",
       "16                 tenure_55:72    2.717886"
      ]
     },
     "execution_count": 53,
     "metadata": {},
     "output_type": "execute_result"
    }
   ],
   "source": [
    "vif = pd.DataFrame()\n",
    "vif[\"Variables\"]  = variables.columns[0:-1]\n",
    "vif[\"VIF Factor\"] = [variance_inflation_factor(variables.values, i) for i in range(variables.shape[1]-1)]\n",
    "vif"
   ]
  },
  {
   "cell_type": "markdown",
   "metadata": {},
   "source": [
    "The two InternetService variables have a high VIF, along with MonthlyCharges. A possible explanation is that customers who have the Optic Fiber connection pay a different price compared to those who have a DSL connection. For this reason, it's advisable excluding MonthlyCharges , and then re-run VIF analysis. I should expect a low VIF for both InternetService variables.\n",
    "\n",
    "I am also going to re-insert in our regression OnlineBackup and DeviceProtection, which were removed earlier on, as they might have been affected by multicollinearity."
   ]
  },
  {
   "cell_type": "code",
   "execution_count": 54,
   "metadata": {},
   "outputs": [
    {
     "data": {
      "text/html": [
       "<div>\n",
       "<style scoped>\n",
       "    .dataframe tbody tr th:only-of-type {\n",
       "        vertical-align: middle;\n",
       "    }\n",
       "\n",
       "    .dataframe tbody tr th {\n",
       "        vertical-align: top;\n",
       "    }\n",
       "\n",
       "    .dataframe thead th {\n",
       "        text-align: right;\n",
       "    }\n",
       "</style>\n",
       "<table border=\"1\" class=\"dataframe\">\n",
       "  <thead>\n",
       "    <tr style=\"text-align: right;\">\n",
       "      <th></th>\n",
       "      <th>Variables</th>\n",
       "      <th>VIF Factor</th>\n",
       "    </tr>\n",
       "  </thead>\n",
       "  <tbody>\n",
       "    <tr>\n",
       "      <th>0</th>\n",
       "      <td>SeniorCitizen</td>\n",
       "      <td>1.139493</td>\n",
       "    </tr>\n",
       "    <tr>\n",
       "      <th>1</th>\n",
       "      <td>Dependents_Yes</td>\n",
       "      <td>1.120909</td>\n",
       "    </tr>\n",
       "    <tr>\n",
       "      <th>2</th>\n",
       "      <td>MultipleLines_Yes</td>\n",
       "      <td>1.326987</td>\n",
       "    </tr>\n",
       "    <tr>\n",
       "      <th>3</th>\n",
       "      <td>InternetService_DSL</td>\n",
       "      <td>3.252100</td>\n",
       "    </tr>\n",
       "    <tr>\n",
       "      <th>4</th>\n",
       "      <td>InternetService_Fiber optic</td>\n",
       "      <td>3.917592</td>\n",
       "    </tr>\n",
       "    <tr>\n",
       "      <th>5</th>\n",
       "      <td>OnlineSecurity_Yes</td>\n",
       "      <td>1.388029</td>\n",
       "    </tr>\n",
       "    <tr>\n",
       "      <th>6</th>\n",
       "      <td>TechSupport_Yes</td>\n",
       "      <td>1.474212</td>\n",
       "    </tr>\n",
       "    <tr>\n",
       "      <th>7</th>\n",
       "      <td>OnlineBackup_Yes</td>\n",
       "      <td>1.359113</td>\n",
       "    </tr>\n",
       "    <tr>\n",
       "      <th>8</th>\n",
       "      <td>DeviceProtection_Yes</td>\n",
       "      <td>1.455846</td>\n",
       "    </tr>\n",
       "    <tr>\n",
       "      <th>9</th>\n",
       "      <td>StreamingTV_Yes</td>\n",
       "      <td>1.620769</td>\n",
       "    </tr>\n",
       "    <tr>\n",
       "      <th>10</th>\n",
       "      <td>StreamingMovies_Yes</td>\n",
       "      <td>1.625571</td>\n",
       "    </tr>\n",
       "    <tr>\n",
       "      <th>11</th>\n",
       "      <td>Contract_One year</td>\n",
       "      <td>1.614055</td>\n",
       "    </tr>\n",
       "    <tr>\n",
       "      <th>12</th>\n",
       "      <td>Contract_Two year</td>\n",
       "      <td>2.531031</td>\n",
       "    </tr>\n",
       "    <tr>\n",
       "      <th>13</th>\n",
       "      <td>PaperlessBilling_Yes</td>\n",
       "      <td>1.204387</td>\n",
       "    </tr>\n",
       "    <tr>\n",
       "      <th>14</th>\n",
       "      <td>PaymentMethod_Automatic</td>\n",
       "      <td>1.200824</td>\n",
       "    </tr>\n",
       "    <tr>\n",
       "      <th>15</th>\n",
       "      <td>tenure_19:36</td>\n",
       "      <td>1.357314</td>\n",
       "    </tr>\n",
       "    <tr>\n",
       "      <th>16</th>\n",
       "      <td>tenure_37:54</td>\n",
       "      <td>1.622000</td>\n",
       "    </tr>\n",
       "    <tr>\n",
       "      <th>17</th>\n",
       "      <td>tenure_55:72</td>\n",
       "      <td>2.833328</td>\n",
       "    </tr>\n",
       "  </tbody>\n",
       "</table>\n",
       "</div>"
      ],
      "text/plain": [
       "                      Variables  VIF Factor\n",
       "0                 SeniorCitizen    1.139493\n",
       "1                Dependents_Yes    1.120909\n",
       "2             MultipleLines_Yes    1.326987\n",
       "3           InternetService_DSL    3.252100\n",
       "4   InternetService_Fiber optic    3.917592\n",
       "5            OnlineSecurity_Yes    1.388029\n",
       "6               TechSupport_Yes    1.474212\n",
       "7              OnlineBackup_Yes    1.359113\n",
       "8          DeviceProtection_Yes    1.455846\n",
       "9               StreamingTV_Yes    1.620769\n",
       "10          StreamingMovies_Yes    1.625571\n",
       "11            Contract_One year    1.614055\n",
       "12            Contract_Two year    2.531031\n",
       "13         PaperlessBilling_Yes    1.204387\n",
       "14      PaymentMethod_Automatic    1.200824\n",
       "15                 tenure_19:36    1.357314\n",
       "16                 tenure_37:54    1.622000\n",
       "17                 tenure_55:72    2.833328"
      ]
     },
     "execution_count": 54,
     "metadata": {},
     "output_type": "execute_result"
    }
   ],
   "source": [
    "variables = tcc[['SeniorCitizen',\n",
    "        'Dependents_Yes', 'MultipleLines_Yes',\n",
    "         'InternetService_DSL', 'InternetService_Fiber optic', 'OnlineSecurity_Yes',\n",
    "        'TechSupport_Yes', \"OnlineBackup_Yes\", \"DeviceProtection_Yes\", 'StreamingTV_Yes',\n",
    "       'StreamingMovies_Yes', 'Contract_One year', 'Contract_Two year', 'PaperlessBilling_Yes',\n",
    "       'PaymentMethod_Automatic', 'tenure_19:36',\n",
    "       'tenure_37:54', 'tenure_55:72','intercept']]\n",
    "\n",
    "vif = pd.DataFrame()\n",
    "vif[\"Variables\"]  = variables.columns[0:-1]\n",
    "vif[\"VIF Factor\"] = [variance_inflation_factor(variables.values, i) for i in range(variables.shape[1]-1)]\n",
    "vif"
   ]
  },
  {
   "cell_type": "markdown",
   "metadata": {},
   "source": [
    "Indeed, data proves that MonthlyCharges greatly depend on InternetService.\n",
    "\n",
    "Now, let's just run the logistic regression as before, this time without MonthlyCharges."
   ]
  },
  {
   "cell_type": "code",
   "execution_count": 55,
   "metadata": {},
   "outputs": [
    {
     "name": "stdout",
     "output_type": "stream",
     "text": [
      "Optimization terminated successfully.\n",
      "         Current function value: inf\n",
      "         Iterations 8\n"
     ]
    },
    {
     "data": {
      "text/html": [
       "<table class=\"simpletable\">\n",
       "<tr>\n",
       "        <td>Model:</td>              <td>Logit</td>      <td>Pseudo R-squared:</td>   <td>inf</td> \n",
       "</tr>\n",
       "<tr>\n",
       "  <td>Dependent Variable:</td>     <td>Churn_Yes</td>          <td>AIC:</td>          <td>inf</td> \n",
       "</tr>\n",
       "<tr>\n",
       "         <td>Date:</td>        <td>2021-08-23 18:41</td>       <td>BIC:</td>          <td>inf</td> \n",
       "</tr>\n",
       "<tr>\n",
       "   <td>No. Observations:</td>        <td>5631</td>        <td>Log-Likelihood:</td>   <td>-inf</td> \n",
       "</tr>\n",
       "<tr>\n",
       "       <td>Df Model:</td>             <td>18</td>            <td>LL-Null:</td>      <td>0.0000</td>\n",
       "</tr>\n",
       "<tr>\n",
       "     <td>Df Residuals:</td>          <td>5612</td>         <td>LLR p-value:</td>    <td>1.0000</td>\n",
       "</tr>\n",
       "<tr>\n",
       "      <td>Converged:</td>           <td>1.0000</td>           <td>Scale:</td>       <td>1.0000</td>\n",
       "</tr>\n",
       "<tr>\n",
       "    <td>No. Iterations:</td>        <td>8.0000</td>              <td></td>             <td></td>   \n",
       "</tr>\n",
       "</table>\n",
       "<table class=\"simpletable\">\n",
       "<tr>\n",
       "               <td></td>                <th>Coef.</th>  <th>Std.Err.</th>     <th>z</th>     <th>P>|z|</th> <th>[0.025</th>  <th>0.975]</th> \n",
       "</tr>\n",
       "<tr>\n",
       "  <th>SeniorCitizen</th>               <td>0.2457</td>   <td>0.0923</td>   <td>2.6613</td>  <td>0.0078</td> <td>0.0648</td>  <td>0.4267</td> \n",
       "</tr>\n",
       "<tr>\n",
       "  <th>Dependents_Yes</th>              <td>-0.1601</td>  <td>0.0907</td>   <td>-1.7650</td> <td>0.0776</td> <td>-0.3379</td> <td>0.0177</td> \n",
       "</tr>\n",
       "<tr>\n",
       "  <th>MultipleLines_Yes</th>           <td>0.1341</td>   <td>0.0844</td>   <td>1.5894</td>  <td>0.1120</td> <td>-0.0313</td> <td>0.2995</td> \n",
       "</tr>\n",
       "<tr>\n",
       "  <th>InternetService_DSL</th>         <td>1.0574</td>   <td>0.1471</td>   <td>7.1887</td>  <td>0.0000</td> <td>0.7691</td>  <td>1.3457</td> \n",
       "</tr>\n",
       "<tr>\n",
       "  <th>InternetService_Fiber optic</th> <td>1.9217</td>   <td>0.1503</td>   <td>12.7860</td> <td>0.0000</td> <td>1.6271</td>  <td>2.2163</td> \n",
       "</tr>\n",
       "<tr>\n",
       "  <th>OnlineSecurity_Yes</th>          <td>-0.4109</td>  <td>0.0927</td>   <td>-4.4338</td> <td>0.0000</td> <td>-0.5925</td> <td>-0.2293</td>\n",
       "</tr>\n",
       "<tr>\n",
       "  <th>TechSupport_Yes</th>             <td>-0.3244</td>  <td>0.0941</td>   <td>-3.4455</td> <td>0.0006</td> <td>-0.5089</td> <td>-0.1398</td>\n",
       "</tr>\n",
       "<tr>\n",
       "  <th>OnlineBackup_Yes</th>            <td>-0.1922</td>  <td>0.0833</td>   <td>-2.3068</td> <td>0.0211</td> <td>-0.3556</td> <td>-0.0289</td>\n",
       "</tr>\n",
       "<tr>\n",
       "  <th>DeviceProtection_Yes</th>        <td>-0.0582</td>  <td>0.0858</td>   <td>-0.6779</td> <td>0.4979</td> <td>-0.2264</td> <td>0.1100</td> \n",
       "</tr>\n",
       "<tr>\n",
       "  <th>StreamingTV_Yes</th>             <td>0.2862</td>   <td>0.0876</td>   <td>3.2679</td>  <td>0.0011</td> <td>0.1145</td>  <td>0.4578</td> \n",
       "</tr>\n",
       "<tr>\n",
       "  <th>StreamingMovies_Yes</th>         <td>0.2645</td>   <td>0.0871</td>   <td>3.0357</td>  <td>0.0024</td> <td>0.0937</td>  <td>0.4353</td> \n",
       "</tr>\n",
       "<tr>\n",
       "  <th>Contract_One year</th>           <td>-0.8245</td>  <td>0.1183</td>   <td>-6.9718</td> <td>0.0000</td> <td>-1.0562</td> <td>-0.5927</td>\n",
       "</tr>\n",
       "<tr>\n",
       "  <th>Contract_Two year</th>           <td>-1.5799</td>  <td>0.1924</td>   <td>-8.2101</td> <td>0.0000</td> <td>-1.9570</td> <td>-1.2027</td>\n",
       "</tr>\n",
       "<tr>\n",
       "  <th>PaperlessBilling_Yes</th>        <td>0.2720</td>   <td>0.0823</td>   <td>3.3053</td>  <td>0.0009</td> <td>0.1107</td>  <td>0.4333</td> \n",
       "</tr>\n",
       "<tr>\n",
       "  <th>PaymentMethod_Automatic</th>     <td>-0.3223</td>  <td>0.0800</td>   <td>-4.0268</td> <td>0.0001</td> <td>-0.4791</td> <td>-0.1654</td>\n",
       "</tr>\n",
       "<tr>\n",
       "  <th>tenure_19:36</th>                <td>-0.9548</td>  <td>0.1016</td>   <td>-9.3969</td> <td>0.0000</td> <td>-1.1539</td> <td>-0.7556</td>\n",
       "</tr>\n",
       "<tr>\n",
       "  <th>tenure_37:54</th>                <td>-0.9516</td>  <td>0.1224</td>   <td>-7.7762</td> <td>0.0000</td> <td>-1.1915</td> <td>-0.7118</td>\n",
       "</tr>\n",
       "<tr>\n",
       "  <th>tenure_55:72</th>                <td>-1.4433</td>  <td>0.1539</td>   <td>-9.3793</td> <td>0.0000</td> <td>-1.7449</td> <td>-1.1417</td>\n",
       "</tr>\n",
       "<tr>\n",
       "  <th>intercept</th>                   <td>-1.5418</td>  <td>0.1282</td>  <td>-12.0253</td> <td>0.0000</td> <td>-1.7931</td> <td>-1.2905</td>\n",
       "</tr>\n",
       "</table>"
      ],
      "text/plain": [
       "<class 'statsmodels.iolib.summary2.Summary'>\n",
       "\"\"\"\n",
       "                               Results: Logit\n",
       "============================================================================\n",
       "Model:                   Logit                 Pseudo R-squared:      inf   \n",
       "Dependent Variable:      Churn_Yes             AIC:                   inf   \n",
       "Date:                    2021-08-23 18:41      BIC:                   inf   \n",
       "No. Observations:        5631                  Log-Likelihood:        -inf  \n",
       "Df Model:                18                    LL-Null:               0.0000\n",
       "Df Residuals:            5612                  LLR p-value:           1.0000\n",
       "Converged:               1.0000                Scale:                 1.0000\n",
       "No. Iterations:          8.0000                                             \n",
       "----------------------------------------------------------------------------\n",
       "                             Coef.  Std.Err.    z     P>|z|   [0.025  0.975]\n",
       "----------------------------------------------------------------------------\n",
       "SeniorCitizen                0.2457   0.0923   2.6613 0.0078  0.0648  0.4267\n",
       "Dependents_Yes              -0.1601   0.0907  -1.7650 0.0776 -0.3379  0.0177\n",
       "MultipleLines_Yes            0.1341   0.0844   1.5894 0.1120 -0.0313  0.2995\n",
       "InternetService_DSL          1.0574   0.1471   7.1887 0.0000  0.7691  1.3457\n",
       "InternetService_Fiber optic  1.9217   0.1503  12.7860 0.0000  1.6271  2.2163\n",
       "OnlineSecurity_Yes          -0.4109   0.0927  -4.4338 0.0000 -0.5925 -0.2293\n",
       "TechSupport_Yes             -0.3244   0.0941  -3.4455 0.0006 -0.5089 -0.1398\n",
       "OnlineBackup_Yes            -0.1922   0.0833  -2.3068 0.0211 -0.3556 -0.0289\n",
       "DeviceProtection_Yes        -0.0582   0.0858  -0.6779 0.4979 -0.2264  0.1100\n",
       "StreamingTV_Yes              0.2862   0.0876   3.2679 0.0011  0.1145  0.4578\n",
       "StreamingMovies_Yes          0.2645   0.0871   3.0357 0.0024  0.0937  0.4353\n",
       "Contract_One year           -0.8245   0.1183  -6.9718 0.0000 -1.0562 -0.5927\n",
       "Contract_Two year           -1.5799   0.1924  -8.2101 0.0000 -1.9570 -1.2027\n",
       "PaperlessBilling_Yes         0.2720   0.0823   3.3053 0.0009  0.1107  0.4333\n",
       "PaymentMethod_Automatic     -0.3223   0.0800  -4.0268 0.0001 -0.4791 -0.1654\n",
       "tenure_19:36                -0.9548   0.1016  -9.3969 0.0000 -1.1539 -0.7556\n",
       "tenure_37:54                -0.9516   0.1224  -7.7762 0.0000 -1.1915 -0.7118\n",
       "tenure_55:72                -1.4433   0.1539  -9.3793 0.0000 -1.7449 -1.1417\n",
       "intercept                   -1.5418   0.1282 -12.0253 0.0000 -1.7931 -1.2905\n",
       "============================================================================\n",
       "\n",
       "\"\"\""
      ]
     },
     "execution_count": 55,
     "metadata": {},
     "output_type": "execute_result"
    }
   ],
   "source": [
    "# Setting the model\n",
    "logistical_regression = sm.Logit(tcc[\"Churn_Yes\"], variables)\n",
    "\n",
    "# Fitting the model\n",
    "fitted_model = logistical_regression.fit()\n",
    "fitted_model.summary2()"
   ]
  },
  {
   "cell_type": "markdown",
   "metadata": {},
   "source": [
    "OnlineBackup is now significant, whereas DeviceProtection stays unsignificant. So the latter can be removed from the model."
   ]
  },
  {
   "cell_type": "code",
   "execution_count": 56,
   "metadata": {},
   "outputs": [
    {
     "name": "stdout",
     "output_type": "stream",
     "text": [
      "Optimization terminated successfully.\n",
      "         Current function value: inf\n",
      "         Iterations 8\n"
     ]
    },
    {
     "data": {
      "text/html": [
       "<table class=\"simpletable\">\n",
       "<tr>\n",
       "        <td>Model:</td>              <td>Logit</td>      <td>Pseudo R-squared:</td>   <td>inf</td> \n",
       "</tr>\n",
       "<tr>\n",
       "  <td>Dependent Variable:</td>     <td>Churn_Yes</td>          <td>AIC:</td>          <td>inf</td> \n",
       "</tr>\n",
       "<tr>\n",
       "         <td>Date:</td>        <td>2021-08-23 18:41</td>       <td>BIC:</td>          <td>inf</td> \n",
       "</tr>\n",
       "<tr>\n",
       "   <td>No. Observations:</td>        <td>5631</td>        <td>Log-Likelihood:</td>   <td>-inf</td> \n",
       "</tr>\n",
       "<tr>\n",
       "       <td>Df Model:</td>             <td>17</td>            <td>LL-Null:</td>      <td>0.0000</td>\n",
       "</tr>\n",
       "<tr>\n",
       "     <td>Df Residuals:</td>          <td>5613</td>         <td>LLR p-value:</td>    <td>1.0000</td>\n",
       "</tr>\n",
       "<tr>\n",
       "      <td>Converged:</td>           <td>1.0000</td>           <td>Scale:</td>       <td>1.0000</td>\n",
       "</tr>\n",
       "<tr>\n",
       "    <td>No. Iterations:</td>        <td>8.0000</td>              <td></td>             <td></td>   \n",
       "</tr>\n",
       "</table>\n",
       "<table class=\"simpletable\">\n",
       "<tr>\n",
       "               <td></td>                <th>Coef.</th>  <th>Std.Err.</th>     <th>z</th>     <th>P>|z|</th> <th>[0.025</th>  <th>0.975]</th> \n",
       "</tr>\n",
       "<tr>\n",
       "  <th>SeniorCitizen</th>               <td>0.2452</td>   <td>0.0923</td>   <td>2.6564</td>  <td>0.0079</td> <td>0.0643</td>  <td>0.4261</td> \n",
       "</tr>\n",
       "<tr>\n",
       "  <th>Dependents_Yes</th>              <td>-0.1603</td>  <td>0.0907</td>   <td>-1.7674</td> <td>0.0772</td> <td>-0.3381</td> <td>0.0175</td> \n",
       "</tr>\n",
       "<tr>\n",
       "  <th>MultipleLines_Yes</th>           <td>0.1333</td>   <td>0.0844</td>   <td>1.5798</td>  <td>0.1142</td> <td>-0.0321</td> <td>0.2986</td> \n",
       "</tr>\n",
       "<tr>\n",
       "  <th>InternetService_DSL</th>         <td>1.0461</td>   <td>0.1461</td>   <td>7.1582</td>  <td>0.0000</td> <td>0.7596</td>  <td>1.3325</td> \n",
       "</tr>\n",
       "<tr>\n",
       "  <th>InternetService_Fiber optic</th> <td>1.9091</td>   <td>0.1491</td>   <td>12.8014</td> <td>0.0000</td> <td>1.6168</td>  <td>2.2014</td> \n",
       "</tr>\n",
       "<tr>\n",
       "  <th>OnlineSecurity_Yes</th>          <td>-0.4100</td>  <td>0.0927</td>   <td>-4.4246</td> <td>0.0000</td> <td>-0.5916</td> <td>-0.2284</td>\n",
       "</tr>\n",
       "<tr>\n",
       "  <th>TechSupport_Yes</th>             <td>-0.3280</td>  <td>0.0940</td>   <td>-3.4894</td> <td>0.0005</td> <td>-0.5122</td> <td>-0.1437</td>\n",
       "</tr>\n",
       "<tr>\n",
       "  <th>OnlineBackup_Yes</th>            <td>-0.1933</td>  <td>0.0833</td>   <td>-2.3206</td> <td>0.0203</td> <td>-0.3566</td> <td>-0.0300</td>\n",
       "</tr>\n",
       "<tr>\n",
       "  <th>StreamingTV_Yes</th>             <td>0.2801</td>   <td>0.0871</td>   <td>3.2166</td>  <td>0.0013</td> <td>0.1094</td>  <td>0.4508</td> \n",
       "</tr>\n",
       "<tr>\n",
       "  <th>StreamingMovies_Yes</th>         <td>0.2576</td>   <td>0.0865</td>   <td>2.9779</td>  <td>0.0029</td> <td>0.0881</td>  <td>0.4272</td> \n",
       "</tr>\n",
       "<tr>\n",
       "  <th>Contract_One year</th>           <td>-0.8316</td>  <td>0.1178</td>   <td>-7.0587</td> <td>0.0000</td> <td>-1.0625</td> <td>-0.6007</td>\n",
       "</tr>\n",
       "<tr>\n",
       "  <th>Contract_Two year</th>           <td>-1.5902</td>  <td>0.1919</td>   <td>-8.2879</td> <td>0.0000</td> <td>-1.9663</td> <td>-1.2142</td>\n",
       "</tr>\n",
       "<tr>\n",
       "  <th>PaperlessBilling_Yes</th>        <td>0.2733</td>   <td>0.0823</td>   <td>3.3213</td>  <td>0.0009</td> <td>0.1120</td>  <td>0.4345</td> \n",
       "</tr>\n",
       "<tr>\n",
       "  <th>PaymentMethod_Automatic</th>     <td>-0.3243</td>  <td>0.0800</td>   <td>-4.0548</td> <td>0.0001</td> <td>-0.4810</td> <td>-0.1675</td>\n",
       "</tr>\n",
       "<tr>\n",
       "  <th>tenure_19:36</th>                <td>-0.9579</td>  <td>0.1015</td>   <td>-9.4395</td> <td>0.0000</td> <td>-1.1569</td> <td>-0.7590</td>\n",
       "</tr>\n",
       "<tr>\n",
       "  <th>tenure_37:54</th>                <td>-0.9594</td>  <td>0.1219</td>   <td>-7.8725</td> <td>0.0000</td> <td>-1.1982</td> <td>-0.7205</td>\n",
       "</tr>\n",
       "<tr>\n",
       "  <th>tenure_55:72</th>                <td>-1.4537</td>  <td>0.1532</td>   <td>-9.4913</td> <td>0.0000</td> <td>-1.7539</td> <td>-1.1535</td>\n",
       "</tr>\n",
       "<tr>\n",
       "  <th>intercept</th>                   <td>-1.5381</td>  <td>0.1281</td>  <td>-12.0089</td> <td>0.0000</td> <td>-1.7891</td> <td>-1.2870</td>\n",
       "</tr>\n",
       "</table>"
      ],
      "text/plain": [
       "<class 'statsmodels.iolib.summary2.Summary'>\n",
       "\"\"\"\n",
       "                               Results: Logit\n",
       "============================================================================\n",
       "Model:                   Logit                 Pseudo R-squared:      inf   \n",
       "Dependent Variable:      Churn_Yes             AIC:                   inf   \n",
       "Date:                    2021-08-23 18:41      BIC:                   inf   \n",
       "No. Observations:        5631                  Log-Likelihood:        -inf  \n",
       "Df Model:                17                    LL-Null:               0.0000\n",
       "Df Residuals:            5613                  LLR p-value:           1.0000\n",
       "Converged:               1.0000                Scale:                 1.0000\n",
       "No. Iterations:          8.0000                                             \n",
       "----------------------------------------------------------------------------\n",
       "                             Coef.  Std.Err.    z     P>|z|   [0.025  0.975]\n",
       "----------------------------------------------------------------------------\n",
       "SeniorCitizen                0.2452   0.0923   2.6564 0.0079  0.0643  0.4261\n",
       "Dependents_Yes              -0.1603   0.0907  -1.7674 0.0772 -0.3381  0.0175\n",
       "MultipleLines_Yes            0.1333   0.0844   1.5798 0.1142 -0.0321  0.2986\n",
       "InternetService_DSL          1.0461   0.1461   7.1582 0.0000  0.7596  1.3325\n",
       "InternetService_Fiber optic  1.9091   0.1491  12.8014 0.0000  1.6168  2.2014\n",
       "OnlineSecurity_Yes          -0.4100   0.0927  -4.4246 0.0000 -0.5916 -0.2284\n",
       "TechSupport_Yes             -0.3280   0.0940  -3.4894 0.0005 -0.5122 -0.1437\n",
       "OnlineBackup_Yes            -0.1933   0.0833  -2.3206 0.0203 -0.3566 -0.0300\n",
       "StreamingTV_Yes              0.2801   0.0871   3.2166 0.0013  0.1094  0.4508\n",
       "StreamingMovies_Yes          0.2576   0.0865   2.9779 0.0029  0.0881  0.4272\n",
       "Contract_One year           -0.8316   0.1178  -7.0587 0.0000 -1.0625 -0.6007\n",
       "Contract_Two year           -1.5902   0.1919  -8.2879 0.0000 -1.9663 -1.2142\n",
       "PaperlessBilling_Yes         0.2733   0.0823   3.3213 0.0009  0.1120  0.4345\n",
       "PaymentMethod_Automatic     -0.3243   0.0800  -4.0548 0.0001 -0.4810 -0.1675\n",
       "tenure_19:36                -0.9579   0.1015  -9.4395 0.0000 -1.1569 -0.7590\n",
       "tenure_37:54                -0.9594   0.1219  -7.8725 0.0000 -1.1982 -0.7205\n",
       "tenure_55:72                -1.4537   0.1532  -9.4913 0.0000 -1.7539 -1.1535\n",
       "intercept                   -1.5381   0.1281 -12.0089 0.0000 -1.7891 -1.2870\n",
       "============================================================================\n",
       "\n",
       "\"\"\""
      ]
     },
     "execution_count": 56,
     "metadata": {},
     "output_type": "execute_result"
    }
   ],
   "source": [
    "variables = tcc[['SeniorCitizen',\n",
    "        'Dependents_Yes', 'MultipleLines_Yes',\n",
    "         'InternetService_DSL', 'InternetService_Fiber optic', 'OnlineSecurity_Yes',\n",
    "        'TechSupport_Yes', \"OnlineBackup_Yes\", 'StreamingTV_Yes',\n",
    "       'StreamingMovies_Yes', 'Contract_One year', 'Contract_Two year', 'PaperlessBilling_Yes',\n",
    "       'PaymentMethod_Automatic', 'tenure_19:36',\n",
    "       'tenure_37:54', 'tenure_55:72','intercept']]\n",
    "\n",
    "# Setting the model\n",
    "logistical_regression = sm.Logit(tcc[\"Churn_Yes\"], variables)\n",
    "\n",
    "# Fitting the model\n",
    "fitted_model = logistical_regression.fit()\n",
    "fitted_model.summary2()"
   ]
  },
  {
   "cell_type": "markdown",
   "metadata": {},
   "source": [
    "**THIS IS THE FINAL MODEL.** Let's get the marginal effect of the variables in order to be able to easily interpret them."
   ]
  },
  {
   "cell_type": "code",
   "execution_count": 57,
   "metadata": {},
   "outputs": [
    {
     "data": {
      "text/html": [
       "<table class=\"simpletable\">\n",
       "<caption>Logit Marginal Effects</caption>\n",
       "<tr>\n",
       "  <th>Dep. Variable:</th> <td>Churn_Yes</td>\n",
       "</tr>\n",
       "<tr>\n",
       "  <th>Method:</th>          <td>dydx</td>   \n",
       "</tr>\n",
       "<tr>\n",
       "  <th>At:</th>             <td>overall</td> \n",
       "</tr>\n",
       "</table>\n",
       "<table class=\"simpletable\">\n",
       "<tr>\n",
       "               <th></th>                  <th>dy/dx</th>    <th>std err</th>      <th>z</th>      <th>P>|z|</th>  <th>[0.025</th>    <th>0.975]</th>  \n",
       "</tr>\n",
       "<tr>\n",
       "  <th>SeniorCitizen</th>               <td>    0.0341</td> <td>    0.013</td> <td>    2.664</td> <td> 0.008</td> <td>    0.009</td> <td>    0.059</td>\n",
       "</tr>\n",
       "<tr>\n",
       "  <th>Dependents_Yes</th>              <td>   -0.0223</td> <td>    0.013</td> <td>   -1.769</td> <td> 0.077</td> <td>   -0.047</td> <td>    0.002</td>\n",
       "</tr>\n",
       "<tr>\n",
       "  <th>MultipleLines_Yes</th>           <td>    0.0185</td> <td>    0.012</td> <td>    1.581</td> <td> 0.114</td> <td>   -0.004</td> <td>    0.042</td>\n",
       "</tr>\n",
       "<tr>\n",
       "  <th>InternetService_DSL</th>         <td>    0.1455</td> <td>    0.020</td> <td>    7.272</td> <td> 0.000</td> <td>    0.106</td> <td>    0.185</td>\n",
       "</tr>\n",
       "<tr>\n",
       "  <th>InternetService_Fiber optic</th> <td>    0.2655</td> <td>    0.020</td> <td>   13.583</td> <td> 0.000</td> <td>    0.227</td> <td>    0.304</td>\n",
       "</tr>\n",
       "<tr>\n",
       "  <th>OnlineSecurity_Yes</th>          <td>   -0.0570</td> <td>    0.013</td> <td>   -4.456</td> <td> 0.000</td> <td>   -0.082</td> <td>   -0.032</td>\n",
       "</tr>\n",
       "<tr>\n",
       "  <th>TechSupport_Yes</th>             <td>   -0.0456</td> <td>    0.013</td> <td>   -3.506</td> <td> 0.000</td> <td>   -0.071</td> <td>   -0.020</td>\n",
       "</tr>\n",
       "<tr>\n",
       "  <th>OnlineBackup_Yes</th>            <td>   -0.0269</td> <td>    0.012</td> <td>   -2.326</td> <td> 0.020</td> <td>   -0.050</td> <td>   -0.004</td>\n",
       "</tr>\n",
       "<tr>\n",
       "  <th>StreamingTV_Yes</th>             <td>    0.0390</td> <td>    0.012</td> <td>    3.228</td> <td> 0.001</td> <td>    0.015</td> <td>    0.063</td>\n",
       "</tr>\n",
       "<tr>\n",
       "  <th>StreamingMovies_Yes</th>         <td>    0.0358</td> <td>    0.012</td> <td>    2.987</td> <td> 0.003</td> <td>    0.012</td> <td>    0.059</td>\n",
       "</tr>\n",
       "<tr>\n",
       "  <th>Contract_One year</th>           <td>   -0.1157</td> <td>    0.016</td> <td>   -7.157</td> <td> 0.000</td> <td>   -0.147</td> <td>   -0.084</td>\n",
       "</tr>\n",
       "<tr>\n",
       "  <th>Contract_Two year</th>           <td>   -0.2212</td> <td>    0.027</td> <td>   -8.336</td> <td> 0.000</td> <td>   -0.273</td> <td>   -0.169</td>\n",
       "</tr>\n",
       "<tr>\n",
       "  <th>PaperlessBilling_Yes</th>        <td>    0.0380</td> <td>    0.011</td> <td>    3.335</td> <td> 0.001</td> <td>    0.016</td> <td>    0.060</td>\n",
       "</tr>\n",
       "<tr>\n",
       "  <th>PaymentMethod_Automatic</th>     <td>   -0.0451</td> <td>    0.011</td> <td>   -4.078</td> <td> 0.000</td> <td>   -0.067</td> <td>   -0.023</td>\n",
       "</tr>\n",
       "<tr>\n",
       "  <th>tenure_19:36</th>                <td>   -0.1332</td> <td>    0.014</td> <td>   -9.770</td> <td> 0.000</td> <td>   -0.160</td> <td>   -0.107</td>\n",
       "</tr>\n",
       "<tr>\n",
       "  <th>tenure_37:54</th>                <td>   -0.1334</td> <td>    0.017</td> <td>   -8.072</td> <td> 0.000</td> <td>   -0.166</td> <td>   -0.101</td>\n",
       "</tr>\n",
       "<tr>\n",
       "  <th>tenure_55:72</th>                <td>   -0.2022</td> <td>    0.021</td> <td>   -9.830</td> <td> 0.000</td> <td>   -0.243</td> <td>   -0.162</td>\n",
       "</tr>\n",
       "</table>"
      ],
      "text/plain": [
       "<class 'statsmodels.iolib.summary.Summary'>\n",
       "\"\"\"\n",
       "        Logit Marginal Effects       \n",
       "=====================================\n",
       "Dep. Variable:              Churn_Yes\n",
       "Method:                          dydx\n",
       "At:                           overall\n",
       "===============================================================================================\n",
       "                                 dy/dx    std err          z      P>|z|      [0.025      0.975]\n",
       "-----------------------------------------------------------------------------------------------\n",
       "SeniorCitizen                   0.0341      0.013      2.664      0.008       0.009       0.059\n",
       "Dependents_Yes                 -0.0223      0.013     -1.769      0.077      -0.047       0.002\n",
       "MultipleLines_Yes               0.0185      0.012      1.581      0.114      -0.004       0.042\n",
       "InternetService_DSL             0.1455      0.020      7.272      0.000       0.106       0.185\n",
       "InternetService_Fiber optic     0.2655      0.020     13.583      0.000       0.227       0.304\n",
       "OnlineSecurity_Yes             -0.0570      0.013     -4.456      0.000      -0.082      -0.032\n",
       "TechSupport_Yes                -0.0456      0.013     -3.506      0.000      -0.071      -0.020\n",
       "OnlineBackup_Yes               -0.0269      0.012     -2.326      0.020      -0.050      -0.004\n",
       "StreamingTV_Yes                 0.0390      0.012      3.228      0.001       0.015       0.063\n",
       "StreamingMovies_Yes             0.0358      0.012      2.987      0.003       0.012       0.059\n",
       "Contract_One year              -0.1157      0.016     -7.157      0.000      -0.147      -0.084\n",
       "Contract_Two year              -0.2212      0.027     -8.336      0.000      -0.273      -0.169\n",
       "PaperlessBilling_Yes            0.0380      0.011      3.335      0.001       0.016       0.060\n",
       "PaymentMethod_Automatic        -0.0451      0.011     -4.078      0.000      -0.067      -0.023\n",
       "tenure_19:36                   -0.1332      0.014     -9.770      0.000      -0.160      -0.107\n",
       "tenure_37:54                   -0.1334      0.017     -8.072      0.000      -0.166      -0.101\n",
       "tenure_55:72                   -0.2022      0.021     -9.830      0.000      -0.243      -0.162\n",
       "===============================================================================================\n",
       "\"\"\""
      ]
     },
     "execution_count": 57,
     "metadata": {},
     "output_type": "execute_result"
    }
   ],
   "source": [
    "margeff = fitted_model.get_margeff()\n",
    "margeff.summary()"
   ]
  },
  {
   "cell_type": "markdown",
   "metadata": {},
   "source": [
    "Results: \n",
    "- Both _InternetService_ variables present a positive impact on the churn rate, with Optic Fiber's being almost twice the of DSL's. It might be a good idea to consider discontinuing at least the Optic Fiber service or improving it.\n",
    "- Senior customers tend to churn more easily.\n",
    "- Additional Internet Services (_OnlineSecurity_, _TechSupport_, _OnlineBackup_) negatively affect Churn Rate and are therefore a potential way to decrease it in a managerial setting. _DeviceProtection_ on the other hand is inconsistent with plottings, and it appears that its effect is largely explained by the other variables of the model. _StreamingMovies_ and _StreamingTV_ are significant and positively affect the Churn Rate: the management might consider stop offering those services."
   ]
  },
  {
   "cell_type": "markdown",
   "metadata": {},
   "source": [
    "---"
   ]
  },
  {
   "cell_type": "markdown",
   "metadata": {},
   "source": [
    "# Model evaluation"
   ]
  },
  {
   "cell_type": "markdown",
   "metadata": {},
   "source": [
    "Let's fit this logistic regression to the test data to evaluate the effectiveness of the final model."
   ]
  },
  {
   "cell_type": "code",
   "execution_count": 58,
   "metadata": {},
   "outputs": [],
   "source": [
    "test = fill_missing(test)\n",
    "test = get_dummy(test)\n",
    "test = transform_payment(test)\n",
    "test = cluster(test)"
   ]
  },
  {
   "cell_type": "code",
   "execution_count": 59,
   "metadata": {},
   "outputs": [],
   "source": [
    "test[\"intercept\"] = 1.0\n",
    "\n",
    "variables = test[['SeniorCitizen',\n",
    "        'Dependents_Yes', 'MultipleLines_Yes',\n",
    "         'InternetService_DSL', 'InternetService_Fiber optic', 'OnlineSecurity_Yes',\n",
    "        'TechSupport_Yes', \"OnlineBackup_Yes\", 'StreamingTV_Yes',\n",
    "       'StreamingMovies_Yes', 'Contract_One year', 'Contract_Two year', 'PaperlessBilling_Yes',\n",
    "       'PaymentMethod_Automatic', 'tenure_19:36',\n",
    "       'tenure_37:54', 'tenure_55:72','intercept']]\n",
    "\n",
    "y = test.Churn_Yes"
   ]
  },
  {
   "cell_type": "code",
   "execution_count": 60,
   "metadata": {},
   "outputs": [],
   "source": [
    "model_predict = fitted_model.predict(variables)"
   ]
  },
  {
   "cell_type": "markdown",
   "metadata": {},
   "source": [
    "Let's measure the goodness of the model by building the confusion matrix."
   ]
  },
  {
   "cell_type": "code",
   "execution_count": 61,
   "metadata": {},
   "outputs": [
    {
     "data": {
      "image/png": "[encoded data removed]",
      "text/plain": [
       "<Figure size 576x576 with 2 Axes>"
      ]
     },
     "metadata": {},
     "output_type": "display_data"
    }
   ],
   "source": [
    "pred = model_predict.copy()\n",
    "pred[pred >= 0.5] = 1\n",
    "pred[pred < 0.5] = 0\n",
    "\n",
    "cm = skplt.metrics.confusion_matrix(y_true=y, y_pred=pred)\n",
    "plot_confusion_matrix(cm, figsize=(8, 8), colorbar=True);"
   ]
  },
  {
   "cell_type": "markdown",
   "metadata": {},
   "source": [
    "Now plot the Kolmogorov–Smirnov statistics in order to set a better probability threshold for the prediction."
   ]
  },
  {
   "cell_type": "code",
   "execution_count": 62,
   "metadata": {},
   "outputs": [
    {
     "data": {
      "image/png": "[encoded data removed]",
      "text/plain": [
       "<Figure size 360x360 with 1 Axes>"
      ]
     },
     "metadata": {},
     "output_type": "display_data"
    }
   ],
   "source": [
    "# Compute the predicted probability\n",
    "proba = np.array([ 1 - model_predict, model_predict ])\n",
    "\n",
    "skplt.metrics.plot_ks_statistic(test[\"Churn_Yes\"], proba.T, figsize=(5, 5));"
   ]
  },
  {
   "cell_type": "markdown",
   "metadata": {},
   "source": [
    "0.326 is going to be the optimal threshold.  \n",
    "**BUSINESS CASE SOLUTION:** consider as potential churners all the observations with a predicted probability of churning greater than 0.326."
   ]
  },
  {
   "cell_type": "code",
   "execution_count": 63,
   "metadata": {},
   "outputs": [
    {
     "data": {
      "image/png": "[encoded data removed]",
      "text/plain": [
       "<Figure size 576x576 with 2 Axes>"
      ]
     },
     "metadata": {},
     "output_type": "display_data"
    }
   ],
   "source": [
    "pred = model_predict.copy()\n",
    "pred[pred >= 0.326] = 1\n",
    "pred[pred < 0.326] = 0\n",
    "\n",
    "cm = skplt.metrics.confusion_matrix(y_true=y, y_pred=pred)\n",
    "plot_confusion_matrix(cm, figsize=(8, 8), colorbar=True);"
   ]
  },
  {
   "cell_type": "markdown",
   "metadata": {},
   "source": [
    "The model now predicts a higher number of potential churners, in order to optimize the true positive rate and false positive rate."
   ]
  },
  {
   "cell_type": "code",
   "execution_count": 64,
   "metadata": {},
   "outputs": [
    {
     "data": {
      "image/png": "[encoded data removed]",
      "text/plain": [
       "<Figure size 360x360 with 1 Axes>"
      ]
     },
     "metadata": {},
     "output_type": "display_data"
    }
   ],
   "source": [
    "# Lift Chart\n",
    "skplt.metrics.plot_lift_curve(test[\"Churn_Yes\"], proba.T, figsize=(5, 5));"
   ]
  },
  {
   "cell_type": "code",
   "execution_count": 65,
   "metadata": {},
   "outputs": [
    {
     "data": {
      "image/png": "[encoded data removed]",
      "text/plain": [
       "<Figure size 360x360 with 1 Axes>"
      ]
     },
     "metadata": {},
     "output_type": "display_data"
    }
   ],
   "source": [
    "# Gain Chart\n",
    "skplt.metrics.plot_cumulative_gain(test[\"Churn_Yes\"], proba.T, figsize=(5, 5));"
   ]
  },
  {
   "cell_type": "markdown",
   "metadata": {},
   "source": [
    "# Resampling methods"
   ]
  },
  {
   "cell_type": "markdown",
   "metadata": {},
   "source": [
    "As a final part, I are going to perform a nonparametric bootstrap to assess the precision of the estimates."
   ]
  },
  {
   "cell_type": "code",
   "execution_count": 66,
   "metadata": {},
   "outputs": [
    {
     "data": {
      "image/png": "[encoded data removed]",
      "text/plain": [
       "<Figure size 432x288 with 1 Axes>"
      ]
     },
     "metadata": {},
     "output_type": "display_data"
    }
   ],
   "source": [
    "def bootstrap_replicate(data, function):\n",
    "    bs_sample = np.random.choice(data, len(data))\n",
    "    return function(bs_sample)\n",
    "\n",
    "bs_results = np.empty(10000)\n",
    "\n",
    "for i in range(10000):\n",
    "    bs_results[i] = bootstrap_replicate(model_predict, np.mean)\n",
    "\n",
    "_ = plt.hist(bs_results, bins = 30, density = True)\n",
    "_ = plt.xlabel(\"Mean of Predicted Churners\")\n",
    "_ = plt.ylabel(\"Empirical Probability Density Function\")\n",
    "plt.show()"
   ]
  },
  {
   "cell_type": "code",
   "execution_count": 67,
   "metadata": {},
   "outputs": [
    {
     "name": "stdout",
     "output_type": "stream",
     "text": [
      "Bootstrap confidence interval: [0.23674268 0.26093588]\n",
      "Bootstrap mean: 0.249\n"
     ]
    }
   ],
   "source": [
    "print(\"Bootstrap confidence interval:\", np.percentile(bs_results, [2.5, 97.5]))\n",
    "print(\"Bootstrap mean:\", round(bs_results.mean(), 3))"
   ]
  },
  {
   "cell_type": "markdown",
   "metadata": {},
   "source": [
    "Let's compare the estimates of our prediction with the mean of the sample."
   ]
  },
  {
   "cell_type": "code",
   "execution_count": 68,
   "metadata": {},
   "outputs": [
    {
     "name": "stdout",
     "output_type": "stream",
     "text": [
      "Sample mean: 0.262\n"
     ]
    }
   ],
   "source": [
    "print(\"Sample mean:\", round(test.Churn_Yes.mean(), 3))"
   ]
  },
  {
   "cell_type": "markdown",
   "metadata": {},
   "source": [
    "Prediction is very close to the actual churn rate of the sample."
   ]
  },
  {
   "cell_type": "markdown",
   "metadata": {},
   "source": [
    "# Concluding thoughts\n",
    "\n",
    "Many companies are diverting resources away from the goal of capturing new customers and are instead focusing on retaining the existing ones. The commercial relationship with customers must be kept and reinforced, and, for this purpose, companies should build strong customer defection-avoiding schemes.\n",
    "\n",
    "That is why companies must have a reliable prediction model that allows them to identify,with enough anticipation, those clients that show symptoms of propensity to switch service providers and, thus, launch efficient retention actions.\n",
    "\n",
    "However, there may be clients that the company will decide not to retain even if their intention to change is identified in advance, since the expected return on the prolongation of their customer life does not justify the cost of the necessary commercial action. Since I did not cover this issue, I will leave it for further researches.\n",
    "\n",
    "Note though that, as reported in Haenlein and Kaplan (2012), careless abandonment of the less profitable customers may lead to unexpected negative reactions from the valuable ones that companies aim to retain."
   ]
  },
  {
   "cell_type": "markdown",
   "metadata": {},
   "source": [
    "---"
   ]
  },
  {
   "cell_type": "markdown",
   "metadata": {},
   "source": [
    "# Appendix"
   ]
  },
  {
   "cell_type": "markdown",
   "metadata": {},
   "source": [
    "This regression aims to assess the correlation between additional internet services and Churn also for low values of tenure. I want to prove that the impact of additional services on Churn is causal and not due to an omitted variable or selection bias. This means that additional services are not given as gift to those clients with a higher tenure but they have an actual impact on the churn phenomenon."
   ]
  },
  {
   "cell_type": "code",
   "execution_count": 69,
   "metadata": {},
   "outputs": [
    {
     "name": "stdout",
     "output_type": "stream",
     "text": [
      "Optimization terminated successfully.\n",
      "         Current function value: inf\n",
      "         Iterations 8\n"
     ]
    },
    {
     "data": {
      "text/html": [
       "<table class=\"simpletable\">\n",
       "<tr>\n",
       "        <td>Model:</td>              <td>Logit</td>      <td>Pseudo R-squared:</td>   <td>inf</td> \n",
       "</tr>\n",
       "<tr>\n",
       "  <td>Dependent Variable:</td>     <td>Churn_Yes</td>          <td>AIC:</td>          <td>inf</td> \n",
       "</tr>\n",
       "<tr>\n",
       "         <td>Date:</td>        <td>2021-08-23 18:41</td>       <td>BIC:</td>          <td>inf</td> \n",
       "</tr>\n",
       "<tr>\n",
       "   <td>No. Observations:</td>        <td>5631</td>        <td>Log-Likelihood:</td>   <td>-inf</td> \n",
       "</tr>\n",
       "<tr>\n",
       "       <td>Df Model:</td>             <td>17</td>            <td>LL-Null:</td>      <td>0.0000</td>\n",
       "</tr>\n",
       "<tr>\n",
       "     <td>Df Residuals:</td>          <td>5613</td>         <td>LLR p-value:</td>    <td>1.0000</td>\n",
       "</tr>\n",
       "<tr>\n",
       "      <td>Converged:</td>           <td>1.0000</td>           <td>Scale:</td>       <td>1.0000</td>\n",
       "</tr>\n",
       "<tr>\n",
       "    <td>No. Iterations:</td>        <td>8.0000</td>              <td></td>             <td></td>   \n",
       "</tr>\n",
       "</table>\n",
       "<table class=\"simpletable\">\n",
       "<tr>\n",
       "               <td></td>                <th>Coef.</th>  <th>Std.Err.</th>     <th>z</th>     <th>P>|z|</th> <th>[0.025</th>  <th>0.975]</th> \n",
       "</tr>\n",
       "<tr>\n",
       "  <th>SeniorCitizen</th>               <td>0.2452</td>   <td>0.0923</td>   <td>2.6564</td>  <td>0.0079</td> <td>0.0643</td>  <td>0.4261</td> \n",
       "</tr>\n",
       "<tr>\n",
       "  <th>Dependents_Yes</th>              <td>-0.1603</td>  <td>0.0907</td>   <td>-1.7674</td> <td>0.0772</td> <td>-0.3381</td> <td>0.0175</td> \n",
       "</tr>\n",
       "<tr>\n",
       "  <th>MultipleLines_Yes</th>           <td>0.1333</td>   <td>0.0844</td>   <td>1.5798</td>  <td>0.1142</td> <td>-0.0321</td> <td>0.2986</td> \n",
       "</tr>\n",
       "<tr>\n",
       "  <th>InternetService_DSL</th>         <td>1.0461</td>   <td>0.1461</td>   <td>7.1582</td>  <td>0.0000</td> <td>0.7596</td>  <td>1.3325</td> \n",
       "</tr>\n",
       "<tr>\n",
       "  <th>InternetService_Fiber optic</th> <td>1.9091</td>   <td>0.1491</td>   <td>12.8014</td> <td>0.0000</td> <td>1.6168</td>  <td>2.2014</td> \n",
       "</tr>\n",
       "<tr>\n",
       "  <th>OnlineSecurity_Yes</th>          <td>-0.4100</td>  <td>0.0927</td>   <td>-4.4246</td> <td>0.0000</td> <td>-0.5916</td> <td>-0.2284</td>\n",
       "</tr>\n",
       "<tr>\n",
       "  <th>TechSupport_Yes</th>             <td>-0.3280</td>  <td>0.0940</td>   <td>-3.4894</td> <td>0.0005</td> <td>-0.5122</td> <td>-0.1437</td>\n",
       "</tr>\n",
       "<tr>\n",
       "  <th>OnlineBackup_Yes</th>            <td>-0.1933</td>  <td>0.0833</td>   <td>-2.3206</td> <td>0.0203</td> <td>-0.3566</td> <td>-0.0300</td>\n",
       "</tr>\n",
       "<tr>\n",
       "  <th>StreamingTV_Yes</th>             <td>0.2801</td>   <td>0.0871</td>   <td>3.2166</td>  <td>0.0013</td> <td>0.1094</td>  <td>0.4508</td> \n",
       "</tr>\n",
       "<tr>\n",
       "  <th>StreamingMovies_Yes</th>         <td>0.2576</td>   <td>0.0865</td>   <td>2.9779</td>  <td>0.0029</td> <td>0.0881</td>  <td>0.4272</td> \n",
       "</tr>\n",
       "<tr>\n",
       "  <th>Contract_One year</th>           <td>-0.8316</td>  <td>0.1178</td>   <td>-7.0587</td> <td>0.0000</td> <td>-1.0625</td> <td>-0.6007</td>\n",
       "</tr>\n",
       "<tr>\n",
       "  <th>Contract_Two year</th>           <td>-1.5902</td>  <td>0.1919</td>   <td>-8.2879</td> <td>0.0000</td> <td>-1.9663</td> <td>-1.2142</td>\n",
       "</tr>\n",
       "<tr>\n",
       "  <th>PaperlessBilling_Yes</th>        <td>0.2733</td>   <td>0.0823</td>   <td>3.3213</td>  <td>0.0009</td> <td>0.1120</td>  <td>0.4345</td> \n",
       "</tr>\n",
       "<tr>\n",
       "  <th>PaymentMethod_Automatic</th>     <td>-0.3243</td>  <td>0.0800</td>   <td>-4.0548</td> <td>0.0001</td> <td>-0.4810</td> <td>-0.1675</td>\n",
       "</tr>\n",
       "<tr>\n",
       "  <th>tenure_19:36</th>                <td>-0.9579</td>  <td>0.1015</td>   <td>-9.4395</td> <td>0.0000</td> <td>-1.1569</td> <td>-0.7590</td>\n",
       "</tr>\n",
       "<tr>\n",
       "  <th>tenure_37:54</th>                <td>-0.9594</td>  <td>0.1219</td>   <td>-7.8725</td> <td>0.0000</td> <td>-1.1982</td> <td>-0.7205</td>\n",
       "</tr>\n",
       "<tr>\n",
       "  <th>tenure_55:72</th>                <td>-1.4537</td>  <td>0.1532</td>   <td>-9.4913</td> <td>0.0000</td> <td>-1.7539</td> <td>-1.1535</td>\n",
       "</tr>\n",
       "<tr>\n",
       "  <th>intercept</th>                   <td>-1.5381</td>  <td>0.1281</td>  <td>-12.0089</td> <td>0.0000</td> <td>-1.7891</td> <td>-1.2870</td>\n",
       "</tr>\n",
       "</table>"
      ],
      "text/plain": [
       "<class 'statsmodels.iolib.summary2.Summary'>\n",
       "\"\"\"\n",
       "                               Results: Logit\n",
       "============================================================================\n",
       "Model:                   Logit                 Pseudo R-squared:      inf   \n",
       "Dependent Variable:      Churn_Yes             AIC:                   inf   \n",
       "Date:                    2021-08-23 18:41      BIC:                   inf   \n",
       "No. Observations:        5631                  Log-Likelihood:        -inf  \n",
       "Df Model:                17                    LL-Null:               0.0000\n",
       "Df Residuals:            5613                  LLR p-value:           1.0000\n",
       "Converged:               1.0000                Scale:                 1.0000\n",
       "No. Iterations:          8.0000                                             \n",
       "----------------------------------------------------------------------------\n",
       "                             Coef.  Std.Err.    z     P>|z|   [0.025  0.975]\n",
       "----------------------------------------------------------------------------\n",
       "SeniorCitizen                0.2452   0.0923   2.6564 0.0079  0.0643  0.4261\n",
       "Dependents_Yes              -0.1603   0.0907  -1.7674 0.0772 -0.3381  0.0175\n",
       "MultipleLines_Yes            0.1333   0.0844   1.5798 0.1142 -0.0321  0.2986\n",
       "InternetService_DSL          1.0461   0.1461   7.1582 0.0000  0.7596  1.3325\n",
       "InternetService_Fiber optic  1.9091   0.1491  12.8014 0.0000  1.6168  2.2014\n",
       "OnlineSecurity_Yes          -0.4100   0.0927  -4.4246 0.0000 -0.5916 -0.2284\n",
       "TechSupport_Yes             -0.3280   0.0940  -3.4894 0.0005 -0.5122 -0.1437\n",
       "OnlineBackup_Yes            -0.1933   0.0833  -2.3206 0.0203 -0.3566 -0.0300\n",
       "StreamingTV_Yes              0.2801   0.0871   3.2166 0.0013  0.1094  0.4508\n",
       "StreamingMovies_Yes          0.2576   0.0865   2.9779 0.0029  0.0881  0.4272\n",
       "Contract_One year           -0.8316   0.1178  -7.0587 0.0000 -1.0625 -0.6007\n",
       "Contract_Two year           -1.5902   0.1919  -8.2879 0.0000 -1.9663 -1.2142\n",
       "PaperlessBilling_Yes         0.2733   0.0823   3.3213 0.0009  0.1120  0.4345\n",
       "PaymentMethod_Automatic     -0.3243   0.0800  -4.0548 0.0001 -0.4810 -0.1675\n",
       "tenure_19:36                -0.9579   0.1015  -9.4395 0.0000 -1.1569 -0.7590\n",
       "tenure_37:54                -0.9594   0.1219  -7.8725 0.0000 -1.1982 -0.7205\n",
       "tenure_55:72                -1.4537   0.1532  -9.4913 0.0000 -1.7539 -1.1535\n",
       "intercept                   -1.5381   0.1281 -12.0089 0.0000 -1.7891 -1.2870\n",
       "============================================================================\n",
       "\n",
       "\"\"\""
      ]
     },
     "execution_count": 69,
     "metadata": {},
     "output_type": "execute_result"
    }
   ],
   "source": [
    "low_tenure = tcc[tcc[\"tenure_0:18\"]+tcc[\"tenure_19:36\"]==1]\n",
    "\n",
    "variables = low_tenure[['SeniorCitizen',\n",
    "        'Dependents_Yes', 'MultipleLines_Yes',\n",
    "         'InternetService_DSL', 'InternetService_Fiber optic', 'OnlineSecurity_Yes',\n",
    "        'TechSupport_Yes', \"OnlineBackup_Yes\", 'StreamingTV_Yes',\n",
    "       'StreamingMovies_Yes', 'Contract_One year', 'Contract_Two year', 'PaperlessBilling_Yes',\n",
    "       'PaymentMethod_Automatic', 'tenure_19:36',\n",
    "       'tenure_37:54', 'tenure_55:72','intercept']]\n",
    "\n",
    "# Setting the model\n",
    "logistical_regression_low = sm.Logit(low_tenure[\"Churn_Yes\"], variables)\n",
    "\n",
    "# Fitting the model\n",
    "fitted_model_low = logistical_regression.fit()\n",
    "fitted_model_low.summary2()"
   ]
  }
 ],
 "metadata": {
  "kernelspec": {
   "display_name": "Python 3",
   "language": "python",
   "name": "python3"
  },
  "language_info": {
   "codemirror_mode": {
    "name": "ipython",
    "version": 3
   },
   "file_extension": ".py",
   "mimetype": "text/x-python",
   "name": "python",
   "nbconvert_exporter": "python",
   "pygments_lexer": "ipython3",
   "version": "3.6.5"
  }
 },
 "nbformat": 4,
 "nbformat_minor": 2
}
