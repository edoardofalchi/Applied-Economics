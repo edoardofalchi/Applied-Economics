{
 "cells": [
  {
   "cell_type": "markdown",
   "metadata": {},
   "source": [
    "# Applied Economics Analysis1 - Final Assignment\n",
    "|Name|examnr.|\n",
    "|----|-------|\n",
    "|edoardo falchi|2030721|"
   ]
  },
  {
   "cell_type": "markdown",
   "metadata": {},
   "source": [
    "# Objective and motivation\n",
    "As [Garcia et al.(2016)](https://link.springer.com/article/10.1007/s10115-016-0995-z) affirm, globalization processes and market deregulation policies are rapidly changing the competitive environments of many economic sectors. The appearance of new competitors and technologies leads to an increase in competition and, with it, a growing preoccupation among service providing companies with creating stronger customer bonds.\n",
    "\n",
    "[\"Churn\"](https://en.wikipedia.org/wiki/Churn_rate) is the phenomenon where a customer switches from one service to a competitor’s service (Tsai & Chen, 2009). Churn is a relevant issue because anticipating the customer’s intention to abandon the provider becomes a competitive advantage for firms.\n",
    "Objective of the work is to analyze Churn phenomenon on data coming from Telco Sector and propose the best Target for a Retention Commercial Campaign.\n",
    "\n",
    "The analysed dataset is taken from https://www.kaggle.com/blastchar/telco-customer-churn where each row represents a customer, each column contains customer’s attributes. The raw data contains 7043 rows (customers) and 21 columns (features). The “Churn” column is the target.\n",
    "\n",
    "Churn Phenomenon will be described through univariate and bivariate analysis, managing potential issues related to data like outliers and missing.\n",
    "I will estimate a Scoring Model through Logistic Regression in order to predict Churn Phenomenon, considering the variable Churn in the provided data set as dependent variable."
   ]
  },
  {
   "cell_type": "markdown",
   "metadata": {},
   "source": [
    "<h1>Table of Contents<span class=\"tocSkip\"></span></h1>\n",
    "<div class=\"toc\"><ul class=\"toc-item\"><li><span><a href=\"#Univariate-and-Bivariate-Analysis\" data-toc-modified-id=\"Univariate-and-Bivariate-Analysis-1\"><span class=\"toc-item-num\">1&nbsp;&nbsp;</span>Univariate and Bivariate Analysis</a></span><ul class=\"toc-item\"><li><span><a href=\"#Customer-Churn\" data-toc-modified-id=\"Customer-Churn-1.1\"><span class=\"toc-item-num\">1.1&nbsp;&nbsp;</span>Customer Churn</a></span></li><li><span><a href=\"#Gender-distribution\" data-toc-modified-id=\"Gender-distribution-1.2\"><span class=\"toc-item-num\">1.2&nbsp;&nbsp;</span>Gender distribution</a></span></li><li><span><a href=\"#Age-distribution\" data-toc-modified-id=\"Age-distribution-1.3\"><span class=\"toc-item-num\">1.3&nbsp;&nbsp;</span>Age distribution</a></span></li><li><span><a href=\"#Phone-Service-distribution\" data-toc-modified-id=\"Phone-Service-distribution-1.4\"><span class=\"toc-item-num\">1.4&nbsp;&nbsp;</span>Phone Service distribution</a></span></li><li><span><a href=\"#Internet-service-distribution\" data-toc-modified-id=\"Internet-service-distribution-1.5\"><span class=\"toc-item-num\">1.5&nbsp;&nbsp;</span>Internet service distribution</a></span></li><li><span><a href=\"#Tenure-distribution\" data-toc-modified-id=\"Tenure-distribution-1.6\"><span class=\"toc-item-num\">1.6&nbsp;&nbsp;</span>Tenure distribution</a></span></li><li><span><a href=\"#Contract-distribution\" data-toc-modified-id=\"Contract-distribution-1.7\"><span class=\"toc-item-num\">1.7&nbsp;&nbsp;</span>Contract distribution</a></span></li></ul>\n",
    "    \n",
    "<li><span><a href=\"#Train-test-split\" data-toc-modified-id=\"Train-test-split-2\"><span class=\"toc-item-num\">2&nbsp;&nbsp;</span>Train-test split</a></span></li>     \n",
    "\n",
    "<li><span><a href=\"#Dealing-with-Missing-Values\" data-toc-modified-id=\"Dealing-with-Missing-Values-3\"><span class=\"toc-item-num\">3&nbsp;&nbsp;</span>Dealing with Missing Values</a></span><ul class=\"toc-item\"><li><span><a href=\"#Encoding-the-dummy-variables\" data-toc-modified-id=\"Encoding-the-dummy-variables-3.1\"><span class=\"toc-item-num\">3.1&nbsp;&nbsp;</span>Encoding the dummy variables</a></span></li></ul></li>\n",
    "\n",
    "<li><span><a href=\"#Dealing-with-outliers\" data-toc-modified-id=\"Dealing-with-outliers-4\"><span class=\"toc-item-num\">4&nbsp;&nbsp;</span>Dealing with outliers</a></span></li>\n",
    "\n",
    "<li><span><a href=\"#Logistic-regression\" data-toc-modified-id=\"Logistic-regression-5\"><span class=\"toc-item-num\">5&nbsp;&nbsp;</span>Logistic regression</a></span></li>\n",
    "    \n",
    "<li><span><a href=\"#Model-evaluation\" data-toc-modified-id=\"Model-evaluation-6\"><span class=\"toc-item-num\">6&nbsp;&nbsp;</span>Model evaluation</a></span></li>\n",
    "\n",
    "<li><span><a href=\"#Resampling-methods\" data-toc-modified-id=\"Resampling-methods-7\"><span class=\"toc-item-num\">7&nbsp;&nbsp;</span>Resampling methods</a></span></li> \n",
    "    \n",
    "    \n",
    "<li><span><a href=\"#Concluding-thoughts\" data-toc-modified-id=\"Concluding-thoughts-8\"><span class=\"toc-item-num\">8&nbsp;&nbsp;</span>Concluding thoughts</a></span></li>\n",
    "\n",
    "<li><span><a href=\"#Appendix\" data-toc-modified-id=\"Appendix-9\"><span class=\"toc-item-num\">9&nbsp;&nbsp;</span>Appendix</a></span></li>"
   ]
  },
  {
   "cell_type": "markdown",
   "metadata": {},
   "source": [
    "# Importing libraries and data"
   ]
  },
  {
   "cell_type": "code",
   "execution_count": 2,
   "metadata": {},
   "outputs": [
    {
     "data": {
      "text/html": [
       "        <script type=\"text/javascript\">\n",
       "        window.PlotlyConfig = {MathJaxConfig: 'local'};\n",
       "        if (window.MathJax) {MathJax.Hub.Config({SVG: {font: \"STIX-Web\"}});}\n",
       "        if (typeof require !== 'undefined') {\n",
       "        require.undef(\"plotly\");\n",
       "        requirejs.config({\n",
       "            paths: {\n",
       "                'plotly': ['https://cdn.plot.ly/plotly-latest.min']\n",
       "            }\n",
       "        });\n",
       "        require(['plotly'], function(Plotly) {\n",
       "            window._Plotly = Plotly;\n",
       "        });\n",
       "        }\n",
       "        </script>\n",
       "        "
      ]
     },
     "metadata": {},
     "output_type": "display_data"
    }
   ],
   "source": [
    "import pandas as pd\n",
    "from IPython.display import display\n",
    "pd.options.display.max_columns = None\n",
    "import numpy as np\n",
    "import matplotlib.pyplot as plt\n",
    "import seaborn as sns\n",
    "sns.set()\n",
    "from scipy.spatial.distance import pdist, squareform\n",
    "from scipy.cluster.hierarchy import linkage\n",
    "from scipy.cluster.hierarchy import dendrogram\n",
    "from sklearn.preprocessing import StandardScaler\n",
    "import statsmodels.api as sm\n",
    "import pylab as pl\n",
    "import scikitplot as skplt\n",
    "from statsmodels.stats.outliers_influence import variance_inflation_factor\n",
    "from sklearn.cluster import KMeans\n",
    "from sklearn.metrics import silhouette_samples\n",
    "from matplotlib import cm\n",
    "%matplotlib inline\n",
    "import os\n",
    "from PIL import  Image\n",
    "import io\n",
    "import matplotlib.ticker as mtick\n",
    "import scipy\n",
    "import plotly.graph_objs as go\n",
    "import plotly.offline as py\n",
    "import plotly.tools as tls\n",
    "import plotly.figure_factory as ff\n",
    "py.init_notebook_mode(connected=True)\n",
    "import warnings\n",
    "warnings.filterwarnings('ignore')"
   ]
  },
  {
   "cell_type": "code",
   "execution_count": 14,
   "metadata": {},
   "outputs": [
    {
     "data": {
      "text/html": [
       "        <script type=\"text/javascript\">\n",
       "        window.PlotlyConfig = {MathJaxConfig: 'local'};\n",
       "        if (window.MathJax) {MathJax.Hub.Config({SVG: {font: \"STIX-Web\"}});}\n",
       "        if (typeof require !== 'undefined') {\n",
       "        require.undef(\"plotly\");\n",
       "        requirejs.config({\n",
       "            paths: {\n",
       "                'plotly': ['https://cdn.plot.ly/plotly-latest.min']\n",
       "            }\n",
       "        });\n",
       "        require(['plotly'], function(Plotly) {\n",
       "            window._Plotly = Plotly;\n",
       "        });\n",
       "        }\n",
       "        </script>\n",
       "        "
      ]
     },
     "metadata": {},
     "output_type": "display_data"
    }
   ],
   "source": [
    "import pandas as pd\n",
    "import numpy as np\n",
    "import matplotlib.pyplot as plt\n",
    "import seaborn as sns\n",
    "import os\n",
    "import io\n",
    "import scipy\n",
    "\n",
    "from matplotlib import cm\n",
    "from IPython.display import display\n",
    "from scipy.spatial.distance import pdist, squareform\n",
    "from scipy.cluster.hierarchy import linkage\n",
    "from scipy.cluster.hierarchy import dendrogram\n",
    "from sklearn.preprocessing import StandardScaler\n",
    "from sklearn.cluster import KMeans\n",
    "from sklearn.metrics import silhouette_samples\n",
    "from sklearn.model_selection import train_test_split\n",
    "import statsmodels.api as sm\n",
    "from statsmodels.stats.outliers_influence import variance_inflation_factor\n",
    "import pylab as pl\n",
    "import scikitplot as skplt\n",
    "import plotly.graph_objs as go\n",
    "import plotly.offline as py\n",
    "from PIL import  Image\n",
    "import plotly.tools as tls\n",
    "import plotly.figure_factory as ff\n",
    "import matplotlib.ticker as mtick\n",
    "from mlxtend.plotting import plot_confusion_matrix\n",
    "\n",
    "pd.options.display.max_columns = None\n",
    "sns.set()\n",
    "%matplotlib inline\n",
    "py.init_notebook_mode(connected=True)"
   ]
  },
  {
   "cell_type": "code",
   "execution_count": 15,
   "metadata": {},
   "outputs": [],
   "source": [
    "tcc = pd.read_csv(\"tcc.csv\")"
   ]
  },
  {
   "cell_type": "code",
   "execution_count": 16,
   "metadata": {},
   "outputs": [
    {
     "data": {
      "text/html": [
       "<div>\n",
       "<style scoped>\n",
       "    .dataframe tbody tr th:only-of-type {\n",
       "        vertical-align: middle;\n",
       "    }\n",
       "\n",
       "    .dataframe tbody tr th {\n",
       "        vertical-align: top;\n",
       "    }\n",
       "\n",
       "    .dataframe thead th {\n",
       "        text-align: right;\n",
       "    }\n",
       "</style>\n",
       "<table border=\"1\" class=\"dataframe\">\n",
       "  <thead>\n",
       "    <tr style=\"text-align: right;\">\n",
       "      <th></th>\n",
       "      <th>customerID</th>\n",
       "      <th>gender</th>\n",
       "      <th>SeniorCitizen</th>\n",
       "      <th>Partner</th>\n",
       "      <th>Dependents</th>\n",
       "      <th>tenure</th>\n",
       "      <th>PhoneService</th>\n",
       "      <th>MultipleLines</th>\n",
       "      <th>InternetService</th>\n",
       "      <th>OnlineSecurity</th>\n",
       "      <th>OnlineBackup</th>\n",
       "      <th>DeviceProtection</th>\n",
       "      <th>TechSupport</th>\n",
       "      <th>StreamingTV</th>\n",
       "      <th>StreamingMovies</th>\n",
       "      <th>Contract</th>\n",
       "      <th>PaperlessBilling</th>\n",
       "      <th>PaymentMethod</th>\n",
       "      <th>MonthlyCharges</th>\n",
       "      <th>TotalCharges</th>\n",
       "      <th>Churn</th>\n",
       "    </tr>\n",
       "  </thead>\n",
       "  <tbody>\n",
       "    <tr>\n",
       "      <th>0</th>\n",
       "      <td>7590-VHVEG</td>\n",
       "      <td>Female</td>\n",
       "      <td>0</td>\n",
       "      <td>Yes</td>\n",
       "      <td>No</td>\n",
       "      <td>1</td>\n",
       "      <td>No</td>\n",
       "      <td>No phone service</td>\n",
       "      <td>DSL</td>\n",
       "      <td>No</td>\n",
       "      <td>Yes</td>\n",
       "      <td>No</td>\n",
       "      <td>No</td>\n",
       "      <td>No</td>\n",
       "      <td>No</td>\n",
       "      <td>Month-to-month</td>\n",
       "      <td>Yes</td>\n",
       "      <td>Electronic check</td>\n",
       "      <td>29.85</td>\n",
       "      <td>29.85</td>\n",
       "      <td>No</td>\n",
       "    </tr>\n",
       "    <tr>\n",
       "      <th>1</th>\n",
       "      <td>5575-GNVDE</td>\n",
       "      <td>Male</td>\n",
       "      <td>0</td>\n",
       "      <td>No</td>\n",
       "      <td>No</td>\n",
       "      <td>34</td>\n",
       "      <td>Yes</td>\n",
       "      <td>No</td>\n",
       "      <td>DSL</td>\n",
       "      <td>Yes</td>\n",
       "      <td>No</td>\n",
       "      <td>Yes</td>\n",
       "      <td>No</td>\n",
       "      <td>No</td>\n",
       "      <td>No</td>\n",
       "      <td>One year</td>\n",
       "      <td>No</td>\n",
       "      <td>Mailed check</td>\n",
       "      <td>56.95</td>\n",
       "      <td>1889.5</td>\n",
       "      <td>No</td>\n",
       "    </tr>\n",
       "    <tr>\n",
       "      <th>2</th>\n",
       "      <td>3668-QPYBK</td>\n",
       "      <td>Male</td>\n",
       "      <td>0</td>\n",
       "      <td>No</td>\n",
       "      <td>No</td>\n",
       "      <td>2</td>\n",
       "      <td>Yes</td>\n",
       "      <td>No</td>\n",
       "      <td>DSL</td>\n",
       "      <td>Yes</td>\n",
       "      <td>Yes</td>\n",
       "      <td>No</td>\n",
       "      <td>No</td>\n",
       "      <td>No</td>\n",
       "      <td>No</td>\n",
       "      <td>Month-to-month</td>\n",
       "      <td>Yes</td>\n",
       "      <td>Mailed check</td>\n",
       "      <td>53.85</td>\n",
       "      <td>108.15</td>\n",
       "      <td>Yes</td>\n",
       "    </tr>\n",
       "    <tr>\n",
       "      <th>3</th>\n",
       "      <td>7795-CFOCW</td>\n",
       "      <td>Male</td>\n",
       "      <td>0</td>\n",
       "      <td>No</td>\n",
       "      <td>No</td>\n",
       "      <td>45</td>\n",
       "      <td>No</td>\n",
       "      <td>No phone service</td>\n",
       "      <td>DSL</td>\n",
       "      <td>Yes</td>\n",
       "      <td>No</td>\n",
       "      <td>Yes</td>\n",
       "      <td>Yes</td>\n",
       "      <td>No</td>\n",
       "      <td>No</td>\n",
       "      <td>One year</td>\n",
       "      <td>No</td>\n",
       "      <td>Bank transfer (automatic)</td>\n",
       "      <td>42.30</td>\n",
       "      <td>1840.75</td>\n",
       "      <td>No</td>\n",
       "    </tr>\n",
       "    <tr>\n",
       "      <th>4</th>\n",
       "      <td>9237-HQITU</td>\n",
       "      <td>Female</td>\n",
       "      <td>0</td>\n",
       "      <td>No</td>\n",
       "      <td>No</td>\n",
       "      <td>2</td>\n",
       "      <td>Yes</td>\n",
       "      <td>No</td>\n",
       "      <td>Fiber optic</td>\n",
       "      <td>No</td>\n",
       "      <td>No</td>\n",
       "      <td>No</td>\n",
       "      <td>No</td>\n",
       "      <td>No</td>\n",
       "      <td>No</td>\n",
       "      <td>Month-to-month</td>\n",
       "      <td>Yes</td>\n",
       "      <td>Electronic check</td>\n",
       "      <td>70.70</td>\n",
       "      <td>151.65</td>\n",
       "      <td>Yes</td>\n",
       "    </tr>\n",
       "  </tbody>\n",
       "</table>\n",
       "</div>"
      ],
      "text/plain": [
       "   customerID  gender  SeniorCitizen Partner Dependents  tenure PhoneService  \\\n",
       "0  7590-VHVEG  Female              0     Yes         No       1           No   \n",
       "1  5575-GNVDE    Male              0      No         No      34          Yes   \n",
       "2  3668-QPYBK    Male              0      No         No       2          Yes   \n",
       "3  7795-CFOCW    Male              0      No         No      45           No   \n",
       "4  9237-HQITU  Female              0      No         No       2          Yes   \n",
       "\n",
       "      MultipleLines InternetService OnlineSecurity OnlineBackup  \\\n",
       "0  No phone service             DSL             No          Yes   \n",
       "1                No             DSL            Yes           No   \n",
       "2                No             DSL            Yes          Yes   \n",
       "3  No phone service             DSL            Yes           No   \n",
       "4                No     Fiber optic             No           No   \n",
       "\n",
       "  DeviceProtection TechSupport StreamingTV StreamingMovies        Contract  \\\n",
       "0               No          No          No              No  Month-to-month   \n",
       "1              Yes          No          No              No        One year   \n",
       "2               No          No          No              No  Month-to-month   \n",
       "3              Yes         Yes          No              No        One year   \n",
       "4               No          No          No              No  Month-to-month   \n",
       "\n",
       "  PaperlessBilling              PaymentMethod  MonthlyCharges TotalCharges  \\\n",
       "0              Yes           Electronic check           29.85        29.85   \n",
       "1               No               Mailed check           56.95       1889.5   \n",
       "2              Yes               Mailed check           53.85       108.15   \n",
       "3               No  Bank transfer (automatic)           42.30      1840.75   \n",
       "4              Yes           Electronic check           70.70       151.65   \n",
       "\n",
       "  Churn  \n",
       "0    No  \n",
       "1    No  \n",
       "2   Yes  \n",
       "3    No  \n",
       "4   Yes  "
      ]
     },
     "execution_count": 16,
     "metadata": {},
     "output_type": "execute_result"
    }
   ],
   "source": [
    "tcc.head()"
   ]
  },
  {
   "cell_type": "code",
   "execution_count": 6,
   "metadata": {},
   "outputs": [
    {
     "data": {
      "text/plain": [
       "(7043, 21)"
      ]
     },
     "execution_count": 6,
     "metadata": {},
     "output_type": "execute_result"
    }
   ],
   "source": [
    "tcc.shape"
   ]
  },
  {
   "cell_type": "markdown",
   "metadata": {},
   "source": [
    "## Univariate and Bivariate Analysis"
   ]
  },
  {
   "cell_type": "markdown",
   "metadata": {},
   "source": [
    "### Customer Churn"
   ]
  },
  {
   "cell_type": "markdown",
   "metadata": {},
   "source": [
    "Let's first have a look at the churn rate."
   ]
  },
  {
   "cell_type": "code",
   "execution_count": 11,
   "metadata": {},
   "outputs": [
    {
     "data": {
      "image/png": "[encoded data removed]",
      "text/plain": [
       "<Figure size 504x504 with 1 Axes>"
      ]
     },
     "metadata": {},
     "output_type": "display_data"
    }
   ],
   "source": [
    "senior = (tcc['Churn'].value_counts()*100.0 /len(tcc)).plot(kind='pie',\n",
    "        labels = ['No', 'Yes'], figsize = (7,7) , colors = ['yellow','blue'])\n",
    "\n",
    "senior.set_title('Churn rate')\n",
    "senior.legend(labels=['No','Yes']);"
   ]
  },
  {
   "cell_type": "markdown",
   "metadata": {},
   "source": [
    "One customer over four churns."
   ]
  },
  {
   "cell_type": "markdown",
   "metadata": {},
   "source": [
    "### Gender distribution"
   ]
  },
  {
   "cell_type": "code",
   "execution_count": 12,
   "metadata": {
    "scrolled": true
   },
   "outputs": [
    {
     "data": {
      "image/png": "[encoded data removed]",
      "text/plain": [
       "<Figure size 432x288 with 1 Axes>"
      ]
     },
     "metadata": {},
     "output_type": "display_data"
    }
   ],
   "source": [
    "gb = tcc.groupby(\"gender\")[\"Churn\"].value_counts().to_frame().rename({\"Churn\": \"Number of Customers\"}, axis = 1).reset_index()\n",
    "sns.barplot(x = \"gender\", y = \"Number of Customers\", data = gb, hue = \"Churn\", palette = sns.color_palette(\"hls\", 8)).set_title(\"Gender and relative Churn Rates in our population\");"
   ]
  },
  {
   "cell_type": "markdown",
   "metadata": {},
   "source": [
    "Men and women are evenly distributed in the sample, and show the same proportions of Churn."
   ]
  },
  {
   "cell_type": "markdown",
   "metadata": {},
   "source": [
    "### Age distribution"
   ]
  },
  {
   "cell_type": "code",
   "execution_count": 13,
   "metadata": {},
   "outputs": [
    {
     "data": {
      "image/png": "[encoded data removed]",
      "text/plain": [
       "<Figure size 504x504 with 1 Axes>"
      ]
     },
     "metadata": {},
     "output_type": "display_data"
    }
   ],
   "source": [
    "senior = (tcc['SeniorCitizen'].value_counts()*100.0 /len(tcc)).plot(kind='pie',\\\n",
    "        labels = ['No', 'Yes'], figsize = (7,7) , colors = ['yellow','green'], fontsize = 15)\n",
    "\n",
    "senior.set_title('Seniors')\n",
    "senior.legend(labels=['Non Senior','Senior']);"
   ]
  },
  {
   "cell_type": "code",
   "execution_count": 14,
   "metadata": {},
   "outputs": [
    {
     "data": {
      "text/html": [
       "<div>\n",
       "<style scoped>\n",
       "    .dataframe tbody tr th:only-of-type {\n",
       "        vertical-align: middle;\n",
       "    }\n",
       "\n",
       "    .dataframe tbody tr th {\n",
       "        vertical-align: top;\n",
       "    }\n",
       "\n",
       "    .dataframe thead th {\n",
       "        text-align: right;\n",
       "    }\n",
       "</style>\n",
       "<table border=\"1\" class=\"dataframe\">\n",
       "  <thead>\n",
       "    <tr style=\"text-align: right;\">\n",
       "      <th></th>\n",
       "      <th>SeniorCitizen</th>\n",
       "      <th>Churn</th>\n",
       "      <th>Number of Customers</th>\n",
       "    </tr>\n",
       "  </thead>\n",
       "  <tbody>\n",
       "    <tr>\n",
       "      <th>0</th>\n",
       "      <td>Young</td>\n",
       "      <td>No</td>\n",
       "      <td>4508</td>\n",
       "    </tr>\n",
       "    <tr>\n",
       "      <th>1</th>\n",
       "      <td>Young</td>\n",
       "      <td>Yes</td>\n",
       "      <td>1393</td>\n",
       "    </tr>\n",
       "    <tr>\n",
       "      <th>2</th>\n",
       "      <td>Senior</td>\n",
       "      <td>No</td>\n",
       "      <td>666</td>\n",
       "    </tr>\n",
       "    <tr>\n",
       "      <th>3</th>\n",
       "      <td>Senior</td>\n",
       "      <td>Yes</td>\n",
       "      <td>476</td>\n",
       "    </tr>\n",
       "  </tbody>\n",
       "</table>\n",
       "</div>"
      ],
      "text/plain": [
       "  SeniorCitizen Churn  Number of Customers\n",
       "0         Young    No                 4508\n",
       "1         Young   Yes                 1393\n",
       "2        Senior    No                  666\n",
       "3        Senior   Yes                  476"
      ]
     },
     "execution_count": 14,
     "metadata": {},
     "output_type": "execute_result"
    }
   ],
   "source": [
    "gb = tcc.groupby(\"SeniorCitizen\")[\"Churn\"].value_counts().to_frame().rename({\"Churn\": \"Number of Customers\"}, axis = 1).reset_index()\n",
    "gb.replace([0, 1], [\"Young\", \"Senior\"], inplace = True)\n",
    "gb"
   ]
  },
  {
   "cell_type": "code",
   "execution_count": 15,
   "metadata": {},
   "outputs": [
    {
     "data": {
      "image/png": "[encoded data removed]",
      "text/plain": [
       "<Figure size 432x288 with 1 Axes>"
      ]
     },
     "metadata": {},
     "output_type": "display_data"
    }
   ],
   "source": [
    "tp = gb.groupby(\"SeniorCitizen\")[\"Number of Customers\"].sum().to_frame().reset_index().rename({\"Number of Customers\": \"# Customers in Age Group\"}, axis = 1)\n",
    "gb = pd.merge(gb, tp, on = \"SeniorCitizen\")\n",
    "gb[\"Churn Rate in Age Group\"] = gb[\"Number of Customers\"]/gb[\"# Customers in Age Group\"]\n",
    "gb = gb[gb.Churn == \"Yes\"]\n",
    "\n",
    "sns.barplot(x = \"SeniorCitizen\", y = \"Churn Rate in Age Group\", data = gb).set_title(\"Churn Rate for Young and Senior customers\");"
   ]
  },
  {
   "cell_type": "markdown",
   "metadata": {},
   "source": [
    "This sample is mainly composed by young people. Senior customers are more prone to churning."
   ]
  },
  {
   "cell_type": "markdown",
   "metadata": {},
   "source": [
    "### Phone Service distribution"
   ]
  },
  {
   "cell_type": "code",
   "execution_count": 17,
   "metadata": {},
   "outputs": [
    {
     "data": {
      "image/png": "[encoded data removed]",
      "text/plain": [
       "<Figure size 432x288 with 1 Axes>"
      ]
     },
     "metadata": {},
     "output_type": "display_data"
    }
   ],
   "source": [
    "phone = (tcc['PhoneService'].value_counts()*100.0 /len(tcc)).plot(kind='bar', stacked = True,\\\n",
    "                                                rot = 0, color = ['red','lightblue'])\n",
    "  \n",
    "phone.yaxis.set_major_formatter(mtick.PercentFormatter())\n",
    "phone.set_ylabel('Customers')\n",
    "phone.set_xlabel('Phone Service')\n",
    "phone.set_title('Phone service distribution');"
   ]
  },
  {
   "cell_type": "markdown",
   "metadata": {},
   "source": [
    "Just a little amount of people does not have phone service."
   ]
  },
  {
   "cell_type": "markdown",
   "metadata": {},
   "source": [
    "### Internet service distribution"
   ]
  },
  {
   "cell_type": "code",
   "execution_count": 23,
   "metadata": {},
   "outputs": [
    {
     "data": {
      "image/png": "[encoded data removed]",
      "text/plain": [
       "<Figure size 504x504 with 1 Axes>"
      ]
     },
     "metadata": {},
     "output_type": "display_data"
    }
   ],
   "source": [
    "internet = (tcc['InternetService'].value_counts()*100.0 /len(tcc)).plot(kind='pie',\\\n",
    "        labels = ['Fiber optic', 'DSL', 'No'], figsize = (7,7) , colors = ['orange','purple', 'black'], fontsize = 15)"
   ]
  },
  {
   "cell_type": "markdown",
   "metadata": {},
   "source": [
    "Among the ones that have internet service, DSL and Fiber optic are almost equally distributed (the fraction of people having Fiber optic is slightly greater). Less than one fourth of the members of our sample has no internet service."
   ]
  },
  {
   "cell_type": "markdown",
   "metadata": {},
   "source": [
    "### Tenure distribution"
   ]
  },
  {
   "cell_type": "code",
   "execution_count": 24,
   "metadata": {},
   "outputs": [
    {
     "data": {
      "image/png": "[encoded data removed]",
      "text/plain": [
       "<Figure size 432x288 with 1 Axes>"
      ]
     },
     "metadata": {},
     "output_type": "display_data"
    }
   ],
   "source": [
    "plt.hist(tcc.tenure)\n",
    "plt.xlabel('tenure')\n",
    "plt.title(\"Tenure Distribution\");"
   ]
  },
  {
   "cell_type": "markdown",
   "metadata": {},
   "source": [
    "Tenure indicates the number of months the customer has stayed with the company.  \n",
    "The majority of the customers in the sample are new clients. There is also a high number of people with a tenure around 70 months. Most likely the company is not older than 72 months, and there either was a strong incentive for subscription (like a competitive launch offer, which could explain the high number through efficient retention rates) or there was some form of selection bias (the offers were unique on the market and highly valued by a group of customers, leading to fast market saturation, which could explain the high number by keeping the retention rate constant and leveraging high sales volumes). These are the only two reasons that can explain such a sharp kickstart in the number of subscriptions and their sudden drop."
   ]
  },
  {
   "cell_type": "markdown",
   "metadata": {},
   "source": [
    "### Contract distribution"
   ]
  },
  {
   "cell_type": "code",
   "execution_count": 25,
   "metadata": {},
   "outputs": [
    {
     "data": {
      "image/png": "[encoded data removed]",
      "text/plain": [
       "<Figure size 432x288 with 1 Axes>"
      ]
     },
     "metadata": {},
     "output_type": "display_data"
    }
   ],
   "source": [
    "contract = (tcc['Contract'].value_counts()*100.0 /len(tcc)).plot(kind='bar', stacked = True,\\\n",
    "                                                rot = 0, color = ['orange','blue','magenta'])\n",
    "  \n",
    "contract.yaxis.set_major_formatter(mtick.PercentFormatter())\n",
    "contract.set_ylabel('Customers')\n",
    "contract.set_xlabel('Contract')\n",
    "contract.set_ylabel('Customers')\n",
    "contract.set_title('Contract distribution');"
   ]
  },
  {
   "cell_type": "markdown",
   "metadata": {},
   "source": [
    "More than half customers have a month-to-month contract."
   ]
  },
  {
   "cell_type": "markdown",
   "metadata": {},
   "source": [
    "# Train-test split"
   ]
  },
  {
   "cell_type": "markdown",
   "metadata": {},
   "source": [
    "Before building the predictive model, let's split the dataset into train and test set, in order to measure the accuracy of the model."
   ]
  },
  {
   "cell_type": "code",
   "execution_count": 17,
   "metadata": {},
   "outputs": [],
   "source": [
    "msk = np.random.rand(len(tcc)) < 0.8\n",
    "test = tcc[~msk]\n",
    "tcc = tcc[msk]"
   ]
  },
  {
   "cell_type": "markdown",
   "metadata": {},
   "source": [
    "## Dealing with Missing Values"
   ]
  },
  {
   "cell_type": "code",
   "execution_count": 20,
   "metadata": {},
   "outputs": [
    {
     "data": {
      "text/html": [
       "<div>\n",
       "<style scoped>\n",
       "    .dataframe tbody tr th:only-of-type {\n",
       "        vertical-align: middle;\n",
       "    }\n",
       "\n",
       "    .dataframe tbody tr th {\n",
       "        vertical-align: top;\n",
       "    }\n",
       "\n",
       "    .dataframe thead th {\n",
       "        text-align: right;\n",
       "    }\n",
       "</style>\n",
       "<table border=\"1\" class=\"dataframe\">\n",
       "  <thead>\n",
       "    <tr style=\"text-align: right;\">\n",
       "      <th></th>\n",
       "      <th>Missing?</th>\n",
       "      <th>dtype</th>\n",
       "    </tr>\n",
       "  </thead>\n",
       "  <tbody>\n",
       "    <tr>\n",
       "      <th>customerID</th>\n",
       "      <td>False</td>\n",
       "      <td>object</td>\n",
       "    </tr>\n",
       "    <tr>\n",
       "      <th>gender</th>\n",
       "      <td>False</td>\n",
       "      <td>object</td>\n",
       "    </tr>\n",
       "    <tr>\n",
       "      <th>SeniorCitizen</th>\n",
       "      <td>False</td>\n",
       "      <td>int64</td>\n",
       "    </tr>\n",
       "    <tr>\n",
       "      <th>Partner</th>\n",
       "      <td>False</td>\n",
       "      <td>object</td>\n",
       "    </tr>\n",
       "    <tr>\n",
       "      <th>Dependents</th>\n",
       "      <td>False</td>\n",
       "      <td>object</td>\n",
       "    </tr>\n",
       "    <tr>\n",
       "      <th>tenure</th>\n",
       "      <td>False</td>\n",
       "      <td>int64</td>\n",
       "    </tr>\n",
       "    <tr>\n",
       "      <th>PhoneService</th>\n",
       "      <td>False</td>\n",
       "      <td>object</td>\n",
       "    </tr>\n",
       "    <tr>\n",
       "      <th>MultipleLines</th>\n",
       "      <td>False</td>\n",
       "      <td>object</td>\n",
       "    </tr>\n",
       "    <tr>\n",
       "      <th>InternetService</th>\n",
       "      <td>False</td>\n",
       "      <td>object</td>\n",
       "    </tr>\n",
       "    <tr>\n",
       "      <th>OnlineSecurity</th>\n",
       "      <td>False</td>\n",
       "      <td>object</td>\n",
       "    </tr>\n",
       "    <tr>\n",
       "      <th>OnlineBackup</th>\n",
       "      <td>False</td>\n",
       "      <td>object</td>\n",
       "    </tr>\n",
       "    <tr>\n",
       "      <th>DeviceProtection</th>\n",
       "      <td>False</td>\n",
       "      <td>object</td>\n",
       "    </tr>\n",
       "    <tr>\n",
       "      <th>TechSupport</th>\n",
       "      <td>False</td>\n",
       "      <td>object</td>\n",
       "    </tr>\n",
       "    <tr>\n",
       "      <th>StreamingTV</th>\n",
       "      <td>False</td>\n",
       "      <td>object</td>\n",
       "    </tr>\n",
       "    <tr>\n",
       "      <th>StreamingMovies</th>\n",
       "      <td>False</td>\n",
       "      <td>object</td>\n",
       "    </tr>\n",
       "    <tr>\n",
       "      <th>Contract</th>\n",
       "      <td>False</td>\n",
       "      <td>object</td>\n",
       "    </tr>\n",
       "    <tr>\n",
       "      <th>PaperlessBilling</th>\n",
       "      <td>False</td>\n",
       "      <td>object</td>\n",
       "    </tr>\n",
       "    <tr>\n",
       "      <th>PaymentMethod</th>\n",
       "      <td>False</td>\n",
       "      <td>object</td>\n",
       "    </tr>\n",
       "    <tr>\n",
       "      <th>MonthlyCharges</th>\n",
       "      <td>False</td>\n",
       "      <td>float64</td>\n",
       "    </tr>\n",
       "    <tr>\n",
       "      <th>TotalCharges</th>\n",
       "      <td>False</td>\n",
       "      <td>object</td>\n",
       "    </tr>\n",
       "    <tr>\n",
       "      <th>Churn</th>\n",
       "      <td>False</td>\n",
       "      <td>object</td>\n",
       "    </tr>\n",
       "  </tbody>\n",
       "</table>\n",
       "</div>"
      ],
      "text/plain": [
       "                  Missing?    dtype\n",
       "customerID           False   object\n",
       "gender               False   object\n",
       "SeniorCitizen        False    int64\n",
       "Partner              False   object\n",
       "Dependents           False   object\n",
       "tenure               False    int64\n",
       "PhoneService         False   object\n",
       "MultipleLines        False   object\n",
       "InternetService      False   object\n",
       "OnlineSecurity       False   object\n",
       "OnlineBackup         False   object\n",
       "DeviceProtection     False   object\n",
       "TechSupport          False   object\n",
       "StreamingTV          False   object\n",
       "StreamingMovies      False   object\n",
       "Contract             False   object\n",
       "PaperlessBilling     False   object\n",
       "PaymentMethod        False   object\n",
       "MonthlyCharges       False  float64\n",
       "TotalCharges         False   object\n",
       "Churn                False   object"
      ]
     },
     "execution_count": 20,
     "metadata": {},
     "output_type": "execute_result"
    }
   ],
   "source": [
    "missing_values = []\n",
    "for col in tcc.columns:\n",
    "    missing_values.append(tcc[col].isna().any())\n",
    "\n",
    "missing_values = pd.DataFrame(np.array(missing_values).reshape(1, 21))\n",
    "missing_values.columns = tcc.columns\n",
    "missing_values_table   = tcc.append(missing_values).tail(1)\n",
    "missing_values_table   = missing_values_table.astype(bool)\n",
    "missing_values_table   = missing_values_table.transpose()\n",
    "missing_values_table.columns = [\"Missing?\"]\n",
    "\n",
    "missing_values_table[\"dtype\"] = tcc.dtypes\n",
    "missing_values_table"
   ]
  },
  {
   "cell_type": "markdown",
   "metadata": {},
   "source": [
    "The dtypes are not coherent with logic. There's no point in encoding TotalCharges as a string and MonthlyCharges as a float, or PhoneService as Yes/No and SeniorCitizen as a 0/1 dummy. Let's fix that."
   ]
  },
  {
   "cell_type": "code",
   "execution_count": 21,
   "metadata": {},
   "outputs": [
    {
     "name": "stdout",
     "output_type": "stream",
     "text": [
      "We can't convert this column to floats, there must be some non-convertible values\n"
     ]
    }
   ],
   "source": [
    "try:\n",
    "    tcc.TotalCharges.astype(\"float64\")\n",
    "except ValueError:\n",
    "    print(\"We can't convert this column to floats, there must be some non-convertible values\")"
   ]
  },
  {
   "cell_type": "code",
   "execution_count": 22,
   "metadata": {},
   "outputs": [
    {
     "name": "stdout",
     "output_type": "stream",
     "text": [
      "         11\n",
      "20.2      9\n",
      "19.65     7\n",
      "19.55     7\n",
      "20.25     6\n",
      "Name: TotalCharges, dtype: int64\n",
      "\n",
      "We have 11 observations that take an empty string value. Let's drop that. The string we want to drop is:\n"
     ]
    },
    {
     "data": {
      "text/plain": [
       "'20.2'"
      ]
     },
     "execution_count": 22,
     "metadata": {},
     "output_type": "execute_result"
    }
   ],
   "source": [
    "print(tcc.TotalCharges.value_counts().head())\n",
    "print(\"\")\n",
    "print(\"We have 11 observations that take an empty string value. Let's drop that. The string we want to drop is:\")\n",
    "tcc.TotalCharges.value_counts().index[1]"
   ]
  },
  {
   "cell_type": "markdown",
   "metadata": {},
   "source": [
    "Let's drop the observations with empty values, reset the index and now I should be able to convert the TotalCharges column to float:"
   ]
  },
  {
   "cell_type": "code",
   "execution_count": 23,
   "metadata": {},
   "outputs": [],
   "source": [
    "def fill_missing(df):\n",
    "    df.drop(df[df.TotalCharges == \" \"].index, axis = 0, inplace = True)\n",
    "    df.reset_index(drop = True, inplace = True)\n",
    "    df.TotalCharges = df.TotalCharges.astype(\"float64\")\n",
    "    return df"
   ]
  },
  {
   "cell_type": "code",
   "execution_count": 24,
   "metadata": {},
   "outputs": [],
   "source": [
    "tcc = fill_missing(tcc)"
   ]
  },
  {
   "cell_type": "markdown",
   "metadata": {},
   "source": [
    "Let's compute some last computations before extracting the Dummy Variables from the dataset and proceeding to the Regression Part."
   ]
  },
  {
   "cell_type": "code",
   "execution_count": 25,
   "metadata": {},
   "outputs": [
    {
     "name": "stdout",
     "output_type": "stream",
     "text": [
      "customerID: ['7590-VHVEG' '5575-GNVDE' '7795-CFOCW' ... '4801-JZAZL' '8361-LTMKD'\n",
      " '3186-AJIEK']\n",
      "gender: ['Female' 'Male']\n",
      "SeniorCitizen: [0 1]\n",
      "Partner: ['Yes' 'No']\n",
      "Dependents: ['No' 'Yes']\n",
      "tenure: [ 1 34 45  2  8 22 10 28 62 13 58 49 25 69 52 21 30 47 72 27 11 17 63 15\n",
      " 60 18 66  9  3 31 50 64 56  7 42 35 48 29  5 43 37 36  6  4 33 67 23 57\n",
      " 61 71 65 14 16 53 32 20 40 59 24 44 19 12 54 41 68 38 51 46 70 55 39 26]\n",
      "PhoneService: ['No' 'Yes']\n",
      "MultipleLines: ['No phone service' 'No' 'Yes']\n",
      "InternetService: ['DSL' 'Fiber optic' 'No']\n",
      "OnlineSecurity: ['No' 'Yes' 'No internet service']\n",
      "OnlineBackup: ['Yes' 'No' 'No internet service']\n",
      "DeviceProtection: ['No' 'Yes' 'No internet service']\n",
      "TechSupport: ['No' 'Yes' 'No internet service']\n",
      "StreamingTV: ['No' 'Yes' 'No internet service']\n",
      "StreamingMovies: ['No' 'Yes' 'No internet service']\n",
      "Contract: ['Month-to-month' 'One year' 'Two year']\n",
      "PaperlessBilling: ['Yes' 'No']\n",
      "PaymentMethod: ['Electronic check' 'Mailed check' 'Bank transfer (automatic)'\n",
      " 'Credit card (automatic)']\n",
      "MonthlyCharges: [ 29.85  56.95  42.3  ... 108.35  44.2   78.7 ]\n",
      "TotalCharges: [  29.85 1889.5  1840.75 ...  346.45  306.6  6844.5 ]\n",
      "Churn: ['No' 'Yes']\n"
     ]
    }
   ],
   "source": [
    "for col in tcc.columns:\n",
    "    print(\"{0}: {1}\".format(col, tcc.loc[:, col].unique()))"
   ]
  },
  {
   "cell_type": "code",
   "execution_count": 49,
   "metadata": {},
   "outputs": [
    {
     "data": {
      "image/png": "[encoded data removed]",
      "text/plain": [
       "<Figure size 1152x720 with 6 Axes>"
      ]
     },
     "metadata": {},
     "output_type": "display_data"
    }
   ],
   "source": [
    "fig, axis = plt.subplots(nrows = 2, ncols = 3, figsize = (16, 10))\n",
    "\n",
    "gb = tcc.groupby(\"InternetService\")[\"Churn\"].value_counts()/len(tcc)\n",
    "gb = gb.to_frame().rename({\"Churn\": \"% of customers\"}, axis = 1).reset_index()\n",
    "sns.barplot(x = \"InternetService\", y = \"% of customers\", data = gb, hue = \"Churn\", ax = axis[0][0]).set_title(\"Internet Service and Churn\");\n",
    "\n",
    "gb = tcc.groupby(\"PhoneService\")[\"Churn\"].value_counts()/len(tcc)\n",
    "gb = gb.to_frame().rename({\"Churn\": \"% of customers\"}, axis = 1).reset_index()\n",
    "sns.barplot(x = \"PhoneService\", y = \"% of customers\", data = gb, hue = \"Churn\", ax = axis[0][1]).set_title(\"Phone Service and Churn\");\n",
    "\n",
    "gb = tcc.groupby(\"MultipleLines\")[\"Churn\"].value_counts()/len(tcc)\n",
    "gb = gb.to_frame().rename({\"Churn\": \"% of customers\"}, axis = 1).reset_index()\n",
    "sns.barplot(x = \"MultipleLines\", y = \"% of customers\", data = gb, hue = \"Churn\", ax = axis[0][2]).set_title(\"Multiple Lines Phone Option and Churn\");\n",
    "\n",
    "gb = tcc.groupby(\"Contract\")[\"Churn\"].value_counts()/len(tcc)\n",
    "gb = gb.to_frame().rename({\"Churn\": \"% of customers\"}, axis = 1).reset_index()\n",
    "sns.barplot(x = \"Contract\", y = \"% of customers\", data = gb, hue = \"Churn\", ax = axis[1][1]).set_title(\"Contract Type and Churn\");"
   ]
  },
  {
   "cell_type": "markdown",
   "metadata": {},
   "source": [
    "It is noticeable that the customers with Fiber optic tend to churn a lot more when compared to DSL and No Internet. Maybe the Internet connection offered is low-quality? (Other option: Elder Customers don't need an internet connection. Spoiler: No. See following graph that proves that elderly are proportionally more connected than youngsters and are only a reduced percentage of the population).\n",
    "\n",
    "MultipleLines do not seem to affect the churn rate.\n",
    "\n",
    "Shorter-term contract renewals are highly correlated with the churn rate. But most likely it's an omitted variable bias issue: the more I trust a provider, the more I reason in long-terms with it."
   ]
  },
  {
   "cell_type": "code",
   "execution_count": 50,
   "metadata": {},
   "outputs": [
    {
     "data": {
      "image/png": "[encoded data removed]",
      "text/plain": [
       "<Figure size 432x288 with 1 Axes>"
      ]
     },
     "metadata": {},
     "output_type": "display_data"
    }
   ],
   "source": [
    "gb = tcc.groupby(\"SeniorCitizen\")[\"InternetService\"].value_counts()/len(tcc)\n",
    "gb = gb.to_frame().rename({\"InternetService\": \"% of customers\"}, axis = 1).reset_index()\n",
    "sns.barplot(x = \"SeniorCitizen\", y = \"% of customers\", data = gb, hue = \"InternetService\").set_title(\"Age Group and Internet Connection\");"
   ]
  },
  {
   "cell_type": "markdown",
   "metadata": {},
   "source": [
    "Now let's see how the \"Additional Internet Services\" that follow the variable pattern: [\"No\", \"Yes\", \"No internet service\"] affect the churn rate."
   ]
  },
  {
   "cell_type": "code",
   "execution_count": 51,
   "metadata": {},
   "outputs": [
    {
     "data": {
      "image/png": "[encoded data removed]",
      "text/plain": [
       "<Figure size 1152x720 with 6 Axes>"
      ]
     },
     "metadata": {},
     "output_type": "display_data"
    }
   ],
   "source": [
    "fig, axis = plt.subplots(nrows = 2, ncols = 3, figsize = (16, 10))\n",
    "\n",
    "gb = tcc.groupby(\"OnlineSecurity\")[\"Churn\"].value_counts()/len(tcc)\n",
    "gb = gb.to_frame().rename({\"Churn\": \"% of customers\"}, axis = 1).reset_index()\n",
    "sns.barplot(x = \"OnlineSecurity\", y = \"% of customers\", data = gb, hue = \"Churn\", ax = axis[0][0]).set_title(\"OnlineSecurity Internet Service and Churn\")\n",
    "\n",
    "gb = tcc.groupby(\"OnlineBackup\")[\"Churn\"].value_counts()/len(tcc)\n",
    "gb = gb.to_frame().rename({\"Churn\": \"% of customers\"}, axis = 1).reset_index()\n",
    "sns.barplot(x = \"OnlineBackup\", y = \"% of customers\", data = gb, hue = \"Churn\", ax = axis[0][1]).set_title(\"OnlineBackup Internet Service and Churn\")\n",
    "\n",
    "gb = tcc.groupby(\"DeviceProtection\")[\"Churn\"].value_counts()/len(tcc)\n",
    "gb = gb.to_frame().rename({\"Churn\": \"% of customers\"}, axis = 1).reset_index()\n",
    "sns.barplot(x = \"DeviceProtection\", y = \"% of customers\", data = gb, hue = \"Churn\", ax = axis[0][2]).set_title(\"DeviceProtection Internet Service and Churn\")\n",
    "\n",
    "gb = tcc.groupby(\"TechSupport\")[\"Churn\"].value_counts()/len(tcc)\n",
    "gb = gb.to_frame().rename({\"Churn\": \"% of customers\"}, axis = 1).reset_index()\n",
    "sns.barplot(x = \"TechSupport\", y = \"% of customers\", data = gb, hue = \"Churn\", ax = axis[1][0]).set_title(\"TechSupport Internet Service and Churn\")\n",
    "\n",
    "gb = tcc.groupby(\"StreamingTV\")[\"Churn\"].value_counts()/len(tcc)\n",
    "gb = gb.to_frame().rename({\"Churn\": \"% of customers\"}, axis = 1).reset_index()\n",
    "sns.barplot(x = \"StreamingTV\", y = \"% of customers\", data = gb, hue = \"Churn\", ax = axis[1][1]).set_title(\"StreamingTV Internet Service and Churn\")\n",
    "\n",
    "gb = tcc.groupby(\"StreamingMovies\")[\"Churn\"].value_counts()/len(tcc)\n",
    "gb = gb.to_frame().rename({\"Churn\": \"% of customers\"}, axis = 1).reset_index()\n",
    "sns.barplot(x = \"StreamingMovies\", y = \"% of customers\", data = gb, hue = \"Churn\", ax = axis[1][2]).set_title(\"StreamingMovies Internet Service and Churn\");"
   ]
  },
  {
   "cell_type": "markdown",
   "metadata": {},
   "source": [
    "- OnlineSecurity, OnlineBackup, TechSupport seem to have a significant impact on lowering the churn. If the company wants to lower the churn rate, It may be a good idea to include these services as standard in the following order: OnlineSecurity, TechSupport, OnlineBackUp, DeviceProtection (although removing the internet connection service altogether may be potentially be more beneficial, at least the Fiber one; see graphs above for details). Although unlikely, it is also possible that these services get cumulated with tenure, and thus their effect on the churn only reflects the negative impact of tenure on the churn rate; in the next cells we will try to figure out whether this is true or not.\n",
    "\n",
    "- StreamingTV and StreamingMovies do not seem to have a large enough effect on customer Churn Rate."
   ]
  },
  {
   "cell_type": "markdown",
   "metadata": {},
   "source": [
    "To assess whether additional services are accumulated through tenure (e.g. fidalty programs), let's run a lmplot for each additional Internet service."
   ]
  },
  {
   "cell_type": "code",
   "execution_count": 26,
   "metadata": {},
   "outputs": [
    {
     "data": {
      "image/png": "[encoded data removed]",
      "text/plain": [
       "<Figure size 360x360 with 1 Axes>"
      ]
     },
     "metadata": {},
     "output_type": "display_data"
    }
   ],
   "source": [
    "gb = tcc[(tcc.OnlineSecurity != \"No internet service\")].replace([\"Yes\", \"No\"], [1, 0]).groupby(\"tenure\")[\"OnlineSecurity\"].sum().to_frame().reset_index()\n",
    "sns.lmplot(\"tenure\", \"OnlineSecurity\", data = gb, line_kws={'color': 'red'}, lowess = True);\n",
    "ax = plt.gca()\n",
    "ax.set_title(\"Number of OnlineSecurity subscribers per Tenure level\");"
   ]
  },
  {
   "cell_type": "code",
   "execution_count": 27,
   "metadata": {},
   "outputs": [
    {
     "data": {
      "image/png": "[encoded data removed]",
      "text/plain": [
       "<Figure size 360x360 with 1 Axes>"
      ]
     },
     "metadata": {},
     "output_type": "display_data"
    }
   ],
   "source": [
    "gb = tcc[(tcc.OnlineBackup != \"No internet service\")].replace([\"Yes\", \"No\"], [1, 0]).groupby(\"tenure\")[\"OnlineBackup\"].sum().to_frame().reset_index()\n",
    "sns.lmplot(\"tenure\", \"OnlineBackup\", data = gb, line_kws={'color': 'red'}, lowess = True)\n",
    "ax = plt.gca()\n",
    "ax.set_title(\"Number of OnlineBackup subscribers per Tenure level\");"
   ]
  },
  {
   "cell_type": "code",
   "execution_count": 28,
   "metadata": {},
   "outputs": [
    {
     "data": {
      "image/png": "[encoded data removed]",
      "text/plain": [
       "<Figure size 360x360 with 1 Axes>"
      ]
     },
     "metadata": {},
     "output_type": "display_data"
    }
   ],
   "source": [
    "gb = tcc[(tcc.DeviceProtection != \"No internet service\")].replace([\"Yes\", \"No\"], [1, 0]).groupby(\"tenure\")[\"DeviceProtection\"].sum().to_frame().reset_index()\n",
    "sns.lmplot(\"tenure\", \"DeviceProtection\", data = gb, line_kws={'color': 'red'}, lowess = True)\n",
    "ax = plt.gca()\n",
    "ax.set_title(\"Number of DeviceProtection subscribers per Tenure level\");"
   ]
  },
  {
   "cell_type": "code",
   "execution_count": 29,
   "metadata": {},
   "outputs": [
    {
     "data": {
      "image/png": "[encoded data removed]",
      "text/plain": [
       "<Figure size 360x360 with 1 Axes>"
      ]
     },
     "metadata": {},
     "output_type": "display_data"
    }
   ],
   "source": [
    "gb = tcc[(tcc.TechSupport != \"No internet service\")].replace([\"Yes\", \"No\"], [1, 0]).groupby(\"tenure\")[\"TechSupport\"].sum().to_frame().reset_index()\n",
    "sns.lmplot(\"tenure\", \"TechSupport\", data = gb, line_kws={'color': 'red'}, lowess = True)\n",
    "ax = plt.gca()\n",
    "ax.set_title(\"Number of TechSupport subscribers per Tenure level\");"
   ]
  },
  {
   "cell_type": "code",
   "execution_count": 30,
   "metadata": {},
   "outputs": [
    {
     "data": {
      "image/png": "[encoded data removed]",
      "text/plain": [
       "<Figure size 360x360 with 1 Axes>"
      ]
     },
     "metadata": {},
     "output_type": "display_data"
    }
   ],
   "source": [
    "gb = tcc[(tcc.StreamingTV != \"No internet service\")].replace([\"Yes\", \"No\"], [1, 0]).groupby(\"tenure\")[\"StreamingTV\"].sum().to_frame().reset_index()\n",
    "sns.lmplot(\"tenure\", \"StreamingTV\", data = gb, line_kws={'color': 'red'}, lowess = True)\n",
    "ax = plt.gca()\n",
    "ax.set_title(\"Number of StreamingTV subscribers per Tenure level\");"
   ]
  },
  {
   "cell_type": "code",
   "execution_count": 31,
   "metadata": {},
   "outputs": [
    {
     "data": {
      "image/png": "[encoded data removed]",
      "text/plain": [
       "<Figure size 360x360 with 1 Axes>"
      ]
     },
     "metadata": {},
     "output_type": "display_data"
    }
   ],
   "source": [
    "gb = tcc[(tcc.StreamingMovies != \"No internet service\")].replace([\"Yes\", \"No\"], [1, 0]).groupby(\"tenure\")[\"StreamingMovies\"].sum().to_frame().reset_index()\n",
    "sns.lmplot(\"tenure\", \"StreamingMovies\", data = gb, line_kws={'color': 'red'}, lowess = True)\n",
    "ax = plt.gca()\n",
    "ax.set_title(\"Number of StreamingMovies subscribers per Tenure level\");"
   ]
  },
  {
   "cell_type": "markdown",
   "metadata": {},
   "source": [
    "The absolute number of each Additional Service seems to move in syncro with the others as tenure increases. It does not seem that there is any significant correlation between the number of active Additional Services and tenure, although people with borderline tenures have an extremely high number of Additional Services.\n",
    "\n",
    "It's weird that so many people with high tenures have so many additional services. Is it just that there are many people with maximum tenure although the percentage of additional services across tenure level stays the same? Hypothesis: at the beginning, the company had a launch offer all-included. Let's check the percentages of people that have these services for each tenure level."
   ]
  },
  {
   "cell_type": "code",
   "execution_count": 32,
   "metadata": {},
   "outputs": [
    {
     "data": {
      "image/png": "[encoded data removed]",
      "text/plain": [
       "<Figure size 360x360 with 1 Axes>"
      ]
     },
     "metadata": {},
     "output_type": "display_data"
    }
   ],
   "source": [
    "gb = tcc[(tcc.OnlineSecurity != \"No internet service\")].replace([\"Yes\", \"No\"], [1, 0])\n",
    "gb[\"AllServices\"] = gb.OnlineSecurity*gb.OnlineBackup*gb.DeviceProtection*gb.TechSupport*gb.StreamingTV*gb.StreamingMovies\n",
    "sns.lmplot(\"tenure\", \"AllServices\", data = gb, line_kws={'color': 'red'}, lowess = True);\n",
    "ax = plt.gca()\n",
    "ax.set_title(\"Percentage of subscribers to all services per Tenure level\");"
   ]
  },
  {
   "cell_type": "code",
   "execution_count": 33,
   "metadata": {},
   "outputs": [],
   "source": [
    "tvc = gb.tenure.value_counts()\n",
    "i = []\n",
    "v = []\n",
    "for tenure in tvc.index:\n",
    "    i.append(tenure)\n",
    "    v.append(len(gb[(gb.tenure == tenure) & (gb.AllServices == 1)])/len(gb[gb.tenure == tenure]))"
   ]
  },
  {
   "cell_type": "code",
   "execution_count": 34,
   "metadata": {},
   "outputs": [
    {
     "data": {
      "image/png": "[encoded data removed]",
      "text/plain": [
       "<Figure size 360x360 with 1 Axes>"
      ]
     },
     "metadata": {},
     "output_type": "display_data"
    }
   ],
   "source": [
    "df = pd.DataFrame(data = v, index = i, columns = [\"%AllServices\"]).reset_index().sort_values(\"index\").reset_index(drop = True).rename({\"index\": \"tenure\"}, axis = 1)\n",
    "\n",
    "sns.lmplot(\"tenure\", \"%AllServices\", data = df, line_kws={'color': 'red'}, lowess = True)\n",
    "ax = plt.gca()\n",
    "ax.set_title(\"Percentage of Customers with all Additional Services Active per Tenure level\");"
   ]
  },
  {
   "cell_type": "code",
   "execution_count": 35,
   "metadata": {},
   "outputs": [
    {
     "data": {
      "image/png": "[encoded data removed]",
      "text/plain": [
       "<Figure size 432x288 with 1 Axes>"
      ]
     },
     "metadata": {},
     "output_type": "display_data"
    }
   ],
   "source": [
    "plt.plot(df.tenure, df[\"%AllServices\"]);\n",
    "ax = plt.gca()\n",
    "ax.set_title(\"Trend in percentage of customers subscribed to all services for each tenure level\");"
   ]
  },
  {
   "cell_type": "markdown",
   "metadata": {},
   "source": [
    "Indeed, it seems that the people who subscribed for first have many additional services. Possible explanations:\n",
    "- Launch offer: all additional services forever included at a discounted price.\n",
    "- Selection bias: the first customers are the ones who appreciate the most the services offered by the company.\n",
    "\n",
    "Either case, the hypothesis that additional services are accumulated through tenure can be dismissed, for two reasons:\n",
    "- There is a strong spike up in the percentage and number of users with all the services around tenure = 70. Nonetheless, the trend in percentage of users with all the services grows constantly, while the absolute number of the individual services stays pretty much constant across tenure levels. This means the the increase in percentage is justifiable only by a convenient launch offer all-inclusive, that rules out the large amount of active offers for customers with extremely high tenure. _(Regression in the Appendix confirms this result.)_\n",
    "- if there was a cumulation of benefits, the drop on the 69th tenure value could be hardly justifiable, whereas it could be justified by a change in the offer or a decrease in interest towards the company."
   ]
  },
  {
   "cell_type": "markdown",
   "metadata": {},
   "source": [
    "### Encoding the dummy variables"
   ]
  },
  {
   "cell_type": "code",
   "execution_count": 36,
   "metadata": {},
   "outputs": [],
   "source": [
    "def get_dummy(df):\n",
    "    df = pd.get_dummies(df.iloc[:, 1 :])\n",
    "    return df"
   ]
  },
  {
   "cell_type": "code",
   "execution_count": 37,
   "metadata": {},
   "outputs": [
    {
     "data": {
      "text/html": [
       "<div>\n",
       "<style scoped>\n",
       "    .dataframe tbody tr th:only-of-type {\n",
       "        vertical-align: middle;\n",
       "    }\n",
       "\n",
       "    .dataframe tbody tr th {\n",
       "        vertical-align: top;\n",
       "    }\n",
       "\n",
       "    .dataframe thead th {\n",
       "        text-align: right;\n",
       "    }\n",
       "</style>\n",
       "<table border=\"1\" class=\"dataframe\">\n",
       "  <thead>\n",
       "    <tr style=\"text-align: right;\">\n",
       "      <th></th>\n",
       "      <th>SeniorCitizen</th>\n",
       "      <th>tenure</th>\n",
       "      <th>MonthlyCharges</th>\n",
       "      <th>TotalCharges</th>\n",
       "      <th>gender_Female</th>\n",
       "      <th>gender_Male</th>\n",
       "      <th>Partner_No</th>\n",
       "      <th>Partner_Yes</th>\n",
       "      <th>Dependents_No</th>\n",
       "      <th>Dependents_Yes</th>\n",
       "      <th>PhoneService_No</th>\n",
       "      <th>PhoneService_Yes</th>\n",
       "      <th>MultipleLines_No</th>\n",
       "      <th>MultipleLines_No phone service</th>\n",
       "      <th>MultipleLines_Yes</th>\n",
       "      <th>InternetService_DSL</th>\n",
       "      <th>InternetService_Fiber optic</th>\n",
       "      <th>InternetService_No</th>\n",
       "      <th>OnlineSecurity_No</th>\n",
       "      <th>OnlineSecurity_No internet service</th>\n",
       "      <th>OnlineSecurity_Yes</th>\n",
       "      <th>OnlineBackup_No</th>\n",
       "      <th>OnlineBackup_No internet service</th>\n",
       "      <th>OnlineBackup_Yes</th>\n",
       "      <th>DeviceProtection_No</th>\n",
       "      <th>DeviceProtection_No internet service</th>\n",
       "      <th>DeviceProtection_Yes</th>\n",
       "      <th>TechSupport_No</th>\n",
       "      <th>TechSupport_No internet service</th>\n",
       "      <th>TechSupport_Yes</th>\n",
       "      <th>StreamingTV_No</th>\n",
       "      <th>StreamingTV_No internet service</th>\n",
       "      <th>StreamingTV_Yes</th>\n",
       "      <th>StreamingMovies_No</th>\n",
       "      <th>StreamingMovies_No internet service</th>\n",
       "      <th>StreamingMovies_Yes</th>\n",
       "      <th>Contract_Month-to-month</th>\n",
       "      <th>Contract_One year</th>\n",
       "      <th>Contract_Two year</th>\n",
       "      <th>PaperlessBilling_No</th>\n",
       "      <th>PaperlessBilling_Yes</th>\n",
       "      <th>PaymentMethod_Bank transfer (automatic)</th>\n",
       "      <th>PaymentMethod_Credit card (automatic)</th>\n",
       "      <th>PaymentMethod_Electronic check</th>\n",
       "      <th>PaymentMethod_Mailed check</th>\n",
       "      <th>Churn_No</th>\n",
       "      <th>Churn_Yes</th>\n",
       "    </tr>\n",
       "  </thead>\n",
       "  <tbody>\n",
       "    <tr>\n",
       "      <th>0</th>\n",
       "      <td>0</td>\n",
       "      <td>1</td>\n",
       "      <td>29.85</td>\n",
       "      <td>29.85</td>\n",
       "      <td>1</td>\n",
       "      <td>0</td>\n",
       "      <td>0</td>\n",
       "      <td>1</td>\n",
       "      <td>1</td>\n",
       "      <td>0</td>\n",
       "      <td>1</td>\n",
       "      <td>0</td>\n",
       "      <td>0</td>\n",
       "      <td>1</td>\n",
       "      <td>0</td>\n",
       "      <td>1</td>\n",
       "      <td>0</td>\n",
       "      <td>0</td>\n",
       "      <td>1</td>\n",
       "      <td>0</td>\n",
       "      <td>0</td>\n",
       "      <td>0</td>\n",
       "      <td>0</td>\n",
       "      <td>1</td>\n",
       "      <td>1</td>\n",
       "      <td>0</td>\n",
       "      <td>0</td>\n",
       "      <td>1</td>\n",
       "      <td>0</td>\n",
       "      <td>0</td>\n",
       "      <td>1</td>\n",
       "      <td>0</td>\n",
       "      <td>0</td>\n",
       "      <td>1</td>\n",
       "      <td>0</td>\n",
       "      <td>0</td>\n",
       "      <td>1</td>\n",
       "      <td>0</td>\n",
       "      <td>0</td>\n",
       "      <td>0</td>\n",
       "      <td>1</td>\n",
       "      <td>0</td>\n",
       "      <td>0</td>\n",
       "      <td>1</td>\n",
       "      <td>0</td>\n",
       "      <td>1</td>\n",
       "      <td>0</td>\n",
       "    </tr>\n",
       "    <tr>\n",
       "      <th>1</th>\n",
       "      <td>0</td>\n",
       "      <td>34</td>\n",
       "      <td>56.95</td>\n",
       "      <td>1889.50</td>\n",
       "      <td>0</td>\n",
       "      <td>1</td>\n",
       "      <td>1</td>\n",
       "      <td>0</td>\n",
       "      <td>1</td>\n",
       "      <td>0</td>\n",
       "      <td>0</td>\n",
       "      <td>1</td>\n",
       "      <td>1</td>\n",
       "      <td>0</td>\n",
       "      <td>0</td>\n",
       "      <td>1</td>\n",
       "      <td>0</td>\n",
       "      <td>0</td>\n",
       "      <td>0</td>\n",
       "      <td>0</td>\n",
       "      <td>1</td>\n",
       "      <td>1</td>\n",
       "      <td>0</td>\n",
       "      <td>0</td>\n",
       "      <td>0</td>\n",
       "      <td>0</td>\n",
       "      <td>1</td>\n",
       "      <td>1</td>\n",
       "      <td>0</td>\n",
       "      <td>0</td>\n",
       "      <td>1</td>\n",
       "      <td>0</td>\n",
       "      <td>0</td>\n",
       "      <td>1</td>\n",
       "      <td>0</td>\n",
       "      <td>0</td>\n",
       "      <td>0</td>\n",
       "      <td>1</td>\n",
       "      <td>0</td>\n",
       "      <td>1</td>\n",
       "      <td>0</td>\n",
       "      <td>0</td>\n",
       "      <td>0</td>\n",
       "      <td>0</td>\n",
       "      <td>1</td>\n",
       "      <td>1</td>\n",
       "      <td>0</td>\n",
       "    </tr>\n",
       "    <tr>\n",
       "      <th>2</th>\n",
       "      <td>0</td>\n",
       "      <td>45</td>\n",
       "      <td>42.30</td>\n",
       "      <td>1840.75</td>\n",
       "      <td>0</td>\n",
       "      <td>1</td>\n",
       "      <td>1</td>\n",
       "      <td>0</td>\n",
       "      <td>1</td>\n",
       "      <td>0</td>\n",
       "      <td>1</td>\n",
       "      <td>0</td>\n",
       "      <td>0</td>\n",
       "      <td>1</td>\n",
       "      <td>0</td>\n",
       "      <td>1</td>\n",
       "      <td>0</td>\n",
       "      <td>0</td>\n",
       "      <td>0</td>\n",
       "      <td>0</td>\n",
       "      <td>1</td>\n",
       "      <td>1</td>\n",
       "      <td>0</td>\n",
       "      <td>0</td>\n",
       "      <td>0</td>\n",
       "      <td>0</td>\n",
       "      <td>1</td>\n",
       "      <td>0</td>\n",
       "      <td>0</td>\n",
       "      <td>1</td>\n",
       "      <td>1</td>\n",
       "      <td>0</td>\n",
       "      <td>0</td>\n",
       "      <td>1</td>\n",
       "      <td>0</td>\n",
       "      <td>0</td>\n",
       "      <td>0</td>\n",
       "      <td>1</td>\n",
       "      <td>0</td>\n",
       "      <td>1</td>\n",
       "      <td>0</td>\n",
       "      <td>1</td>\n",
       "      <td>0</td>\n",
       "      <td>0</td>\n",
       "      <td>0</td>\n",
       "      <td>1</td>\n",
       "      <td>0</td>\n",
       "    </tr>\n",
       "    <tr>\n",
       "      <th>3</th>\n",
       "      <td>0</td>\n",
       "      <td>2</td>\n",
       "      <td>70.70</td>\n",
       "      <td>151.65</td>\n",
       "      <td>1</td>\n",
       "      <td>0</td>\n",
       "      <td>1</td>\n",
       "      <td>0</td>\n",
       "      <td>1</td>\n",
       "      <td>0</td>\n",
       "      <td>0</td>\n",
       "      <td>1</td>\n",
       "      <td>1</td>\n",
       "      <td>0</td>\n",
       "      <td>0</td>\n",
       "      <td>0</td>\n",
       "      <td>1</td>\n",
       "      <td>0</td>\n",
       "      <td>1</td>\n",
       "      <td>0</td>\n",
       "      <td>0</td>\n",
       "      <td>1</td>\n",
       "      <td>0</td>\n",
       "      <td>0</td>\n",
       "      <td>1</td>\n",
       "      <td>0</td>\n",
       "      <td>0</td>\n",
       "      <td>1</td>\n",
       "      <td>0</td>\n",
       "      <td>0</td>\n",
       "      <td>1</td>\n",
       "      <td>0</td>\n",
       "      <td>0</td>\n",
       "      <td>1</td>\n",
       "      <td>0</td>\n",
       "      <td>0</td>\n",
       "      <td>1</td>\n",
       "      <td>0</td>\n",
       "      <td>0</td>\n",
       "      <td>0</td>\n",
       "      <td>1</td>\n",
       "      <td>0</td>\n",
       "      <td>0</td>\n",
       "      <td>1</td>\n",
       "      <td>0</td>\n",
       "      <td>0</td>\n",
       "      <td>1</td>\n",
       "    </tr>\n",
       "    <tr>\n",
       "      <th>4</th>\n",
       "      <td>0</td>\n",
       "      <td>8</td>\n",
       "      <td>99.65</td>\n",
       "      <td>820.50</td>\n",
       "      <td>1</td>\n",
       "      <td>0</td>\n",
       "      <td>1</td>\n",
       "      <td>0</td>\n",
       "      <td>1</td>\n",
       "      <td>0</td>\n",
       "      <td>0</td>\n",
       "      <td>1</td>\n",
       "      <td>0</td>\n",
       "      <td>0</td>\n",
       "      <td>1</td>\n",
       "      <td>0</td>\n",
       "      <td>1</td>\n",
       "      <td>0</td>\n",
       "      <td>1</td>\n",
       "      <td>0</td>\n",
       "      <td>0</td>\n",
       "      <td>1</td>\n",
       "      <td>0</td>\n",
       "      <td>0</td>\n",
       "      <td>0</td>\n",
       "      <td>0</td>\n",
       "      <td>1</td>\n",
       "      <td>1</td>\n",
       "      <td>0</td>\n",
       "      <td>0</td>\n",
       "      <td>0</td>\n",
       "      <td>0</td>\n",
       "      <td>1</td>\n",
       "      <td>0</td>\n",
       "      <td>0</td>\n",
       "      <td>1</td>\n",
       "      <td>1</td>\n",
       "      <td>0</td>\n",
       "      <td>0</td>\n",
       "      <td>0</td>\n",
       "      <td>1</td>\n",
       "      <td>0</td>\n",
       "      <td>0</td>\n",
       "      <td>1</td>\n",
       "      <td>0</td>\n",
       "      <td>0</td>\n",
       "      <td>1</td>\n",
       "    </tr>\n",
       "  </tbody>\n",
       "</table>\n",
       "</div>"
      ],
      "text/plain": [
       "   SeniorCitizen  tenure  MonthlyCharges  TotalCharges  gender_Female  \\\n",
       "0              0       1           29.85         29.85              1   \n",
       "1              0      34           56.95       1889.50              0   \n",
       "2              0      45           42.30       1840.75              0   \n",
       "3              0       2           70.70        151.65              1   \n",
       "4              0       8           99.65        820.50              1   \n",
       "\n",
       "   gender_Male  Partner_No  Partner_Yes  Dependents_No  Dependents_Yes  \\\n",
       "0            0           0            1              1               0   \n",
       "1            1           1            0              1               0   \n",
       "2            1           1            0              1               0   \n",
       "3            0           1            0              1               0   \n",
       "4            0           1            0              1               0   \n",
       "\n",
       "   PhoneService_No  PhoneService_Yes  MultipleLines_No  \\\n",
       "0                1                 0                 0   \n",
       "1                0                 1                 1   \n",
       "2                1                 0                 0   \n",
       "3                0                 1                 1   \n",
       "4                0                 1                 0   \n",
       "\n",
       "   MultipleLines_No phone service  MultipleLines_Yes  InternetService_DSL  \\\n",
       "0                               1                  0                    1   \n",
       "1                               0                  0                    1   \n",
       "2                               1                  0                    1   \n",
       "3                               0                  0                    0   \n",
       "4                               0                  1                    0   \n",
       "\n",
       "   InternetService_Fiber optic  InternetService_No  OnlineSecurity_No  \\\n",
       "0                            0                   0                  1   \n",
       "1                            0                   0                  0   \n",
       "2                            0                   0                  0   \n",
       "3                            1                   0                  1   \n",
       "4                            1                   0                  1   \n",
       "\n",
       "   OnlineSecurity_No internet service  OnlineSecurity_Yes  OnlineBackup_No  \\\n",
       "0                                   0                   0                0   \n",
       "1                                   0                   1                1   \n",
       "2                                   0                   1                1   \n",
       "3                                   0                   0                1   \n",
       "4                                   0                   0                1   \n",
       "\n",
       "   OnlineBackup_No internet service  OnlineBackup_Yes  DeviceProtection_No  \\\n",
       "0                                 0                 1                    1   \n",
       "1                                 0                 0                    0   \n",
       "2                                 0                 0                    0   \n",
       "3                                 0                 0                    1   \n",
       "4                                 0                 0                    0   \n",
       "\n",
       "   DeviceProtection_No internet service  DeviceProtection_Yes  TechSupport_No  \\\n",
       "0                                     0                     0               1   \n",
       "1                                     0                     1               1   \n",
       "2                                     0                     1               0   \n",
       "3                                     0                     0               1   \n",
       "4                                     0                     1               1   \n",
       "\n",
       "   TechSupport_No internet service  TechSupport_Yes  StreamingTV_No  \\\n",
       "0                                0                0               1   \n",
       "1                                0                0               1   \n",
       "2                                0                1               1   \n",
       "3                                0                0               1   \n",
       "4                                0                0               0   \n",
       "\n",
       "   StreamingTV_No internet service  StreamingTV_Yes  StreamingMovies_No  \\\n",
       "0                                0                0                   1   \n",
       "1                                0                0                   1   \n",
       "2                                0                0                   1   \n",
       "3                                0                0                   1   \n",
       "4                                0                1                   0   \n",
       "\n",
       "   StreamingMovies_No internet service  StreamingMovies_Yes  \\\n",
       "0                                    0                    0   \n",
       "1                                    0                    0   \n",
       "2                                    0                    0   \n",
       "3                                    0                    0   \n",
       "4                                    0                    1   \n",
       "\n",
       "   Contract_Month-to-month  Contract_One year  Contract_Two year  \\\n",
       "0                        1                  0                  0   \n",
       "1                        0                  1                  0   \n",
       "2                        0                  1                  0   \n",
       "3                        1                  0                  0   \n",
       "4                        1                  0                  0   \n",
       "\n",
       "   PaperlessBilling_No  PaperlessBilling_Yes  \\\n",
       "0                    0                     1   \n",
       "1                    1                     0   \n",
       "2                    1                     0   \n",
       "3                    0                     1   \n",
       "4                    0                     1   \n",
       "\n",
       "   PaymentMethod_Bank transfer (automatic)  \\\n",
       "0                                        0   \n",
       "1                                        0   \n",
       "2                                        1   \n",
       "3                                        0   \n",
       "4                                        0   \n",
       "\n",
       "   PaymentMethod_Credit card (automatic)  PaymentMethod_Electronic check  \\\n",
       "0                                      0                               1   \n",
       "1                                      0                               0   \n",
       "2                                      0                               0   \n",
       "3                                      0                               1   \n",
       "4                                      0                               1   \n",
       "\n",
       "   PaymentMethod_Mailed check  Churn_No  Churn_Yes  \n",
       "0                           0         1          0  \n",
       "1                           1         1          0  \n",
       "2                           0         1          0  \n",
       "3                           0         0          1  \n",
       "4                           0         0          1  "
      ]
     },
     "execution_count": 37,
     "metadata": {},
     "output_type": "execute_result"
    }
   ],
   "source": [
    "tcc = get_dummy(tcc)\n",
    "tcc.head()"
   ]
  },
  {
   "cell_type": "code",
   "execution_count": 38,
   "metadata": {},
   "outputs": [
    {
     "data": {
      "text/plain": [
       "SeniorCitizen                                int64\n",
       "tenure                                       int64\n",
       "MonthlyCharges                             float64\n",
       "TotalCharges                               float64\n",
       "gender_Female                                uint8\n",
       "gender_Male                                  uint8\n",
       "Partner_No                                   uint8\n",
       "Partner_Yes                                  uint8\n",
       "Dependents_No                                uint8\n",
       "Dependents_Yes                               uint8\n",
       "PhoneService_No                              uint8\n",
       "PhoneService_Yes                             uint8\n",
       "MultipleLines_No                             uint8\n",
       "MultipleLines_No phone service               uint8\n",
       "MultipleLines_Yes                            uint8\n",
       "InternetService_DSL                          uint8\n",
       "InternetService_Fiber optic                  uint8\n",
       "InternetService_No                           uint8\n",
       "OnlineSecurity_No                            uint8\n",
       "OnlineSecurity_No internet service           uint8\n",
       "OnlineSecurity_Yes                           uint8\n",
       "OnlineBackup_No                              uint8\n",
       "OnlineBackup_No internet service             uint8\n",
       "OnlineBackup_Yes                             uint8\n",
       "DeviceProtection_No                          uint8\n",
       "DeviceProtection_No internet service         uint8\n",
       "DeviceProtection_Yes                         uint8\n",
       "TechSupport_No                               uint8\n",
       "TechSupport_No internet service              uint8\n",
       "TechSupport_Yes                              uint8\n",
       "StreamingTV_No                               uint8\n",
       "StreamingTV_No internet service              uint8\n",
       "StreamingTV_Yes                              uint8\n",
       "StreamingMovies_No                           uint8\n",
       "StreamingMovies_No internet service          uint8\n",
       "StreamingMovies_Yes                          uint8\n",
       "Contract_Month-to-month                      uint8\n",
       "Contract_One year                            uint8\n",
       "Contract_Two year                            uint8\n",
       "PaperlessBilling_No                          uint8\n",
       "PaperlessBilling_Yes                         uint8\n",
       "PaymentMethod_Bank transfer (automatic)      uint8\n",
       "PaymentMethod_Credit card (automatic)        uint8\n",
       "PaymentMethod_Electronic check               uint8\n",
       "PaymentMethod_Mailed check                   uint8\n",
       "Churn_No                                     uint8\n",
       "Churn_Yes                                    uint8\n",
       "dtype: object"
      ]
     },
     "execution_count": 38,
     "metadata": {},
     "output_type": "execute_result"
    }
   ],
   "source": [
    "tcc.dtypes"
   ]
  },
  {
   "cell_type": "markdown",
   "metadata": {},
   "source": [
    "Let's have a look at the variables."
   ]
  },
  {
   "cell_type": "code",
   "execution_count": 39,
   "metadata": {},
   "outputs": [
    {
     "name": "stdout",
     "output_type": "stream",
     "text": [
      "SeniorCitizen: [0 1]\n",
      "tenure: [ 1 34 45  2  8 22 10 28 62 13 58 49 25 69 52 21 30 47 72 27 11 17 63 15\n",
      " 60 18 66  9  3 31 50 64 56  7 42 35 48 29  5 43 37 36  6  4 33 67 23 57\n",
      " 61 71 65 14 16 53 32 20 40 59 24 44 19 12 54 41 68 38 51 46 70 55 39 26]\n",
      "MonthlyCharges: [ 29.85  56.95  42.3  ... 108.35  44.2   78.7 ]\n",
      "TotalCharges: [  29.85 1889.5  1840.75 ...  346.45  306.6  6844.5 ]\n",
      "gender_Female: [1 0]\n",
      "gender_Male: [0 1]\n",
      "Partner_No: [0 1]\n",
      "Partner_Yes: [1 0]\n",
      "Dependents_No: [1 0]\n",
      "Dependents_Yes: [0 1]\n",
      "PhoneService_No: [1 0]\n",
      "PhoneService_Yes: [0 1]\n",
      "MultipleLines_No: [0 1]\n",
      "MultipleLines_No phone service: [1 0]\n",
      "MultipleLines_Yes: [0 1]\n",
      "InternetService_DSL: [1 0]\n",
      "InternetService_Fiber optic: [0 1]\n",
      "InternetService_No: [0 1]\n",
      "OnlineSecurity_No: [1 0]\n",
      "OnlineSecurity_No internet service: [0 1]\n",
      "OnlineSecurity_Yes: [0 1]\n",
      "OnlineBackup_No: [0 1]\n",
      "OnlineBackup_No internet service: [0 1]\n",
      "OnlineBackup_Yes: [1 0]\n",
      "DeviceProtection_No: [1 0]\n",
      "DeviceProtection_No internet service: [0 1]\n",
      "DeviceProtection_Yes: [0 1]\n",
      "TechSupport_No: [1 0]\n",
      "TechSupport_No internet service: [0 1]\n",
      "TechSupport_Yes: [0 1]\n",
      "StreamingTV_No: [1 0]\n",
      "StreamingTV_No internet service: [0 1]\n",
      "StreamingTV_Yes: [0 1]\n",
      "StreamingMovies_No: [1 0]\n",
      "StreamingMovies_No internet service: [0 1]\n",
      "StreamingMovies_Yes: [0 1]\n",
      "Contract_Month-to-month: [1 0]\n",
      "Contract_One year: [0 1]\n",
      "Contract_Two year: [0 1]\n",
      "PaperlessBilling_No: [0 1]\n",
      "PaperlessBilling_Yes: [1 0]\n",
      "PaymentMethod_Bank transfer (automatic): [0 1]\n",
      "PaymentMethod_Credit card (automatic): [0 1]\n",
      "PaymentMethod_Electronic check: [1 0]\n",
      "PaymentMethod_Mailed check: [0 1]\n",
      "Churn_No: [1 0]\n",
      "Churn_Yes: [0 1]\n"
     ]
    }
   ],
   "source": [
    "for col in tcc.columns:\n",
    "    print(\"{0}: {1}\".format(col, tcc.loc[:, col].unique()))"
   ]
  },
  {
   "cell_type": "markdown",
   "metadata": {},
   "source": [
    "# Dealing with outliers"
   ]
  },
  {
   "cell_type": "code",
   "execution_count": 41,
   "metadata": {},
   "outputs": [
    {
     "data": {
      "image/png": "[encoded data removed]",
      "text/plain": [
       "<Figure size 432x288 with 1 Axes>"
      ]
     },
     "metadata": {},
     "output_type": "display_data"
    }
   ],
   "source": [
    "sns.boxplot(x = tcc.MonthlyCharges).set_title(\"Monthly Charges Box Plot\");"
   ]
  },
  {
   "cell_type": "code",
   "execution_count": 42,
   "metadata": {},
   "outputs": [
    {
     "data": {
      "image/png": "[encoded data removed]",
      "text/plain": [
       "<Figure size 432x288 with 1 Axes>"
      ]
     },
     "metadata": {},
     "output_type": "display_data"
    }
   ],
   "source": [
    "sns.distplot(tcc.MonthlyCharges).set_title(\"Monthly Charges Distribution\");"
   ]
  },
  {
   "cell_type": "code",
   "execution_count": 43,
   "metadata": {},
   "outputs": [
    {
     "data": {
      "image/png": "[encoded data removed]",
      "text/plain": [
       "<Figure size 432x288 with 1 Axes>"
      ]
     },
     "metadata": {},
     "output_type": "display_data"
    }
   ],
   "source": [
    "sns.boxplot(x = tcc.TotalCharges).set_title(\"Total Charges Box Plot\");"
   ]
  },
  {
   "cell_type": "code",
   "execution_count": 44,
   "metadata": {},
   "outputs": [
    {
     "data": {
      "image/png": "[encoded data removed]",
      "text/plain": [
       "<Figure size 432x288 with 1 Axes>"
      ]
     },
     "metadata": {},
     "output_type": "display_data"
    }
   ],
   "source": [
    "sns.distplot(tcc.TotalCharges).set_title(\"Total Charges Distribution\");"
   ]
  },
  {
   "cell_type": "code",
   "execution_count": 45,
   "metadata": {},
   "outputs": [
    {
     "data": {
      "image/png": "[encoded data removed]",
      "text/plain": [
       "<Figure size 360x360 with 1 Axes>"
      ]
     },
     "metadata": {},
     "output_type": "display_data"
    }
   ],
   "source": [
    "sns.lmplot(\"TotalCharges\", \"Churn_Yes\", data = tcc, line_kws={'color': 'red'}, lowess = True, size = 5)\n",
    "plt.suptitle(\"Chances of Churn relative to Total Charges\");"
   ]
  },
  {
   "cell_type": "code",
   "execution_count": 46,
   "metadata": {},
   "outputs": [
    {
     "data": {
      "image/png": "[encoded data removed]",
      "text/plain": [
       "<Figure size 360x360 with 1 Axes>"
      ]
     },
     "metadata": {},
     "output_type": "display_data"
    }
   ],
   "source": [
    "sns.lmplot(\"MonthlyCharges\", \"Churn_Yes\", data = tcc, line_kws={'color': 'red'}, lowess = True, size = 5)\n",
    "plt.suptitle(\"Chances of Churn relative to Monthly Charges\");"
   ]
  },
  {
   "cell_type": "code",
   "execution_count": 47,
   "metadata": {},
   "outputs": [
    {
     "data": {
      "image/png": "[encoded data removed]",
      "text/plain": [
       "<Figure size 360x360 with 1 Axes>"
      ]
     },
     "metadata": {},
     "output_type": "display_data"
    }
   ],
   "source": [
    "sns.lmplot(\"tenure\", \"Churn_Yes\", data = tcc, line_kws={'color': 'red'}, lowess = True, size = 5)\n",
    "plt.suptitle(\"Chances of Churn relative to Tenure\");"
   ]
  },
  {
   "cell_type": "markdown",
   "metadata": {},
   "source": [
    "# Logistic regression"
   ]
  },
  {
   "cell_type": "markdown",
   "metadata": {},
   "source": [
    "I want to build a predictive model using Churn as dependent variable. First let's run the regression by including all the variables."
   ]
  },
  {
   "cell_type": "code",
   "execution_count": 48,
   "metadata": {},
   "outputs": [
    {
     "data": {
      "text/plain": [
       "Index(['SeniorCitizen', 'tenure', 'MonthlyCharges', 'TotalCharges',\n",
       "       'gender_Female', 'gender_Male', 'Partner_No', 'Partner_Yes',\n",
       "       'Dependents_No', 'Dependents_Yes', 'PhoneService_No',\n",
       "       'PhoneService_Yes', 'MultipleLines_No',\n",
       "       'MultipleLines_No phone service', 'MultipleLines_Yes',\n",
       "       'InternetService_DSL', 'InternetService_Fiber optic',\n",
       "       'InternetService_No', 'OnlineSecurity_No',\n",
       "       'OnlineSecurity_No internet service', 'OnlineSecurity_Yes',\n",
       "       'OnlineBackup_No', 'OnlineBackup_No internet service',\n",
       "       'OnlineBackup_Yes', 'DeviceProtection_No',\n",
       "       'DeviceProtection_No internet service', 'DeviceProtection_Yes',\n",
       "       'TechSupport_No', 'TechSupport_No internet service', 'TechSupport_Yes',\n",
       "       'StreamingTV_No', 'StreamingTV_No internet service', 'StreamingTV_Yes',\n",
       "       'StreamingMovies_No', 'StreamingMovies_No internet service',\n",
       "       'StreamingMovies_Yes', 'Contract_Month-to-month', 'Contract_One year',\n",
       "       'Contract_Two year', 'PaperlessBilling_No', 'PaperlessBilling_Yes',\n",
       "       'PaymentMethod_Bank transfer (automatic)',\n",
       "       'PaymentMethod_Credit card (automatic)',\n",
       "       'PaymentMethod_Electronic check', 'PaymentMethod_Mailed check',\n",
       "       'Churn_No', 'Churn_Yes'],\n",
       "      dtype='object')"
      ]
     },
     "execution_count": 48,
     "metadata": {},
     "output_type": "execute_result"
    }
   ],
   "source": [
    "tcc.columns"
   ]
  },
  {
   "cell_type": "markdown",
   "metadata": {},
   "source": [
    "Most of the variables differentiate between \"No\" and \"No internet service\". Given that the information about \"Internet Service\" or \"No internet service\" is already provided by the variable InternetService, we can just analyze the impact of having a service that implies having Internet Service versus not having it, without considering that a person could have for example no OnlineSecurity due to the fact that they do not have Internet Service.\n",
    "\n",
    "TotalCharges can also be excluded from the model, since it is likely to be correlated with MonthlyCharges (I am going to test this hypothesis by calculating the Pearson correlation coefficient)."
   ]
  },
  {
   "cell_type": "code",
   "execution_count": 49,
   "metadata": {},
   "outputs": [
    {
     "name": "stdout",
     "output_type": "stream",
     "text": [
      "Coefficient: 0.6520935440055995\n",
      "p-value: 0.0\n"
     ]
    }
   ],
   "source": [
    "# Pearson correlation coefficient\n",
    "print(\"Coefficient:\",scipy.stats.pearsonr(tcc[\"MonthlyCharges\"], tcc[\"TotalCharges\"])[0])\n",
    "print(\"p-value:\",scipy.stats.pearsonr(tcc[\"MonthlyCharges\"], tcc[\"TotalCharges\"])[1])"
   ]
  },
  {
   "cell_type": "markdown",
   "metadata": {},
   "source": [
    "The two variables are highly correlated."
   ]
  },
  {
   "cell_type": "markdown",
   "metadata": {},
   "source": [
    "Let's run a first regression including all the variables, and then progressively improve the model."
   ]
  },
  {
   "cell_type": "code",
   "execution_count": 50,
   "metadata": {},
   "outputs": [
    {
     "name": "stdout",
     "output_type": "stream",
     "text": [
      "Optimization terminated successfully.\n",
      "         Current function value: inf\n",
      "         Iterations 8\n"
     ]
    },
    {
     "data": {
      "text/html": [
       "<table class=\"simpletable\">\n",
       "<tr>\n",
       "        <td>Model:</td>              <td>Logit</td>      <td>Pseudo R-squared:</td>   <td>inf</td> \n",
       "</tr>\n",
       "<tr>\n",
       "  <td>Dependent Variable:</td>     <td>Churn_Yes</td>          <td>AIC:</td>          <td>inf</td> \n",
       "</tr>\n",
       "<tr>\n",
       "         <td>Date:</td>        <td>2021-08-23 16:35</td>       <td>BIC:</td>          <td>inf</td> \n",
       "</tr>\n",
       "<tr>\n",
       "   <td>No. Observations:</td>        <td>5641</td>        <td>Log-Likelihood:</td>   <td>-inf</td> \n",
       "</tr>\n",
       "<tr>\n",
       "       <td>Df Model:</td>             <td>22</td>            <td>LL-Null:</td>      <td>0.0000</td>\n",
       "</tr>\n",
       "<tr>\n",
       "     <td>Df Residuals:</td>          <td>5618</td>         <td>LLR p-value:</td>    <td>1.0000</td>\n",
       "</tr>\n",
       "<tr>\n",
       "      <td>Converged:</td>           <td>1.0000</td>           <td>Scale:</td>       <td>1.0000</td>\n",
       "</tr>\n",
       "<tr>\n",
       "    <td>No. Iterations:</td>        <td>8.0000</td>              <td></td>             <td></td>   \n",
       "</tr>\n",
       "</table>\n",
       "<table class=\"simpletable\">\n",
       "<tr>\n",
       "                     <td></td>                      <th>Coef.</th>  <th>Std.Err.</th>     <th>z</th>     <th>P>|z|</th> <th>[0.025</th>  <th>0.975]</th> \n",
       "</tr>\n",
       "<tr>\n",
       "  <th>SeniorCitizen</th>                           <td>0.2379</td>   <td>0.0954</td>   <td>2.4946</td>  <td>0.0126</td> <td>0.0510</td>  <td>0.4248</td> \n",
       "</tr>\n",
       "<tr>\n",
       "  <th>tenure</th>                                  <td>-0.0341</td>  <td>0.0027</td>  <td>-12.8075</td> <td>0.0000</td> <td>-0.0393</td> <td>-0.0289</td>\n",
       "</tr>\n",
       "<tr>\n",
       "  <th>MonthlyCharges</th>                          <td>-0.0403</td>  <td>0.0361</td>   <td>-1.1171</td> <td>0.2639</td> <td>-0.1110</td> <td>0.0304</td> \n",
       "</tr>\n",
       "<tr>\n",
       "  <th>gender_Female</th>                           <td>0.0417</td>   <td>0.0727</td>   <td>0.5729</td>  <td>0.5667</td> <td>-0.1009</td> <td>0.1842</td> \n",
       "</tr>\n",
       "<tr>\n",
       "  <th>Partner_Yes</th>                             <td>-0.0508</td>  <td>0.0873</td>   <td>-0.5813</td> <td>0.5611</td> <td>-0.2219</td> <td>0.1204</td> \n",
       "</tr>\n",
       "<tr>\n",
       "  <th>PhoneService_Yes</th>                        <td>0.2358</td>   <td>0.7381</td>   <td>0.3195</td>  <td>0.7493</td> <td>-1.2108</td> <td>1.6825</td> \n",
       "</tr>\n",
       "<tr>\n",
       "  <th>Dependents_Yes</th>                          <td>-0.1339</td>  <td>0.1004</td>   <td>-1.3344</td> <td>0.1821</td> <td>-0.3306</td> <td>0.0628</td> \n",
       "</tr>\n",
       "<tr>\n",
       "  <th>MultipleLines_Yes</th>                       <td>0.5366</td>   <td>0.2007</td>   <td>2.6741</td>  <td>0.0075</td> <td>0.1433</td>  <td>0.9299</td> \n",
       "</tr>\n",
       "<tr>\n",
       "  <th>InternetService_DSL</th>                     <td>1.8641</td>   <td>0.9172</td>   <td>2.0323</td>  <td>0.0421</td> <td>0.0663</td>  <td>3.6619</td> \n",
       "</tr>\n",
       "<tr>\n",
       "  <th>InternetService_Fiber optic</th>             <td>3.7951</td>   <td>1.8127</td>   <td>2.0936</td>  <td>0.0363</td> <td>0.2423</td>  <td>7.3480</td> \n",
       "</tr>\n",
       "<tr>\n",
       "  <th>OnlineSecurity_Yes</th>                      <td>-0.1458</td>  <td>0.2029</td>   <td>-0.7186</td> <td>0.4724</td> <td>-0.5436</td> <td>0.2519</td> \n",
       "</tr>\n",
       "<tr>\n",
       "  <th>OnlineBackup_Yes</th>                        <td>0.1063</td>   <td>0.1988</td>   <td>0.5344</td>  <td>0.5931</td> <td>-0.2834</td> <td>0.4960</td> \n",
       "</tr>\n",
       "<tr>\n",
       "  <th>DeviceProtection_Yes</th>                    <td>0.2034</td>   <td>0.1991</td>   <td>1.0215</td>  <td>0.3070</td> <td>-0.1868</td> <td>0.5936</td> \n",
       "</tr>\n",
       "<tr>\n",
       "  <th>TechSupport_Yes</th>                         <td>-0.0879</td>  <td>0.2046</td>   <td>-0.4296</td> <td>0.6675</td> <td>-0.4890</td> <td>0.3132</td> \n",
       "</tr>\n",
       "<tr>\n",
       "  <th>StreamingTV_Yes</th>                         <td>0.6637</td>   <td>0.3701</td>   <td>1.7936</td>  <td>0.0729</td> <td>-0.0616</td> <td>1.3890</td> \n",
       "</tr>\n",
       "<tr>\n",
       "  <th>StreamingMovies_Yes</th>                     <td>0.6724</td>   <td>0.3713</td>   <td>1.8112</td>  <td>0.0701</td> <td>-0.0552</td> <td>1.4000</td> \n",
       "</tr>\n",
       "<tr>\n",
       "  <th>Contract_One year</th>                       <td>-0.6997</td>  <td>0.1202</td>   <td>-5.8199</td> <td>0.0000</td> <td>-0.9353</td> <td>-0.4641</td>\n",
       "</tr>\n",
       "<tr>\n",
       "  <th>Contract_Two year</th>                       <td>-1.3591</td>  <td>0.1950</td>   <td>-6.9714</td> <td>0.0000</td> <td>-1.7412</td> <td>-0.9770</td>\n",
       "</tr>\n",
       "<tr>\n",
       "  <th>PaperlessBilling_Yes</th>                    <td>0.3633</td>   <td>0.0826</td>   <td>4.3996</td>  <td>0.0000</td> <td>0.2014</td>  <td>0.5251</td> \n",
       "</tr>\n",
       "<tr>\n",
       "  <th>PaymentMethod_Bank transfer (automatic)</th> <td>-0.0236</td>  <td>0.1283</td>   <td>-0.1835</td> <td>0.8544</td> <td>-0.2751</td> <td>0.2280</td> \n",
       "</tr>\n",
       "<tr>\n",
       "  <th>PaymentMethod_Credit card (automatic)</th>   <td>-0.0651</td>  <td>0.1288</td>   <td>-0.5059</td> <td>0.6129</td> <td>-0.3175</td> <td>0.1872</td> \n",
       "</tr>\n",
       "<tr>\n",
       "  <th>PaymentMethod_Electronic check</th>          <td>0.3189</td>   <td>0.1079</td>   <td>2.9558</td>  <td>0.0031</td> <td>0.1075</td>  <td>0.5304</td> \n",
       "</tr>\n",
       "<tr>\n",
       "  <th>intercept</th>                               <td>-1.0363</td>  <td>0.1965</td>   <td>-5.2729</td> <td>0.0000</td> <td>-1.4215</td> <td>-0.6511</td>\n",
       "</tr>\n",
       "</table>"
      ],
      "text/plain": [
       "<class 'statsmodels.iolib.summary2.Summary'>\n",
       "\"\"\"\n",
       "                                     Results: Logit\n",
       "========================================================================================\n",
       "Model:                       Logit                     Pseudo R-squared:          inf   \n",
       "Dependent Variable:          Churn_Yes                 AIC:                       inf   \n",
       "Date:                        2021-08-23 16:35          BIC:                       inf   \n",
       "No. Observations:            5641                      Log-Likelihood:            -inf  \n",
       "Df Model:                    22                        LL-Null:                   0.0000\n",
       "Df Residuals:                5618                      LLR p-value:               1.0000\n",
       "Converged:                   1.0000                    Scale:                     1.0000\n",
       "No. Iterations:              8.0000                                                     \n",
       "----------------------------------------------------------------------------------------\n",
       "                                         Coef.  Std.Err.    z     P>|z|   [0.025  0.975]\n",
       "----------------------------------------------------------------------------------------\n",
       "SeniorCitizen                            0.2379   0.0954   2.4946 0.0126  0.0510  0.4248\n",
       "tenure                                  -0.0341   0.0027 -12.8075 0.0000 -0.0393 -0.0289\n",
       "MonthlyCharges                          -0.0403   0.0361  -1.1171 0.2639 -0.1110  0.0304\n",
       "gender_Female                            0.0417   0.0727   0.5729 0.5667 -0.1009  0.1842\n",
       "Partner_Yes                             -0.0508   0.0873  -0.5813 0.5611 -0.2219  0.1204\n",
       "PhoneService_Yes                         0.2358   0.7381   0.3195 0.7493 -1.2108  1.6825\n",
       "Dependents_Yes                          -0.1339   0.1004  -1.3344 0.1821 -0.3306  0.0628\n",
       "MultipleLines_Yes                        0.5366   0.2007   2.6741 0.0075  0.1433  0.9299\n",
       "InternetService_DSL                      1.8641   0.9172   2.0323 0.0421  0.0663  3.6619\n",
       "InternetService_Fiber optic              3.7951   1.8127   2.0936 0.0363  0.2423  7.3480\n",
       "OnlineSecurity_Yes                      -0.1458   0.2029  -0.7186 0.4724 -0.5436  0.2519\n",
       "OnlineBackup_Yes                         0.1063   0.1988   0.5344 0.5931 -0.2834  0.4960\n",
       "DeviceProtection_Yes                     0.2034   0.1991   1.0215 0.3070 -0.1868  0.5936\n",
       "TechSupport_Yes                         -0.0879   0.2046  -0.4296 0.6675 -0.4890  0.3132\n",
       "StreamingTV_Yes                          0.6637   0.3701   1.7936 0.0729 -0.0616  1.3890\n",
       "StreamingMovies_Yes                      0.6724   0.3713   1.8112 0.0701 -0.0552  1.4000\n",
       "Contract_One year                       -0.6997   0.1202  -5.8199 0.0000 -0.9353 -0.4641\n",
       "Contract_Two year                       -1.3591   0.1950  -6.9714 0.0000 -1.7412 -0.9770\n",
       "PaperlessBilling_Yes                     0.3633   0.0826   4.3996 0.0000  0.2014  0.5251\n",
       "PaymentMethod_Bank transfer (automatic) -0.0236   0.1283  -0.1835 0.8544 -0.2751  0.2280\n",
       "PaymentMethod_Credit card (automatic)   -0.0651   0.1288  -0.5059 0.6129 -0.3175  0.1872\n",
       "PaymentMethod_Electronic check           0.3189   0.1079   2.9558 0.0031  0.1075  0.5304\n",
       "intercept                               -1.0363   0.1965  -5.2729 0.0000 -1.4215 -0.6511\n",
       "========================================================================================\n",
       "\n",
       "\"\"\""
      ]
     },
     "execution_count": 50,
     "metadata": {},
     "output_type": "execute_result"
    }
   ],
   "source": [
    "# Intercept\n",
    "tcc[\"intercept\"] = 1.0\n",
    "\n",
    "variables = tcc.copy()[['SeniorCitizen', 'tenure', 'MonthlyCharges', \n",
    "       'gender_Female', 'Partner_Yes', 'PhoneService_Yes',\n",
    "        'Dependents_Yes', 'MultipleLines_Yes',\n",
    "       'InternetService_DSL', 'InternetService_Fiber optic', 'OnlineSecurity_Yes',\n",
    "        'OnlineBackup_Yes', 'DeviceProtection_Yes', 'TechSupport_Yes', 'StreamingTV_Yes',\n",
    "       'StreamingMovies_Yes', 'Contract_One year', 'Contract_Two year', 'PaperlessBilling_Yes',\n",
    "       'PaymentMethod_Bank transfer (automatic)', 'PaymentMethod_Credit card (automatic)',\n",
    "       'PaymentMethod_Electronic check', 'intercept']]\n",
    "\n",
    "# Setting the model\n",
    "logistical_regression = sm.Logit(tcc[\"Churn_Yes\"], variables)\n",
    "\n",
    "# Fitting the model\n",
    "fitted_model = logistical_regression.fit()\n",
    "fitted_model.summary2()"
   ]
  },
  {
   "cell_type": "markdown",
   "metadata": {},
   "source": [
    "To improve results' goodness PaymentMethod can be transformed in order to analyze the difference between automatic Payment Method and non automatic. Clients with automatic payment are less likely to churn with respect to clients with no automatic payment. I am not interested in the difference between Bank transfer and Credit card, or between Electronic check or Mailed check."
   ]
  },
  {
   "cell_type": "code",
   "execution_count": 53,
   "metadata": {},
   "outputs": [],
   "source": [
    "# Transforming PaymentMethod\n",
    "def transform_payment(df):\n",
    "    df[\"PaymentMethod_Automatic\"] = df[\"PaymentMethod_Bank transfer (automatic)\"] + df[\"PaymentMethod_Credit card (automatic)\"]\n",
    "    return df\n",
    "\n",
    "tcc = transform_payment(tcc)"
   ]
  },
  {
   "cell_type": "code",
   "execution_count": 54,
   "metadata": {},
   "outputs": [
    {
     "name": "stdout",
     "output_type": "stream",
     "text": [
      "Optimization terminated successfully.\n",
      "         Current function value: inf\n",
      "         Iterations 8\n"
     ]
    },
    {
     "data": {
      "text/html": [
       "<table class=\"simpletable\">\n",
       "<tr>\n",
       "        <td>Model:</td>              <td>Logit</td>      <td>Pseudo R-squared:</td>   <td>inf</td> \n",
       "</tr>\n",
       "<tr>\n",
       "  <td>Dependent Variable:</td>     <td>Churn_Yes</td>          <td>AIC:</td>          <td>inf</td> \n",
       "</tr>\n",
       "<tr>\n",
       "         <td>Date:</td>        <td>2021-08-23 16:45</td>       <td>BIC:</td>          <td>inf</td> \n",
       "</tr>\n",
       "<tr>\n",
       "   <td>No. Observations:</td>        <td>5641</td>        <td>Log-Likelihood:</td>   <td>-inf</td> \n",
       "</tr>\n",
       "<tr>\n",
       "       <td>Df Model:</td>             <td>19</td>            <td>LL-Null:</td>      <td>0.0000</td>\n",
       "</tr>\n",
       "<tr>\n",
       "     <td>Df Residuals:</td>          <td>5621</td>         <td>LLR p-value:</td>    <td>1.0000</td>\n",
       "</tr>\n",
       "<tr>\n",
       "      <td>Converged:</td>           <td>1.0000</td>           <td>Scale:</td>       <td>1.0000</td>\n",
       "</tr>\n",
       "<tr>\n",
       "    <td>No. Iterations:</td>        <td>8.0000</td>              <td></td>             <td></td>   \n",
       "</tr>\n",
       "</table>\n",
       "<table class=\"simpletable\">\n",
       "<tr>\n",
       "               <td></td>                <th>Coef.</th>  <th>Std.Err.</th>     <th>z</th>     <th>P>|z|</th> <th>[0.025</th>  <th>0.975]</th> \n",
       "</tr>\n",
       "<tr>\n",
       "  <th>SeniorCitizen</th>               <td>0.2490</td>   <td>0.0951</td>   <td>2.6190</td>  <td>0.0088</td> <td>0.0627</td>  <td>0.4354</td> \n",
       "</tr>\n",
       "<tr>\n",
       "  <th>tenure</th>                      <td>-0.0337</td>  <td>0.0027</td>  <td>-12.6889</td> <td>0.0000</td> <td>-0.0389</td> <td>-0.0285</td>\n",
       "</tr>\n",
       "<tr>\n",
       "  <th>MonthlyCharges</th>              <td>-0.0297</td>  <td>0.0068</td>   <td>-4.3468</td> <td>0.0000</td> <td>-0.0432</td> <td>-0.0163</td>\n",
       "</tr>\n",
       "<tr>\n",
       "  <th>gender_Female</th>               <td>0.0434</td>   <td>0.0726</td>   <td>0.5984</td>  <td>0.5496</td> <td>-0.0988</td> <td>0.1857</td> \n",
       "</tr>\n",
       "<tr>\n",
       "  <th>Partner_Yes</th>                 <td>-0.0378</td>  <td>0.0870</td>   <td>-0.4347</td> <td>0.6638</td> <td>-0.2083</td> <td>0.1327</td> \n",
       "</tr>\n",
       "<tr>\n",
       "  <th>Dependents_Yes</th>              <td>-0.1440</td>  <td>0.1001</td>   <td>-1.4385</td> <td>0.1503</td> <td>-0.3403</td> <td>0.0522</td> \n",
       "</tr>\n",
       "<tr>\n",
       "  <th>MultipleLines_Yes</th>           <td>0.4894</td>   <td>0.1009</td>   <td>4.8502</td>  <td>0.0000</td> <td>0.2916</td>  <td>0.6872</td> \n",
       "</tr>\n",
       "<tr>\n",
       "  <th>InternetService_DSL</th>         <td>1.6809</td>   <td>0.1938</td>   <td>8.6745</td>  <td>0.0000</td> <td>1.3011</td>  <td>2.0607</td> \n",
       "</tr>\n",
       "<tr>\n",
       "  <th>InternetService_Fiber optic</th> <td>3.4031</td>   <td>0.3730</td>   <td>9.1236</td>  <td>0.0000</td> <td>2.6720</td>  <td>4.1342</td> \n",
       "</tr>\n",
       "<tr>\n",
       "  <th>OnlineSecurity_Yes</th>          <td>-0.2083</td>  <td>0.1013</td>   <td>-2.0576</td> <td>0.0396</td> <td>-0.4068</td> <td>-0.0099</td>\n",
       "</tr>\n",
       "<tr>\n",
       "  <th>OnlineBackup_Yes</th>            <td>0.0510</td>   <td>0.0913</td>   <td>0.5585</td>  <td>0.5765</td> <td>-0.1280</td> <td>0.2300</td> \n",
       "</tr>\n",
       "<tr>\n",
       "  <th>DeviceProtection_Yes</th>        <td>0.1487</td>   <td>0.0932</td>   <td>1.5946</td>  <td>0.1108</td> <td>-0.0341</td> <td>0.3314</td> \n",
       "</tr>\n",
       "<tr>\n",
       "  <th>TechSupport_Yes</th>             <td>-0.1612</td>  <td>0.1031</td>   <td>-1.5637</td> <td>0.1179</td> <td>-0.3634</td> <td>0.0409</td> \n",
       "</tr>\n",
       "<tr>\n",
       "  <th>StreamingTV_Yes</th>             <td>0.5723</td>   <td>0.1104</td>   <td>5.1824</td>  <td>0.0000</td> <td>0.3559</td>  <td>0.7888</td> \n",
       "</tr>\n",
       "<tr>\n",
       "  <th>StreamingMovies_Yes</th>         <td>0.5821</td>   <td>0.1091</td>   <td>5.3376</td>  <td>0.0000</td> <td>0.3684</td>  <td>0.7958</td> \n",
       "</tr>\n",
       "<tr>\n",
       "  <th>Contract_One year</th>           <td>-0.7175</td>  <td>0.1201</td>   <td>-5.9753</td> <td>0.0000</td> <td>-0.9529</td> <td>-0.4822</td>\n",
       "</tr>\n",
       "<tr>\n",
       "  <th>Contract_Two year</th>           <td>-1.3802</td>  <td>0.1947</td>   <td>-7.0889</td> <td>0.0000</td> <td>-1.7618</td> <td>-0.9986</td>\n",
       "</tr>\n",
       "<tr>\n",
       "  <th>PaperlessBilling_Yes</th>        <td>0.3798</td>   <td>0.0823</td>   <td>4.6150</td>  <td>0.0000</td> <td>0.2185</td>  <td>0.5411</td> \n",
       "</tr>\n",
       "<tr>\n",
       "  <th>PaymentMethod_Automatic</th>     <td>-0.2714</td>  <td>0.0809</td>   <td>-3.3536</td> <td>0.0008</td> <td>-0.4300</td> <td>-0.1128</td>\n",
       "</tr>\n",
       "<tr>\n",
       "  <th>intercept</th>                   <td>-0.9257</td>  <td>0.1905</td>   <td>-4.8597</td> <td>0.0000</td> <td>-1.2991</td> <td>-0.5524</td>\n",
       "</tr>\n",
       "</table>"
      ],
      "text/plain": [
       "<class 'statsmodels.iolib.summary2.Summary'>\n",
       "\"\"\"\n",
       "                               Results: Logit\n",
       "============================================================================\n",
       "Model:                   Logit                 Pseudo R-squared:      inf   \n",
       "Dependent Variable:      Churn_Yes             AIC:                   inf   \n",
       "Date:                    2021-08-23 16:45      BIC:                   inf   \n",
       "No. Observations:        5641                  Log-Likelihood:        -inf  \n",
       "Df Model:                19                    LL-Null:               0.0000\n",
       "Df Residuals:            5621                  LLR p-value:           1.0000\n",
       "Converged:               1.0000                Scale:                 1.0000\n",
       "No. Iterations:          8.0000                                             \n",
       "----------------------------------------------------------------------------\n",
       "                             Coef.  Std.Err.    z     P>|z|   [0.025  0.975]\n",
       "----------------------------------------------------------------------------\n",
       "SeniorCitizen                0.2490   0.0951   2.6190 0.0088  0.0627  0.4354\n",
       "tenure                      -0.0337   0.0027 -12.6889 0.0000 -0.0389 -0.0285\n",
       "MonthlyCharges              -0.0297   0.0068  -4.3468 0.0000 -0.0432 -0.0163\n",
       "gender_Female                0.0434   0.0726   0.5984 0.5496 -0.0988  0.1857\n",
       "Partner_Yes                 -0.0378   0.0870  -0.4347 0.6638 -0.2083  0.1327\n",
       "Dependents_Yes              -0.1440   0.1001  -1.4385 0.1503 -0.3403  0.0522\n",
       "MultipleLines_Yes            0.4894   0.1009   4.8502 0.0000  0.2916  0.6872\n",
       "InternetService_DSL          1.6809   0.1938   8.6745 0.0000  1.3011  2.0607\n",
       "InternetService_Fiber optic  3.4031   0.3730   9.1236 0.0000  2.6720  4.1342\n",
       "OnlineSecurity_Yes          -0.2083   0.1013  -2.0576 0.0396 -0.4068 -0.0099\n",
       "OnlineBackup_Yes             0.0510   0.0913   0.5585 0.5765 -0.1280  0.2300\n",
       "DeviceProtection_Yes         0.1487   0.0932   1.5946 0.1108 -0.0341  0.3314\n",
       "TechSupport_Yes             -0.1612   0.1031  -1.5637 0.1179 -0.3634  0.0409\n",
       "StreamingTV_Yes              0.5723   0.1104   5.1824 0.0000  0.3559  0.7888\n",
       "StreamingMovies_Yes          0.5821   0.1091   5.3376 0.0000  0.3684  0.7958\n",
       "Contract_One year           -0.7175   0.1201  -5.9753 0.0000 -0.9529 -0.4822\n",
       "Contract_Two year           -1.3802   0.1947  -7.0889 0.0000 -1.7618 -0.9986\n",
       "PaperlessBilling_Yes         0.3798   0.0823   4.6150 0.0000  0.2185  0.5411\n",
       "PaymentMethod_Automatic     -0.2714   0.0809  -3.3536 0.0008 -0.4300 -0.1128\n",
       "intercept                   -0.9257   0.1905  -4.8597 0.0000 -1.2991 -0.5524\n",
       "============================================================================\n",
       "\n",
       "\"\"\""
      ]
     },
     "execution_count": 54,
     "metadata": {},
     "output_type": "execute_result"
    }
   ],
   "source": [
    "variables = tcc[['SeniorCitizen', 'tenure', 'MonthlyCharges', \n",
    "       'gender_Female', 'Partner_Yes',\n",
    "        'Dependents_Yes', 'MultipleLines_Yes',\n",
    "       'InternetService_DSL', 'InternetService_Fiber optic', 'OnlineSecurity_Yes',\n",
    "        'OnlineBackup_Yes', 'DeviceProtection_Yes', 'TechSupport_Yes', 'StreamingTV_Yes',\n",
    "       'StreamingMovies_Yes', 'Contract_One year', 'Contract_Two year', 'PaperlessBilling_Yes',\n",
    "       'PaymentMethod_Automatic', 'intercept']]\n",
    "\n",
    "# Setting the model\n",
    "logistical_regression = sm.Logit(tcc[\"Churn_Yes\"], variables)\n",
    "\n",
    "# Fitting the model\n",
    "fitted_model = logistical_regression.fit()\n",
    "fitted_model.summary2()"
   ]
  },
  {
   "cell_type": "markdown",
   "metadata": {},
   "source": [
    "Now, remove from the model OnlineBackup, DeviceProtection, gender and partner as they are not significant."
   ]
  },
  {
   "cell_type": "code",
   "execution_count": 55,
   "metadata": {},
   "outputs": [
    {
     "name": "stdout",
     "output_type": "stream",
     "text": [
      "Optimization terminated successfully.\n",
      "         Current function value: inf\n",
      "         Iterations 8\n"
     ]
    },
    {
     "data": {
      "text/html": [
       "<table class=\"simpletable\">\n",
       "<tr>\n",
       "        <td>Model:</td>              <td>Logit</td>      <td>Pseudo R-squared:</td>   <td>inf</td> \n",
       "</tr>\n",
       "<tr>\n",
       "  <td>Dependent Variable:</td>     <td>Churn_Yes</td>          <td>AIC:</td>          <td>inf</td> \n",
       "</tr>\n",
       "<tr>\n",
       "         <td>Date:</td>        <td>2021-08-23 16:46</td>       <td>BIC:</td>          <td>inf</td> \n",
       "</tr>\n",
       "<tr>\n",
       "   <td>No. Observations:</td>        <td>5641</td>        <td>Log-Likelihood:</td>   <td>-inf</td> \n",
       "</tr>\n",
       "<tr>\n",
       "       <td>Df Model:</td>             <td>15</td>            <td>LL-Null:</td>      <td>0.0000</td>\n",
       "</tr>\n",
       "<tr>\n",
       "     <td>Df Residuals:</td>          <td>5625</td>         <td>LLR p-value:</td>    <td>1.0000</td>\n",
       "</tr>\n",
       "<tr>\n",
       "      <td>Converged:</td>           <td>1.0000</td>           <td>Scale:</td>       <td>1.0000</td>\n",
       "</tr>\n",
       "<tr>\n",
       "    <td>No. Iterations:</td>        <td>8.0000</td>              <td></td>             <td></td>   \n",
       "</tr>\n",
       "</table>\n",
       "<table class=\"simpletable\">\n",
       "<tr>\n",
       "               <td></td>                <th>Coef.</th>  <th>Std.Err.</th>     <th>z</th>     <th>P>|z|</th> <th>[0.025</th>  <th>0.975]</th> \n",
       "</tr>\n",
       "<tr>\n",
       "  <th>SeniorCitizen</th>               <td>0.2485</td>   <td>0.0944</td>   <td>2.6328</td>  <td>0.0085</td> <td>0.0635</td>  <td>0.4334</td> \n",
       "</tr>\n",
       "<tr>\n",
       "  <th>tenure</th>                      <td>-0.0331</td>  <td>0.0025</td>  <td>-13.2710</td> <td>0.0000</td> <td>-0.0380</td> <td>-0.0282</td>\n",
       "</tr>\n",
       "<tr>\n",
       "  <th>MonthlyCharges</th>              <td>-0.0250</td>  <td>0.0060</td>   <td>-4.1569</td> <td>0.0000</td> <td>-0.0368</td> <td>-0.0132</td>\n",
       "</tr>\n",
       "<tr>\n",
       "  <th>Dependents_Yes</th>              <td>-0.1627</td>  <td>0.0907</td>   <td>-1.7940</td> <td>0.0728</td> <td>-0.3404</td> <td>0.0151</td> \n",
       "</tr>\n",
       "<tr>\n",
       "  <th>MultipleLines_Yes</th>           <td>0.4503</td>   <td>0.0974</td>   <td>4.6224</td>  <td>0.0000</td> <td>0.2593</td>  <td>0.6412</td> \n",
       "</tr>\n",
       "<tr>\n",
       "  <th>InternetService_DSL</th>         <td>1.6228</td>   <td>0.1904</td>   <td>8.5224</td>  <td>0.0000</td> <td>1.2496</td>  <td>1.9960</td> \n",
       "</tr>\n",
       "<tr>\n",
       "  <th>InternetService_Fiber optic</th> <td>3.1981</td>   <td>0.3461</td>   <td>9.2405</td>  <td>0.0000</td> <td>2.5198</td>  <td>3.8764</td> \n",
       "</tr>\n",
       "<tr>\n",
       "  <th>OnlineSecurity_Yes</th>          <td>-0.2337</td>  <td>0.0998</td>   <td>-2.3424</td> <td>0.0192</td> <td>-0.4293</td> <td>-0.0382</td>\n",
       "</tr>\n",
       "<tr>\n",
       "  <th>TechSupport_Yes</th>             <td>-0.1802</td>  <td>0.1021</td>   <td>-1.7661</td> <td>0.0774</td> <td>-0.3803</td> <td>0.0198</td> \n",
       "</tr>\n",
       "<tr>\n",
       "  <th>StreamingTV_Yes</th>             <td>0.5409</td>   <td>0.1074</td>   <td>5.0349</td>  <td>0.0000</td> <td>0.3304</td>  <td>0.7515</td> \n",
       "</tr>\n",
       "<tr>\n",
       "  <th>StreamingMovies_Yes</th>         <td>0.5504</td>   <td>0.1058</td>   <td>5.2034</td>  <td>0.0000</td> <td>0.3431</td>  <td>0.7577</td> \n",
       "</tr>\n",
       "<tr>\n",
       "  <th>Contract_One year</th>           <td>-0.7045</td>  <td>0.1197</td>   <td>-5.8841</td> <td>0.0000</td> <td>-0.9392</td> <td>-0.4699</td>\n",
       "</tr>\n",
       "<tr>\n",
       "  <th>Contract_Two year</th>           <td>-1.3625</td>  <td>0.1943</td>   <td>-7.0112</td> <td>0.0000</td> <td>-1.7434</td> <td>-0.9816</td>\n",
       "</tr>\n",
       "<tr>\n",
       "  <th>PaperlessBilling_Yes</th>        <td>0.3808</td>   <td>0.0822</td>   <td>4.6331</td>  <td>0.0000</td> <td>0.2197</td>  <td>0.5419</td> \n",
       "</tr>\n",
       "<tr>\n",
       "  <th>PaymentMethod_Automatic</th>     <td>-0.2685</td>  <td>0.0808</td>   <td>-3.3219</td> <td>0.0009</td> <td>-0.4269</td> <td>-0.1101</td>\n",
       "</tr>\n",
       "<tr>\n",
       "  <th>intercept</th>                   <td>-1.0157</td>  <td>0.1710</td>   <td>-5.9397</td> <td>0.0000</td> <td>-1.3509</td> <td>-0.6806</td>\n",
       "</tr>\n",
       "</table>"
      ],
      "text/plain": [
       "<class 'statsmodels.iolib.summary2.Summary'>\n",
       "\"\"\"\n",
       "                               Results: Logit\n",
       "============================================================================\n",
       "Model:                   Logit                 Pseudo R-squared:      inf   \n",
       "Dependent Variable:      Churn_Yes             AIC:                   inf   \n",
       "Date:                    2021-08-23 16:46      BIC:                   inf   \n",
       "No. Observations:        5641                  Log-Likelihood:        -inf  \n",
       "Df Model:                15                    LL-Null:               0.0000\n",
       "Df Residuals:            5625                  LLR p-value:           1.0000\n",
       "Converged:               1.0000                Scale:                 1.0000\n",
       "No. Iterations:          8.0000                                             \n",
       "----------------------------------------------------------------------------\n",
       "                             Coef.  Std.Err.    z     P>|z|   [0.025  0.975]\n",
       "----------------------------------------------------------------------------\n",
       "SeniorCitizen                0.2485   0.0944   2.6328 0.0085  0.0635  0.4334\n",
       "tenure                      -0.0331   0.0025 -13.2710 0.0000 -0.0380 -0.0282\n",
       "MonthlyCharges              -0.0250   0.0060  -4.1569 0.0000 -0.0368 -0.0132\n",
       "Dependents_Yes              -0.1627   0.0907  -1.7940 0.0728 -0.3404  0.0151\n",
       "MultipleLines_Yes            0.4503   0.0974   4.6224 0.0000  0.2593  0.6412\n",
       "InternetService_DSL          1.6228   0.1904   8.5224 0.0000  1.2496  1.9960\n",
       "InternetService_Fiber optic  3.1981   0.3461   9.2405 0.0000  2.5198  3.8764\n",
       "OnlineSecurity_Yes          -0.2337   0.0998  -2.3424 0.0192 -0.4293 -0.0382\n",
       "TechSupport_Yes             -0.1802   0.1021  -1.7661 0.0774 -0.3803  0.0198\n",
       "StreamingTV_Yes              0.5409   0.1074   5.0349 0.0000  0.3304  0.7515\n",
       "StreamingMovies_Yes          0.5504   0.1058   5.2034 0.0000  0.3431  0.7577\n",
       "Contract_One year           -0.7045   0.1197  -5.8841 0.0000 -0.9392 -0.4699\n",
       "Contract_Two year           -1.3625   0.1943  -7.0112 0.0000 -1.7434 -0.9816\n",
       "PaperlessBilling_Yes         0.3808   0.0822   4.6331 0.0000  0.2197  0.5419\n",
       "PaymentMethod_Automatic     -0.2685   0.0808  -3.3219 0.0009 -0.4269 -0.1101\n",
       "intercept                   -1.0157   0.1710  -5.9397 0.0000 -1.3509 -0.6806\n",
       "============================================================================\n",
       "\n",
       "\"\"\""
      ]
     },
     "execution_count": 55,
     "metadata": {},
     "output_type": "execute_result"
    }
   ],
   "source": [
    "variables = tcc[['SeniorCitizen', 'tenure', 'MonthlyCharges', \n",
    "        'Dependents_Yes', 'MultipleLines_Yes',\n",
    "       'InternetService_DSL', 'InternetService_Fiber optic', 'OnlineSecurity_Yes',\n",
    "        'TechSupport_Yes', 'StreamingTV_Yes',\n",
    "       'StreamingMovies_Yes', 'Contract_One year', 'Contract_Two year', 'PaperlessBilling_Yes',\n",
    "       'PaymentMethod_Automatic', 'intercept']]\n",
    "\n",
    "# Setting the model\n",
    "logistical_regression = sm.Logit(tcc[\"Churn_Yes\"], variables)\n",
    "\n",
    "# Fitting the model\n",
    "fitted_model = logistical_regression.fit()\n",
    "fitted_model.summary2()"
   ]
  },
  {
   "cell_type": "markdown",
   "metadata": {},
   "source": [
    "To improve regression interpretability, instead of considering tenure as a continuous variable, let's divide it into 4 clusters"
   ]
  },
  {
   "cell_type": "code",
   "execution_count": 56,
   "metadata": {},
   "outputs": [],
   "source": [
    "def cluster(df):\n",
    "    df[\"tenure_0:18\"]  = 0\n",
    "    df[\"tenure_19:36\"] = 0\n",
    "    df[\"tenure_37:54\"] = 0\n",
    "    df[\"tenure_55:72\"] = 0\n",
    "\n",
    "    df.loc[df.tenure <= 18, \"tenure_0:18\"] = 1\n",
    "    df.loc[((df.tenure >= 19) & (df.tenure <= 36)), \"tenure_19:36\"] = 1\n",
    "    df.loc[((df.tenure >= 37) & (df.tenure <= 54)), \"tenure_37:54\"] = 1\n",
    "    df.loc[df.tenure >= 55, \"tenure_55:72\"] = 1\n",
    "    \n",
    "    return df\n",
    "\n",
    "tcc = cluster(tcc)"
   ]
  },
  {
   "cell_type": "markdown",
   "metadata": {},
   "source": [
    "Let's run a new regression."
   ]
  },
  {
   "cell_type": "code",
   "execution_count": 57,
   "metadata": {},
   "outputs": [
    {
     "name": "stdout",
     "output_type": "stream",
     "text": [
      "Optimization terminated successfully.\n",
      "         Current function value: inf\n",
      "         Iterations 8\n"
     ]
    },
    {
     "data": {
      "text/html": [
       "<table class=\"simpletable\">\n",
       "<tr>\n",
       "        <td>Model:</td>              <td>Logit</td>      <td>Pseudo R-squared:</td>   <td>inf</td> \n",
       "</tr>\n",
       "<tr>\n",
       "  <td>Dependent Variable:</td>     <td>Churn_Yes</td>          <td>AIC:</td>          <td>inf</td> \n",
       "</tr>\n",
       "<tr>\n",
       "         <td>Date:</td>        <td>2021-08-23 16:48</td>       <td>BIC:</td>          <td>inf</td> \n",
       "</tr>\n",
       "<tr>\n",
       "   <td>No. Observations:</td>        <td>5641</td>        <td>Log-Likelihood:</td>   <td>-inf</td> \n",
       "</tr>\n",
       "<tr>\n",
       "       <td>Df Model:</td>             <td>17</td>            <td>LL-Null:</td>      <td>0.0000</td>\n",
       "</tr>\n",
       "<tr>\n",
       "     <td>Df Residuals:</td>          <td>5623</td>         <td>LLR p-value:</td>    <td>1.0000</td>\n",
       "</tr>\n",
       "<tr>\n",
       "      <td>Converged:</td>           <td>1.0000</td>           <td>Scale:</td>       <td>1.0000</td>\n",
       "</tr>\n",
       "<tr>\n",
       "    <td>No. Iterations:</td>        <td>8.0000</td>              <td></td>             <td></td>   \n",
       "</tr>\n",
       "</table>\n",
       "<table class=\"simpletable\">\n",
       "<tr>\n",
       "               <td></td>                <th>Coef.</th>  <th>Std.Err.</th>     <th>z</th>     <th>P>|z|</th> <th>[0.025</th>  <th>0.975]</th> \n",
       "</tr>\n",
       "<tr>\n",
       "  <th>SeniorCitizen</th>               <td>0.2272</td>   <td>0.0936</td>   <td>2.4285</td>  <td>0.0152</td> <td>0.0438</td>  <td>0.4106</td> \n",
       "</tr>\n",
       "<tr>\n",
       "  <th>MonthlyCharges</th>              <td>-0.0264</td>  <td>0.0060</td>   <td>-4.3925</td> <td>0.0000</td> <td>-0.0382</td> <td>-0.0146</td>\n",
       "</tr>\n",
       "<tr>\n",
       "  <th>Dependents_Yes</th>              <td>-0.1727</td>  <td>0.0905</td>   <td>-1.9069</td> <td>0.0565</td> <td>-0.3501</td> <td>0.0048</td> \n",
       "</tr>\n",
       "<tr>\n",
       "  <th>MultipleLines_Yes</th>           <td>0.3960</td>   <td>0.0971</td>   <td>4.0767</td>  <td>0.0000</td> <td>0.2056</td>  <td>0.5864</td> \n",
       "</tr>\n",
       "<tr>\n",
       "  <th>InternetService_DSL</th>         <td>1.6555</td>   <td>0.1902</td>   <td>8.7062</td>  <td>0.0000</td> <td>1.2828</td>  <td>2.0282</td> \n",
       "</tr>\n",
       "<tr>\n",
       "  <th>InternetService_Fiber optic</th> <td>3.2552</td>   <td>0.3464</td>   <td>9.3982</td>  <td>0.0000</td> <td>2.5763</td>  <td>3.9340</td> \n",
       "</tr>\n",
       "<tr>\n",
       "  <th>OnlineSecurity_Yes</th>          <td>-0.2751</td>  <td>0.0994</td>   <td>-2.7672</td> <td>0.0057</td> <td>-0.4699</td> <td>-0.0802</td>\n",
       "</tr>\n",
       "<tr>\n",
       "  <th>TechSupport_Yes</th>             <td>-0.1698</td>  <td>0.1021</td>   <td>-1.6629</td> <td>0.0963</td> <td>-0.3699</td> <td>0.0303</td> \n",
       "</tr>\n",
       "<tr>\n",
       "  <th>StreamingTV_Yes</th>             <td>0.5245</td>   <td>0.1074</td>   <td>4.8827</td>  <td>0.0000</td> <td>0.3139</td>  <td>0.7350</td> \n",
       "</tr>\n",
       "<tr>\n",
       "  <th>StreamingMovies_Yes</th>         <td>0.5259</td>   <td>0.1055</td>   <td>4.9862</td>  <td>0.0000</td> <td>0.3192</td>  <td>0.7327</td> \n",
       "</tr>\n",
       "<tr>\n",
       "  <th>Contract_One year</th>           <td>-0.8709</td>  <td>0.1195</td>   <td>-7.2876</td> <td>0.0000</td> <td>-1.1052</td> <td>-0.6367</td>\n",
       "</tr>\n",
       "<tr>\n",
       "  <th>Contract_Two year</th>           <td>-1.7254</td>  <td>0.1977</td>   <td>-8.7290</td> <td>0.0000</td> <td>-2.1128</td> <td>-1.3380</td>\n",
       "</tr>\n",
       "<tr>\n",
       "  <th>PaperlessBilling_Yes</th>        <td>0.3670</td>   <td>0.0822</td>   <td>4.4659</td>  <td>0.0000</td> <td>0.2060</td>  <td>0.5281</td> \n",
       "</tr>\n",
       "<tr>\n",
       "  <th>PaymentMethod_Automatic</th>     <td>-0.3190</td>  <td>0.0804</td>   <td>-3.9702</td> <td>0.0001</td> <td>-0.4765</td> <td>-0.1615</td>\n",
       "</tr>\n",
       "<tr>\n",
       "  <th>tenure_19:36</th>                <td>-1.0691</td>  <td>0.1031</td>  <td>-10.3708</td> <td>0.0000</td> <td>-1.2711</td> <td>-0.8670</td>\n",
       "</tr>\n",
       "<tr>\n",
       "  <th>tenure_37:54</th>                <td>-0.9642</td>  <td>0.1200</td>   <td>-8.0374</td> <td>0.0000</td> <td>-1.1993</td> <td>-0.7291</td>\n",
       "</tr>\n",
       "<tr>\n",
       "  <th>tenure_55:72</th>                <td>-1.4837</td>  <td>0.1510</td>   <td>-9.8275</td> <td>0.0000</td> <td>-1.7796</td> <td>-1.1878</td>\n",
       "</tr>\n",
       "<tr>\n",
       "  <th>intercept</th>                   <td>-1.0731</td>  <td>0.1718</td>   <td>-6.2469</td> <td>0.0000</td> <td>-1.4098</td> <td>-0.7364</td>\n",
       "</tr>\n",
       "</table>"
      ],
      "text/plain": [
       "<class 'statsmodels.iolib.summary2.Summary'>\n",
       "\"\"\"\n",
       "                               Results: Logit\n",
       "============================================================================\n",
       "Model:                   Logit                 Pseudo R-squared:      inf   \n",
       "Dependent Variable:      Churn_Yes             AIC:                   inf   \n",
       "Date:                    2021-08-23 16:48      BIC:                   inf   \n",
       "No. Observations:        5641                  Log-Likelihood:        -inf  \n",
       "Df Model:                17                    LL-Null:               0.0000\n",
       "Df Residuals:            5623                  LLR p-value:           1.0000\n",
       "Converged:               1.0000                Scale:                 1.0000\n",
       "No. Iterations:          8.0000                                             \n",
       "----------------------------------------------------------------------------\n",
       "                             Coef.  Std.Err.    z     P>|z|   [0.025  0.975]\n",
       "----------------------------------------------------------------------------\n",
       "SeniorCitizen                0.2272   0.0936   2.4285 0.0152  0.0438  0.4106\n",
       "MonthlyCharges              -0.0264   0.0060  -4.3925 0.0000 -0.0382 -0.0146\n",
       "Dependents_Yes              -0.1727   0.0905  -1.9069 0.0565 -0.3501  0.0048\n",
       "MultipleLines_Yes            0.3960   0.0971   4.0767 0.0000  0.2056  0.5864\n",
       "InternetService_DSL          1.6555   0.1902   8.7062 0.0000  1.2828  2.0282\n",
       "InternetService_Fiber optic  3.2552   0.3464   9.3982 0.0000  2.5763  3.9340\n",
       "OnlineSecurity_Yes          -0.2751   0.0994  -2.7672 0.0057 -0.4699 -0.0802\n",
       "TechSupport_Yes             -0.1698   0.1021  -1.6629 0.0963 -0.3699  0.0303\n",
       "StreamingTV_Yes              0.5245   0.1074   4.8827 0.0000  0.3139  0.7350\n",
       "StreamingMovies_Yes          0.5259   0.1055   4.9862 0.0000  0.3192  0.7327\n",
       "Contract_One year           -0.8709   0.1195  -7.2876 0.0000 -1.1052 -0.6367\n",
       "Contract_Two year           -1.7254   0.1977  -8.7290 0.0000 -2.1128 -1.3380\n",
       "PaperlessBilling_Yes         0.3670   0.0822   4.4659 0.0000  0.2060  0.5281\n",
       "PaymentMethod_Automatic     -0.3190   0.0804  -3.9702 0.0001 -0.4765 -0.1615\n",
       "tenure_19:36                -1.0691   0.1031 -10.3708 0.0000 -1.2711 -0.8670\n",
       "tenure_37:54                -0.9642   0.1200  -8.0374 0.0000 -1.1993 -0.7291\n",
       "tenure_55:72                -1.4837   0.1510  -9.8275 0.0000 -1.7796 -1.1878\n",
       "intercept                   -1.0731   0.1718  -6.2469 0.0000 -1.4098 -0.7364\n",
       "============================================================================\n",
       "\n",
       "\"\"\""
      ]
     },
     "execution_count": 57,
     "metadata": {},
     "output_type": "execute_result"
    }
   ],
   "source": [
    "variables = tcc[['SeniorCitizen', 'MonthlyCharges', \n",
    "        'Dependents_Yes', 'MultipleLines_Yes',\n",
    "       'InternetService_DSL', 'InternetService_Fiber optic', 'OnlineSecurity_Yes',\n",
    "        'TechSupport_Yes', 'StreamingTV_Yes',\n",
    "       'StreamingMovies_Yes', 'Contract_One year', 'Contract_Two year', 'PaperlessBilling_Yes',\n",
    "       'PaymentMethod_Automatic', 'tenure_19:36',\n",
    "       'tenure_37:54', 'tenure_55:72','intercept']]\n",
    "\n",
    "# Setting the model\n",
    "logistical_regression = sm.Logit(tcc[\"Churn_Yes\"], variables)\n",
    "\n",
    "# Fitting the model\n",
    "fitted_model = logistical_regression.fit()\n",
    "fitted_model.summary2()"
   ]
  },
  {
   "cell_type": "markdown",
   "metadata": {},
   "source": [
    "Let's calculate the Variance Inflation Factor to see if there is multicollinearity among variables. VIF measures how much the behavior (variance) of an independent variable is influenced, or inflated, by its interaction/correlation with the other independent variables."
   ]
  },
  {
   "cell_type": "code",
   "execution_count": 60,
   "metadata": {},
   "outputs": [
    {
     "data": {
      "text/html": [
       "<div>\n",
       "<style scoped>\n",
       "    .dataframe tbody tr th:only-of-type {\n",
       "        vertical-align: middle;\n",
       "    }\n",
       "\n",
       "    .dataframe tbody tr th {\n",
       "        vertical-align: top;\n",
       "    }\n",
       "\n",
       "    .dataframe thead th {\n",
       "        text-align: right;\n",
       "    }\n",
       "</style>\n",
       "<table border=\"1\" class=\"dataframe\">\n",
       "  <thead>\n",
       "    <tr style=\"text-align: right;\">\n",
       "      <th></th>\n",
       "      <th>Variables</th>\n",
       "      <th>VIF Factor</th>\n",
       "    </tr>\n",
       "  </thead>\n",
       "  <tbody>\n",
       "    <tr>\n",
       "      <th>0</th>\n",
       "      <td>SeniorCitizen</td>\n",
       "      <td>1.135171</td>\n",
       "    </tr>\n",
       "    <tr>\n",
       "      <th>1</th>\n",
       "      <td>MonthlyCharges</td>\n",
       "      <td>25.686087</td>\n",
       "    </tr>\n",
       "    <tr>\n",
       "      <th>2</th>\n",
       "      <td>Dependents_Yes</td>\n",
       "      <td>1.107408</td>\n",
       "    </tr>\n",
       "    <tr>\n",
       "      <th>3</th>\n",
       "      <td>MultipleLines_Yes</td>\n",
       "      <td>1.778129</td>\n",
       "    </tr>\n",
       "    <tr>\n",
       "      <th>4</th>\n",
       "      <td>InternetService_DSL</td>\n",
       "      <td>6.139824</td>\n",
       "    </tr>\n",
       "    <tr>\n",
       "      <th>5</th>\n",
       "      <td>InternetService_Fiber optic</td>\n",
       "      <td>22.809167</td>\n",
       "    </tr>\n",
       "    <tr>\n",
       "      <th>6</th>\n",
       "      <td>OnlineSecurity_Yes</td>\n",
       "      <td>1.629221</td>\n",
       "    </tr>\n",
       "    <tr>\n",
       "      <th>7</th>\n",
       "      <td>TechSupport_Yes</td>\n",
       "      <td>1.710886</td>\n",
       "    </tr>\n",
       "    <tr>\n",
       "      <th>8</th>\n",
       "      <td>StreamingTV_Yes</td>\n",
       "      <td>2.327322</td>\n",
       "    </tr>\n",
       "    <tr>\n",
       "      <th>9</th>\n",
       "      <td>StreamingMovies_Yes</td>\n",
       "      <td>2.264858</td>\n",
       "    </tr>\n",
       "    <tr>\n",
       "      <th>10</th>\n",
       "      <td>Contract_One year</td>\n",
       "      <td>1.593661</td>\n",
       "    </tr>\n",
       "    <tr>\n",
       "      <th>11</th>\n",
       "      <td>Contract_Two year</td>\n",
       "      <td>2.554456</td>\n",
       "    </tr>\n",
       "    <tr>\n",
       "      <th>12</th>\n",
       "      <td>PaperlessBilling_Yes</td>\n",
       "      <td>1.198577</td>\n",
       "    </tr>\n",
       "    <tr>\n",
       "      <th>13</th>\n",
       "      <td>PaymentMethod_Automatic</td>\n",
       "      <td>1.187444</td>\n",
       "    </tr>\n",
       "    <tr>\n",
       "      <th>14</th>\n",
       "      <td>tenure_19:36</td>\n",
       "      <td>1.356043</td>\n",
       "    </tr>\n",
       "    <tr>\n",
       "      <th>15</th>\n",
       "      <td>tenure_37:54</td>\n",
       "      <td>1.613318</td>\n",
       "    </tr>\n",
       "    <tr>\n",
       "      <th>16</th>\n",
       "      <td>tenure_55:72</td>\n",
       "      <td>2.792445</td>\n",
       "    </tr>\n",
       "  </tbody>\n",
       "</table>\n",
       "</div>"
      ],
      "text/plain": [
       "                      Variables  VIF Factor\n",
       "0                 SeniorCitizen    1.135171\n",
       "1                MonthlyCharges   25.686087\n",
       "2                Dependents_Yes    1.107408\n",
       "3             MultipleLines_Yes    1.778129\n",
       "4           InternetService_DSL    6.139824\n",
       "5   InternetService_Fiber optic   22.809167\n",
       "6            OnlineSecurity_Yes    1.629221\n",
       "7               TechSupport_Yes    1.710886\n",
       "8               StreamingTV_Yes    2.327322\n",
       "9           StreamingMovies_Yes    2.264858\n",
       "10            Contract_One year    1.593661\n",
       "11            Contract_Two year    2.554456\n",
       "12         PaperlessBilling_Yes    1.198577\n",
       "13      PaymentMethod_Automatic    1.187444\n",
       "14                 tenure_19:36    1.356043\n",
       "15                 tenure_37:54    1.613318\n",
       "16                 tenure_55:72    2.792445"
      ]
     },
     "execution_count": 60,
     "metadata": {},
     "output_type": "execute_result"
    }
   ],
   "source": [
    "vif = pd.DataFrame()\n",
    "vif[\"Variables\"]  = variables.columns[0:-1]\n",
    "vif[\"VIF Factor\"] = [variance_inflation_factor(variables.values, i) for i in range(variables.shape[1]-1)]\n",
    "vif"
   ]
  },
  {
   "cell_type": "markdown",
   "metadata": {},
   "source": [
    "The two InternetService variables have a high VIF, along with MonthlyCharges. A possible explanation is that customers who have the Optic Fiber connection pay a different price compared to those who have a DSL connection. For this reason, it's advisable excluding MonthlyCharges , and then re-run VIF analysis. I should expect a low VIF for both InternetService variables.\n",
    "\n",
    "I am also going to re-insert in our regression OnlineBackup and DeviceProtection, which were removed earlier on, as they might have been affected by multicollinearity."
   ]
  },
  {
   "cell_type": "code",
   "execution_count": 61,
   "metadata": {},
   "outputs": [
    {
     "data": {
      "text/html": [
       "<div>\n",
       "<style scoped>\n",
       "    .dataframe tbody tr th:only-of-type {\n",
       "        vertical-align: middle;\n",
       "    }\n",
       "\n",
       "    .dataframe tbody tr th {\n",
       "        vertical-align: top;\n",
       "    }\n",
       "\n",
       "    .dataframe thead th {\n",
       "        text-align: right;\n",
       "    }\n",
       "</style>\n",
       "<table border=\"1\" class=\"dataframe\">\n",
       "  <thead>\n",
       "    <tr style=\"text-align: right;\">\n",
       "      <th></th>\n",
       "      <th>Variables</th>\n",
       "      <th>VIF Factor</th>\n",
       "    </tr>\n",
       "  </thead>\n",
       "  <tbody>\n",
       "    <tr>\n",
       "      <th>0</th>\n",
       "      <td>SeniorCitizen</td>\n",
       "      <td>1.134277</td>\n",
       "    </tr>\n",
       "    <tr>\n",
       "      <th>1</th>\n",
       "      <td>Dependents_Yes</td>\n",
       "      <td>1.107660</td>\n",
       "    </tr>\n",
       "    <tr>\n",
       "      <th>2</th>\n",
       "      <td>MultipleLines_Yes</td>\n",
       "      <td>1.316485</td>\n",
       "    </tr>\n",
       "    <tr>\n",
       "      <th>3</th>\n",
       "      <td>InternetService_DSL</td>\n",
       "      <td>3.196415</td>\n",
       "    </tr>\n",
       "    <tr>\n",
       "      <th>4</th>\n",
       "      <td>InternetService_Fiber optic</td>\n",
       "      <td>3.841925</td>\n",
       "    </tr>\n",
       "    <tr>\n",
       "      <th>5</th>\n",
       "      <td>OnlineSecurity_Yes</td>\n",
       "      <td>1.413083</td>\n",
       "    </tr>\n",
       "    <tr>\n",
       "      <th>6</th>\n",
       "      <td>TechSupport_Yes</td>\n",
       "      <td>1.480308</td>\n",
       "    </tr>\n",
       "    <tr>\n",
       "      <th>7</th>\n",
       "      <td>OnlineBackup_Yes</td>\n",
       "      <td>1.376826</td>\n",
       "    </tr>\n",
       "    <tr>\n",
       "      <th>8</th>\n",
       "      <td>DeviceProtection_Yes</td>\n",
       "      <td>1.470991</td>\n",
       "    </tr>\n",
       "    <tr>\n",
       "      <th>9</th>\n",
       "      <td>StreamingTV_Yes</td>\n",
       "      <td>1.618653</td>\n",
       "    </tr>\n",
       "    <tr>\n",
       "      <th>10</th>\n",
       "      <td>StreamingMovies_Yes</td>\n",
       "      <td>1.612765</td>\n",
       "    </tr>\n",
       "    <tr>\n",
       "      <th>11</th>\n",
       "      <td>Contract_One year</td>\n",
       "      <td>1.602296</td>\n",
       "    </tr>\n",
       "    <tr>\n",
       "      <th>12</th>\n",
       "      <td>Contract_Two year</td>\n",
       "      <td>2.574409</td>\n",
       "    </tr>\n",
       "    <tr>\n",
       "      <th>13</th>\n",
       "      <td>PaperlessBilling_Yes</td>\n",
       "      <td>1.199420</td>\n",
       "    </tr>\n",
       "    <tr>\n",
       "      <th>14</th>\n",
       "      <td>PaymentMethod_Automatic</td>\n",
       "      <td>1.188030</td>\n",
       "    </tr>\n",
       "    <tr>\n",
       "      <th>15</th>\n",
       "      <td>tenure_19:36</td>\n",
       "      <td>1.365894</td>\n",
       "    </tr>\n",
       "    <tr>\n",
       "      <th>16</th>\n",
       "      <td>tenure_37:54</td>\n",
       "      <td>1.648759</td>\n",
       "    </tr>\n",
       "    <tr>\n",
       "      <th>17</th>\n",
       "      <td>tenure_55:72</td>\n",
       "      <td>2.923542</td>\n",
       "    </tr>\n",
       "  </tbody>\n",
       "</table>\n",
       "</div>"
      ],
      "text/plain": [
       "                      Variables  VIF Factor\n",
       "0                 SeniorCitizen    1.134277\n",
       "1                Dependents_Yes    1.107660\n",
       "2             MultipleLines_Yes    1.316485\n",
       "3           InternetService_DSL    3.196415\n",
       "4   InternetService_Fiber optic    3.841925\n",
       "5            OnlineSecurity_Yes    1.413083\n",
       "6               TechSupport_Yes    1.480308\n",
       "7              OnlineBackup_Yes    1.376826\n",
       "8          DeviceProtection_Yes    1.470991\n",
       "9               StreamingTV_Yes    1.618653\n",
       "10          StreamingMovies_Yes    1.612765\n",
       "11            Contract_One year    1.602296\n",
       "12            Contract_Two year    2.574409\n",
       "13         PaperlessBilling_Yes    1.199420\n",
       "14      PaymentMethod_Automatic    1.188030\n",
       "15                 tenure_19:36    1.365894\n",
       "16                 tenure_37:54    1.648759\n",
       "17                 tenure_55:72    2.923542"
      ]
     },
     "execution_count": 61,
     "metadata": {},
     "output_type": "execute_result"
    }
   ],
   "source": [
    "variables = tcc[['SeniorCitizen',\n",
    "        'Dependents_Yes', 'MultipleLines_Yes',\n",
    "         'InternetService_DSL', 'InternetService_Fiber optic', 'OnlineSecurity_Yes',\n",
    "        'TechSupport_Yes', \"OnlineBackup_Yes\", \"DeviceProtection_Yes\", 'StreamingTV_Yes',\n",
    "       'StreamingMovies_Yes', 'Contract_One year', 'Contract_Two year', 'PaperlessBilling_Yes',\n",
    "       'PaymentMethod_Automatic', 'tenure_19:36',\n",
    "       'tenure_37:54', 'tenure_55:72','intercept']]\n",
    "\n",
    "vif = pd.DataFrame()\n",
    "vif[\"Variables\"]  = variables.columns[0:-1]\n",
    "vif[\"VIF Factor\"] = [variance_inflation_factor(variables.values, i) for i in range(variables.shape[1]-1)]\n",
    "vif"
   ]
  },
  {
   "cell_type": "markdown",
   "metadata": {},
   "source": [
    "Indeed, data proves that MonthlyCharges greatly depend on InternetService.\n",
    "\n",
    "Now, let's just run the logistic regression as before, this time without MonthlyCharges."
   ]
  },
  {
   "cell_type": "code",
   "execution_count": 62,
   "metadata": {},
   "outputs": [
    {
     "name": "stdout",
     "output_type": "stream",
     "text": [
      "Optimization terminated successfully.\n",
      "         Current function value: inf\n",
      "         Iterations 8\n"
     ]
    },
    {
     "data": {
      "text/html": [
       "<table class=\"simpletable\">\n",
       "<tr>\n",
       "        <td>Model:</td>              <td>Logit</td>      <td>Pseudo R-squared:</td>   <td>inf</td> \n",
       "</tr>\n",
       "<tr>\n",
       "  <td>Dependent Variable:</td>     <td>Churn_Yes</td>          <td>AIC:</td>          <td>inf</td> \n",
       "</tr>\n",
       "<tr>\n",
       "         <td>Date:</td>        <td>2021-08-23 17:11</td>       <td>BIC:</td>          <td>inf</td> \n",
       "</tr>\n",
       "<tr>\n",
       "   <td>No. Observations:</td>        <td>5641</td>        <td>Log-Likelihood:</td>   <td>-inf</td> \n",
       "</tr>\n",
       "<tr>\n",
       "       <td>Df Model:</td>             <td>18</td>            <td>LL-Null:</td>      <td>0.0000</td>\n",
       "</tr>\n",
       "<tr>\n",
       "     <td>Df Residuals:</td>          <td>5622</td>         <td>LLR p-value:</td>    <td>1.0000</td>\n",
       "</tr>\n",
       "<tr>\n",
       "      <td>Converged:</td>           <td>1.0000</td>           <td>Scale:</td>       <td>1.0000</td>\n",
       "</tr>\n",
       "<tr>\n",
       "    <td>No. Iterations:</td>        <td>8.0000</td>              <td></td>             <td></td>   \n",
       "</tr>\n",
       "</table>\n",
       "<table class=\"simpletable\">\n",
       "<tr>\n",
       "               <td></td>                <th>Coef.</th>  <th>Std.Err.</th>     <th>z</th>     <th>P>|z|</th> <th>[0.025</th>  <th>0.975]</th> \n",
       "</tr>\n",
       "<tr>\n",
       "  <th>SeniorCitizen</th>               <td>0.2439</td>   <td>0.0933</td>   <td>2.6129</td>  <td>0.0090</td> <td>0.0609</td>  <td>0.4268</td> \n",
       "</tr>\n",
       "<tr>\n",
       "  <th>Dependents_Yes</th>              <td>-0.1811</td>  <td>0.0904</td>   <td>-2.0032</td> <td>0.0452</td> <td>-0.3582</td> <td>-0.0039</td>\n",
       "</tr>\n",
       "<tr>\n",
       "  <th>MultipleLines_Yes</th>           <td>0.1968</td>   <td>0.0846</td>   <td>2.3261</td>  <td>0.0200</td> <td>0.0310</td>  <td>0.3627</td> \n",
       "</tr>\n",
       "<tr>\n",
       "  <th>InternetService_DSL</th>         <td>1.1500</td>   <td>0.1462</td>   <td>7.8670</td>  <td>0.0000</td> <td>0.8635</td>  <td>1.4366</td> \n",
       "</tr>\n",
       "<tr>\n",
       "  <th>InternetService_Fiber optic</th> <td>1.9273</td>   <td>0.1499</td>   <td>12.8615</td> <td>0.0000</td> <td>1.6336</td>  <td>2.2210</td> \n",
       "</tr>\n",
       "<tr>\n",
       "  <th>OnlineSecurity_Yes</th>          <td>-0.4195</td>  <td>0.0933</td>   <td>-4.4961</td> <td>0.0000</td> <td>-0.6024</td> <td>-0.2366</td>\n",
       "</tr>\n",
       "<tr>\n",
       "  <th>TechSupport_Yes</th>             <td>-0.3298</td>  <td>0.0949</td>   <td>-3.4734</td> <td>0.0005</td> <td>-0.5158</td> <td>-0.1437</td>\n",
       "</tr>\n",
       "<tr>\n",
       "  <th>OnlineBackup_Yes</th>            <td>-0.1696</td>  <td>0.0844</td>   <td>-2.0104</td> <td>0.0444</td> <td>-0.3349</td> <td>-0.0043</td>\n",
       "</tr>\n",
       "<tr>\n",
       "  <th>DeviceProtection_Yes</th>        <td>-0.0376</td>  <td>0.0866</td>   <td>-0.4342</td> <td>0.6642</td> <td>-0.2074</td> <td>0.1322</td> \n",
       "</tr>\n",
       "<tr>\n",
       "  <th>StreamingTV_Yes</th>             <td>0.2617</td>   <td>0.0883</td>   <td>2.9650</td>  <td>0.0030</td> <td>0.0887</td>  <td>0.4347</td> \n",
       "</tr>\n",
       "<tr>\n",
       "  <th>StreamingMovies_Yes</th>         <td>0.2722</td>   <td>0.0877</td>   <td>3.1038</td>  <td>0.0019</td> <td>0.1003</td>  <td>0.4440</td> \n",
       "</tr>\n",
       "<tr>\n",
       "  <th>Contract_One year</th>           <td>-0.8946</td>  <td>0.1199</td>   <td>-7.4604</td> <td>0.0000</td> <td>-1.1296</td> <td>-0.6596</td>\n",
       "</tr>\n",
       "<tr>\n",
       "  <th>Contract_Two year</th>           <td>-1.7436</td>  <td>0.1984</td>   <td>-8.7867</td> <td>0.0000</td> <td>-2.1325</td> <td>-1.3547</td>\n",
       "</tr>\n",
       "<tr>\n",
       "  <th>PaperlessBilling_Yes</th>        <td>0.3752</td>   <td>0.0820</td>   <td>4.5745</td>  <td>0.0000</td> <td>0.2144</td>  <td>0.5359</td> \n",
       "</tr>\n",
       "<tr>\n",
       "  <th>PaymentMethod_Automatic</th>     <td>-0.3262</td>  <td>0.0802</td>   <td>-4.0656</td> <td>0.0000</td> <td>-0.4835</td> <td>-0.1690</td>\n",
       "</tr>\n",
       "<tr>\n",
       "  <th>tenure_19:36</th>                <td>-1.0536</td>  <td>0.1035</td>  <td>-10.1805</td> <td>0.0000</td> <td>-1.2564</td> <td>-0.8508</td>\n",
       "</tr>\n",
       "<tr>\n",
       "  <th>tenure_37:54</th>                <td>-0.9312</td>  <td>0.1222</td>   <td>-7.6215</td> <td>0.0000</td> <td>-1.1707</td> <td>-0.6918</td>\n",
       "</tr>\n",
       "<tr>\n",
       "  <th>tenure_55:72</th>                <td>-1.4460</td>  <td>0.1557</td>   <td>-9.2889</td> <td>0.0000</td> <td>-1.7511</td> <td>-1.1409</td>\n",
       "</tr>\n",
       "<tr>\n",
       "  <th>intercept</th>                   <td>-1.5912</td>  <td>0.1279</td>  <td>-12.4367</td> <td>0.0000</td> <td>-1.8419</td> <td>-1.3404</td>\n",
       "</tr>\n",
       "</table>"
      ],
      "text/plain": [
       "<class 'statsmodels.iolib.summary2.Summary'>\n",
       "\"\"\"\n",
       "                               Results: Logit\n",
       "============================================================================\n",
       "Model:                   Logit                 Pseudo R-squared:      inf   \n",
       "Dependent Variable:      Churn_Yes             AIC:                   inf   \n",
       "Date:                    2021-08-23 17:11      BIC:                   inf   \n",
       "No. Observations:        5641                  Log-Likelihood:        -inf  \n",
       "Df Model:                18                    LL-Null:               0.0000\n",
       "Df Residuals:            5622                  LLR p-value:           1.0000\n",
       "Converged:               1.0000                Scale:                 1.0000\n",
       "No. Iterations:          8.0000                                             \n",
       "----------------------------------------------------------------------------\n",
       "                             Coef.  Std.Err.    z     P>|z|   [0.025  0.975]\n",
       "----------------------------------------------------------------------------\n",
       "SeniorCitizen                0.2439   0.0933   2.6129 0.0090  0.0609  0.4268\n",
       "Dependents_Yes              -0.1811   0.0904  -2.0032 0.0452 -0.3582 -0.0039\n",
       "MultipleLines_Yes            0.1968   0.0846   2.3261 0.0200  0.0310  0.3627\n",
       "InternetService_DSL          1.1500   0.1462   7.8670 0.0000  0.8635  1.4366\n",
       "InternetService_Fiber optic  1.9273   0.1499  12.8615 0.0000  1.6336  2.2210\n",
       "OnlineSecurity_Yes          -0.4195   0.0933  -4.4961 0.0000 -0.6024 -0.2366\n",
       "TechSupport_Yes             -0.3298   0.0949  -3.4734 0.0005 -0.5158 -0.1437\n",
       "OnlineBackup_Yes            -0.1696   0.0844  -2.0104 0.0444 -0.3349 -0.0043\n",
       "DeviceProtection_Yes        -0.0376   0.0866  -0.4342 0.6642 -0.2074  0.1322\n",
       "StreamingTV_Yes              0.2617   0.0883   2.9650 0.0030  0.0887  0.4347\n",
       "StreamingMovies_Yes          0.2722   0.0877   3.1038 0.0019  0.1003  0.4440\n",
       "Contract_One year           -0.8946   0.1199  -7.4604 0.0000 -1.1296 -0.6596\n",
       "Contract_Two year           -1.7436   0.1984  -8.7867 0.0000 -2.1325 -1.3547\n",
       "PaperlessBilling_Yes         0.3752   0.0820   4.5745 0.0000  0.2144  0.5359\n",
       "PaymentMethod_Automatic     -0.3262   0.0802  -4.0656 0.0000 -0.4835 -0.1690\n",
       "tenure_19:36                -1.0536   0.1035 -10.1805 0.0000 -1.2564 -0.8508\n",
       "tenure_37:54                -0.9312   0.1222  -7.6215 0.0000 -1.1707 -0.6918\n",
       "tenure_55:72                -1.4460   0.1557  -9.2889 0.0000 -1.7511 -1.1409\n",
       "intercept                   -1.5912   0.1279 -12.4367 0.0000 -1.8419 -1.3404\n",
       "============================================================================\n",
       "\n",
       "\"\"\""
      ]
     },
     "execution_count": 62,
     "metadata": {},
     "output_type": "execute_result"
    }
   ],
   "source": [
    "# Setting the model\n",
    "logistical_regression = sm.Logit(tcc[\"Churn_Yes\"], variables)\n",
    "\n",
    "# Fitting the model\n",
    "fitted_model = logistical_regression.fit()\n",
    "fitted_model.summary2()"
   ]
  },
  {
   "cell_type": "markdown",
   "metadata": {},
   "source": [
    "OnlineBackup is now significant, whereas DeviceProtection stays unsignificant. So the latter can be removed from the model."
   ]
  },
  {
   "cell_type": "code",
   "execution_count": 63,
   "metadata": {},
   "outputs": [
    {
     "name": "stdout",
     "output_type": "stream",
     "text": [
      "Optimization terminated successfully.\n",
      "         Current function value: inf\n",
      "         Iterations 8\n"
     ]
    },
    {
     "data": {
      "text/html": [
       "<table class=\"simpletable\">\n",
       "<tr>\n",
       "        <td>Model:</td>              <td>Logit</td>      <td>Pseudo R-squared:</td>   <td>inf</td> \n",
       "</tr>\n",
       "<tr>\n",
       "  <td>Dependent Variable:</td>     <td>Churn_Yes</td>          <td>AIC:</td>          <td>inf</td> \n",
       "</tr>\n",
       "<tr>\n",
       "         <td>Date:</td>        <td>2021-08-23 17:12</td>       <td>BIC:</td>          <td>inf</td> \n",
       "</tr>\n",
       "<tr>\n",
       "   <td>No. Observations:</td>        <td>5641</td>        <td>Log-Likelihood:</td>   <td>-inf</td> \n",
       "</tr>\n",
       "<tr>\n",
       "       <td>Df Model:</td>             <td>17</td>            <td>LL-Null:</td>      <td>0.0000</td>\n",
       "</tr>\n",
       "<tr>\n",
       "     <td>Df Residuals:</td>          <td>5623</td>         <td>LLR p-value:</td>    <td>1.0000</td>\n",
       "</tr>\n",
       "<tr>\n",
       "      <td>Converged:</td>           <td>1.0000</td>           <td>Scale:</td>       <td>1.0000</td>\n",
       "</tr>\n",
       "<tr>\n",
       "    <td>No. Iterations:</td>        <td>8.0000</td>              <td></td>             <td></td>   \n",
       "</tr>\n",
       "</table>\n",
       "<table class=\"simpletable\">\n",
       "<tr>\n",
       "               <td></td>                <th>Coef.</th>  <th>Std.Err.</th>     <th>z</th>     <th>P>|z|</th> <th>[0.025</th>  <th>0.975]</th> \n",
       "</tr>\n",
       "<tr>\n",
       "  <th>SeniorCitizen</th>               <td>0.2436</td>   <td>0.0933</td>   <td>2.6107</td>  <td>0.0090</td> <td>0.0607</td>  <td>0.4265</td> \n",
       "</tr>\n",
       "<tr>\n",
       "  <th>Dependents_Yes</th>              <td>-0.1813</td>  <td>0.0904</td>   <td>-2.0055</td> <td>0.0449</td> <td>-0.3585</td> <td>-0.0041</td>\n",
       "</tr>\n",
       "<tr>\n",
       "  <th>MultipleLines_Yes</th>           <td>0.1969</td>   <td>0.0846</td>   <td>2.3270</td>  <td>0.0200</td> <td>0.0311</td>  <td>0.3627</td> \n",
       "</tr>\n",
       "<tr>\n",
       "  <th>InternetService_DSL</th>         <td>1.1430</td>   <td>0.1453</td>   <td>7.8671</td>  <td>0.0000</td> <td>0.8583</td>  <td>1.4278</td> \n",
       "</tr>\n",
       "<tr>\n",
       "  <th>InternetService_Fiber optic</th> <td>1.9199</td>   <td>0.1489</td>   <td>12.8966</td> <td>0.0000</td> <td>1.6281</td>  <td>2.2117</td> \n",
       "</tr>\n",
       "<tr>\n",
       "  <th>OnlineSecurity_Yes</th>          <td>-0.4193</td>  <td>0.0933</td>   <td>-4.4940</td> <td>0.0000</td> <td>-0.6022</td> <td>-0.2364</td>\n",
       "</tr>\n",
       "<tr>\n",
       "  <th>TechSupport_Yes</th>             <td>-0.3322</td>  <td>0.0948</td>   <td>-3.5047</td> <td>0.0005</td> <td>-0.5179</td> <td>-0.1464</td>\n",
       "</tr>\n",
       "<tr>\n",
       "  <th>OnlineBackup_Yes</th>            <td>-0.1709</td>  <td>0.0843</td>   <td>-2.0275</td> <td>0.0426</td> <td>-0.3361</td> <td>-0.0057</td>\n",
       "</tr>\n",
       "<tr>\n",
       "  <th>StreamingTV_Yes</th>             <td>0.2572</td>   <td>0.0876</td>   <td>2.9350</td>  <td>0.0033</td> <td>0.0855</td>  <td>0.4290</td> \n",
       "</tr>\n",
       "<tr>\n",
       "  <th>StreamingMovies_Yes</th>         <td>0.2683</td>   <td>0.0872</td>   <td>3.0763</td>  <td>0.0021</td> <td>0.0974</td>  <td>0.4393</td> \n",
       "</tr>\n",
       "<tr>\n",
       "  <th>Contract_One year</th>           <td>-0.8994</td>  <td>0.1194</td>   <td>-7.5302</td> <td>0.0000</td> <td>-1.1335</td> <td>-0.6653</td>\n",
       "</tr>\n",
       "<tr>\n",
       "  <th>Contract_Two year</th>           <td>-1.7497</td>  <td>0.1980</td>   <td>-8.8383</td> <td>0.0000</td> <td>-2.1377</td> <td>-1.3617</td>\n",
       "</tr>\n",
       "<tr>\n",
       "  <th>PaperlessBilling_Yes</th>        <td>0.3754</td>   <td>0.0820</td>   <td>4.5774</td>  <td>0.0000</td> <td>0.2147</td>  <td>0.5361</td> \n",
       "</tr>\n",
       "<tr>\n",
       "  <th>PaymentMethod_Automatic</th>     <td>-0.3275</td>  <td>0.0802</td>   <td>-4.0839</td> <td>0.0000</td> <td>-0.4847</td> <td>-0.1703</td>\n",
       "</tr>\n",
       "<tr>\n",
       "  <th>tenure_19:36</th>                <td>-1.0566</td>  <td>0.1033</td>  <td>-10.2314</td> <td>0.0000</td> <td>-1.2590</td> <td>-0.8542</td>\n",
       "</tr>\n",
       "<tr>\n",
       "  <th>tenure_37:54</th>                <td>-0.9363</td>  <td>0.1217</td>   <td>-7.6959</td> <td>0.0000</td> <td>-1.1747</td> <td>-0.6978</td>\n",
       "</tr>\n",
       "<tr>\n",
       "  <th>tenure_55:72</th>                <td>-1.4534</td>  <td>0.1548</td>   <td>-9.3892</td> <td>0.0000</td> <td>-1.7568</td> <td>-1.1500</td>\n",
       "</tr>\n",
       "<tr>\n",
       "  <th>intercept</th>                   <td>-1.5888</td>  <td>0.1278</td>  <td>-12.4303</td> <td>0.0000</td> <td>-1.8393</td> <td>-1.3383</td>\n",
       "</tr>\n",
       "</table>"
      ],
      "text/plain": [
       "<class 'statsmodels.iolib.summary2.Summary'>\n",
       "\"\"\"\n",
       "                               Results: Logit\n",
       "============================================================================\n",
       "Model:                   Logit                 Pseudo R-squared:      inf   \n",
       "Dependent Variable:      Churn_Yes             AIC:                   inf   \n",
       "Date:                    2021-08-23 17:12      BIC:                   inf   \n",
       "No. Observations:        5641                  Log-Likelihood:        -inf  \n",
       "Df Model:                17                    LL-Null:               0.0000\n",
       "Df Residuals:            5623                  LLR p-value:           1.0000\n",
       "Converged:               1.0000                Scale:                 1.0000\n",
       "No. Iterations:          8.0000                                             \n",
       "----------------------------------------------------------------------------\n",
       "                             Coef.  Std.Err.    z     P>|z|   [0.025  0.975]\n",
       "----------------------------------------------------------------------------\n",
       "SeniorCitizen                0.2436   0.0933   2.6107 0.0090  0.0607  0.4265\n",
       "Dependents_Yes              -0.1813   0.0904  -2.0055 0.0449 -0.3585 -0.0041\n",
       "MultipleLines_Yes            0.1969   0.0846   2.3270 0.0200  0.0311  0.3627\n",
       "InternetService_DSL          1.1430   0.1453   7.8671 0.0000  0.8583  1.4278\n",
       "InternetService_Fiber optic  1.9199   0.1489  12.8966 0.0000  1.6281  2.2117\n",
       "OnlineSecurity_Yes          -0.4193   0.0933  -4.4940 0.0000 -0.6022 -0.2364\n",
       "TechSupport_Yes             -0.3322   0.0948  -3.5047 0.0005 -0.5179 -0.1464\n",
       "OnlineBackup_Yes            -0.1709   0.0843  -2.0275 0.0426 -0.3361 -0.0057\n",
       "StreamingTV_Yes              0.2572   0.0876   2.9350 0.0033  0.0855  0.4290\n",
       "StreamingMovies_Yes          0.2683   0.0872   3.0763 0.0021  0.0974  0.4393\n",
       "Contract_One year           -0.8994   0.1194  -7.5302 0.0000 -1.1335 -0.6653\n",
       "Contract_Two year           -1.7497   0.1980  -8.8383 0.0000 -2.1377 -1.3617\n",
       "PaperlessBilling_Yes         0.3754   0.0820   4.5774 0.0000  0.2147  0.5361\n",
       "PaymentMethod_Automatic     -0.3275   0.0802  -4.0839 0.0000 -0.4847 -0.1703\n",
       "tenure_19:36                -1.0566   0.1033 -10.2314 0.0000 -1.2590 -0.8542\n",
       "tenure_37:54                -0.9363   0.1217  -7.6959 0.0000 -1.1747 -0.6978\n",
       "tenure_55:72                -1.4534   0.1548  -9.3892 0.0000 -1.7568 -1.1500\n",
       "intercept                   -1.5888   0.1278 -12.4303 0.0000 -1.8393 -1.3383\n",
       "============================================================================\n",
       "\n",
       "\"\"\""
      ]
     },
     "execution_count": 63,
     "metadata": {},
     "output_type": "execute_result"
    }
   ],
   "source": [
    "variables = tcc[['SeniorCitizen',\n",
    "        'Dependents_Yes', 'MultipleLines_Yes',\n",
    "         'InternetService_DSL', 'InternetService_Fiber optic', 'OnlineSecurity_Yes',\n",
    "        'TechSupport_Yes', \"OnlineBackup_Yes\", 'StreamingTV_Yes',\n",
    "       'StreamingMovies_Yes', 'Contract_One year', 'Contract_Two year', 'PaperlessBilling_Yes',\n",
    "       'PaymentMethod_Automatic', 'tenure_19:36',\n",
    "       'tenure_37:54', 'tenure_55:72','intercept']]\n",
    "\n",
    "# Setting the model\n",
    "logistical_regression = sm.Logit(tcc[\"Churn_Yes\"], variables)\n",
    "\n",
    "# Fitting the model\n",
    "fitted_model = logistical_regression.fit()\n",
    "fitted_model.summary2()"
   ]
  },
  {
   "cell_type": "markdown",
   "metadata": {},
   "source": [
    "**THIS IS THE FINAL MODEL.** Let's get the marginal effect of the variables in order to be able to easily interpret them."
   ]
  },
  {
   "cell_type": "code",
   "execution_count": 64,
   "metadata": {},
   "outputs": [
    {
     "data": {
      "text/html": [
       "<table class=\"simpletable\">\n",
       "<caption>Logit Marginal Effects</caption>\n",
       "<tr>\n",
       "  <th>Dep. Variable:</th> <td>Churn_Yes</td>\n",
       "</tr>\n",
       "<tr>\n",
       "  <th>Method:</th>          <td>dydx</td>   \n",
       "</tr>\n",
       "<tr>\n",
       "  <th>At:</th>             <td>overall</td> \n",
       "</tr>\n",
       "</table>\n",
       "<table class=\"simpletable\">\n",
       "<tr>\n",
       "               <th></th>                  <th>dy/dx</th>    <th>std err</th>      <th>z</th>      <th>P>|z|</th>  <th>[0.025</th>    <th>0.975]</th>  \n",
       "</tr>\n",
       "<tr>\n",
       "  <th>SeniorCitizen</th>               <td>    0.0333</td> <td>    0.013</td> <td>    2.618</td> <td> 0.009</td> <td>    0.008</td> <td>    0.058</td>\n",
       "</tr>\n",
       "<tr>\n",
       "  <th>Dependents_Yes</th>              <td>   -0.0248</td> <td>    0.012</td> <td>   -2.008</td> <td> 0.045</td> <td>   -0.049</td> <td>   -0.001</td>\n",
       "</tr>\n",
       "<tr>\n",
       "  <th>MultipleLines_Yes</th>           <td>    0.0269</td> <td>    0.012</td> <td>    2.332</td> <td> 0.020</td> <td>    0.004</td> <td>    0.049</td>\n",
       "</tr>\n",
       "<tr>\n",
       "  <th>InternetService_DSL</th>         <td>    0.1561</td> <td>    0.019</td> <td>    8.027</td> <td> 0.000</td> <td>    0.118</td> <td>    0.194</td>\n",
       "</tr>\n",
       "<tr>\n",
       "  <th>InternetService_Fiber optic</th> <td>    0.2621</td> <td>    0.019</td> <td>   13.715</td> <td> 0.000</td> <td>    0.225</td> <td>    0.300</td>\n",
       "</tr>\n",
       "<tr>\n",
       "  <th>OnlineSecurity_Yes</th>          <td>   -0.0573</td> <td>    0.013</td> <td>   -4.527</td> <td> 0.000</td> <td>   -0.082</td> <td>   -0.032</td>\n",
       "</tr>\n",
       "<tr>\n",
       "  <th>TechSupport_Yes</th>             <td>   -0.0454</td> <td>    0.013</td> <td>   -3.522</td> <td> 0.000</td> <td>   -0.071</td> <td>   -0.020</td>\n",
       "</tr>\n",
       "<tr>\n",
       "  <th>OnlineBackup_Yes</th>            <td>   -0.0233</td> <td>    0.011</td> <td>   -2.031</td> <td> 0.042</td> <td>   -0.046</td> <td>   -0.001</td>\n",
       "</tr>\n",
       "<tr>\n",
       "  <th>StreamingTV_Yes</th>             <td>    0.0351</td> <td>    0.012</td> <td>    2.943</td> <td> 0.003</td> <td>    0.012</td> <td>    0.059</td>\n",
       "</tr>\n",
       "<tr>\n",
       "  <th>StreamingMovies_Yes</th>         <td>    0.0366</td> <td>    0.012</td> <td>    3.086</td> <td> 0.002</td> <td>    0.013</td> <td>    0.060</td>\n",
       "</tr>\n",
       "<tr>\n",
       "  <th>Contract_One year</th>           <td>   -0.1228</td> <td>    0.016</td> <td>   -7.652</td> <td> 0.000</td> <td>   -0.154</td> <td>   -0.091</td>\n",
       "</tr>\n",
       "<tr>\n",
       "  <th>Contract_Two year</th>           <td>   -0.2389</td> <td>    0.027</td> <td>   -8.901</td> <td> 0.000</td> <td>   -0.292</td> <td>   -0.186</td>\n",
       "</tr>\n",
       "<tr>\n",
       "  <th>PaperlessBilling_Yes</th>        <td>    0.0513</td> <td>    0.011</td> <td>    4.612</td> <td> 0.000</td> <td>    0.029</td> <td>    0.073</td>\n",
       "</tr>\n",
       "<tr>\n",
       "  <th>PaymentMethod_Automatic</th>     <td>   -0.0447</td> <td>    0.011</td> <td>   -4.108</td> <td> 0.000</td> <td>   -0.066</td> <td>   -0.023</td>\n",
       "</tr>\n",
       "<tr>\n",
       "  <th>tenure_19:36</th>                <td>   -0.1443</td> <td>    0.014</td> <td>  -10.664</td> <td> 0.000</td> <td>   -0.171</td> <td>   -0.118</td>\n",
       "</tr>\n",
       "<tr>\n",
       "  <th>tenure_37:54</th>                <td>   -0.1278</td> <td>    0.016</td> <td>   -7.888</td> <td> 0.000</td> <td>   -0.160</td> <td>   -0.096</td>\n",
       "</tr>\n",
       "<tr>\n",
       "  <th>tenure_55:72</th>                <td>   -0.1984</td> <td>    0.020</td> <td>   -9.728</td> <td> 0.000</td> <td>   -0.238</td> <td>   -0.158</td>\n",
       "</tr>\n",
       "</table>"
      ],
      "text/plain": [
       "<class 'statsmodels.iolib.summary.Summary'>\n",
       "\"\"\"\n",
       "        Logit Marginal Effects       \n",
       "=====================================\n",
       "Dep. Variable:              Churn_Yes\n",
       "Method:                          dydx\n",
       "At:                           overall\n",
       "===============================================================================================\n",
       "                                 dy/dx    std err          z      P>|z|      [0.025      0.975]\n",
       "-----------------------------------------------------------------------------------------------\n",
       "SeniorCitizen                   0.0333      0.013      2.618      0.009       0.008       0.058\n",
       "Dependents_Yes                 -0.0248      0.012     -2.008      0.045      -0.049      -0.001\n",
       "MultipleLines_Yes               0.0269      0.012      2.332      0.020       0.004       0.049\n",
       "InternetService_DSL             0.1561      0.019      8.027      0.000       0.118       0.194\n",
       "InternetService_Fiber optic     0.2621      0.019     13.715      0.000       0.225       0.300\n",
       "OnlineSecurity_Yes             -0.0573      0.013     -4.527      0.000      -0.082      -0.032\n",
       "TechSupport_Yes                -0.0454      0.013     -3.522      0.000      -0.071      -0.020\n",
       "OnlineBackup_Yes               -0.0233      0.011     -2.031      0.042      -0.046      -0.001\n",
       "StreamingTV_Yes                 0.0351      0.012      2.943      0.003       0.012       0.059\n",
       "StreamingMovies_Yes             0.0366      0.012      3.086      0.002       0.013       0.060\n",
       "Contract_One year              -0.1228      0.016     -7.652      0.000      -0.154      -0.091\n",
       "Contract_Two year              -0.2389      0.027     -8.901      0.000      -0.292      -0.186\n",
       "PaperlessBilling_Yes            0.0513      0.011      4.612      0.000       0.029       0.073\n",
       "PaymentMethod_Automatic        -0.0447      0.011     -4.108      0.000      -0.066      -0.023\n",
       "tenure_19:36                   -0.1443      0.014    -10.664      0.000      -0.171      -0.118\n",
       "tenure_37:54                   -0.1278      0.016     -7.888      0.000      -0.160      -0.096\n",
       "tenure_55:72                   -0.1984      0.020     -9.728      0.000      -0.238      -0.158\n",
       "===============================================================================================\n",
       "\"\"\""
      ]
     },
     "execution_count": 64,
     "metadata": {},
     "output_type": "execute_result"
    }
   ],
   "source": [
    "margeff = fitted_model.get_margeff()\n",
    "margeff.summary()"
   ]
  },
  {
   "cell_type": "markdown",
   "metadata": {},
   "source": [
    "Results: \n",
    "- Both _InternetService_ variables present a positive impact on the churn rate, with Optic Fiber's being almost twice the of DSL's. It might be a good idea to consider discontinuing at least the Optic Fiber service or improving it.\n",
    "- Senior customers tend to churn more easily.\n",
    "- Additional Internet Services (_OnlineSecurity_, _TechSupport_, _OnlineBackup_) negatively affect Churn Rate and are therefore a potential way to decrease it in a managerial setting. _DeviceProtection_ on the other hand is inconsistent with plottings, and it appears that its effect is largely explained by the other variables of the model. _StreamingMovies_ and _StreamingTV_ are significant and positively affect the Churn Rate: the management might consider stop offering those services."
   ]
  },
  {
   "cell_type": "markdown",
   "metadata": {},
   "source": [
    "---"
   ]
  },
  {
   "cell_type": "markdown",
   "metadata": {},
   "source": [
    "# Model evaluation"
   ]
  },
  {
   "cell_type": "markdown",
   "metadata": {},
   "source": [
    "Let's fit this logistic regression to the test data to evaluate the effectiveness of the final model."
   ]
  },
  {
   "cell_type": "code",
   "execution_count": 66,
   "metadata": {},
   "outputs": [],
   "source": [
    "test = fill_missing(test)\n",
    "test = get_dummy(test)\n",
    "test = transform_payment(test)\n",
    "test = cluster(test)"
   ]
  },
  {
   "cell_type": "code",
   "execution_count": 67,
   "metadata": {},
   "outputs": [],
   "source": [
    "test[\"intercept\"] = 1.0\n",
    "\n",
    "variables = test[['SeniorCitizen',\n",
    "        'Dependents_Yes', 'MultipleLines_Yes',\n",
    "         'InternetService_DSL', 'InternetService_Fiber optic', 'OnlineSecurity_Yes',\n",
    "        'TechSupport_Yes', \"OnlineBackup_Yes\", 'StreamingTV_Yes',\n",
    "       'StreamingMovies_Yes', 'Contract_One year', 'Contract_Two year', 'PaperlessBilling_Yes',\n",
    "       'PaymentMethod_Automatic', 'tenure_19:36',\n",
    "       'tenure_37:54', 'tenure_55:72','intercept']]\n",
    "\n",
    "y = test.Churn_Yes"
   ]
  },
  {
   "cell_type": "code",
   "execution_count": 68,
   "metadata": {},
   "outputs": [],
   "source": [
    "model_predict = fitted_model.predict(variables)"
   ]
  },
  {
   "cell_type": "markdown",
   "metadata": {},
   "source": [
    "Let's measure the goodness of the model by building the confusion matrix."
   ]
  },
  {
   "cell_type": "code",
   "execution_count": 69,
   "metadata": {},
   "outputs": [
    {
     "data": {
      "image/png": "[encoded data removed]",
      "text/plain": [
       "<Figure size 576x576 with 2 Axes>"
      ]
     },
     "metadata": {},
     "output_type": "display_data"
    }
   ],
   "source": [
    "pred = model_predict.copy()\n",
    "pred[pred >= 0.5] = 1\n",
    "pred[pred < 0.5] = 0\n",
    "\n",
    "cm = skplt.metrics.confusion_matrix(y_true=y, y_pred=pred)\n",
    "plot_confusion_matrix(cm, figsize=(8, 8), colorbar=True);"
   ]
  },
  {
   "cell_type": "markdown",
   "metadata": {},
   "source": [
    "Now plot the Kolmogorov–Smirnov statistics in order to set a better probability threshold for the prediction."
   ]
  },
  {
   "cell_type": "code",
   "execution_count": 70,
   "metadata": {},
   "outputs": [
    {
     "data": {
      "image/png": "[encoded data removed]",
      "text/plain": [
       "<Figure size 360x360 with 1 Axes>"
      ]
     },
     "metadata": {},
     "output_type": "display_data"
    }
   ],
   "source": [
    "# Compute the predicted probability\n",
    "proba = np.array([ 1 - model_predict, model_predict ])\n",
    "\n",
    "skplt.metrics.plot_ks_statistic(test[\"Churn_Yes\"], proba.T, figsize=(5, 5));"
   ]
  },
  {
   "cell_type": "markdown",
   "metadata": {},
   "source": [
    "0.326 is going to be the optimal threshold.  \n",
    "**BUSINESS CASE SOLUTION:** consider as potential churners all the observations with a predicted probability of churning greater than 0.326."
   ]
  },
  {
   "cell_type": "code",
   "execution_count": 71,
   "metadata": {},
   "outputs": [
    {
     "data": {
      "image/png": "[encoded data removed]",
      "text/plain": [
       "<Figure size 576x576 with 2 Axes>"
      ]
     },
     "metadata": {},
     "output_type": "display_data"
    }
   ],
   "source": [
    "pred = model_predict.copy()\n",
    "pred[pred >= 0.326] = 1\n",
    "pred[pred < 0.326] = 0\n",
    "\n",
    "cm = skplt.metrics.confusion_matrix(y_true=y, y_pred=pred)\n",
    "plot_confusion_matrix(cm, figsize=(8, 8), colorbar=True);"
   ]
  },
  {
   "cell_type": "markdown",
   "metadata": {},
   "source": [
    "The model now predicts a higher number of potential churners, in order to optimize the true positive rate and false positive rate."
   ]
  },
  {
   "cell_type": "code",
   "execution_count": 72,
   "metadata": {},
   "outputs": [
    {
     "data": {
      "image/png": "[encoded data removed]",
      "text/plain": [
       "<Figure size 360x360 with 1 Axes>"
      ]
     },
     "metadata": {},
     "output_type": "display_data"
    }
   ],
   "source": [
    "# Lift Chart\n",
    "skplt.metrics.plot_lift_curve(test[\"Churn_Yes\"], proba.T, figsize=(5, 5));"
   ]
  },
  {
   "cell_type": "code",
   "execution_count": 73,
   "metadata": {},
   "outputs": [
    {
     "data": {
      "image/png": "[encoded data removed]",
      "text/plain": [
       "<Figure size 360x360 with 1 Axes>"
      ]
     },
     "metadata": {},
     "output_type": "display_data"
    }
   ],
   "source": [
    "# Gain Chart\n",
    "skplt.metrics.plot_cumulative_gain(test[\"Churn_Yes\"], proba.T, figsize=(5, 5));"
   ]
  },
  {
   "cell_type": "markdown",
   "metadata": {},
   "source": [
    "# Resampling methods"
   ]
  },
  {
   "cell_type": "markdown",
   "metadata": {},
   "source": [
    "As a final part, I are going to perform a nonparametric bootstrap to assess the precision of the estimates."
   ]
  },
  {
   "cell_type": "code",
   "execution_count": 84,
   "metadata": {},
   "outputs": [
    {
     "data": {
      "image/png": "[encoded data removed]",
      "text/plain": [
       "<Figure size 432x288 with 1 Axes>"
      ]
     },
     "metadata": {},
     "output_type": "display_data"
    }
   ],
   "source": [
    "def bootstrap_replicate(data, function):\n",
    "    bs_sample = np.random.choice(data, len(data))\n",
    "    return function(bs_sample)\n",
    "\n",
    "bs_results = np.empty(10000)\n",
    "\n",
    "for i in range(10000):\n",
    "    bs_results[i] = bootstrap_replicate(model_predict, np.mean)\n",
    "\n",
    "_ = plt.hist(bs_results, bins = 30, density = True)\n",
    "_ = plt.xlabel(\"Mean of Predicted Churners\")\n",
    "_ = plt.ylabel(\"Empirical Probability Density Function\")\n",
    "plt.show()"
   ]
  },
  {
   "cell_type": "code",
   "execution_count": 85,
   "metadata": {},
   "outputs": [
    {
     "name": "stdout",
     "output_type": "stream",
     "text": [
      "Bootstrap confidence interval: [0.26214671 0.28824141]\n",
      "Bootstrap mean: 0.275\n"
     ]
    }
   ],
   "source": [
    "print(\"Bootstrap confidence interval:\", np.percentile(bs_results, [2.5, 97.5]))\n",
    "print(\"Bootstrap mean:\", round(bs_results.mean(), 3))"
   ]
  },
  {
   "cell_type": "markdown",
   "metadata": {},
   "source": [
    "Let's compare the estimates of our prediction with the mean of the sample."
   ]
  },
  {
   "cell_type": "code",
   "execution_count": 86,
   "metadata": {},
   "outputs": [
    {
     "name": "stdout",
     "output_type": "stream",
     "text": [
      "Sample mean: 0.257\n"
     ]
    }
   ],
   "source": [
    "print(\"Sample mean:\", round(test.Churn_Yes.mean(), 3))"
   ]
  },
  {
   "cell_type": "markdown",
   "metadata": {},
   "source": [
    "Prediction is very close to the actual churn rate of the sample."
   ]
  },
  {
   "cell_type": "markdown",
   "metadata": {},
   "source": [
    "# Concluding thoughts\n",
    "\n",
    "Many companies are diverting resources away from the goal of capturing new customers and are instead focusing on retaining the existing ones. The commercial relationship with customers must be kept and reinforced, and, for this purpose, companies should build strong customer defection-avoiding schemes.\n",
    "\n",
    "That is why companies must have a reliable prediction model that allows them to identify,with enough anticipation, those clients that show symptoms of propensity to switch service providers and, thus, launch efficient retention actions.\n",
    "\n",
    "However, there may be clients that the company will decide not to retain even if their intention to change is identified in advance, since the expected return on the prolongation of their customer life does not justify the cost of the necessary commercial action. Since I did not cover this issue, I will leave it for further researches.\n",
    "\n",
    "Note though that, as reported in Haenlein and Kaplan (2012), careless abandonment of the less profitable customers may lead to unexpected negative reactions from the valuable ones that companies aim to retain."
   ]
  },
  {
   "cell_type": "markdown",
   "metadata": {},
   "source": [
    "---"
   ]
  },
  {
   "cell_type": "markdown",
   "metadata": {},
   "source": [
    "# Appendix"
   ]
  },
  {
   "cell_type": "markdown",
   "metadata": {},
   "source": [
    "This regression aims to assess the correlation between additional internet services and Churn also for low values of tenure. I want to prove that the impact of additional services on Churn is causal and not due to an omitted variable or selection bias. This means that additional services are not given as gift to those clients with a higher tenure but they have an actual impact on the churn phenomenon."
   ]
  },
  {
   "cell_type": "code",
   "execution_count": 87,
   "metadata": {},
   "outputs": [
    {
     "name": "stdout",
     "output_type": "stream",
     "text": [
      "Optimization terminated successfully.\n",
      "         Current function value: inf\n",
      "         Iterations 8\n"
     ]
    },
    {
     "data": {
      "text/html": [
       "<table class=\"simpletable\">\n",
       "<tr>\n",
       "        <td>Model:</td>              <td>Logit</td>      <td>Pseudo R-squared:</td>   <td>inf</td> \n",
       "</tr>\n",
       "<tr>\n",
       "  <td>Dependent Variable:</td>     <td>Churn_Yes</td>          <td>AIC:</td>          <td>inf</td> \n",
       "</tr>\n",
       "<tr>\n",
       "         <td>Date:</td>        <td>2021-08-23 18:01</td>       <td>BIC:</td>          <td>inf</td> \n",
       "</tr>\n",
       "<tr>\n",
       "   <td>No. Observations:</td>        <td>5641</td>        <td>Log-Likelihood:</td>   <td>-inf</td> \n",
       "</tr>\n",
       "<tr>\n",
       "       <td>Df Model:</td>             <td>17</td>            <td>LL-Null:</td>      <td>0.0000</td>\n",
       "</tr>\n",
       "<tr>\n",
       "     <td>Df Residuals:</td>          <td>5623</td>         <td>LLR p-value:</td>    <td>1.0000</td>\n",
       "</tr>\n",
       "<tr>\n",
       "      <td>Converged:</td>           <td>1.0000</td>           <td>Scale:</td>       <td>1.0000</td>\n",
       "</tr>\n",
       "<tr>\n",
       "    <td>No. Iterations:</td>        <td>8.0000</td>              <td></td>             <td></td>   \n",
       "</tr>\n",
       "</table>\n",
       "<table class=\"simpletable\">\n",
       "<tr>\n",
       "               <td></td>                <th>Coef.</th>  <th>Std.Err.</th>     <th>z</th>     <th>P>|z|</th> <th>[0.025</th>  <th>0.975]</th> \n",
       "</tr>\n",
       "<tr>\n",
       "  <th>SeniorCitizen</th>               <td>0.2436</td>   <td>0.0933</td>   <td>2.6107</td>  <td>0.0090</td> <td>0.0607</td>  <td>0.4265</td> \n",
       "</tr>\n",
       "<tr>\n",
       "  <th>Dependents_Yes</th>              <td>-0.1813</td>  <td>0.0904</td>   <td>-2.0055</td> <td>0.0449</td> <td>-0.3585</td> <td>-0.0041</td>\n",
       "</tr>\n",
       "<tr>\n",
       "  <th>MultipleLines_Yes</th>           <td>0.1969</td>   <td>0.0846</td>   <td>2.3270</td>  <td>0.0200</td> <td>0.0311</td>  <td>0.3627</td> \n",
       "</tr>\n",
       "<tr>\n",
       "  <th>InternetService_DSL</th>         <td>1.1430</td>   <td>0.1453</td>   <td>7.8671</td>  <td>0.0000</td> <td>0.8583</td>  <td>1.4278</td> \n",
       "</tr>\n",
       "<tr>\n",
       "  <th>InternetService_Fiber optic</th> <td>1.9199</td>   <td>0.1489</td>   <td>12.8966</td> <td>0.0000</td> <td>1.6281</td>  <td>2.2117</td> \n",
       "</tr>\n",
       "<tr>\n",
       "  <th>OnlineSecurity_Yes</th>          <td>-0.4193</td>  <td>0.0933</td>   <td>-4.4940</td> <td>0.0000</td> <td>-0.6022</td> <td>-0.2364</td>\n",
       "</tr>\n",
       "<tr>\n",
       "  <th>TechSupport_Yes</th>             <td>-0.3322</td>  <td>0.0948</td>   <td>-3.5047</td> <td>0.0005</td> <td>-0.5179</td> <td>-0.1464</td>\n",
       "</tr>\n",
       "<tr>\n",
       "  <th>OnlineBackup_Yes</th>            <td>-0.1709</td>  <td>0.0843</td>   <td>-2.0275</td> <td>0.0426</td> <td>-0.3361</td> <td>-0.0057</td>\n",
       "</tr>\n",
       "<tr>\n",
       "  <th>StreamingTV_Yes</th>             <td>0.2572</td>   <td>0.0876</td>   <td>2.9350</td>  <td>0.0033</td> <td>0.0855</td>  <td>0.4290</td> \n",
       "</tr>\n",
       "<tr>\n",
       "  <th>StreamingMovies_Yes</th>         <td>0.2683</td>   <td>0.0872</td>   <td>3.0763</td>  <td>0.0021</td> <td>0.0974</td>  <td>0.4393</td> \n",
       "</tr>\n",
       "<tr>\n",
       "  <th>Contract_One year</th>           <td>-0.8994</td>  <td>0.1194</td>   <td>-7.5302</td> <td>0.0000</td> <td>-1.1335</td> <td>-0.6653</td>\n",
       "</tr>\n",
       "<tr>\n",
       "  <th>Contract_Two year</th>           <td>-1.7497</td>  <td>0.1980</td>   <td>-8.8383</td> <td>0.0000</td> <td>-2.1377</td> <td>-1.3617</td>\n",
       "</tr>\n",
       "<tr>\n",
       "  <th>PaperlessBilling_Yes</th>        <td>0.3754</td>   <td>0.0820</td>   <td>4.5774</td>  <td>0.0000</td> <td>0.2147</td>  <td>0.5361</td> \n",
       "</tr>\n",
       "<tr>\n",
       "  <th>PaymentMethod_Automatic</th>     <td>-0.3275</td>  <td>0.0802</td>   <td>-4.0839</td> <td>0.0000</td> <td>-0.4847</td> <td>-0.1703</td>\n",
       "</tr>\n",
       "<tr>\n",
       "  <th>tenure_19:36</th>                <td>-1.0566</td>  <td>0.1033</td>  <td>-10.2314</td> <td>0.0000</td> <td>-1.2590</td> <td>-0.8542</td>\n",
       "</tr>\n",
       "<tr>\n",
       "  <th>tenure_37:54</th>                <td>-0.9363</td>  <td>0.1217</td>   <td>-7.6959</td> <td>0.0000</td> <td>-1.1747</td> <td>-0.6978</td>\n",
       "</tr>\n",
       "<tr>\n",
       "  <th>tenure_55:72</th>                <td>-1.4534</td>  <td>0.1548</td>   <td>-9.3892</td> <td>0.0000</td> <td>-1.7568</td> <td>-1.1500</td>\n",
       "</tr>\n",
       "<tr>\n",
       "  <th>intercept</th>                   <td>-1.5888</td>  <td>0.1278</td>  <td>-12.4303</td> <td>0.0000</td> <td>-1.8393</td> <td>-1.3383</td>\n",
       "</tr>\n",
       "</table>"
      ],
      "text/plain": [
       "<class 'statsmodels.iolib.summary2.Summary'>\n",
       "\"\"\"\n",
       "                               Results: Logit\n",
       "============================================================================\n",
       "Model:                   Logit                 Pseudo R-squared:      inf   \n",
       "Dependent Variable:      Churn_Yes             AIC:                   inf   \n",
       "Date:                    2021-08-23 18:01      BIC:                   inf   \n",
       "No. Observations:        5641                  Log-Likelihood:        -inf  \n",
       "Df Model:                17                    LL-Null:               0.0000\n",
       "Df Residuals:            5623                  LLR p-value:           1.0000\n",
       "Converged:               1.0000                Scale:                 1.0000\n",
       "No. Iterations:          8.0000                                             \n",
       "----------------------------------------------------------------------------\n",
       "                             Coef.  Std.Err.    z     P>|z|   [0.025  0.975]\n",
       "----------------------------------------------------------------------------\n",
       "SeniorCitizen                0.2436   0.0933   2.6107 0.0090  0.0607  0.4265\n",
       "Dependents_Yes              -0.1813   0.0904  -2.0055 0.0449 -0.3585 -0.0041\n",
       "MultipleLines_Yes            0.1969   0.0846   2.3270 0.0200  0.0311  0.3627\n",
       "InternetService_DSL          1.1430   0.1453   7.8671 0.0000  0.8583  1.4278\n",
       "InternetService_Fiber optic  1.9199   0.1489  12.8966 0.0000  1.6281  2.2117\n",
       "OnlineSecurity_Yes          -0.4193   0.0933  -4.4940 0.0000 -0.6022 -0.2364\n",
       "TechSupport_Yes             -0.3322   0.0948  -3.5047 0.0005 -0.5179 -0.1464\n",
       "OnlineBackup_Yes            -0.1709   0.0843  -2.0275 0.0426 -0.3361 -0.0057\n",
       "StreamingTV_Yes              0.2572   0.0876   2.9350 0.0033  0.0855  0.4290\n",
       "StreamingMovies_Yes          0.2683   0.0872   3.0763 0.0021  0.0974  0.4393\n",
       "Contract_One year           -0.8994   0.1194  -7.5302 0.0000 -1.1335 -0.6653\n",
       "Contract_Two year           -1.7497   0.1980  -8.8383 0.0000 -2.1377 -1.3617\n",
       "PaperlessBilling_Yes         0.3754   0.0820   4.5774 0.0000  0.2147  0.5361\n",
       "PaymentMethod_Automatic     -0.3275   0.0802  -4.0839 0.0000 -0.4847 -0.1703\n",
       "tenure_19:36                -1.0566   0.1033 -10.2314 0.0000 -1.2590 -0.8542\n",
       "tenure_37:54                -0.9363   0.1217  -7.6959 0.0000 -1.1747 -0.6978\n",
       "tenure_55:72                -1.4534   0.1548  -9.3892 0.0000 -1.7568 -1.1500\n",
       "intercept                   -1.5888   0.1278 -12.4303 0.0000 -1.8393 -1.3383\n",
       "============================================================================\n",
       "\n",
       "\"\"\""
      ]
     },
     "execution_count": 87,
     "metadata": {},
     "output_type": "execute_result"
    }
   ],
   "source": [
    "low_tenure = tcc[tcc[\"tenure_0:18\"]+tcc[\"tenure_19:36\"]==1]\n",
    "\n",
    "variables = low_tenure[['SeniorCitizen',\n",
    "        'Dependents_Yes', 'MultipleLines_Yes',\n",
    "         'InternetService_DSL', 'InternetService_Fiber optic', 'OnlineSecurity_Yes',\n",
    "        'TechSupport_Yes', \"OnlineBackup_Yes\", 'StreamingTV_Yes',\n",
    "       'StreamingMovies_Yes', 'Contract_One year', 'Contract_Two year', 'PaperlessBilling_Yes',\n",
    "       'PaymentMethod_Automatic', 'tenure_19:36',\n",
    "       'tenure_37:54', 'tenure_55:72','intercept']]\n",
    "\n",
    "# Setting the model\n",
    "logistical_regression_low = sm.Logit(low_tenure[\"Churn_Yes\"], variables)\n",
    "\n",
    "# Fitting the model\n",
    "fitted_model_low = logistical_regression.fit()\n",
    "fitted_model_low.summary2()"
   ]
  }
 ],
 "metadata": {
  "kernelspec": {
   "display_name": "Python 3",
   "language": "python",
   "name": "python3"
  },
  "language_info": {
   "codemirror_mode": {
    "name": "ipython",
    "version": 3
   },
   "file_extension": ".py",
   "mimetype": "text/x-python",
   "name": "python",
   "nbconvert_exporter": "python",
   "pygments_lexer": "ipython3",
   "version": "3.6.5"
  }
 },
 "nbformat": 4,
 "nbformat_minor": 2
}
